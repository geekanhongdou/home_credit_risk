{
 "cells": [
  {
   "cell_type": "code",
   "execution_count": 1,
   "metadata": {},
   "outputs": [
    {
     "data": {
      "text/html": [
       "        <script type=\"text/javascript\">\n",
       "        window.PlotlyConfig = {MathJaxConfig: 'local'};\n",
       "        if (window.MathJax) {MathJax.Hub.Config({SVG: {font: \"STIX-Web\"}});}\n",
       "        if (typeof require !== 'undefined') {\n",
       "        require.undef(\"plotly\");\n",
       "        requirejs.config({\n",
       "            paths: {\n",
       "                'plotly': ['https://cdn.plot.ly/plotly-latest.min']\n",
       "            }\n",
       "        });\n",
       "        require(['plotly'], function(Plotly) {\n",
       "            window._Plotly = Plotly;\n",
       "        });\n",
       "        }\n",
       "        </script>\n",
       "        "
      ]
     },
     "metadata": {},
     "output_type": "display_data"
    },
    {
     "name": "stderr",
     "output_type": "stream",
     "text": [
      "C:\\Users\\DELL\\Anaconda3\\lib\\site-packages\\dask\\dataframe\\utils.py:14: FutureWarning:\n",
      "\n",
      "pandas.util.testing is deprecated. Use the functions in the public API at pandas.testing instead.\n",
      "\n"
     ]
    }
   ],
   "source": [
    "import pandas as pd\n",
    "import numpy as np\n",
    "from sklearn.model_selection import train_test_split,GridSearchCV,RandomizedSearchCV\n",
    "from sklearn import metrics,preprocessing\n",
    "from sklearn.impute import SimpleImputer\n",
    "from sklearn.metrics import roc_curve, confusion_matrix,roc_auc_score\n",
    "from sklearn.preprocessing import StandardScaler,OneHotEncoder\n",
    "from sklearn.linear_model import SGDClassifier\n",
    "from sklearn.ensemble import RandomForestClassifier\n",
    "import xgboost as xgb\n",
    "import math\n",
    "import toad\n",
    "from matplotlib import pyplot as plt\n",
    "from toad.metrics import KS,F1,AUC\n",
    "import seaborn as sns\n",
    "import warnings\n",
    "import plotly.offline as py\n",
    "import cufflinks as cf\n",
    "import plotly.graph_objs as go\n",
    "import lightgbm as lgb\n",
    "import re\n",
    "\n",
    "warnings.filterwarnings('ignore')\n",
    "pd.set_option('display.max_rows', 138)\n",
    "pd.set_option('display.max_columns', 200)"
   ]
  },
  {
   "cell_type": "markdown",
   "metadata": {},
   "source": [
    "# 一、完成步骤\n",
    " \n",
    "竞赛链接的如下：[https://www.kaggle.com/c/home-credit-default-risk/data] \n",
    "    \n",
    "## **完成该kaggle竞赛步骤如下：**\n",
    "\n",
    "（1）数据探索\n",
    "  \n",
    "（2）数据清洗\n",
    "\n",
    "（3）特征构造\n",
    "\n",
    "（4）模型选择和处理\n",
    "\n",
    "（5）模型评估和预测\n",
    "\n"
   ]
  },
  {
   "cell_type": "markdown",
   "metadata": {},
   "source": [
    "# 二、选取比赛介绍\n",
    "## （1）比赛介绍\n",
    "  &#8195;&#8195;由于信用记录不足或不存在，许多人难以获得贷款。而且，不幸的是，这些人经常被不值得信赖的贷方利用。\"Home Credit Default Risk Project\"正是捷信集团在这种背景下于2018年推出的预测大赛,旨在鼓励参赛者使用各种统计和机器学习方法,预测出最优的结果。\n",
    "## （2）具体问题和目的\n",
    "  &#8195;&#8195;为了解决一部分信息不对称问题，确保这些信息不足的人群获得积极的贷款体验，参赛者需要从比赛提供的想要申请贷款客户的各种替代数据——包括电信和交易信息中提取有效信息,最终预测客户的还款能力。\n",
    "## （3）选取该比赛原因\n",
    "  &#8195;&#8195;该比赛契合本专业的知识背景，实际是金融问题中最典型的信用管理问题。研究小组试图通过本学期所学的机器学习知识和自身的金融知识背景，重新体验比赛过程，最终实现学以致用。"
   ]
  },
  {
   "cell_type": "markdown",
   "metadata": {},
   "source": [
    "# 三、比赛数据介绍"
   ]
  },
  {
   "cell_type": "markdown",
   "metadata": {},
   "source": [
    "**数据导入**"
   ]
  },
  {
   "cell_type": "code",
   "execution_count": 2,
   "metadata": {},
   "outputs": [],
   "source": [
    "application=pd.read_csv('application_train.csv')\n",
    "application_test=pd.read_csv('application_test.csv')\n",
    "bureau=pd.read_csv('bureau.csv')\n",
    "bureau_balance=pd.read_csv('bureau_balance.csv')\n",
    "credit_card=pd.read_csv('credit_card_balance.csv')\n",
    "insta_payments=pd.read_csv('installments_payments.csv')\n",
    "pos_cash=pd.read_csv('POS_CASH_balance.csv')\n",
    "previous_application=pd.read_csv('previous_application.csv')\n",
    "test=pd.read_csv('application_test.csv')"
   ]
  },
  {
   "cell_type": "markdown",
   "metadata": {},
   "source": [
    "## （1）数据来源\n",
    "本文的数据由Home Credit公司提供，Home Credit (捷信)是中东欧以及亚洲领先的消费金融提供商之一。在中东欧（CEE），俄罗斯，独联体国家（CIS）和亚洲各地服务于消费者。预测客户是否偿还贷款或遇到困难是一项重要的业务需求,本赛题致力于向无银行账户的人群提供信贷（贷款）。\n",
    "\n",
    "Home Credit公司本质业务是金融服务，即发放贷款并靠此盈利的公司，而信贷公司为在本公司缺乏信用记录的公司放贷是要承担巨额风险的。\n",
    "\n",
    "这里介绍冷启动这个概念。当信贷业务起步时，我们根本没有贷后表现样本，但此时仍需要风控系统来保驾护航，而不会选择“裸奔”。巧妇难为无米之炊，如果没有数据进行支撑，所有的模型、策略都只是空中阁楼，这种困境被人们称之为风控系统的冷启动问题。所以为解决该问题，我们可以是查询用户在信用局的历史征信记录来作为风险评估的参考，数据文件中的bureau.csv和 bureau_balance.csv 就对应这部分数据。\n",
    "\n",
    "Home Credit公司还专门设计了许多入门级金融产品来建立自己的信用体系，增加客户的依赖性和粘性。他有三类产品，信用卡(credit card)，消费贷(Point of sales loan–POS loan)，现金贷(Installment cash loan)。  \n",
    "\n",
    "POS loans的体系图如下图所示：\n",
    "![](22.png)\n",
    "\n",
    "Point-of-sale (POS) loans是一款初级产品，专门争对一些价格较低的临售商品，引导客户通过对小额商品使用Point-of-sale (POS) loans进行分期付款来建立用户对该项目的依赖，就很像我们常用的支付宝的花呗功能。POS_CASH_balance.csv 中的数据就来源于此。  \n",
    "在此基础上衍生出的进阶产品就有Credit cards，可以理解为信用贷款，类似于支付宝的借呗功能，信用卡在欧洲和美国很流行，但在中东欧以及亚洲并非如此。所以数据集中信用卡数据偏少。用户使用该产品产生的信用记录就对应于credit_card_balance.csv 中的数据。  \n",
    "而现金贷可以得到现金，用户使用该产品的申请和还款记录数据对应installments_payment.csv。\n",
    "## （2）数据意义\n",
    "### 根据上面的介绍，数据集包括了8个数据文件：\n",
    "**application_train / application_test：**测试集和训练集记录了关于Home Credit每个贷款申请的信息。每一行代表一笔贷款，并由功能SK_ID_CURR标识。培训申请数据附带TARGET表示0：贷款已还清或1：贷款未还清。  \n",
    "**bureau：**为解决冷启动问题而特意收集的，有关客户之前来自其他金融机构的信贷的数据。以前的每一笔信贷都有自己的分行，所以申请数据中的一笔贷款可能有多笔先前信贷，可以更具特征进行合并。  \n",
    "**bureau_balance：**关于信贷局以前收集到的每位客户信用的月度数据。一个先前的信用可以有多个行，每个信用额度的每个月有一个行。  \n",
    "**previous_application：**之前就申请过贷款的客户在Home Credit贷款申请。申请数据中的每个当前贷款都可以有多个以前的贷款。每个以前的应用程序都有一行，并由功能SK_ID_PREV标识。  \n",
    "**pose_cash_balanc：** 专门针对小额贷款项目所设计的贷款账目表。每一行都是前一个销售点或现金贷款的一个月，以前的一笔贷款可以有多行。  \n",
    "**credit_card_balance：**可以理解为在Point-of-sale (POS) loans基础上提出的进阶产品。有关之前的信用卡客户与Home Credit有关的每月数据。每行都是信用卡余额的一个月，一张信用卡可以有多行。  \n",
    "**installments_payment：**Home Credit以前贷款的付款记录。每笔付款都有一行，每笔未付款都有一行。\n",
    "\n",
    "下图显示了所有数据是如何相关的，通过三个ID将三部分数据联系起来：SK_ID_CURR，SK_ID_BUREAU和SK_ID_PREV。\n",
    "\n",
    "![](https://storage.googleapis.com/kaggle-media/competitions/home-credit/home_credit.png)\n",
    "\n",
    "## （3）表内数据\n"
   ]
  },
  {
   "cell_type": "code",
   "execution_count": 4,
   "metadata": {
    "scrolled": false
   },
   "outputs": [
    {
     "data": {
      "text/html": [
       "<div>\n",
       "<style scoped>\n",
       "    .dataframe tbody tr th:only-of-type {\n",
       "        vertical-align: middle;\n",
       "    }\n",
       "\n",
       "    .dataframe tbody tr th {\n",
       "        vertical-align: top;\n",
       "    }\n",
       "\n",
       "    .dataframe thead th {\n",
       "        text-align: right;\n",
       "    }\n",
       "</style>\n",
       "<table border=\"1\" class=\"dataframe\">\n",
       "  <thead>\n",
       "    <tr style=\"text-align: right;\">\n",
       "      <th></th>\n",
       "      <th>type</th>\n",
       "      <th>size</th>\n",
       "      <th>missing</th>\n",
       "      <th>unique</th>\n",
       "      <th>mean_or_top1</th>\n",
       "      <th>std_or_top2</th>\n",
       "      <th>min_or_top3</th>\n",
       "      <th>1%_or_top4</th>\n",
       "      <th>10%_or_top5</th>\n",
       "      <th>50%_or_bottom5</th>\n",
       "      <th>75%_or_bottom4</th>\n",
       "      <th>90%_or_bottom3</th>\n",
       "      <th>99%_or_bottom2</th>\n",
       "      <th>max_or_bottom1</th>\n",
       "    </tr>\n",
       "  </thead>\n",
       "  <tbody>\n",
       "    <tr>\n",
       "      <th>SK_ID_CURR</th>\n",
       "      <td>int64</td>\n",
       "      <td>307511</td>\n",
       "      <td>0.00%</td>\n",
       "      <td>307511</td>\n",
       "      <td>278180.518577</td>\n",
       "      <td>102790.175348</td>\n",
       "      <td>100002.0</td>\n",
       "      <td>103590.2</td>\n",
       "      <td>135692.0</td>\n",
       "      <td>278202.0</td>\n",
       "      <td>367142.5</td>\n",
       "      <td>420729.0</td>\n",
       "      <td>452712.9</td>\n",
       "      <td>456255.0</td>\n",
       "    </tr>\n",
       "    <tr>\n",
       "      <th>TARGET</th>\n",
       "      <td>int64</td>\n",
       "      <td>307511</td>\n",
       "      <td>0.00%</td>\n",
       "      <td>2</td>\n",
       "      <td>0.080729</td>\n",
       "      <td>0.272419</td>\n",
       "      <td>0.0</td>\n",
       "      <td>0.0</td>\n",
       "      <td>0.0</td>\n",
       "      <td>0.0</td>\n",
       "      <td>0.0</td>\n",
       "      <td>0.0</td>\n",
       "      <td>1.0</td>\n",
       "      <td>1.0</td>\n",
       "    </tr>\n",
       "    <tr>\n",
       "      <th>NAME_CONTRACT_TYPE</th>\n",
       "      <td>object</td>\n",
       "      <td>307511</td>\n",
       "      <td>0.00%</td>\n",
       "      <td>2</td>\n",
       "      <td>Cash loans:90.48%</td>\n",
       "      <td>Revolving loans:9.52%</td>\n",
       "      <td>None</td>\n",
       "      <td>None</td>\n",
       "      <td>None</td>\n",
       "      <td>None</td>\n",
       "      <td>None</td>\n",
       "      <td>None</td>\n",
       "      <td>Cash loans:90.48%</td>\n",
       "      <td>Revolving loans:9.52%</td>\n",
       "    </tr>\n",
       "    <tr>\n",
       "      <th>CODE_GENDER</th>\n",
       "      <td>object</td>\n",
       "      <td>307511</td>\n",
       "      <td>0.00%</td>\n",
       "      <td>3</td>\n",
       "      <td>F:65.83%</td>\n",
       "      <td>M:34.16%</td>\n",
       "      <td>XNA:0.00%</td>\n",
       "      <td>None</td>\n",
       "      <td>None</td>\n",
       "      <td>None</td>\n",
       "      <td>None</td>\n",
       "      <td>F:65.83%</td>\n",
       "      <td>M:34.16%</td>\n",
       "      <td>XNA:0.00%</td>\n",
       "    </tr>\n",
       "    <tr>\n",
       "      <th>FLAG_OWN_CAR</th>\n",
       "      <td>object</td>\n",
       "      <td>307511</td>\n",
       "      <td>0.00%</td>\n",
       "      <td>2</td>\n",
       "      <td>N:65.99%</td>\n",
       "      <td>Y:34.01%</td>\n",
       "      <td>None</td>\n",
       "      <td>None</td>\n",
       "      <td>None</td>\n",
       "      <td>None</td>\n",
       "      <td>None</td>\n",
       "      <td>None</td>\n",
       "      <td>N:65.99%</td>\n",
       "      <td>Y:34.01%</td>\n",
       "    </tr>\n",
       "    <tr>\n",
       "      <th>FLAG_OWN_REALTY</th>\n",
       "      <td>object</td>\n",
       "      <td>307511</td>\n",
       "      <td>0.00%</td>\n",
       "      <td>2</td>\n",
       "      <td>Y:69.37%</td>\n",
       "      <td>N:30.63%</td>\n",
       "      <td>None</td>\n",
       "      <td>None</td>\n",
       "      <td>None</td>\n",
       "      <td>None</td>\n",
       "      <td>None</td>\n",
       "      <td>None</td>\n",
       "      <td>Y:69.37%</td>\n",
       "      <td>N:30.63%</td>\n",
       "    </tr>\n",
       "    <tr>\n",
       "      <th>CNT_CHILDREN</th>\n",
       "      <td>int64</td>\n",
       "      <td>307511</td>\n",
       "      <td>0.00%</td>\n",
       "      <td>15</td>\n",
       "      <td>0.417052</td>\n",
       "      <td>0.722121</td>\n",
       "      <td>0.0</td>\n",
       "      <td>0.0</td>\n",
       "      <td>0.0</td>\n",
       "      <td>0.0</td>\n",
       "      <td>1.0</td>\n",
       "      <td>2.0</td>\n",
       "      <td>3.0</td>\n",
       "      <td>19.0</td>\n",
       "    </tr>\n",
       "    <tr>\n",
       "      <th>AMT_INCOME_TOTAL</th>\n",
       "      <td>float64</td>\n",
       "      <td>307511</td>\n",
       "      <td>0.00%</td>\n",
       "      <td>2548</td>\n",
       "      <td>168797.919297</td>\n",
       "      <td>237123.146279</td>\n",
       "      <td>25650.0</td>\n",
       "      <td>45000.0</td>\n",
       "      <td>81000.0</td>\n",
       "      <td>147150.0</td>\n",
       "      <td>202500.0</td>\n",
       "      <td>270000.0</td>\n",
       "      <td>472500.0</td>\n",
       "      <td>117000000.0</td>\n",
       "    </tr>\n",
       "    <tr>\n",
       "      <th>AMT_CREDIT</th>\n",
       "      <td>float64</td>\n",
       "      <td>307511</td>\n",
       "      <td>0.00%</td>\n",
       "      <td>5603</td>\n",
       "      <td>599025.999706</td>\n",
       "      <td>402490.776996</td>\n",
       "      <td>45000.0</td>\n",
       "      <td>76410.0</td>\n",
       "      <td>180000.0</td>\n",
       "      <td>513531.0</td>\n",
       "      <td>808650.0</td>\n",
       "      <td>1133748.0</td>\n",
       "      <td>1854000.0</td>\n",
       "      <td>4050000.0</td>\n",
       "    </tr>\n",
       "    <tr>\n",
       "      <th>AMT_ANNUITY</th>\n",
       "      <td>float64</td>\n",
       "      <td>307511</td>\n",
       "      <td>0.00%</td>\n",
       "      <td>13672</td>\n",
       "      <td>27108.573909</td>\n",
       "      <td>14493.737315</td>\n",
       "      <td>1615.5</td>\n",
       "      <td>6182.91</td>\n",
       "      <td>11074.5</td>\n",
       "      <td>24903.0</td>\n",
       "      <td>34596.0</td>\n",
       "      <td>45954.0</td>\n",
       "      <td>70006.5</td>\n",
       "      <td>258025.5</td>\n",
       "    </tr>\n",
       "    <tr>\n",
       "      <th>AMT_GOODS_PRICE</th>\n",
       "      <td>float64</td>\n",
       "      <td>307511</td>\n",
       "      <td>0.09%</td>\n",
       "      <td>1002</td>\n",
       "      <td>538396.207429</td>\n",
       "      <td>369446.46054</td>\n",
       "      <td>40500.0</td>\n",
       "      <td>67500.0</td>\n",
       "      <td>180000.0</td>\n",
       "      <td>450000.0</td>\n",
       "      <td>679500.0</td>\n",
       "      <td>1093500.0</td>\n",
       "      <td>1800000.0</td>\n",
       "      <td>4050000.0</td>\n",
       "    </tr>\n",
       "    <tr>\n",
       "      <th>NAME_TYPE_SUITE</th>\n",
       "      <td>object</td>\n",
       "      <td>307511</td>\n",
       "      <td>0.42%</td>\n",
       "      <td>7</td>\n",
       "      <td>Unaccompanied:80.82%</td>\n",
       "      <td>Family:13.06%</td>\n",
       "      <td>Spouse, partner:3.70%</td>\n",
       "      <td>Children:1.06%</td>\n",
       "      <td>Other_B:0.58%</td>\n",
       "      <td>Spouse, partner:3.70%</td>\n",
       "      <td>Children:1.06%</td>\n",
       "      <td>Other_B:0.58%</td>\n",
       "      <td>Other_A:0.28%</td>\n",
       "      <td>Group of people:0.09%</td>\n",
       "    </tr>\n",
       "    <tr>\n",
       "      <th>NAME_INCOME_TYPE</th>\n",
       "      <td>object</td>\n",
       "      <td>307511</td>\n",
       "      <td>0.00%</td>\n",
       "      <td>8</td>\n",
       "      <td>Working:51.63%</td>\n",
       "      <td>Commercial associate:23.29%</td>\n",
       "      <td>Pensioner:18.00%</td>\n",
       "      <td>State servant:7.06%</td>\n",
       "      <td>Unemployed:0.01%</td>\n",
       "      <td>State servant:7.06%</td>\n",
       "      <td>Unemployed:0.01%</td>\n",
       "      <td>Student:0.01%</td>\n",
       "      <td>Businessman:0.00%</td>\n",
       "      <td>Maternity leave:0.00%</td>\n",
       "    </tr>\n",
       "    <tr>\n",
       "      <th>NAME_EDUCATION_TYPE</th>\n",
       "      <td>object</td>\n",
       "      <td>307511</td>\n",
       "      <td>0.00%</td>\n",
       "      <td>5</td>\n",
       "      <td>Secondary / secondary special:71.02%</td>\n",
       "      <td>Higher education:24.34%</td>\n",
       "      <td>Incomplete higher:3.34%</td>\n",
       "      <td>Lower secondary:1.24%</td>\n",
       "      <td>Academic degree:0.05%</td>\n",
       "      <td>Secondary / secondary special:71.02%</td>\n",
       "      <td>Higher education:24.34%</td>\n",
       "      <td>Incomplete higher:3.34%</td>\n",
       "      <td>Lower secondary:1.24%</td>\n",
       "      <td>Academic degree:0.05%</td>\n",
       "    </tr>\n",
       "    <tr>\n",
       "      <th>NAME_FAMILY_STATUS</th>\n",
       "      <td>object</td>\n",
       "      <td>307511</td>\n",
       "      <td>0.00%</td>\n",
       "      <td>6</td>\n",
       "      <td>Married:63.88%</td>\n",
       "      <td>Single / not married:14.78%</td>\n",
       "      <td>Civil marriage:9.68%</td>\n",
       "      <td>Separated:6.43%</td>\n",
       "      <td>Widow:5.23%</td>\n",
       "      <td>Single / not married:14.78%</td>\n",
       "      <td>Civil marriage:9.68%</td>\n",
       "      <td>Separated:6.43%</td>\n",
       "      <td>Widow:5.23%</td>\n",
       "      <td>Unknown:0.00%</td>\n",
       "    </tr>\n",
       "    <tr>\n",
       "      <th>NAME_HOUSING_TYPE</th>\n",
       "      <td>object</td>\n",
       "      <td>307511</td>\n",
       "      <td>0.00%</td>\n",
       "      <td>6</td>\n",
       "      <td>House / apartment:88.73%</td>\n",
       "      <td>With parents:4.83%</td>\n",
       "      <td>Municipal apartment:3.64%</td>\n",
       "      <td>Rented apartment:1.59%</td>\n",
       "      <td>Office apartment:0.85%</td>\n",
       "      <td>With parents:4.83%</td>\n",
       "      <td>Municipal apartment:3.64%</td>\n",
       "      <td>Rented apartment:1.59%</td>\n",
       "      <td>Office apartment:0.85%</td>\n",
       "      <td>Co-op apartment:0.36%</td>\n",
       "    </tr>\n",
       "    <tr>\n",
       "      <th>REGION_POPULATION_RELATIVE</th>\n",
       "      <td>float64</td>\n",
       "      <td>307511</td>\n",
       "      <td>0.00%</td>\n",
       "      <td>81</td>\n",
       "      <td>0.020868</td>\n",
       "      <td>0.013831</td>\n",
       "      <td>0.00029</td>\n",
       "      <td>0.002134</td>\n",
       "      <td>0.006629</td>\n",
       "      <td>0.01885</td>\n",
       "      <td>0.028663</td>\n",
       "      <td>0.035792</td>\n",
       "      <td>0.072508</td>\n",
       "      <td>0.072508</td>\n",
       "    </tr>\n",
       "    <tr>\n",
       "      <th>DAYS_BIRTH</th>\n",
       "      <td>int64</td>\n",
       "      <td>307511</td>\n",
       "      <td>0.00%</td>\n",
       "      <td>17460</td>\n",
       "      <td>-16036.995067</td>\n",
       "      <td>4363.988632</td>\n",
       "      <td>-25229.0</td>\n",
       "      <td>-24419.0</td>\n",
       "      <td>-22181.0</td>\n",
       "      <td>-15750.0</td>\n",
       "      <td>-12413.0</td>\n",
       "      <td>-10284.0</td>\n",
       "      <td>-8263.0</td>\n",
       "      <td>-7489.0</td>\n",
       "    </tr>\n",
       "    <tr>\n",
       "      <th>DAYS_EMPLOYED</th>\n",
       "      <td>int64</td>\n",
       "      <td>307511</td>\n",
       "      <td>0.00%</td>\n",
       "      <td>12574</td>\n",
       "      <td>63815.045904</td>\n",
       "      <td>141275.766519</td>\n",
       "      <td>-17912.0</td>\n",
       "      <td>-10894.9</td>\n",
       "      <td>-4881.0</td>\n",
       "      <td>-1213.0</td>\n",
       "      <td>-289.0</td>\n",
       "      <td>365243.0</td>\n",
       "      <td>365243.0</td>\n",
       "      <td>365243.0</td>\n",
       "    </tr>\n",
       "    <tr>\n",
       "      <th>DAYS_REGISTRATION</th>\n",
       "      <td>float64</td>\n",
       "      <td>307511</td>\n",
       "      <td>0.00%</td>\n",
       "      <td>15688</td>\n",
       "      <td>-4986.120328</td>\n",
       "      <td>3522.886321</td>\n",
       "      <td>-24672.0</td>\n",
       "      <td>-13879.0</td>\n",
       "      <td>-9932.0</td>\n",
       "      <td>-4504.0</td>\n",
       "      <td>-2010.0</td>\n",
       "      <td>-690.0</td>\n",
       "      <td>-50.0</td>\n",
       "      <td>0.0</td>\n",
       "    </tr>\n",
       "  </tbody>\n",
       "</table>\n",
       "</div>"
      ],
      "text/plain": [
       "                               type    size missing  unique  \\\n",
       "SK_ID_CURR                    int64  307511   0.00%  307511   \n",
       "TARGET                        int64  307511   0.00%       2   \n",
       "NAME_CONTRACT_TYPE           object  307511   0.00%       2   \n",
       "CODE_GENDER                  object  307511   0.00%       3   \n",
       "FLAG_OWN_CAR                 object  307511   0.00%       2   \n",
       "FLAG_OWN_REALTY              object  307511   0.00%       2   \n",
       "CNT_CHILDREN                  int64  307511   0.00%      15   \n",
       "AMT_INCOME_TOTAL            float64  307511   0.00%    2548   \n",
       "AMT_CREDIT                  float64  307511   0.00%    5603   \n",
       "AMT_ANNUITY                 float64  307511   0.00%   13672   \n",
       "AMT_GOODS_PRICE             float64  307511   0.09%    1002   \n",
       "NAME_TYPE_SUITE              object  307511   0.42%       7   \n",
       "NAME_INCOME_TYPE             object  307511   0.00%       8   \n",
       "NAME_EDUCATION_TYPE          object  307511   0.00%       5   \n",
       "NAME_FAMILY_STATUS           object  307511   0.00%       6   \n",
       "NAME_HOUSING_TYPE            object  307511   0.00%       6   \n",
       "REGION_POPULATION_RELATIVE  float64  307511   0.00%      81   \n",
       "DAYS_BIRTH                    int64  307511   0.00%   17460   \n",
       "DAYS_EMPLOYED                 int64  307511   0.00%   12574   \n",
       "DAYS_REGISTRATION           float64  307511   0.00%   15688   \n",
       "\n",
       "                                                    mean_or_top1  \\\n",
       "SK_ID_CURR                                         278180.518577   \n",
       "TARGET                                                  0.080729   \n",
       "NAME_CONTRACT_TYPE                             Cash loans:90.48%   \n",
       "CODE_GENDER                                             F:65.83%   \n",
       "FLAG_OWN_CAR                                            N:65.99%   \n",
       "FLAG_OWN_REALTY                                         Y:69.37%   \n",
       "CNT_CHILDREN                                            0.417052   \n",
       "AMT_INCOME_TOTAL                                   168797.919297   \n",
       "AMT_CREDIT                                         599025.999706   \n",
       "AMT_ANNUITY                                         27108.573909   \n",
       "AMT_GOODS_PRICE                                    538396.207429   \n",
       "NAME_TYPE_SUITE                             Unaccompanied:80.82%   \n",
       "NAME_INCOME_TYPE                                  Working:51.63%   \n",
       "NAME_EDUCATION_TYPE         Secondary / secondary special:71.02%   \n",
       "NAME_FAMILY_STATUS                                Married:63.88%   \n",
       "NAME_HOUSING_TYPE                       House / apartment:88.73%   \n",
       "REGION_POPULATION_RELATIVE                              0.020868   \n",
       "DAYS_BIRTH                                         -16036.995067   \n",
       "DAYS_EMPLOYED                                       63815.045904   \n",
       "DAYS_REGISTRATION                                   -4986.120328   \n",
       "\n",
       "                                            std_or_top2  \\\n",
       "SK_ID_CURR                                102790.175348   \n",
       "TARGET                                         0.272419   \n",
       "NAME_CONTRACT_TYPE                Revolving loans:9.52%   \n",
       "CODE_GENDER                                    M:34.16%   \n",
       "FLAG_OWN_CAR                                   Y:34.01%   \n",
       "FLAG_OWN_REALTY                                N:30.63%   \n",
       "CNT_CHILDREN                                   0.722121   \n",
       "AMT_INCOME_TOTAL                          237123.146279   \n",
       "AMT_CREDIT                                402490.776996   \n",
       "AMT_ANNUITY                                14493.737315   \n",
       "AMT_GOODS_PRICE                            369446.46054   \n",
       "NAME_TYPE_SUITE                           Family:13.06%   \n",
       "NAME_INCOME_TYPE            Commercial associate:23.29%   \n",
       "NAME_EDUCATION_TYPE             Higher education:24.34%   \n",
       "NAME_FAMILY_STATUS          Single / not married:14.78%   \n",
       "NAME_HOUSING_TYPE                    With parents:4.83%   \n",
       "REGION_POPULATION_RELATIVE                     0.013831   \n",
       "DAYS_BIRTH                                  4363.988632   \n",
       "DAYS_EMPLOYED                             141275.766519   \n",
       "DAYS_REGISTRATION                           3522.886321   \n",
       "\n",
       "                                          min_or_top3              1%_or_top4  \\\n",
       "SK_ID_CURR                                   100002.0                103590.2   \n",
       "TARGET                                            0.0                     0.0   \n",
       "NAME_CONTRACT_TYPE                               None                    None   \n",
       "CODE_GENDER                                 XNA:0.00%                    None   \n",
       "FLAG_OWN_CAR                                     None                    None   \n",
       "FLAG_OWN_REALTY                                  None                    None   \n",
       "CNT_CHILDREN                                      0.0                     0.0   \n",
       "AMT_INCOME_TOTAL                              25650.0                 45000.0   \n",
       "AMT_CREDIT                                    45000.0                 76410.0   \n",
       "AMT_ANNUITY                                    1615.5                 6182.91   \n",
       "AMT_GOODS_PRICE                               40500.0                 67500.0   \n",
       "NAME_TYPE_SUITE                 Spouse, partner:3.70%          Children:1.06%   \n",
       "NAME_INCOME_TYPE                     Pensioner:18.00%     State servant:7.06%   \n",
       "NAME_EDUCATION_TYPE           Incomplete higher:3.34%   Lower secondary:1.24%   \n",
       "NAME_FAMILY_STATUS               Civil marriage:9.68%         Separated:6.43%   \n",
       "NAME_HOUSING_TYPE           Municipal apartment:3.64%  Rented apartment:1.59%   \n",
       "REGION_POPULATION_RELATIVE                    0.00029                0.002134   \n",
       "DAYS_BIRTH                                   -25229.0                -24419.0   \n",
       "DAYS_EMPLOYED                                -17912.0                -10894.9   \n",
       "DAYS_REGISTRATION                            -24672.0                -13879.0   \n",
       "\n",
       "                                       10%_or_top5  \\\n",
       "SK_ID_CURR                                135692.0   \n",
       "TARGET                                         0.0   \n",
       "NAME_CONTRACT_TYPE                            None   \n",
       "CODE_GENDER                                   None   \n",
       "FLAG_OWN_CAR                                  None   \n",
       "FLAG_OWN_REALTY                               None   \n",
       "CNT_CHILDREN                                   0.0   \n",
       "AMT_INCOME_TOTAL                           81000.0   \n",
       "AMT_CREDIT                                180000.0   \n",
       "AMT_ANNUITY                                11074.5   \n",
       "AMT_GOODS_PRICE                           180000.0   \n",
       "NAME_TYPE_SUITE                      Other_B:0.58%   \n",
       "NAME_INCOME_TYPE                  Unemployed:0.01%   \n",
       "NAME_EDUCATION_TYPE          Academic degree:0.05%   \n",
       "NAME_FAMILY_STATUS                     Widow:5.23%   \n",
       "NAME_HOUSING_TYPE           Office apartment:0.85%   \n",
       "REGION_POPULATION_RELATIVE                0.006629   \n",
       "DAYS_BIRTH                                -22181.0   \n",
       "DAYS_EMPLOYED                              -4881.0   \n",
       "DAYS_REGISTRATION                          -9932.0   \n",
       "\n",
       "                                                  50%_or_bottom5  \\\n",
       "SK_ID_CURR                                              278202.0   \n",
       "TARGET                                                       0.0   \n",
       "NAME_CONTRACT_TYPE                                          None   \n",
       "CODE_GENDER                                                 None   \n",
       "FLAG_OWN_CAR                                                None   \n",
       "FLAG_OWN_REALTY                                             None   \n",
       "CNT_CHILDREN                                                 0.0   \n",
       "AMT_INCOME_TOTAL                                        147150.0   \n",
       "AMT_CREDIT                                              513531.0   \n",
       "AMT_ANNUITY                                              24903.0   \n",
       "AMT_GOODS_PRICE                                         450000.0   \n",
       "NAME_TYPE_SUITE                            Spouse, partner:3.70%   \n",
       "NAME_INCOME_TYPE                             State servant:7.06%   \n",
       "NAME_EDUCATION_TYPE         Secondary / secondary special:71.02%   \n",
       "NAME_FAMILY_STATUS                   Single / not married:14.78%   \n",
       "NAME_HOUSING_TYPE                             With parents:4.83%   \n",
       "REGION_POPULATION_RELATIVE                               0.01885   \n",
       "DAYS_BIRTH                                              -15750.0   \n",
       "DAYS_EMPLOYED                                            -1213.0   \n",
       "DAYS_REGISTRATION                                        -4504.0   \n",
       "\n",
       "                                       75%_or_bottom4  \\\n",
       "SK_ID_CURR                                   367142.5   \n",
       "TARGET                                            0.0   \n",
       "NAME_CONTRACT_TYPE                               None   \n",
       "CODE_GENDER                                      None   \n",
       "FLAG_OWN_CAR                                     None   \n",
       "FLAG_OWN_REALTY                                  None   \n",
       "CNT_CHILDREN                                      1.0   \n",
       "AMT_INCOME_TOTAL                             202500.0   \n",
       "AMT_CREDIT                                   808650.0   \n",
       "AMT_ANNUITY                                   34596.0   \n",
       "AMT_GOODS_PRICE                              679500.0   \n",
       "NAME_TYPE_SUITE                        Children:1.06%   \n",
       "NAME_INCOME_TYPE                     Unemployed:0.01%   \n",
       "NAME_EDUCATION_TYPE           Higher education:24.34%   \n",
       "NAME_FAMILY_STATUS               Civil marriage:9.68%   \n",
       "NAME_HOUSING_TYPE           Municipal apartment:3.64%   \n",
       "REGION_POPULATION_RELATIVE                   0.028663   \n",
       "DAYS_BIRTH                                   -12413.0   \n",
       "DAYS_EMPLOYED                                  -289.0   \n",
       "DAYS_REGISTRATION                             -2010.0   \n",
       "\n",
       "                                     90%_or_bottom3          99%_or_bottom2  \\\n",
       "SK_ID_CURR                                 420729.0                452712.9   \n",
       "TARGET                                          0.0                     1.0   \n",
       "NAME_CONTRACT_TYPE                             None       Cash loans:90.48%   \n",
       "CODE_GENDER                                F:65.83%                M:34.16%   \n",
       "FLAG_OWN_CAR                                   None                N:65.99%   \n",
       "FLAG_OWN_REALTY                                None                Y:69.37%   \n",
       "CNT_CHILDREN                                    2.0                     3.0   \n",
       "AMT_INCOME_TOTAL                           270000.0                472500.0   \n",
       "AMT_CREDIT                                1133748.0               1854000.0   \n",
       "AMT_ANNUITY                                 45954.0                 70006.5   \n",
       "AMT_GOODS_PRICE                           1093500.0               1800000.0   \n",
       "NAME_TYPE_SUITE                       Other_B:0.58%           Other_A:0.28%   \n",
       "NAME_INCOME_TYPE                      Student:0.01%       Businessman:0.00%   \n",
       "NAME_EDUCATION_TYPE         Incomplete higher:3.34%   Lower secondary:1.24%   \n",
       "NAME_FAMILY_STATUS                  Separated:6.43%             Widow:5.23%   \n",
       "NAME_HOUSING_TYPE            Rented apartment:1.59%  Office apartment:0.85%   \n",
       "REGION_POPULATION_RELATIVE                 0.035792                0.072508   \n",
       "DAYS_BIRTH                                 -10284.0                 -8263.0   \n",
       "DAYS_EMPLOYED                              365243.0                365243.0   \n",
       "DAYS_REGISTRATION                            -690.0                   -50.0   \n",
       "\n",
       "                                   max_or_bottom1  \n",
       "SK_ID_CURR                               456255.0  \n",
       "TARGET                                        1.0  \n",
       "NAME_CONTRACT_TYPE          Revolving loans:9.52%  \n",
       "CODE_GENDER                             XNA:0.00%  \n",
       "FLAG_OWN_CAR                             Y:34.01%  \n",
       "FLAG_OWN_REALTY                          N:30.63%  \n",
       "CNT_CHILDREN                                 19.0  \n",
       "AMT_INCOME_TOTAL                      117000000.0  \n",
       "AMT_CREDIT                              4050000.0  \n",
       "AMT_ANNUITY                              258025.5  \n",
       "AMT_GOODS_PRICE                         4050000.0  \n",
       "NAME_TYPE_SUITE             Group of people:0.09%  \n",
       "NAME_INCOME_TYPE            Maternity leave:0.00%  \n",
       "NAME_EDUCATION_TYPE         Academic degree:0.05%  \n",
       "NAME_FAMILY_STATUS                  Unknown:0.00%  \n",
       "NAME_HOUSING_TYPE           Co-op apartment:0.36%  \n",
       "REGION_POPULATION_RELATIVE               0.072508  \n",
       "DAYS_BIRTH                                -7489.0  \n",
       "DAYS_EMPLOYED                            365243.0  \n",
       "DAYS_REGISTRATION                             0.0  "
      ]
     },
     "execution_count": 4,
     "metadata": {},
     "output_type": "execute_result"
    }
   ],
   "source": [
    "toad.detector.detect(application).head(20)"
   ]
  },
  {
   "cell_type": "markdown",
   "metadata": {},
   "source": [
    "# 四、关键问题拆分\n",
    "\n",
    "**根据以上题目设定，可以将该赛题主要拆分为以下几个关键问题：**\n",
    "\n",
    "（1）众多数据表如何合并？ \n",
    "\n",
    "（2）缺失值和异常值该如何处理？ \n",
    "\n",
    "（3）如何利用原始数据，生成有商业意义的新变量(新特征)？  \n",
    "\n",
    "（4）模型以及参数如何选择？ \n",
    "\n",
    "**针对以上问题，我们进行了以下的数据探索与分析：**"
   ]
  },
  {
   "attachments": {
    "image.png": {
     "image/png": "[encoded data removed]"
    }
   },
   "cell_type": "markdown",
   "metadata": {},
   "source": [
    "# 五、整体思路\n",
    "![image.png](attachment:image.png)\n"
   ]
  },
  {
   "cell_type": "markdown",
   "metadata": {},
   "source": [
    "# 六、数据初步探索"
   ]
  },
  {
   "cell_type": "markdown",
   "metadata": {},
   "source": [
    "**首先，我们对整体客户的关键属性进行了分析，具体如下所示：**"
   ]
  },
  {
   "cell_type": "code",
   "execution_count": 5,
   "metadata": {},
   "outputs": [
    {
     "data": {
      "image/png": "[encoded data removed]",
      "text/plain": [
       "<Figure size 720x576 with 1 Axes>"
      ]
     },
     "metadata": {
      "needs_background": "light"
     },
     "output_type": "display_data"
    }
   ],
   "source": [
    "fig=plt.figure(figsize=(10,8))\n",
    "plt.boxplot(x =application['DAYS_BIRTH'] ,\n",
    "         whis = 1.5, \n",
    "         widths = 3.0,\n",
    "         patch_artist = True, \n",
    "         showmeans = True, \n",
    "         boxprops = {'facecolor':'steelblue'}, \n",
    "         flierprops = {'markerfacecolor':'red', 'markeredgecolor':'red', 'markersize':4}, \n",
    "        meanprops = {'marker':'D','markerfacecolor':'black', 'markersize':4}, \n",
    "         medianprops = {'linestyle':'--','color':'orange'}, \n",
    "         labels = [''] \n",
    "         )\n",
    "plt.show()"
   ]
  },
  {
   "cell_type": "code",
   "execution_count": 6,
   "metadata": {},
   "outputs": [
    {
     "data": {
      "text/plain": [
       "<AxesSubplot:xlabel='target', ylabel='count'>"
      ]
     },
     "execution_count": 6,
     "metadata": {},
     "output_type": "execute_result"
    },
    {
     "data": {
      "image/png": "[encoded data removed]",
      "text/plain": [
       "<Figure size 720x576 with 1 Axes>"
      ]
     },
     "metadata": {
      "needs_background": "light"
     },
     "output_type": "display_data"
    }
   ],
   "source": [
    "application.loc[application[\"TARGET\"] == 0, \"target\"] = 'loan repayed(0)'\n",
    "application.loc[application[\"TARGET\"] == 1, \"target\"] = 'loan repayed(1)'\n",
    "plt.figure(figsize=(10,8))\n",
    "sns.countplot(x=application.target, \n",
    "              hue=application.NAME_EDUCATION_TYPE,\n",
    "              palette='Set3')"
   ]
  },
  {
   "cell_type": "code",
   "execution_count": 7,
   "metadata": {},
   "outputs": [
    {
     "data": {
      "image/png": "[encoded data removed]",
      "text/plain": [
       "<Figure size 720x576 with 1 Axes>"
      ]
     },
     "metadata": {
      "needs_background": "light"
     },
     "output_type": "display_data"
    }
   ],
   "source": [
    "df=application[(application['CODE_GENDER']=='F')|(application['CODE_GENDER']=='M')]\n",
    "fig=plt.figure(figsize=(10,8))\n",
    "ax=sns.violinplot(x=\"NAME_EDUCATION_TYPE\",\n",
    "                  y=\"AMT_CREDIT\",\n",
    "                  data=df,\n",
    "                  hue=\"CODE_GENDER\",\n",
    "                  split=True,\n",
    "                  scale_hue=True\n",
    "                  )\n",
    "plt.xlabel('Level of highest education the client achieved',fontsize=12)\n",
    "plt.tight_layout()"
   ]
  },
  {
   "cell_type": "code",
   "execution_count": 7,
   "metadata": {},
   "outputs": [
    {
     "data": {
      "text/html": [
       "        <script type=\"text/javascript\">\n",
       "        window.PlotlyConfig = {MathJaxConfig: 'local'};\n",
       "        if (window.MathJax) {MathJax.Hub.Config({SVG: {font: \"STIX-Web\"}});}\n",
       "        if (typeof require !== 'undefined') {\n",
       "        require.undef(\"plotly\");\n",
       "        requirejs.config({\n",
       "            paths: {\n",
       "                'plotly': ['https://cdn.plot.ly/plotly-latest.min']\n",
       "            }\n",
       "        });\n",
       "        require(['plotly'], function(Plotly) {\n",
       "            window._Plotly = Plotly;\n",
       "        });\n",
       "        }\n",
       "        </script>\n",
       "        "
      ]
     },
     "metadata": {},
     "output_type": "display_data"
    },
    {
     "data": {
      "application/vnd.plotly.v1+json": {
       "config": {
        "linkText": "Export to plot.ly",
        "plotlyServerURL": "https://plot.ly",
        "showLink": true
       },
       "data": [
        {
         "hole": 0.6,
         "labels": [
          "Yes (Y)",
          "No (N)"
         ],
         "marker": {
          "colors": [
           "rgba(0, 128, 240, 1.0)",
           "rgba(238, 118, 0, 1.0)"
          ]
         },
         "name": "",
         "type": "pie",
         "values": [
          202924,
          104587
         ]
        }
       ],
       "layout": {
        "legend": {
         "bgcolor": "#F2F3F7",
         "font": {
          "color": "#505050"
         }
        },
        "paper_bgcolor": "#F2F3F7",
        "plot_bgcolor": "#F2F3F7",
        "title": "OWN CAR or not",
        "titlefont": {
         "color": "#484848"
        }
       }
      },
      "text/html": [
       "<div>                            <div id=\"31e5249a-824b-4064-90b3-c2324b292099\" class=\"plotly-graph-div\" style=\"height:525px; width:100%;\"></div>            <script type=\"text/javascript\">                require([\"plotly\"], function(Plotly) {                    window.PLOTLYENV=window.PLOTLYENV || {};\n",
       "                    window.PLOTLYENV.BASE_URL='https://plot.ly';                                    if (document.getElementById(\"31e5249a-824b-4064-90b3-c2324b292099\")) {                    Plotly.newPlot(                        \"31e5249a-824b-4064-90b3-c2324b292099\",                        [{\"hole\": 0.6, \"labels\": [\"Yes (Y)\", \"No (N)\"], \"marker\": {\"colors\": [\"rgba(0, 128, 240, 1.0)\", \"rgba(238, 118, 0, 1.0)\"]}, \"name\": \"\", \"type\": \"pie\", \"values\": [202924, 104587]}],                        {\"legend\": {\"bgcolor\": \"#F2F3F7\", \"font\": {\"color\": \"#505050\"}}, \"paper_bgcolor\": \"#F2F3F7\", \"plot_bgcolor\": \"#F2F3F7\", \"title\": \"OWN CAR or not\", \"titlefont\": {\"color\": \"#484848\"}},                        {\"showLink\": true, \"linkText\": \"Export to plot.ly\", \"plotlyServerURL\": \"https://plot.ly\", \"responsive\": true}                    ).then(function(){\n",
       "                            \n",
       "var gd = document.getElementById('31e5249a-824b-4064-90b3-c2324b292099');\n",
       "var x = new MutationObserver(function (mutations, observer) {{\n",
       "        var display = window.getComputedStyle(gd).display;\n",
       "        if (!display || display === 'none') {{\n",
       "            console.log([gd, 'removed!']);\n",
       "            Plotly.purge(gd);\n",
       "            observer.disconnect();\n",
       "        }}\n",
       "}});\n",
       "\n",
       "// Listen for the removal of the full notebook cells\n",
       "var notebookContainer = gd.closest('#notebook-container');\n",
       "if (notebookContainer) {{\n",
       "    x.observe(notebookContainer, {childList: true});\n",
       "}}\n",
       "\n",
       "// Listen for the clearing of the current output cell\n",
       "var outputEl = gd.closest('.output');\n",
       "if (outputEl) {{\n",
       "    x.observe(outputEl, {childList: true});\n",
       "}}\n",
       "\n",
       "                        })                };                });            </script>        </div>"
      ]
     },
     "metadata": {},
     "output_type": "display_data"
    }
   ],
   "source": [
    "cf.set_config_file(offline=True,theme='polar')\n",
    "contract_val=application['FLAG_OWN_CAR'].value_counts()\n",
    "contract_df=pd.DataFrame({'labels':['Yes (Y)','No (N)'],'values':contract_val.values})\n",
    "contract_df.iplot(kind='pie',labels='labels',values='values',title='OWN CAR or not',hole=0.6)"
   ]
  },
  {
   "cell_type": "code",
   "execution_count": 8,
   "metadata": {},
   "outputs": [
    {
     "data": {
      "text/html": [
       "        <script type=\"text/javascript\">\n",
       "        window.PlotlyConfig = {MathJaxConfig: 'local'};\n",
       "        if (window.MathJax) {MathJax.Hub.Config({SVG: {font: \"STIX-Web\"}});}\n",
       "        if (typeof require !== 'undefined') {\n",
       "        require.undef(\"plotly\");\n",
       "        requirejs.config({\n",
       "            paths: {\n",
       "                'plotly': ['https://cdn.plot.ly/plotly-latest.min']\n",
       "            }\n",
       "        });\n",
       "        require(['plotly'], function(Plotly) {\n",
       "            window._Plotly = Plotly;\n",
       "        });\n",
       "        }\n",
       "        </script>\n",
       "        "
      ]
     },
     "metadata": {},
     "output_type": "display_data"
    },
    {
     "data": {
      "application/vnd.plotly.v1+json": {
       "config": {
        "linkText": "Export to plot.ly",
        "plotlyServerURL": "https://plot.ly",
        "showLink": true
       },
       "data": [
        {
         "hole": 0.6,
         "labels": [
          "Yes (Y)",
          "No (N)"
         ],
         "marker": {
          "colors": [
           "rgba(0, 128, 240, 1.0)",
           "rgba(238, 118, 0, 1.0)"
          ]
         },
         "name": "",
         "type": "pie",
         "values": [
          213312,
          94199
         ]
        }
       ],
       "layout": {
        "legend": {
         "bgcolor": "#F2F3F7",
         "font": {
          "color": "#505050"
         }
        },
        "paper_bgcolor": "#F2F3F7",
        "plot_bgcolor": "#F2F3F7",
        "title": "OWN REALTY or not",
        "titlefont": {
         "color": "#484848"
        }
       }
      },
      "text/html": [
       "<div>                            <div id=\"c3bc2a7d-acca-474a-bb19-5dae5b57fdab\" class=\"plotly-graph-div\" style=\"height:525px; width:100%;\"></div>            <script type=\"text/javascript\">                require([\"plotly\"], function(Plotly) {                    window.PLOTLYENV=window.PLOTLYENV || {};\n",
       "                    window.PLOTLYENV.BASE_URL='https://plot.ly';                                    if (document.getElementById(\"c3bc2a7d-acca-474a-bb19-5dae5b57fdab\")) {                    Plotly.newPlot(                        \"c3bc2a7d-acca-474a-bb19-5dae5b57fdab\",                        [{\"hole\": 0.6, \"labels\": [\"Yes (Y)\", \"No (N)\"], \"marker\": {\"colors\": [\"rgba(0, 128, 240, 1.0)\", \"rgba(238, 118, 0, 1.0)\"]}, \"name\": \"\", \"type\": \"pie\", \"values\": [213312, 94199]}],                        {\"legend\": {\"bgcolor\": \"#F2F3F7\", \"font\": {\"color\": \"#505050\"}}, \"paper_bgcolor\": \"#F2F3F7\", \"plot_bgcolor\": \"#F2F3F7\", \"title\": \"OWN REALTY or not\", \"titlefont\": {\"color\": \"#484848\"}},                        {\"showLink\": true, \"linkText\": \"Export to plot.ly\", \"plotlyServerURL\": \"https://plot.ly\", \"responsive\": true}                    ).then(function(){\n",
       "                            \n",
       "var gd = document.getElementById('c3bc2a7d-acca-474a-bb19-5dae5b57fdab');\n",
       "var x = new MutationObserver(function (mutations, observer) {{\n",
       "        var display = window.getComputedStyle(gd).display;\n",
       "        if (!display || display === 'none') {{\n",
       "            console.log([gd, 'removed!']);\n",
       "            Plotly.purge(gd);\n",
       "            observer.disconnect();\n",
       "        }}\n",
       "}});\n",
       "\n",
       "// Listen for the removal of the full notebook cells\n",
       "var notebookContainer = gd.closest('#notebook-container');\n",
       "if (notebookContainer) {{\n",
       "    x.observe(notebookContainer, {childList: true});\n",
       "}}\n",
       "\n",
       "// Listen for the clearing of the current output cell\n",
       "var outputEl = gd.closest('.output');\n",
       "if (outputEl) {{\n",
       "    x.observe(outputEl, {childList: true});\n",
       "}}\n",
       "\n",
       "                        })                };                });            </script>        </div>"
      ]
     },
     "metadata": {},
     "output_type": "display_data"
    }
   ],
   "source": [
    "cf.set_config_file(offline=True,theme='polar')\n",
    "contract_val=application['FLAG_OWN_REALTY'].value_counts()\n",
    "contract_df=pd.DataFrame({'labels':['Yes (Y)','No (N)'],'values':contract_val.values})\n",
    "contract_df.iplot(kind='pie',labels='labels',values='values',title='OWN REALTY or not',hole=0.6)\n",
    "plt.show()"
   ]
  },
  {
   "cell_type": "code",
   "execution_count": 11,
   "metadata": {},
   "outputs": [
    {
     "data": {
      "text/plain": [
       "<Figure size 720x576 with 0 Axes>"
      ]
     },
     "metadata": {},
     "output_type": "display_data"
    },
    {
     "data": {
      "image/png": "[encoded data removed]",
      "text/plain": [
       "<Figure size 505.75x360 with 6 Axes>"
      ]
     },
     "metadata": {
      "needs_background": "light"
     },
     "output_type": "display_data"
    }
   ],
   "source": [
    "fig=plt.figure(figsize=(10,8))\n",
    "sns.pairplot(application, vars=[\"AMT_CREDIT\",\"AMT_ANNUITY\"],hue='NAME_INCOME_TYPE',palette=\"husl\")\n",
    "plt.show()"
   ]
  },
  {
   "cell_type": "code",
   "execution_count": 9,
   "metadata": {},
   "outputs": [
    {
     "data": {
      "application/vnd.plotly.v1+json": {
       "config": {
        "linkText": "Export to plot.ly",
        "plotlyServerURL": "https://plot.ly",
        "showLink": false
       },
       "data": [
        {
         "name": "Not repayed",
         "type": "bar",
         "x": [
          "House / apartment",
          "With parents",
          "Municipal apartment",
          "Rented apartment",
          "Office apartment",
          "Co-op apartment"
         ],
         "y": [
          6.917476122805363,
          0.5645326508645219,
          0.31055799629931935,
          0.19544016311611617,
          0.05593295849579365,
          0.028942054105381598
         ]
        },
        {
         "name": "Repayed",
         "type": "bar",
         "x": [
          "House / apartment",
          "With parents",
          "Municipal apartment",
          "Rented apartment",
          "Office apartment",
          "Co-op apartment"
         ],
         "y": [
          81.81691061457964,
          4.261310977493489,
          3.3260598807847526,
          1.3918201300116093,
          0.7950935088500899,
          0.33592294259392347
         ]
        }
       ],
       "layout": {
        "template": {
         "data": {
          "bar": [
           {
            "error_x": {
             "color": "#2a3f5f"
            },
            "error_y": {
             "color": "#2a3f5f"
            },
            "marker": {
             "line": {
              "color": "#E5ECF6",
              "width": 0.5
             }
            },
            "type": "bar"
           }
          ],
          "barpolar": [
           {
            "marker": {
             "line": {
              "color": "#E5ECF6",
              "width": 0.5
             }
            },
            "type": "barpolar"
           }
          ],
          "carpet": [
           {
            "aaxis": {
             "endlinecolor": "#2a3f5f",
             "gridcolor": "white",
             "linecolor": "white",
             "minorgridcolor": "white",
             "startlinecolor": "#2a3f5f"
            },
            "baxis": {
             "endlinecolor": "#2a3f5f",
             "gridcolor": "white",
             "linecolor": "white",
             "minorgridcolor": "white",
             "startlinecolor": "#2a3f5f"
            },
            "type": "carpet"
           }
          ],
          "choropleth": [
           {
            "colorbar": {
             "outlinewidth": 0,
             "ticks": ""
            },
            "type": "choropleth"
           }
          ],
          "contour": [
           {
            "colorbar": {
             "outlinewidth": 0,
             "ticks": ""
            },
            "colorscale": [
             [
              0,
              "#0d0887"
             ],
             [
              0.1111111111111111,
              "#46039f"
             ],
             [
              0.2222222222222222,
              "#7201a8"
             ],
             [
              0.3333333333333333,
              "#9c179e"
             ],
             [
              0.4444444444444444,
              "#bd3786"
             ],
             [
              0.5555555555555556,
              "#d8576b"
             ],
             [
              0.6666666666666666,
              "#ed7953"
             ],
             [
              0.7777777777777778,
              "#fb9f3a"
             ],
             [
              0.8888888888888888,
              "#fdca26"
             ],
             [
              1,
              "#f0f921"
             ]
            ],
            "type": "contour"
           }
          ],
          "contourcarpet": [
           {
            "colorbar": {
             "outlinewidth": 0,
             "ticks": ""
            },
            "type": "contourcarpet"
           }
          ],
          "heatmap": [
           {
            "colorbar": {
             "outlinewidth": 0,
             "ticks": ""
            },
            "colorscale": [
             [
              0,
              "#0d0887"
             ],
             [
              0.1111111111111111,
              "#46039f"
             ],
             [
              0.2222222222222222,
              "#7201a8"
             ],
             [
              0.3333333333333333,
              "#9c179e"
             ],
             [
              0.4444444444444444,
              "#bd3786"
             ],
             [
              0.5555555555555556,
              "#d8576b"
             ],
             [
              0.6666666666666666,
              "#ed7953"
             ],
             [
              0.7777777777777778,
              "#fb9f3a"
             ],
             [
              0.8888888888888888,
              "#fdca26"
             ],
             [
              1,
              "#f0f921"
             ]
            ],
            "type": "heatmap"
           }
          ],
          "heatmapgl": [
           {
            "colorbar": {
             "outlinewidth": 0,
             "ticks": ""
            },
            "colorscale": [
             [
              0,
              "#0d0887"
             ],
             [
              0.1111111111111111,
              "#46039f"
             ],
             [
              0.2222222222222222,
              "#7201a8"
             ],
             [
              0.3333333333333333,
              "#9c179e"
             ],
             [
              0.4444444444444444,
              "#bd3786"
             ],
             [
              0.5555555555555556,
              "#d8576b"
             ],
             [
              0.6666666666666666,
              "#ed7953"
             ],
             [
              0.7777777777777778,
              "#fb9f3a"
             ],
             [
              0.8888888888888888,
              "#fdca26"
             ],
             [
              1,
              "#f0f921"
             ]
            ],
            "type": "heatmapgl"
           }
          ],
          "histogram": [
           {
            "marker": {
             "colorbar": {
              "outlinewidth": 0,
              "ticks": ""
             }
            },
            "type": "histogram"
           }
          ],
          "histogram2d": [
           {
            "colorbar": {
             "outlinewidth": 0,
             "ticks": ""
            },
            "colorscale": [
             [
              0,
              "#0d0887"
             ],
             [
              0.1111111111111111,
              "#46039f"
             ],
             [
              0.2222222222222222,
              "#7201a8"
             ],
             [
              0.3333333333333333,
              "#9c179e"
             ],
             [
              0.4444444444444444,
              "#bd3786"
             ],
             [
              0.5555555555555556,
              "#d8576b"
             ],
             [
              0.6666666666666666,
              "#ed7953"
             ],
             [
              0.7777777777777778,
              "#fb9f3a"
             ],
             [
              0.8888888888888888,
              "#fdca26"
             ],
             [
              1,
              "#f0f921"
             ]
            ],
            "type": "histogram2d"
           }
          ],
          "histogram2dcontour": [
           {
            "colorbar": {
             "outlinewidth": 0,
             "ticks": ""
            },
            "colorscale": [
             [
              0,
              "#0d0887"
             ],
             [
              0.1111111111111111,
              "#46039f"
             ],
             [
              0.2222222222222222,
              "#7201a8"
             ],
             [
              0.3333333333333333,
              "#9c179e"
             ],
             [
              0.4444444444444444,
              "#bd3786"
             ],
             [
              0.5555555555555556,
              "#d8576b"
             ],
             [
              0.6666666666666666,
              "#ed7953"
             ],
             [
              0.7777777777777778,
              "#fb9f3a"
             ],
             [
              0.8888888888888888,
              "#fdca26"
             ],
             [
              1,
              "#f0f921"
             ]
            ],
            "type": "histogram2dcontour"
           }
          ],
          "mesh3d": [
           {
            "colorbar": {
             "outlinewidth": 0,
             "ticks": ""
            },
            "type": "mesh3d"
           }
          ],
          "parcoords": [
           {
            "line": {
             "colorbar": {
              "outlinewidth": 0,
              "ticks": ""
             }
            },
            "type": "parcoords"
           }
          ],
          "pie": [
           {
            "automargin": true,
            "type": "pie"
           }
          ],
          "scatter": [
           {
            "marker": {
             "colorbar": {
              "outlinewidth": 0,
              "ticks": ""
             }
            },
            "type": "scatter"
           }
          ],
          "scatter3d": [
           {
            "line": {
             "colorbar": {
              "outlinewidth": 0,
              "ticks": ""
             }
            },
            "marker": {
             "colorbar": {
              "outlinewidth": 0,
              "ticks": ""
             }
            },
            "type": "scatter3d"
           }
          ],
          "scattercarpet": [
           {
            "marker": {
             "colorbar": {
              "outlinewidth": 0,
              "ticks": ""
             }
            },
            "type": "scattercarpet"
           }
          ],
          "scattergeo": [
           {
            "marker": {
             "colorbar": {
              "outlinewidth": 0,
              "ticks": ""
             }
            },
            "type": "scattergeo"
           }
          ],
          "scattergl": [
           {
            "marker": {
             "colorbar": {
              "outlinewidth": 0,
              "ticks": ""
             }
            },
            "type": "scattergl"
           }
          ],
          "scattermapbox": [
           {
            "marker": {
             "colorbar": {
              "outlinewidth": 0,
              "ticks": ""
             }
            },
            "type": "scattermapbox"
           }
          ],
          "scatterpolar": [
           {
            "marker": {
             "colorbar": {
              "outlinewidth": 0,
              "ticks": ""
             }
            },
            "type": "scatterpolar"
           }
          ],
          "scatterpolargl": [
           {
            "marker": {
             "colorbar": {
              "outlinewidth": 0,
              "ticks": ""
             }
            },
            "type": "scatterpolargl"
           }
          ],
          "scatterternary": [
           {
            "marker": {
             "colorbar": {
              "outlinewidth": 0,
              "ticks": ""
             }
            },
            "type": "scatterternary"
           }
          ],
          "surface": [
           {
            "colorbar": {
             "outlinewidth": 0,
             "ticks": ""
            },
            "colorscale": [
             [
              0,
              "#0d0887"
             ],
             [
              0.1111111111111111,
              "#46039f"
             ],
             [
              0.2222222222222222,
              "#7201a8"
             ],
             [
              0.3333333333333333,
              "#9c179e"
             ],
             [
              0.4444444444444444,
              "#bd3786"
             ],
             [
              0.5555555555555556,
              "#d8576b"
             ],
             [
              0.6666666666666666,
              "#ed7953"
             ],
             [
              0.7777777777777778,
              "#fb9f3a"
             ],
             [
              0.8888888888888888,
              "#fdca26"
             ],
             [
              1,
              "#f0f921"
             ]
            ],
            "type": "surface"
           }
          ],
          "table": [
           {
            "cells": {
             "fill": {
              "color": "#EBF0F8"
             },
             "line": {
              "color": "white"
             }
            },
            "header": {
             "fill": {
              "color": "#C8D4E3"
             },
             "line": {
              "color": "white"
             }
            },
            "type": "table"
           }
          ]
         },
         "layout": {
          "annotationdefaults": {
           "arrowcolor": "#2a3f5f",
           "arrowhead": 0,
           "arrowwidth": 1
          },
          "autotypenumbers": "strict",
          "coloraxis": {
           "colorbar": {
            "outlinewidth": 0,
            "ticks": ""
           }
          },
          "colorscale": {
           "diverging": [
            [
             0,
             "#8e0152"
            ],
            [
             0.1,
             "#c51b7d"
            ],
            [
             0.2,
             "#de77ae"
            ],
            [
             0.3,
             "#f1b6da"
            ],
            [
             0.4,
             "#fde0ef"
            ],
            [
             0.5,
             "#f7f7f7"
            ],
            [
             0.6,
             "#e6f5d0"
            ],
            [
             0.7,
             "#b8e186"
            ],
            [
             0.8,
             "#7fbc41"
            ],
            [
             0.9,
             "#4d9221"
            ],
            [
             1,
             "#276419"
            ]
           ],
           "sequential": [
            [
             0,
             "#0d0887"
            ],
            [
             0.1111111111111111,
             "#46039f"
            ],
            [
             0.2222222222222222,
             "#7201a8"
            ],
            [
             0.3333333333333333,
             "#9c179e"
            ],
            [
             0.4444444444444444,
             "#bd3786"
            ],
            [
             0.5555555555555556,
             "#d8576b"
            ],
            [
             0.6666666666666666,
             "#ed7953"
            ],
            [
             0.7777777777777778,
             "#fb9f3a"
            ],
            [
             0.8888888888888888,
             "#fdca26"
            ],
            [
             1,
             "#f0f921"
            ]
           ],
           "sequentialminus": [
            [
             0,
             "#0d0887"
            ],
            [
             0.1111111111111111,
             "#46039f"
            ],
            [
             0.2222222222222222,
             "#7201a8"
            ],
            [
             0.3333333333333333,
             "#9c179e"
            ],
            [
             0.4444444444444444,
             "#bd3786"
            ],
            [
             0.5555555555555556,
             "#d8576b"
            ],
            [
             0.6666666666666666,
             "#ed7953"
            ],
            [
             0.7777777777777778,
             "#fb9f3a"
            ],
            [
             0.8888888888888888,
             "#fdca26"
            ],
            [
             1,
             "#f0f921"
            ]
           ]
          },
          "colorway": [
           "#636efa",
           "#EF553B",
           "#00cc96",
           "#ab63fa",
           "#FFA15A",
           "#19d3f3",
           "#FF6692",
           "#B6E880",
           "#FF97FF",
           "#FECB52"
          ],
          "font": {
           "color": "#2a3f5f"
          },
          "geo": {
           "bgcolor": "white",
           "lakecolor": "white",
           "landcolor": "#E5ECF6",
           "showlakes": true,
           "showland": true,
           "subunitcolor": "white"
          },
          "hoverlabel": {
           "align": "left"
          },
          "hovermode": "closest",
          "mapbox": {
           "style": "light"
          },
          "paper_bgcolor": "white",
          "plot_bgcolor": "#E5ECF6",
          "polar": {
           "angularaxis": {
            "gridcolor": "white",
            "linecolor": "white",
            "ticks": ""
           },
           "bgcolor": "#E5ECF6",
           "radialaxis": {
            "gridcolor": "white",
            "linecolor": "white",
            "ticks": ""
           }
          },
          "scene": {
           "xaxis": {
            "backgroundcolor": "#E5ECF6",
            "gridcolor": "white",
            "gridwidth": 2,
            "linecolor": "white",
            "showbackground": true,
            "ticks": "",
            "zerolinecolor": "white"
           },
           "yaxis": {
            "backgroundcolor": "#E5ECF6",
            "gridcolor": "white",
            "gridwidth": 2,
            "linecolor": "white",
            "showbackground": true,
            "ticks": "",
            "zerolinecolor": "white"
           },
           "zaxis": {
            "backgroundcolor": "#E5ECF6",
            "gridcolor": "white",
            "gridwidth": 2,
            "linecolor": "white",
            "showbackground": true,
            "ticks": "",
            "zerolinecolor": "white"
           }
          },
          "shapedefaults": {
           "line": {
            "color": "#2a3f5f"
           }
          },
          "ternary": {
           "aaxis": {
            "gridcolor": "white",
            "linecolor": "white",
            "ticks": ""
           },
           "baxis": {
            "gridcolor": "white",
            "linecolor": "white",
            "ticks": ""
           },
           "bgcolor": "#E5ECF6",
           "caxis": {
            "gridcolor": "white",
            "linecolor": "white",
            "ticks": ""
           }
          },
          "title": {
           "x": 0.05
          },
          "xaxis": {
           "automargin": true,
           "gridcolor": "white",
           "linecolor": "white",
           "ticks": "",
           "title": {
            "standoff": 15
           },
           "zerolinecolor": "white",
           "zerolinewidth": 2
          },
          "yaxis": {
           "automargin": true,
           "gridcolor": "white",
           "linecolor": "white",
           "ticks": "",
           "title": {
            "standoff": 15
           },
           "zerolinecolor": "white",
           "zerolinewidth": 2
          }
         }
        },
        "title": {
         "text": "Housing type of Applicants with loan is repayed or not percentage"
        },
        "xaxis": {
         "title": {
          "text": "Housing type"
         }
        },
        "yaxis": {
         "title": {
          "text": "Percentage in applicants"
         }
        }
       }
      },
      "text/html": [
       "<div>                            <div id=\"d64d0f98-3f82-4507-bf86-e2c2d7b4a2ca\" class=\"plotly-graph-div\" style=\"height:525px; width:100%;\"></div>            <script type=\"text/javascript\">                require([\"plotly\"], function(Plotly) {                    window.PLOTLYENV=window.PLOTLYENV || {};                                    if (document.getElementById(\"d64d0f98-3f82-4507-bf86-e2c2d7b4a2ca\")) {                    Plotly.newPlot(                        \"d64d0f98-3f82-4507-bf86-e2c2d7b4a2ca\",                        [{\"name\": \"Not repayed\", \"type\": \"bar\", \"x\": [\"House / apartment\", \"With parents\", \"Municipal apartment\", \"Rented apartment\", \"Office apartment\", \"Co-op apartment\"], \"y\": [6.917476122805363, 0.5645326508645219, 0.31055799629931935, 0.19544016311611617, 0.05593295849579365, 0.028942054105381598]}, {\"name\": \"Repayed\", \"type\": \"bar\", \"x\": [\"House / apartment\", \"With parents\", \"Municipal apartment\", \"Rented apartment\", \"Office apartment\", \"Co-op apartment\"], \"y\": [81.81691061457964, 4.261310977493489, 3.3260598807847526, 1.3918201300116093, 0.7950935088500899, 0.33592294259392347]}],                        {\"template\": {\"data\": {\"bar\": [{\"error_x\": {\"color\": \"#2a3f5f\"}, \"error_y\": {\"color\": \"#2a3f5f\"}, \"marker\": {\"line\": {\"color\": \"#E5ECF6\", \"width\": 0.5}}, \"type\": \"bar\"}], \"barpolar\": [{\"marker\": {\"line\": {\"color\": \"#E5ECF6\", \"width\": 0.5}}, \"type\": \"barpolar\"}], \"carpet\": [{\"aaxis\": {\"endlinecolor\": \"#2a3f5f\", \"gridcolor\": \"white\", \"linecolor\": \"white\", \"minorgridcolor\": \"white\", \"startlinecolor\": \"#2a3f5f\"}, \"baxis\": {\"endlinecolor\": \"#2a3f5f\", \"gridcolor\": \"white\", \"linecolor\": \"white\", \"minorgridcolor\": \"white\", \"startlinecolor\": \"#2a3f5f\"}, \"type\": \"carpet\"}], \"choropleth\": [{\"colorbar\": {\"outlinewidth\": 0, \"ticks\": \"\"}, \"type\": \"choropleth\"}], \"contour\": [{\"colorbar\": {\"outlinewidth\": 0, \"ticks\": \"\"}, \"colorscale\": [[0.0, \"#0d0887\"], [0.1111111111111111, \"#46039f\"], [0.2222222222222222, \"#7201a8\"], [0.3333333333333333, \"#9c179e\"], [0.4444444444444444, \"#bd3786\"], [0.5555555555555556, \"#d8576b\"], [0.6666666666666666, \"#ed7953\"], [0.7777777777777778, \"#fb9f3a\"], [0.8888888888888888, \"#fdca26\"], [1.0, \"#f0f921\"]], \"type\": \"contour\"}], \"contourcarpet\": [{\"colorbar\": {\"outlinewidth\": 0, \"ticks\": \"\"}, \"type\": \"contourcarpet\"}], \"heatmap\": [{\"colorbar\": {\"outlinewidth\": 0, \"ticks\": \"\"}, \"colorscale\": [[0.0, \"#0d0887\"], [0.1111111111111111, \"#46039f\"], [0.2222222222222222, \"#7201a8\"], [0.3333333333333333, \"#9c179e\"], [0.4444444444444444, \"#bd3786\"], [0.5555555555555556, \"#d8576b\"], [0.6666666666666666, \"#ed7953\"], [0.7777777777777778, \"#fb9f3a\"], [0.8888888888888888, \"#fdca26\"], [1.0, \"#f0f921\"]], \"type\": \"heatmap\"}], \"heatmapgl\": [{\"colorbar\": {\"outlinewidth\": 0, \"ticks\": \"\"}, \"colorscale\": [[0.0, \"#0d0887\"], [0.1111111111111111, \"#46039f\"], [0.2222222222222222, \"#7201a8\"], [0.3333333333333333, \"#9c179e\"], [0.4444444444444444, \"#bd3786\"], [0.5555555555555556, \"#d8576b\"], [0.6666666666666666, \"#ed7953\"], [0.7777777777777778, \"#fb9f3a\"], [0.8888888888888888, \"#fdca26\"], [1.0, \"#f0f921\"]], \"type\": \"heatmapgl\"}], \"histogram\": [{\"marker\": {\"colorbar\": {\"outlinewidth\": 0, \"ticks\": \"\"}}, \"type\": \"histogram\"}], \"histogram2d\": [{\"colorbar\": {\"outlinewidth\": 0, \"ticks\": \"\"}, \"colorscale\": [[0.0, \"#0d0887\"], [0.1111111111111111, \"#46039f\"], [0.2222222222222222, \"#7201a8\"], [0.3333333333333333, \"#9c179e\"], [0.4444444444444444, \"#bd3786\"], [0.5555555555555556, \"#d8576b\"], [0.6666666666666666, \"#ed7953\"], [0.7777777777777778, \"#fb9f3a\"], [0.8888888888888888, \"#fdca26\"], [1.0, \"#f0f921\"]], \"type\": \"histogram2d\"}], \"histogram2dcontour\": [{\"colorbar\": {\"outlinewidth\": 0, \"ticks\": \"\"}, \"colorscale\": [[0.0, \"#0d0887\"], [0.1111111111111111, \"#46039f\"], [0.2222222222222222, \"#7201a8\"], [0.3333333333333333, \"#9c179e\"], [0.4444444444444444, \"#bd3786\"], [0.5555555555555556, \"#d8576b\"], [0.6666666666666666, \"#ed7953\"], [0.7777777777777778, \"#fb9f3a\"], [0.8888888888888888, \"#fdca26\"], [1.0, \"#f0f921\"]], \"type\": \"histogram2dcontour\"}], \"mesh3d\": [{\"colorbar\": {\"outlinewidth\": 0, \"ticks\": \"\"}, \"type\": \"mesh3d\"}], \"parcoords\": [{\"line\": {\"colorbar\": {\"outlinewidth\": 0, \"ticks\": \"\"}}, \"type\": \"parcoords\"}], \"pie\": [{\"automargin\": true, \"type\": \"pie\"}], \"scatter\": [{\"marker\": {\"colorbar\": {\"outlinewidth\": 0, \"ticks\": \"\"}}, \"type\": \"scatter\"}], \"scatter3d\": [{\"line\": {\"colorbar\": {\"outlinewidth\": 0, \"ticks\": \"\"}}, \"marker\": {\"colorbar\": {\"outlinewidth\": 0, \"ticks\": \"\"}}, \"type\": \"scatter3d\"}], \"scattercarpet\": [{\"marker\": {\"colorbar\": {\"outlinewidth\": 0, \"ticks\": \"\"}}, \"type\": \"scattercarpet\"}], \"scattergeo\": [{\"marker\": {\"colorbar\": {\"outlinewidth\": 0, \"ticks\": \"\"}}, \"type\": \"scattergeo\"}], \"scattergl\": [{\"marker\": {\"colorbar\": {\"outlinewidth\": 0, \"ticks\": \"\"}}, \"type\": \"scattergl\"}], \"scattermapbox\": [{\"marker\": {\"colorbar\": {\"outlinewidth\": 0, \"ticks\": \"\"}}, \"type\": \"scattermapbox\"}], \"scatterpolar\": [{\"marker\": {\"colorbar\": {\"outlinewidth\": 0, \"ticks\": \"\"}}, \"type\": \"scatterpolar\"}], \"scatterpolargl\": [{\"marker\": {\"colorbar\": {\"outlinewidth\": 0, \"ticks\": \"\"}}, \"type\": \"scatterpolargl\"}], \"scatterternary\": [{\"marker\": {\"colorbar\": {\"outlinewidth\": 0, \"ticks\": \"\"}}, \"type\": \"scatterternary\"}], \"surface\": [{\"colorbar\": {\"outlinewidth\": 0, \"ticks\": \"\"}, \"colorscale\": [[0.0, \"#0d0887\"], [0.1111111111111111, \"#46039f\"], [0.2222222222222222, \"#7201a8\"], [0.3333333333333333, \"#9c179e\"], [0.4444444444444444, \"#bd3786\"], [0.5555555555555556, \"#d8576b\"], [0.6666666666666666, \"#ed7953\"], [0.7777777777777778, \"#fb9f3a\"], [0.8888888888888888, \"#fdca26\"], [1.0, \"#f0f921\"]], \"type\": \"surface\"}], \"table\": [{\"cells\": {\"fill\": {\"color\": \"#EBF0F8\"}, \"line\": {\"color\": \"white\"}}, \"header\": {\"fill\": {\"color\": \"#C8D4E3\"}, \"line\": {\"color\": \"white\"}}, \"type\": \"table\"}]}, \"layout\": {\"annotationdefaults\": {\"arrowcolor\": \"#2a3f5f\", \"arrowhead\": 0, \"arrowwidth\": 1}, \"autotypenumbers\": \"strict\", \"coloraxis\": {\"colorbar\": {\"outlinewidth\": 0, \"ticks\": \"\"}}, \"colorscale\": {\"diverging\": [[0, \"#8e0152\"], [0.1, \"#c51b7d\"], [0.2, \"#de77ae\"], [0.3, \"#f1b6da\"], [0.4, \"#fde0ef\"], [0.5, \"#f7f7f7\"], [0.6, \"#e6f5d0\"], [0.7, \"#b8e186\"], [0.8, \"#7fbc41\"], [0.9, \"#4d9221\"], [1, \"#276419\"]], \"sequential\": [[0.0, \"#0d0887\"], [0.1111111111111111, \"#46039f\"], [0.2222222222222222, \"#7201a8\"], [0.3333333333333333, \"#9c179e\"], [0.4444444444444444, \"#bd3786\"], [0.5555555555555556, \"#d8576b\"], [0.6666666666666666, \"#ed7953\"], [0.7777777777777778, \"#fb9f3a\"], [0.8888888888888888, \"#fdca26\"], [1.0, \"#f0f921\"]], \"sequentialminus\": [[0.0, \"#0d0887\"], [0.1111111111111111, \"#46039f\"], [0.2222222222222222, \"#7201a8\"], [0.3333333333333333, \"#9c179e\"], [0.4444444444444444, \"#bd3786\"], [0.5555555555555556, \"#d8576b\"], [0.6666666666666666, \"#ed7953\"], [0.7777777777777778, \"#fb9f3a\"], [0.8888888888888888, \"#fdca26\"], [1.0, \"#f0f921\"]]}, \"colorway\": [\"#636efa\", \"#EF553B\", \"#00cc96\", \"#ab63fa\", \"#FFA15A\", \"#19d3f3\", \"#FF6692\", \"#B6E880\", \"#FF97FF\", \"#FECB52\"], \"font\": {\"color\": \"#2a3f5f\"}, \"geo\": {\"bgcolor\": \"white\", \"lakecolor\": \"white\", \"landcolor\": \"#E5ECF6\", \"showlakes\": true, \"showland\": true, \"subunitcolor\": \"white\"}, \"hoverlabel\": {\"align\": \"left\"}, \"hovermode\": \"closest\", \"mapbox\": {\"style\": \"light\"}, \"paper_bgcolor\": \"white\", \"plot_bgcolor\": \"#E5ECF6\", \"polar\": {\"angularaxis\": {\"gridcolor\": \"white\", \"linecolor\": \"white\", \"ticks\": \"\"}, \"bgcolor\": \"#E5ECF6\", \"radialaxis\": {\"gridcolor\": \"white\", \"linecolor\": \"white\", \"ticks\": \"\"}}, \"scene\": {\"xaxis\": {\"backgroundcolor\": \"#E5ECF6\", \"gridcolor\": \"white\", \"gridwidth\": 2, \"linecolor\": \"white\", \"showbackground\": true, \"ticks\": \"\", \"zerolinecolor\": \"white\"}, \"yaxis\": {\"backgroundcolor\": \"#E5ECF6\", \"gridcolor\": \"white\", \"gridwidth\": 2, \"linecolor\": \"white\", \"showbackground\": true, \"ticks\": \"\", \"zerolinecolor\": \"white\"}, \"zaxis\": {\"backgroundcolor\": \"#E5ECF6\", \"gridcolor\": \"white\", \"gridwidth\": 2, \"linecolor\": \"white\", \"showbackground\": true, \"ticks\": \"\", \"zerolinecolor\": \"white\"}}, \"shapedefaults\": {\"line\": {\"color\": \"#2a3f5f\"}}, \"ternary\": {\"aaxis\": {\"gridcolor\": \"white\", \"linecolor\": \"white\", \"ticks\": \"\"}, \"baxis\": {\"gridcolor\": \"white\", \"linecolor\": \"white\", \"ticks\": \"\"}, \"bgcolor\": \"#E5ECF6\", \"caxis\": {\"gridcolor\": \"white\", \"linecolor\": \"white\", \"ticks\": \"\"}}, \"title\": {\"x\": 0.05}, \"xaxis\": {\"automargin\": true, \"gridcolor\": \"white\", \"linecolor\": \"white\", \"ticks\": \"\", \"title\": {\"standoff\": 15}, \"zerolinecolor\": \"white\", \"zerolinewidth\": 2}, \"yaxis\": {\"automargin\": true, \"gridcolor\": \"white\", \"linecolor\": \"white\", \"ticks\": \"\", \"title\": {\"standoff\": 15}, \"zerolinecolor\": \"white\", \"zerolinewidth\": 2}}}, \"title\": {\"text\": \"Housing type of Applicants with loan is repayed or not percentage\"}, \"xaxis\": {\"title\": {\"text\": \"Housing type\"}}, \"yaxis\": {\"title\": {\"text\": \"Percentage in applicants\"}}},                        {\"responsive\": true}                    ).then(function(){\n",
       "                            \n",
       "var gd = document.getElementById('d64d0f98-3f82-4507-bf86-e2c2d7b4a2ca');\n",
       "var x = new MutationObserver(function (mutations, observer) {{\n",
       "        var display = window.getComputedStyle(gd).display;\n",
       "        if (!display || display === 'none') {{\n",
       "            console.log([gd, 'removed!']);\n",
       "            Plotly.purge(gd);\n",
       "            observer.disconnect();\n",
       "        }}\n",
       "}});\n",
       "\n",
       "// Listen for the removal of the full notebook cells\n",
       "var notebookContainer = gd.closest('#notebook-container');\n",
       "if (notebookContainer) {{\n",
       "    x.observe(notebookContainer, {childList: true});\n",
       "}}\n",
       "\n",
       "// Listen for the clearing of the current output cell\n",
       "var outputEl = gd.closest('.output');\n",
       "if (outputEl) {{\n",
       "    x.observe(outputEl, {childList: true});\n",
       "}}\n",
       "\n",
       "                        })                };                });            </script>        </div>"
      ]
     },
     "metadata": {},
     "output_type": "display_data"
    }
   ],
   "source": [
    "income_val=application['NAME_HOUSING_TYPE'].value_counts()\n",
    "income_val_y0=[]\n",
    "income_val_y1=[]\n",
    "for val in income_val.index:\n",
    "    income_val_y1.append(np.sum(application['TARGET'][application['NAME_HOUSING_TYPE']==val]==1))\n",
    "    income_val_y0.append(np.sum(application['TARGET'][application['NAME_HOUSING_TYPE']==val]==0))\n",
    "data=[go.Bar(x=income_val.index,y=((income_val_y1/income_val.sum())*100),name='Not repayed'),\n",
    "      go.Bar(x=income_val.index,y=((income_val_y0/income_val.sum())*100),name='Repayed')]\n",
    "layout=go.Layout(title=\"Housing type of Applicants with loan is repayed or not percentage\",\n",
    "                 xaxis=dict(title='Housing type'),\n",
    "                 yaxis=dict(title='Percentage in applicants'))\n",
    "fig=go.Figure(data=data,layout=layout)\n",
    "py.iplot(fig)"
   ]
  },
  {
   "cell_type": "markdown",
   "metadata": {},
   "source": [
    "以下是通过绘制箱线图发现的异常值"
   ]
  },
  {
   "cell_type": "code",
   "execution_count": 11,
   "metadata": {},
   "outputs": [
    {
     "data": {
      "image/png": "[encoded data removed]",
      "text/plain": [
       "<Figure size 432x288 with 1 Axes>"
      ]
     },
     "metadata": {
      "needs_background": "light"
     },
     "output_type": "display_data"
    },
    {
     "data": {
      "image/png": "[encoded data removed]",
      "text/plain": [
       "<Figure size 432x288 with 1 Axes>"
      ]
     },
     "metadata": {
      "needs_background": "light"
     },
     "output_type": "display_data"
    },
    {
     "data": {
      "image/png": "[encoded data removed]",
      "text/plain": [
       "<Figure size 432x288 with 1 Axes>"
      ]
     },
     "metadata": {
      "needs_background": "light"
     },
     "output_type": "display_data"
    }
   ],
   "source": [
    "plt.boxplot(x =application['DAYS_EMPLOYED'] , \n",
    "         whis = 1.5,\n",
    "         widths = 0.7, \n",
    "         patch_artist = True, \n",
    "         showmeans = True,\n",
    "         boxprops = {'facecolor':'steelblue'}, \n",
    "         flierprops = {'markerfacecolor':'red', 'markeredgecolor':'red', 'markersize':4}, \n",
    "        meanprops = {'marker':'D','markerfacecolor':'black', 'markersize':4}, \n",
    "         medianprops = {'linestyle':'--','color':'orange'}, \n",
    "         labels = [''] \n",
    "         )\n",
    "plt.yscale('symlog')\n",
    "plt.show()\n",
    "\n",
    "plt.boxplot(x =application['DAYS_REGISTRATION'] , \n",
    "         whis = 1.5, \n",
    "         widths = 0.7, \n",
    "         patch_artist = True, \n",
    "         showmeans = True, \n",
    "         boxprops = {'facecolor':'steelblue'}, \n",
    "         flierprops = {'markerfacecolor':'red', 'markeredgecolor':'red', 'markersize':4}, \n",
    "        meanprops = {'marker':'D','markerfacecolor':'black', 'markersize':4}, \n",
    "         medianprops = {'linestyle':'--','color':'orange'}, \n",
    "         labels = [''] \n",
    "         )\n",
    "plt.yscale('symlog')\n",
    "plt.show()\n",
    "\n",
    "plt.boxplot(x =bureau['DAYS_CREDIT_UPDATE'] , \n",
    "         whis = 1.5, \n",
    "         widths = 0.7, \n",
    "         patch_artist = True, \n",
    "         showmeans = True, \n",
    "         boxprops = {'facecolor':'steelblue'}, \n",
    "         flierprops = {'markerfacecolor':'red', 'markeredgecolor':'red', 'markersize':4}, \n",
    "        meanprops = {'marker':'D','markerfacecolor':'black', 'markersize':4}, \n",
    "         medianprops = {'linestyle':'--','color':'orange'}, \n",
    "         labels = [''] \n",
    "         )\n",
    "plt.yscale('symlog')\n",
    "plt.show()"
   ]
  },
  {
   "cell_type": "markdown",
   "metadata": {},
   "source": [
    "**关键发现：**\n",
    " - 客群中主要以34到54的中年人为主，最年轻的客户是20岁，最年长的客户是69岁。\n",
    " - 学历为Secondary / secondary special的的客户占比最大，约有218391人，占总体72.68%,其次是Higher education款，占24.3%；占比最少的是Lower secondary和Academic degree，分别占总客户数的3.34%与1.24%。\n",
    " - 文凭在大学以及以上的客户未还款的概率明显低于文凭为初高中的客户，可以推知文凭与是否还款之间有明显相关关系\n",
    " - 相同文凭的男性和女性客户在信用额度分布上保持基本一致，说明性别与信用额度几乎无关。\n",
    " - 拥有车辆的客户有202924人，占比66%，未拥有车辆的客户占比34%。拥有房产的客户有213312人，占比69.4%，未拥有房产的客户占比30.6%。\n",
    " - 居住情况中住在House/apartment占大多数，占比88.72%，在House/apartment居住的客户中未还款的客户占总体客户比6.91%，还款客户占总体客户比例81.81%\n",
    " - 申请者的年收入中位数数量级为$10^5$，且收入数据中的异常值出现的频率是最多的。其中申请者的信用额度中位数数量级$10^6$，申请者年金的中位数数量级约为$10^4$。"
   ]
  },
  {
   "cell_type": "markdown",
   "metadata": {},
   "source": [
    "## **七、数据预处理**"
   ]
  },
  {
   "cell_type": "markdown",
   "metadata": {},
   "source": [
    "## （1）数据表合并\n",
    "\n",
    "**&#8195;&#8195;类别类型和数值类型的数据表的重构步骤基本相同，但类别类型的数据表首先需要分类变量转换为虚拟/指标变量,并选中所需类型的数据，然后利用python的更新规则实现了数据集的更新。随后两种类型的数据表的重构步骤都相同，我们先去除了数据表的原有分类标准，并依照我们选中的新的分类标准实现了重新分组,分别选出了两种类型的数据并求出了均值。接下来我们利用两张表中共有的数据将两张表中的数据进行合并,同时实现了对于列的筛选和重组。然后我们保留了左侧的数据并实现了更新，最后将缺失值都以0进行了填补。** \n",
    "\n",
    "![avatar](12.png)\n"
   ]
  },
  {
   "cell_type": "code",
   "execution_count": 12,
   "metadata": {},
   "outputs": [],
   "source": [
    "#结合数值类特征\n",
    "# 将按数值类别取均值的分组结果转化为dataframe对象\n",
    "grp=bureau.drop('SK_ID_BUREAU',axis=1).groupby(by='SK_ID_CURR').mean().reset_index()\n",
    "# 重新命名\n",
    "grp.columns=['BUREAU_'+column if column!='SK_ID_CURR'else column for column in grp.columns]\n",
    "# application和bureau表合并\n",
    "application_bureau=application.merge(grp,on='SK_ID_CURR',how='left')\n",
    "test=test.merge(grp,on='SK_ID_CURR',how='left')\n",
    "# 缺失值处理\n",
    "application_bureau.update(application_bureau[grp.columns].fillna(0))\n",
    "test.update(test[grp.columns].fillna(0))\n",
    "#结合分类特征\n",
    "bureau_categorical=pd.get_dummies(bureau.select_dtypes('object'))\n",
    "bureau_categorical['SK_ID_CURR']=bureau['SK_ID_CURR']\n",
    "grp=bureau_categorical.groupby(by='SK_ID_CURR').mean().reset_index()\n",
    "grp.columns=['BUREAU_'+column if column!='SK_ID_CURR'else column for column in  grp.columns]\n",
    "application_bureau=application_bureau.merge(grp,on='SK_ID_CURR',how='left')\n",
    "test=test.merge(grp,on='SK_ID_CURR',how='left')\n",
    "test.update(test[grp.columns].fillna(0))"
   ]
  },
  {
   "cell_type": "code",
   "execution_count": 13,
   "metadata": {},
   "outputs": [],
   "source": [
    "#结合数值型的特征\n",
    "grp=previous_application.drop('SK_ID_PREV',axis=1).groupby(by='SK_ID_CURR').mean().reset_index()\n",
    "prev_columns=['PREV_'+column if column!='SK_ID_CURR'else column for column in grp.columns]\n",
    "grp.columns=prev_columns\n",
    "application_bureau_prev=application_bureau.merge(grp,on=['SK_ID_CURR'],how='left')\n",
    "test=test.merge(grp,on=['SK_ID_CURR'],how='left')\n",
    "application_bureau_prev.update(application_bureau_prev[grp.columns].fillna(0))\n",
    "test.update(test[grp.columns].fillna(0))\n",
    "#结合类别特征\n",
    "prev_catgorical=pd.get_dummies(previous_application.select_dtypes('object'))\n",
    "prev_catgorical['SK_ID_CURR']=previous_application['SK_ID_CURR']\n",
    "grp=prev_catgorical.groupby('SK_ID_CURR').mean().reset_index()\n",
    "grp.columns=['PREV_'+column if column!='SK_ID_CURR'else column for column in grp.columns]\n",
    "application_bureau_prev=application_bureau_prev.merge(grp,on='SK_ID_CURR',how='left')\n",
    "application_bureau_prev.update(application_bureau_prev[grp.columns].fillna(0))\n",
    "test=test.merge(grp,on='SK_ID_CURR',how='left')\n",
    "test.update(test[grp.columns].fillna(0))"
   ]
  },
  {
   "cell_type": "code",
   "execution_count": 14,
   "metadata": {},
   "outputs": [],
   "source": [
    "#结合数值型的特征\n",
    "grp=pos_cash.drop('SK_ID_PREV',axis=1).groupby(by='SK_ID_CURR').mean().reset_index()\n",
    "prev_columns=['POS_'+column if column!='SK_ID_CURR'else column for column in grp.columns]\n",
    "grp.columns=prev_columns\n",
    "application_bureau_prev=application_bureau_prev.merge(grp,on=['SK_ID_CURR'],how='left')\n",
    "application_bureau_prev.update(application_bureau_prev[grp.columns].fillna(0))\n",
    "test=test.merge(grp,on=['SK_ID_CURR'],how='left')\n",
    "test.update(test[grp.columns].fillna(0))\n",
    "#结合类别特征\n",
    "pos_cash_catgorical=pd.get_dummies(pos_cash.select_dtypes('object'))\n",
    "pos_cash_catgorical['SK_ID_CURR']=previous_application['SK_ID_CURR']\n",
    "grp=pos_cash_catgorical.groupby('SK_ID_CURR').mean().reset_index()\n",
    "grp.columns=['POS_'+column if column!='SK_ID_CURR'else column for column in grp.columns]\n",
    "application_bureau_prev=application_bureau_prev.merge(grp,on='SK_ID_CURR',how='left')\n",
    "application_bureau_prev.update(application_bureau_prev[grp.columns].fillna(0))  \n",
    "test=test.merge(grp,on=['SK_ID_CURR'],how='left')\n",
    "test.update(test[grp.columns].fillna(0))"
   ]
  },
  {
   "cell_type": "code",
   "execution_count": 15,
   "metadata": {},
   "outputs": [],
   "source": [
    "#结合数值型的特征\n",
    "grp=insta_payments.drop('SK_ID_PREV',axis=1).groupby(by='SK_ID_CURR').mean().reset_index()\n",
    "prev_columns=['INSTA_'+column if column!='SK_ID_CURR'else column for column in grp.columns]\n",
    "grp.columns=prev_columns\n",
    "application_bureau_prev=application_bureau_prev.merge(grp,on=['SK_ID_CURR'],how='left')\n",
    "application_bureau_prev.update(application_bureau_prev[grp.columns].fillna(0))\n",
    "test=test.merge(grp,on=['SK_ID_CURR'],how='left')\n",
    "test.update(test[grp.columns].fillna(0))"
   ]
  },
  {
   "cell_type": "code",
   "execution_count": 16,
   "metadata": {},
   "outputs": [],
   "source": [
    "#结合数值型的特征\n",
    "grp=credit_card.drop('SK_ID_PREV',axis=1).groupby(by='SK_ID_CURR').mean().reset_index()\n",
    "prev_columns=['CREDIT_'+column if column!='SK_ID_CURR'else column for column in grp.columns]\n",
    "grp.columns=prev_columns\n",
    "application_bureau_prev=application_bureau_prev.merge(grp,on=['SK_ID_CURR'],how='left')\n",
    "application_bureau_prev.update(application_bureau_prev[grp.columns].fillna(0))\n",
    "test=test.merge(grp,on=['SK_ID_CURR'],how='left')\n",
    "test.update(test[grp.columns].fillna(0))\n",
    "#结合类别特征\n",
    "credit_catgorical=pd.get_dummies(credit_card.select_dtypes('object'))\n",
    "credit_catgorical['SK_ID_CURR']=credit_card['SK_ID_CURR']\n",
    "grp=credit_catgorical.groupby('SK_ID_CURR').mean().reset_index()\n",
    "grp.columns=['CrREDIT_'+column if column!='SK_ID_CURR'else column for column in grp.columns]\n",
    "application_bureau_prev=application_bureau_prev.merge(grp,on='SK_ID_CURR',how='left')\n",
    "application_bureau_prev.update(application_bureau_prev[grp.columns].fillna(0))  \n",
    "test=test.merge(grp,on=['SK_ID_CURR'],how='left')\n",
    "test.update(test[grp.columns].fillna(0))"
   ]
  },
  {
   "cell_type": "markdown",
   "metadata": {},
   "source": [
    "## （2）缺失值处理 "
   ]
  },
  {
   "cell_type": "code",
   "execution_count": 17,
   "metadata": {},
   "outputs": [],
   "source": [
    "y=application_bureau_prev.pop('TARGET').values\n",
    "id_train=application_bureau_prev['SK_ID_CURR']\n",
    "id_test=test['SK_ID_CURR']\n",
    "application_bureau_prev=application_bureau_prev.drop(['SK_ID_CURR'],axis=1)\n",
    "test=test.drop(['SK_ID_CURR'],axis=1)\n",
    "#将特征分成数值和类别特征\n",
    "types=np.array([dt for dt in application_bureau_prev.dtypes])\n",
    "all_columns=application_bureau_prev.columns.values\n",
    "is_num=types!='object'\n",
    "num_cols=all_columns[is_num]\n",
    "cat_cols=all_columns[~is_num]\n",
    "#处理数值特征缺失值——取中位数\n",
    "imputer_num=SimpleImputer(strategy='median')\n",
    "data_num=imputer_num.fit_transform(application_bureau_prev[num_cols])\n",
    "test_num=imputer_num.transform(test[num_cols])\n",
    "scaler_num=StandardScaler()\n",
    "data_num1=scaler_num.fit_transform(data_num)\n",
    "test_num1=scaler_num.transform(test_num)\n",
    "data_num_final=pd.DataFrame(data_num1,columns=num_cols)\n",
    "test_num_final=pd.DataFrame(test_num1,columns=num_cols)\n",
    "#处理类别特征——增加MISSING类\n",
    "imputer_cat=SimpleImputer(strategy='constant',fill_value='MISSING')\n",
    "data_cat=imputer_cat.fit_transform(application_bureau_prev[cat_cols])\n",
    "data_cat1=pd.DataFrame(data_cat,columns=cat_cols)\n",
    "test_cat=imputer_cat.transform(test[cat_cols])\n",
    "test_cat1=pd.DataFrame(test_cat,columns=cat_cols)\n",
    "application_bureau_prev=pd.concat([data_num_final,data_cat1,id_train],axis=1)\n",
    "test=pd.concat([test_num_final,test_cat1,id_test],axis=1)"
   ]
  },
  {
   "cell_type": "markdown",
   "metadata": {},
   "source": [
    "## （3）异常值处理 "
   ]
  },
  {
   "cell_type": "code",
   "execution_count": 18,
   "metadata": {},
   "outputs": [],
   "source": [
    "def wiebitte1(x):\n",
    "    if x >0 or x<-10000: \n",
    "        return -2436\n",
    "    else :\n",
    "        return x"
   ]
  },
  {
   "cell_type": "code",
   "execution_count": 19,
   "metadata": {},
   "outputs": [],
   "source": [
    "application_bureau_prev['DAYS_EMPLOYED'] = application_bureau_prev['DAYS_EMPLOYED'].apply(lambda x:wiebitte1(x))\n",
    "test['DAYS_EMPLOYED'] = test['DAYS_EMPLOYED'].apply(lambda x:wiebitte1(x))"
   ]
  },
  {
   "cell_type": "code",
   "execution_count": 20,
   "metadata": {},
   "outputs": [],
   "source": [
    "def wiebitte2(x):\n",
    "    if x < -15000: \n",
    "        return -4536\n",
    "    else :\n",
    "        return x"
   ]
  },
  {
   "cell_type": "code",
   "execution_count": 21,
   "metadata": {},
   "outputs": [],
   "source": [
    "application_bureau_prev['DAYS_REGISTRATION'] = application_bureau_prev['DAYS_REGISTRATION'].apply(lambda x:wiebitte2(x))\n",
    "test['DAYS_REGISTRATION'] = test['DAYS_REGISTRATION'].apply(lambda x:wiebitte2(x))"
   ]
  },
  {
   "cell_type": "code",
   "execution_count": 22,
   "metadata": {},
   "outputs": [],
   "source": [
    "def wiebitte3(x):\n",
    "    if x < -10000 or x>0:\n",
    "        return -382\n",
    "    else :\n",
    "        return x"
   ]
  },
  {
   "cell_type": "code",
   "execution_count": 23,
   "metadata": {},
   "outputs": [],
   "source": [
    "application_bureau_prev['BUREAU_DAYS_CREDIT_UPDATE'] = application_bureau_prev['BUREAU_DAYS_CREDIT_UPDATE'].apply(lambda x:wiebitte3(x))\n",
    "test['BUREAU_DAYS_CREDIT_UPDATE'] = test['BUREAU_DAYS_CREDIT_UPDATE'].apply(lambda x:wiebitte3(x))"
   ]
  },
  {
   "cell_type": "markdown",
   "metadata": {},
   "source": [
    "## （5）特征构造 "
   ]
  },
  {
   "cell_type": "markdown",
   "metadata": {},
   "source": [
    "![](55.png)"
   ]
  },
  {
   "cell_type": "code",
   "execution_count": 24,
   "metadata": {},
   "outputs": [],
   "source": [
    "#家庭情况\n",
    "\n",
    "#将客户总收入除以家庭中孩子的个数，计算总收入分摊至每个孩子上的情况\n",
    "application_bureau_prev['AMT_TOTAL/CNT_CHILDREN_ratio']=np.log1p(application_bureau_prev['AMT_INCOME_TOTAL'])/(application_bureau_prev['CNT_CHILDREN']+1)\n",
    "application_bureau_prev['NEW_INC_PER_CHID']=application_bureau_prev['AMT_INCOME_TOTAL']/(application_bureau_prev['CNT_CHILDREN']+1)\n",
    "#总收入除以家庭成员人数\n",
    "application_bureau_prev['AMT_INCOME_TOTAL_&_CNT_FAM_MEMBERS_ratio']=application_bureau_prev['AMT_INCOME_TOTAL']/(1+application_bureau_prev['CNT_FAM_MEMBERS'])\n",
    "#总收入和家庭成年成员的人数的比率\n",
    "application_bureau_prev['AMT_INCOME_TOTAL_&_other_family_count_ratio']=application_bureau_prev['AMT_INCOME_TOTAL']/(application_bureau_prev['CNT_FAM_MEMBERS']-application_bureau_prev['CNT_CHILDREN'])\n",
    "#总收入除以孩子人数\n",
    "application_bureau_prev['AMT_TOTAL/CNT_CHILDREN_ratio']=np.log1p(application_bureau_prev['AMT_INCOME_TOTAL'])/(application_bureau_prev['CNT_CHILDREN']+1)\n",
    "application_bureau_prev['NEW_INC_PER_CHID']=application_bureau_prev['AMT_INCOME_TOTAL']/(application_bureau_prev['CNT_CHILDREN']+1)\n",
    "#成人个数\n",
    "application_bureau_prev['other_family_count']=application_bureau_prev['CNT_FAM_MEMBERS']-application_bureau_prev['CNT_CHILDREN']\n",
    "#家庭中成员数量减去孩子数量\n",
    "application_bureau_prev['other_family_count']=application_bureau_prev['CNT_FAM_MEMBERS']-application_bureau_prev['CNT_CHILDREN']\n",
    "#分摊到家庭成员上的信贷额度\n",
    "application_bureau_prev['AMT_CREDIT_&_CNT_FAM_MEMBERS_ratio']=application_bureau_prev['AMT_CREDIT']/application_bureau_prev['CNT_FAM_MEMBERS']\n",
    "#分摊到家庭成员上的年金\n",
    "application_bureau_prev['AMT_ANNUITY_&_CNT_FAM_MEMBERS_ratio']=application_bureau_prev['AMT_ANNUITY']/application_bureau_prev['CNT_FAM_MEMBERS']\n",
    "#总收入除以成人人数\n",
    "application_bureau_prev['other_family_count']=application_bureau_prev['CNT_FAM_MEMBERS']-application_bureau_prev['CNT_CHILDREN']\n",
    "application_bureau_prev['AMT_TOTAL/CNT_other_family']=np.log1p(application_bureau_prev['AMT_INCOME_TOTAL'])/(application_bureau_prev['other_family_count']+1)\n",
    "application_bureau_prev['NEW_INC_PER_ADULTS']=application_bureau_prev['AMT_INCOME_TOTAL']/(application_bureau_prev['other_family_count']+1)\n",
    "#分摊到成人身上的信贷额度\n",
    "application_bureau_prev['AMT_CREDIT_&_CNT_FAM_MEMBERS_ratio']=application_bureau_prev['AMT_CREDIT']/application_bureau_prev['other_family_count']\n",
    "#分摊到孩子上的信贷额度\n",
    "application_bureau_prev['AMT_CREDIT_&_CNT_CHILDREN_ratio']=application_bureau_prev['AMT_CREDIT']/application_bureau_prev['CNT_CHILDREN']\n",
    "#分摊到家庭成员上的信贷额度\n",
    "application_bureau_prev['AMT_CREDIT_&_CNT_FAM_MEMBERS_ratio']=application_bureau_prev['AMT_CREDIT']/application_bureau_prev['CNT_FAM_MEMBERS']\n",
    "\n",
    "test['AMT_TOTAL/CNT_CHILDREN_ratio']=np.log1p(test['AMT_INCOME_TOTAL'])/(test['CNT_CHILDREN']+1)\n",
    "test['NEW_INC_PER_CHID']=test['AMT_INCOME_TOTAL']/(test['CNT_CHILDREN']+1)\n",
    "test['AMT_INCOME_TOTAL_&_CNT_FAM_MEMBERS_ratio']=test['AMT_INCOME_TOTAL']/(1+test['CNT_FAM_MEMBERS'])\n",
    "test['AMT_INCOME_TOTAL_&_other_family_count_ratio']=test['AMT_INCOME_TOTAL']/(test['CNT_FAM_MEMBERS']-test['CNT_CHILDREN'])\n",
    "test['AMT_TOTAL/CNT_CHILDREN_ratio']=np.log1p(test['AMT_INCOME_TOTAL'])/(test['CNT_CHILDREN']+1)\n",
    "test['NEW_INC_PER_CHID']=test['AMT_INCOME_TOTAL']/(test['CNT_CHILDREN']+1)\n",
    "test['other_family_count']=test['CNT_FAM_MEMBERS']-test['CNT_CHILDREN']\n",
    "test['other_family_count']=test['CNT_FAM_MEMBERS']-test['CNT_CHILDREN']\n",
    "test['AMT_CREDIT_&_CNT_FAM_MEMBERS_ratio']=test['AMT_CREDIT']/test['CNT_FAM_MEMBERS']\n",
    "test['AMT_ANNUITY_&_CNT_FAM_MEMBERS_ratio']=test['AMT_ANNUITY']/test['CNT_FAM_MEMBERS']\n",
    "test['other_family_count']=test['CNT_FAM_MEMBERS']-test['CNT_CHILDREN']\n",
    "test['AMT_TOTAL/CNT_other_family']=np.log1p(test['AMT_INCOME_TOTAL'])/(test['other_family_count']+1)\n",
    "test['NEW_INC_PER_ADULTS']=test['AMT_INCOME_TOTAL']/(test['other_family_count']+1)\n",
    "test['AMT_CREDIT_&_CNT_FAM_MEMBERS_ratio']=test['AMT_CREDIT']/test['other_family_count']\n",
    "test['AMT_CREDIT_&_CNT_CHILDREN_ratio']=test['AMT_CREDIT']/test['CNT_CHILDREN']\n",
    "test['AMT_CREDIT_&_CNT_FAM_MEMBERS_ratio']=test['AMT_CREDIT']/test['CNT_FAM_MEMBERS']\n"
   ]
  },
  {
   "cell_type": "code",
   "execution_count": 25,
   "metadata": {},
   "outputs": [],
   "source": [
    "#个人情况\n",
    "\n",
    "#何时开始工作\n",
    "application_bureau_prev['DAY_BIRTH_&_DAYS_EMPLOYED_diff']=application_bureau_prev['DAYS_BIRTH']-application_bureau_prev['DAYS_EMPLOYED']\n",
    "#将客户工作时间减去出生时间即得开始工作的时间\n",
    "application_bureau_prev['DAY_BIRTH_&_DAYS_EMPLOYED_diff']=application_bureau_prev['DAYS_BIRTH']-application_bureau_prev['DAYS_EMPLOYED']\n",
    "#何时更改注册\n",
    "application_bureau_prev['DAY_BIRTH_&_DAYS_REGISTRATION_diff']=application_bureau_prev['DAYS_BIRTH']-application_bureau_prev['DAYS_REGISTRATION']\n",
    "#何时更改身份文件\n",
    "application_bureau_prev['DAY_BIRTH_&_DAYS_ID_PUBLISH_diff']=application_bureau_prev['DAYS_BIRTH']-application_bureau_prev['DAYS_ID_PUBLISH']\n",
    "#何时改变电话号码\n",
    "application_bureau_prev['DAY_BIRTH_&_DAYS_LAST_PHONE_CHANGE_diff']=application_bureau_prev['DAYS_BIRTH']-application_bureau_prev['DAYS_LAST_PHONE_CHANGE']\n",
    "#何时拥有车\n",
    "application_bureau_prev['DAY_BIRTH_&_OWN_CAR_AGE_diff']=application_bureau_prev['DAYS_BIRTH']-application_bureau_prev['OWN_CAR_AGE']*365#将客户总收入除以家庭中孩子的个数，计算总收入分摊至每个孩子上的情况\n",
    "application_bureau_prev['AMT_TOTAL/CNT_CHILDREN_ratio']=np.log1p(application_bureau_prev['AMT_INCOME_TOTAL'])/(application_bureau_prev['CNT_CHILDREN']+1)\n",
    "application_bureau_prev['NEW_INC_PER_CHID']=application_bureau_prev['AMT_INCOME_TOTAL']/(application_bureau_prev['CNT_CHILDREN']+1)\n",
    "\n",
    "test['DAY_BIRTH_&_DAYS_EMPLOYED_diff']= test['DAYS_BIRTH']- test['DAYS_EMPLOYED']\n",
    "test['DAY_BIRTH_&_DAYS_EMPLOYED_diff']= test['DAYS_BIRTH']- test['DAYS_EMPLOYED']\n",
    "test['DAY_BIRTH_&_DAYS_REGISTRATION_diff']= test['DAYS_BIRTH']- test['DAYS_REGISTRATION']\n",
    "test['DAY_BIRTH_&_DAYS_ID_PUBLISH_diff']= test['DAYS_BIRTH']- test['DAYS_ID_PUBLISH']\n",
    "test['DAY_BIRTH_&_DAYS_LAST_PHONE_CHANGE_diff']= test['DAYS_BIRTH']- test['DAYS_LAST_PHONE_CHANGE']\n",
    "test['DAY_BIRTH_&_OWN_CAR_AGE_diff']= test['DAYS_BIRTH']- test['OWN_CAR_AGE']*365#将客户总收入除以家庭中孩子的个数，计算总收入分摊至每个孩子上的情况\n",
    "test['AMT_TOTAL/CNT_CHILDREN_ratio']=np.log1p( test['AMT_INCOME_TOTAL'])/( test['CNT_CHILDREN']+1)\n",
    "test['NEW_INC_PER_CHID']= test['AMT_INCOME_TOTAL']/( test['CNT_CHILDREN']+1)"
   ]
  },
  {
   "cell_type": "code",
   "execution_count": 26,
   "metadata": {},
   "outputs": [],
   "source": [
    "#贷款经历\n",
    "\n",
    "#以往贷款的数量，在bureau表中查找客户以往贷款次数并进行拼接统计客户以往贷款数量，同时补充缺失值\n",
    "grp=bureau.groupby(by='SK_ID_CURR')['SK_ID_BUREAU'].count().reset_index().rename(columns={'SK_ID_BUREAU':'BUREAU_LOAN_COUNT'})\n",
    "application_bureau_prev=application_bureau_prev.merge(grp,on='SK_ID_CURR',how='left')\n",
    "application_bureau_prev['BUREAU_LOAN_COUNT']=application_bureau_prev['BUREAU_LOAN_COUNT'].fillna(0)\n",
    "test= test.merge(grp,on='SK_ID_CURR',how='left')\n",
    "test['BUREAU_LOAN_COUNT']= test['BUREAU_LOAN_COUNT'].fillna(0)\n",
    "#以往贷款种类的数量\n",
    "grp=bureau[['SK_ID_CURR','CREDIT_TYPE']].groupby(by='SK_ID_CURR')['CREDIT_TYPE'].nunique().reset_index().rename(columns={'CREDIT_TYPE':'BUREAU_LOAN_TYPES'})\n",
    "application_bureau_prev=application_bureau_prev.merge(grp,on='SK_ID_CURR',how='left')\n",
    "application_bureau_prev['BUREAU_LOAN_TYPES']=application_bureau_prev['BUREAU_LOAN_TYPES'].fillna(0)\n",
    "test= test.merge(grp,on='SK_ID_CURR',how='left')\n",
    "test['BUREAU_LOAN_TYPES']= test['BUREAU_LOAN_TYPES'].fillna(0)\n",
    "#以往贷款的申请次数\n",
    "grp=previous_application[['SK_ID_CURR','SK_ID_PREV']].groupby(by='SK_ID_CURR')['SK_ID_PREV'].count().reset_index().rename(columns={'SK_ID_PREV':'PREV_APP_COUNT'})\n",
    "application_bureau_prev=application_bureau_prev.merge(grp,on='SK_ID_CURR',how='left')\n",
    "application_bureau_prev['PREV_APP_COUNT']=application_bureau_prev['PREV_APP_COUNT'].fillna(0)\n",
    "test= test.merge(grp,on='SK_ID_CURR',how='left')\n",
    "test['PREV_APP_COUNT']= test['PREV_APP_COUNT'].fillna(0)"
   ]
  },
  {
   "cell_type": "code",
   "execution_count": 27,
   "metadata": {},
   "outputs": [],
   "source": [
    "#客户贷款情况\n",
    "\n",
    "#目前负债占信用额度的比率，在bureau表中统计加总客户以往所有负债和现信用额度，再将负债除以信用额度得出负债在信用额度中的占比\n",
    "grp1=bureau[['SK_ID_CURR','AMT_CREDIT_SUM']].groupby(by='SK_ID_CURR')['AMT_CREDIT_SUM'].sum().reset_index().rename(columns={'AMT_CREDIT_SUM':'TOTAL_CREDIT_SUM'})\n",
    "grp2=bureau[['SK_ID_CURR','AMT_CREDIT_SUM_DEBT']].groupby(by='SK_ID_CURR')['AMT_CREDIT_SUM_DEBT'].sum().reset_index().rename(columns={'AMT_CREDIT_SUM_DEBT':'TOTAL_CREDIT_SUM_DEBT'})\n",
    "grp1['DEBT_CREDIT_RATIO']=grp2['TOTAL_CREDIT_SUM_DEBT']/grp1['TOTAL_CREDIT_SUM']\n",
    "del grp1['TOTAL_CREDIT_SUM']\n",
    "application_bureau_prev=application_bureau_prev.merge(grp1,on='SK_ID_CURR',how='left')\n",
    "application_bureau_prev['DEBT_CREDIT_RATIO']=application_bureau_prev['DEBT_CREDIT_RATIO'].fillna(0)\n",
    "application_bureau_prev['DEBT_CREDIT_RATIO']=application_bureau_prev.replace([np.inf,-np.inf],0)\n",
    "application_bureau_prev['DEBT_CREDIT_RATIO']=pd.to_numeric(application_bureau_prev['DEBT_CREDIT_RATIO'],downcast='float')\n",
    "test=test.merge(grp1,on='SK_ID_CURR',how='left')\n",
    "test['DEBT_CREDIT_RATIO']=test['DEBT_CREDIT_RATIO'].fillna(0)\n",
    "test['DEBT_CREDIT_RATIO']=test.replace([np.inf,-np.inf],0)\n",
    "test['DEBT_CREDIT_RATIO']=pd.to_numeric(test['DEBT_CREDIT_RATIO'],downcast='float')\n",
    "\n",
    "#逾期金额占负债的比率\n",
    "grp1=bureau[['SK_ID_CURR','AMT_CREDIT_SUM_OVERDUE']].groupby(by='SK_ID_CURR')['AMT_CREDIT_SUM_OVERDUE'].sum().reset_index().rename(columns={'AMT_CREDIT_SUM_OVERDUE':'TOTAL_CUSTOMER_OVERDUE'})\n",
    "grp2=bureau[['SK_ID_CURR','AMT_CREDIT_SUM_DEBT']].groupby(by='SK_ID_CURR')['AMT_CREDIT_SUM_DEBT'].sum().reset_index().rename(columns={'AMT_CREDIT_SUM_DEBT':'TOTAL_CUSTOMER_DEBT'})\n",
    "grp1['OVERDUE_DEBT_RATIO']=grp1['TOTAL_CUSTOMER_OVERDUE']/grp2['TOTAL_CUSTOMER_DEBT']\n",
    "del grp1['TOTAL_CUSTOMER_OVERDUE']\n",
    "application_bureau_prev=application_bureau_prev.merge(grp1,on='SK_ID_CURR',how='left')\n",
    "application_bureau_prev['OVERDUE_DEBT_RATIO']=application_bureau_prev['OVERDUE_DEBT_RATIO'].fillna(0)\n",
    "application_bureau_prev['OVERDUE_DEBT_RATIO']=application_bureau_prev.replace([np.inf,-np.inf],0)\n",
    "application_bureau_prev['OVERDUE_DEBT_RATIO']=pd.to_numeric(application_bureau_prev['OVERDUE_DEBT_RATIO'],downcast='float')\n",
    "test=test.merge(grp1,on='SK_ID_CURR',how='left')\n",
    "test['OVERDUE_DEBT_RATIO']=test['OVERDUE_DEBT_RATIO'].fillna(0)\n",
    "test['OVERDUE_DEBT_RATIO']=test.replace([np.inf,-np.inf],0)\n",
    "test['OVERDUE_DEBT_RATIO']=pd.to_numeric(test['OVERDUE_DEBT_RATIO'],downcast='float')\n",
    "#信贷额度对收入的比率，构造信用额度占收入比率将信用额度除客户总收入\n",
    "application_bureau_prev['CREDIT_INCOME_PERCENT']=application_bureau_prev['AMT_CREDIT']/application_bureau_prev['AMT_INCOME_TOTAL']\n",
    "#信贷额度对货品价格的比率\n",
    "application_bureau_prev['AMT_CREDIT&AMT_GOODS_PRICE_ratio']=application_bureau_prev['AMT_CREDIT']/application_bureau_prev['AMT_GOODS_PRICE']\n",
    "#贷款年金对收入的比率\n",
    "application_bureau_prev['ANNUITY_INCOME_PERCENT']=application_bureau_prev['AMT_ANNUITY']/application_bureau_prev['AMT_INCOME_TOTAL']\n",
    "#贷款年金对信贷额度的比率\n",
    "application_bureau_prev['ANNUITY_CREDIT_PERCENT']=application_bureau_prev['AMT_ANNUITY']/application_bureau_prev['AMT_CREDIT']\n",
    "#总收入对货品价格的比率\n",
    "application_bureau_prev['AMT_INCOME_TOTAL&AMT_ANNUITY_ratio']=application_bureau_prev['AMT_INCOME_TOTAL']/application_bureau_prev['AMT_GOODS_PRICE']\n",
    "#贷款年金对货品价格的比率\n",
    "application_bureau_prev['AMT_ANNUITY_&_AMT_GOODS_PRICE_ratio']=application_bureau_prev['AMT_ANNUITY']/application_bureau_prev['AMT_GOODS_PRICE']\n",
    "#还款周期（将贷款年金除以客户总收入）\n",
    "application_bureau_prev['CREDIT_TERM']=application_bureau_prev['AMT_ANNUITY']/application_bureau_prev['AMT_INCOME_TOTAL']\n",
    "#总收入与还款周期的比率\n",
    "application_bureau_prev['CREDIT_TERM']=application_bureau_prev['AMT_ANNUITY']/application_bureau_prev['AMT_INCOME_TOTAL']\n",
    "application_bureau_prev['INCOME_CREDIT_TERM_ratio']=application_bureau_prev['AMT_INCOME_TOTAL']/application_bureau_prev['CREDIT_TERM']\n",
    "#用于支付先前信用的分期付款占总收入的比值\n",
    "application_bureau_prev['CNT_INSTALMENT_FUTURE_&_AMT_INCOME_TOTAL_ratio']=application_bureau_prev['POS_CNT_INSTALMENT_FUTURE']/application_bureau_prev['AMT_INCOME_TOTAL']\n",
    "#客户申请贷款的时间和所贷金额的比例\n",
    "application_bureau_prev['HOUR_APPR_PROCESS_START_&_AMT_CREDIT_ratio']=application_bureau_prev['HOUR_APPR_PROCESS_START']/application_bureau_prev['AMT_CREDIT']\n",
    "test['CREDIT_INCOME_PERCENT']=test['AMT_CREDIT']/test['AMT_INCOME_TOTAL']\n",
    "test['AMT_CREDIT&AMT_GOODS_PRICE_ratio']=test['AMT_CREDIT']/test['AMT_GOODS_PRICE']\n",
    "test['ANNUITY_INCOME_PERCENT']=test['AMT_ANNUITY']/test['AMT_INCOME_TOTAL']\n",
    "test['ANNUITY_CREDIT_PERCENT']=test['AMT_ANNUITY']/test['AMT_CREDIT']\n",
    "test['AMT_INCOME_TOTAL&AMT_ANNUITY_ratio']=test['AMT_INCOME_TOTAL']/test['AMT_GOODS_PRICE']\n",
    "test['AMT_ANNUITY_&_AMT_GOODS_PRICE_ratio']=test['AMT_ANNUITY']/test['AMT_GOODS_PRICE']\n",
    "test['CREDIT_TERM']=test['AMT_ANNUITY']/test['AMT_INCOME_TOTAL']\n",
    "test['CREDIT_TERM']=test['AMT_ANNUITY']/test['AMT_INCOME_TOTAL']\n",
    "test['INCOME_CREDIT_TERM_ratio']=test['AMT_INCOME_TOTAL']/test['CREDIT_TERM']\n",
    "test['CNT_INSTALMENT_FUTURE_&_AMT_INCOME_TOTAL_ratio']=test['POS_CNT_INSTALMENT_FUTURE']/test['AMT_INCOME_TOTAL']\n",
    "test['HOUR_APPR_PROCESS_START_&_AMT_CREDIT_ratio']=test['HOUR_APPR_PROCESS_START']/test['AMT_CREDIT']"
   ]
  },
  {
   "cell_type": "code",
   "execution_count": 28,
   "metadata": {},
   "outputs": [],
   "source": [
    "#客户违约情况\n",
    "\n",
    "#目前违约金额占总收入比率\n",
    "application_bureau_prev['INCOME_&OVERDUE']=application_bureau_prev['AMT_INCOME_TOTAL']/(application_bureau_prev['BUREAU_AMT_CREDIT_SUM_OVERDUE']+0.0001)\n",
    "#上一笔贷款分期付款逾期时间\n",
    "application_bureau_prev['OVERDUE_DAY']=application_bureau_prev['INSTA_DAYS_INSTALMENT']-application_bureau_prev['INSTA_DAYS_ENTRY_PAYMENT']\n",
    "#周围有30天违约的情况没有60天违约的情况，判断表中30天违约栏值是否大于60天违约来统计周围有30天违约的情况没有60天违约的情况\n",
    "application_bureau_prev['OBS_30_NOT_OBS_60']=application_bureau_prev['OBS_30_CNT_SOCIAL_CIRCLE']>application_bureau_prev['OBS_60_CNT_SOCIAL_CIRCLE']\n",
    "#周围有30天违约的情况而不是在第30天违约的情况\n",
    "application_bureau_prev['OBS_30_NOT_DEF_30']=application_bureau_prev['OBS_30_CNT_SOCIAL_CIRCLE']>application_bureau_prev['DEF_30_CNT_SOCIAL_CIRCLE']\n",
    "#周围有60天违约的情况而不是在第60天违约的情况\n",
    "application_bureau_prev['OBS_60_NOT_DEF_60']=application_bureau_prev['OBS_60_CNT_SOCIAL_CIRCLE']>application_bureau_prev['DEF_60_CNT_SOCIAL_CIRCLE']\n",
    "#在可观察的逾期30天内，观察到的客户违约占总的比例\n",
    "application_bureau_prev['DEF_30_CNT_SOCIAL_CIRCLE_&_OBS_30_CNT_SOCIAL_CIRCLE_ratio']=application_bureau_prev['DEF_30_CNT_SOCIAL_CIRCLE']/application_bureau_prev['OBS_30_CNT_SOCIAL_CIRCLE']\n",
    "#在可观察的逾期60天内，观察到的客户违约占总的比例\n",
    "application_bureau_prev['DEF_60_CNT_SOCIAL_CIRCLE_&_OBS_60_CNT_SOCIAL_CIRCLE_ratio']=application_bureau_prev['DEF_60_CNT_SOCIAL_CIRCLE']/application_bureau_prev['OBS_60_CNT_SOCIAL_CIRCLE']\n",
    "\n",
    "test['INCOME_&OVERDUE']=test['AMT_INCOME_TOTAL']/(test['BUREAU_AMT_CREDIT_SUM_OVERDUE']+0.0001)\n",
    "test['OVERDUE_DAY']=test['INSTA_DAYS_INSTALMENT']-test['INSTA_DAYS_ENTRY_PAYMENT']\n",
    "test['OBS_30_NOT_OBS_60']=test['OBS_30_CNT_SOCIAL_CIRCLE']>test['OBS_60_CNT_SOCIAL_CIRCLE']\n",
    "test['OBS_30_NOT_DEF_30']=test['OBS_30_CNT_SOCIAL_CIRCLE']>test['DEF_30_CNT_SOCIAL_CIRCLE']\n",
    "test['OBS_60_NOT_DEF_60']=test['OBS_60_CNT_SOCIAL_CIRCLE']>test['DEF_60_CNT_SOCIAL_CIRCLE']\n",
    "test['DEF_30_CNT_SOCIAL_CIRCLE_&_OBS_30_CNT_SOCIAL_CIRCLE_ratio']=test['DEF_30_CNT_SOCIAL_CIRCLE']/test['OBS_30_CNT_SOCIAL_CIRCLE']\n",
    "test['DEF_60_CNT_SOCIAL_CIRCLE_&_OBS_60_CNT_SOCIAL_CIRCLE_ratio']=test['DEF_60_CNT_SOCIAL_CIRCLE']/test['OBS_60_CNT_SOCIAL_CIRCLE']\n"
   ]
  },
  {
   "cell_type": "code",
   "execution_count": 29,
   "metadata": {},
   "outputs": [],
   "source": [
    "#客户个人情况\n",
    "\n",
    "#工作年限，将工作开始时间除年天数得工作开始年份\n",
    "application_bureau_prev['DAY_BIRTH_&_DAYS_EMPLOYED_diff_year']=(application_bureau_prev['DAYS_BIRTH']-application_bureau_prev['DAYS_EMPLOYED'])/365\n",
    "#申请者的工作总收入\n",
    "application_bureau_prev['TOTAL_INCOME']=(-application_bureau_prev['DAYS_EMPLOYED'])*(application_bureau_prev['AMT_INCOME_TOTAL']/365)\n",
    "#申请者是否同时拥有移动电话，家庭电话，Email，工作电话等，通过表中统计拥有移动电话，家庭电话，Email，工作电话相应列值数的加总情况来判断\n",
    "application_bureau_prev['CONTACT_DETAILS_FLAG_ONE']=application_bureau_prev['FLAG_MOBIL']+application_bureau_prev['FLAG_EMP_PHONE']+application_bureau_prev['FLAG_WORK_PHONE']\n",
    "application_bureau_prev['CONTACT_DETAILS_FLAG_TWO']=(application_bureau_prev['FLAG_CONT_MOBILE']+application_bureau_prev['FLAG_PHONE']+application_bureau_prev['FLAG_EMAIL'])\n",
    "application_bureau_prev['CONTACT_DETAILS_FLAG']=(application_bureau_prev['CONTACT_DETAILS_FLAG_ONE']+application_bureau_prev['CONTACT_DETAILS_FLAG_TWO'])>5\n",
    "#如果申请者的三个地址不匹配,即永久地址，联系地址，工作地址三个地址不匹配\n",
    "application_bureau_prev['THREE_ADDRESS_FLAG']=(application_bureau_prev['REG_REGION_NOT_LIVE_REGION']+application_bureau_prev['REG_REGION_NOT_WORK_REGION'])<1\n",
    "#在地区级别上客户的常驻地址和工作地址以及联系地址均匹配\n",
    "application_bureau_prev['reg_live_work_regionmatch']=application_bureau_prev['REG_REGION_NOT_LIVE_REGION']+application_bureau_prev['REG_REGION_NOT_WORK_REGION']+application_bureau_prev['LIVE_REGION_NOT_WORK_REGION']==0\n",
    "#在城市级别上客户的常驻地址和工作地址以及联系地址均匹配\n",
    "application_bureau_prev['reg_live_work_citymatch']=application_bureau_prev['REG_CITY_NOT_LIVE_CITY']+application_bureau_prev['REG_CITY_NOT_WORK_CITY']+application_bureau_prev['LIVE_CITY_NOT_WORK_CITY']==0\n",
    "#总收入对工作年限的比值\n",
    "application_bureau_prev['INCOME_diff_year_ratio']=application_bureau_prev['AMT_INCOME_TOTAL']/application_bureau_prev['DAY_BIRTH_&_DAYS_EMPLOYED_diff_year']\n",
    "#被查询的总次数（客户申请前向信用机构查询客户信息次数）\n",
    "application_bureau_prev['TOTALREQ']=application_bureau_prev['AMT_REQ_CREDIT_BUREAU_HOUR']+application_bureau_prev['AMT_REQ_CREDIT_BUREAU_DAY']+application_bureau_prev['AMT_REQ_CREDIT_BUREAU_WEEK']+application_bureau_prev['AMT_REQ_CREDIT_BUREAU_MON']+application_bureau_prev['AMT_REQ_CREDIT_BUREAU_QRT']+application_bureau_prev['AMT_REQ_CREDIT_BUREAU_YEAR']\n",
    "test['DAY_BIRTH_&_DAYS_EMPLOYED_diff_year']=(test['DAYS_BIRTH']-test['DAYS_EMPLOYED'])/365\n",
    "#申请者的工作总收入\n",
    "test['TOTAL_INCOME']=(-test['DAYS_EMPLOYED'])*(test['AMT_INCOME_TOTAL']/365)\n",
    "test['CONTACT_DETAILS_FLAG_ONE']=test['FLAG_MOBIL']+test['FLAG_EMP_PHONE']+test['FLAG_WORK_PHONE']\n",
    "test['CONTACT_DETAILS_FLAG_TWO']=(test['FLAG_CONT_MOBILE']+test['FLAG_PHONE']+test['FLAG_EMAIL'])\n",
    "test['CONTACT_DETAILS_FLAG']=(test['CONTACT_DETAILS_FLAG_ONE']+test['CONTACT_DETAILS_FLAG_TWO'])>5\n",
    "test['THREE_ADDRESS_FLAG']=(test['REG_REGION_NOT_LIVE_REGION']+test['REG_REGION_NOT_WORK_REGION'])<1\n",
    "test['reg_live_work_regionmatch']=test['REG_REGION_NOT_LIVE_REGION']+test['REG_REGION_NOT_WORK_REGION']+test['LIVE_REGION_NOT_WORK_REGION']==0\n",
    "test['reg_live_work_citymatch']=test['REG_CITY_NOT_LIVE_CITY']+test['REG_CITY_NOT_WORK_CITY']+test['LIVE_CITY_NOT_WORK_CITY']==0\n",
    "test['INCOME_diff_year_ratio']=test['AMT_INCOME_TOTAL']/test['DAY_BIRTH_&_DAYS_EMPLOYED_diff_year']\n",
    "test['TOTALREQ']=test['AMT_REQ_CREDIT_BUREAU_HOUR']+test['AMT_REQ_CREDIT_BUREAU_DAY']+test['AMT_REQ_CREDIT_BUREAU_WEEK']+test['AMT_REQ_CREDIT_BUREAU_MON']+test['AMT_REQ_CREDIT_BUREAU_QRT']+test['AMT_REQ_CREDIT_BUREAU_YEAR']\n"
   ]
  },
  {
   "cell_type": "code",
   "execution_count": 30,
   "metadata": {},
   "outputs": [],
   "source": [
    "#客户承受能力\n",
    "\n",
    "#通过总收入对工作年限的比值是否大于年金来判断客户是否具有偿还能力\n",
    "application_bureau_prev['INCOME_diff_year_ratio_ANNUITY_FLAG']=application_bureau_prev['DAY_BIRTH_&_DAYS_EMPLOYED_diff_year']>application_bureau_prev['AMT_ANNUITY']\n",
    "#总收入对工作年限的比值是否大于信贷额度\n",
    "application_bureau_prev['INCOME_diff_year_ratio_CREDIT_FLAG']=application_bureau_prev['DAY_BIRTH_&_DAYS_EMPLOYED_diff_year']>application_bureau_prev['AMT_CREDIT']\n",
    "#总收入对孩子的比值是否大于信贷额度\n",
    "application_bureau_prev['AMT_TOTAL/CNT_CHILDREN_ratio']=np.log1p(application_bureau_prev['AMT_INCOME_TOTAL'])/(application_bureau_prev['CNT_CHILDREN']+1)\n",
    "application_bureau_prev['NEW_INC_PER_CHID']=application_bureau_prev['AMT_INCOME_TOTAL']/(application_bureau_prev['CNT_CHILDREN']+1)\n",
    "application_bureau_prev['INCOME_CNT_CHILDREN_ratio_CREDIT_FLAG']=application_bureau_prev['NEW_INC_PER_CHID']>application_bureau_prev['AMT_CREDIT']\n",
    "#总收入对工作年限的比值是否大于商品价格\n",
    "application_bureau_prev['INCOME_diff_year_ratio_GOODS_PRICE_FLAG']=application_bureau_prev['DAY_BIRTH_&_DAYS_EMPLOYED_diff_year']>application_bureau_prev['AMT_GOODS_PRICE']\n",
    "#总收入对家庭成员的比值是否大于信贷额度\n",
    "application_bureau_prev['AMT_TOTAL/CNT_FAM_MEMBERS_ratio']=np.log1p(application_bureau_prev['AMT_INCOME_TOTAL'])/(application_bureau_prev['CNT_FAM_MEMBERS']+1)\n",
    "application_bureau_prev['NEW_INC_PER_CNT_FAM_MEMBERS']=application_bureau_prev['AMT_INCOME_TOTAL']/(application_bureau_prev['CNT_FAM_MEMBERS']+1)\n",
    "application_bureau_prev['INCOME_CNT_FAM_MEMBERS_ratio_CREDIT_FLAG']=application_bureau_prev['NEW_INC_PER_CNT_FAM_MEMBERS']>application_bureau_prev['AMT_CREDIT']\n",
    "#总收入是否大于信用额度\n",
    "application_bureau_prev['INCOME_GT_CREDIT_FLAG']=application_bureau_prev['AMT_INCOME_TOTAL']>application_bureau_prev['AMT_CREDIT']\n",
    "#还款周期是否大于工作年限\n",
    "application_bureau_prev['CREDIT_TERM']=application_bureau_prev['AMT_ANNUITY']/application_bureau_prev['AMT_INCOME_TOTAL']\n",
    "application_bureau_prev['CREDIT_TERM_WORKED_YEAR_FLAG']=application_bureau_prev['CREDIT_TERM']/application_bureau_prev['DAY_BIRTH_&_DAYS_EMPLOYED_diff_year']\n",
    "#总收入对工作年限的比值与商品价格的差值\n",
    "application_bureau_prev['INCOME_diff_year_ratio_GOODS_PRICE_diff']=application_bureau_prev['DAY_BIRTH_&_DAYS_EMPLOYED_diff_year']-application_bureau_prev['AMT_GOODS_PRICE']\n",
    "test['INCOME_diff_year_ratio_ANNUITY_FLAG']=test['DAY_BIRTH_&_DAYS_EMPLOYED_diff_year']>test['AMT_ANNUITY']\n",
    "test['INCOME_diff_year_ratio_CREDIT_FLAG']=test['DAY_BIRTH_&_DAYS_EMPLOYED_diff_year']>test['AMT_CREDIT']\n",
    "test['AMT_TOTAL/CNT_CHILDREN_ratio']=np.log1p(test['AMT_INCOME_TOTAL'])/(test['CNT_CHILDREN']+1)\n",
    "test['NEW_INC_PER_CHID']=test['AMT_INCOME_TOTAL']/(test['CNT_CHILDREN']+1)\n",
    "test['INCOME_CNT_CHILDREN_ratio_CREDIT_FLAG']=test['NEW_INC_PER_CHID']>test['AMT_CREDIT']\n",
    "test['INCOME_diff_year_ratio_GOODS_PRICE_FLAG']=test['DAY_BIRTH_&_DAYS_EMPLOYED_diff_year']>test['AMT_GOODS_PRICE']\n",
    "test['AMT_TOTAL/CNT_FAM_MEMBERS_ratio']=np.log1p(test['AMT_INCOME_TOTAL'])/(test['CNT_FAM_MEMBERS']+1)\n",
    "test['NEW_INC_PER_CNT_FAM_MEMBERS']=test['AMT_INCOME_TOTAL']/(test['CNT_FAM_MEMBERS']+1)\n",
    "test['INCOME_CNT_FAM_MEMBERS_ratio_CREDIT_FLAG']=test['NEW_INC_PER_CNT_FAM_MEMBERS']>test['AMT_CREDIT']\n",
    "test['INCOME_GT_CREDIT_FLAG']=test['AMT_INCOME_TOTAL']>test['AMT_CREDIT']\n",
    "test['CREDIT_TERM']=test['AMT_ANNUITY']/test['AMT_INCOME_TOTAL']\n",
    "test['CREDIT_TERM_WORKED_YEAR_FLAG']=test['CREDIT_TERM']/test['DAY_BIRTH_&_DAYS_EMPLOYED_diff_year']\n",
    "test['INCOME_diff_year_ratio_GOODS_PRICE_diff']=test['DAY_BIRTH_&_DAYS_EMPLOYED_diff_year']-test['AMT_GOODS_PRICE']"
   ]
  },
  {
   "cell_type": "code",
   "execution_count": 32,
   "metadata": {},
   "outputs": [],
   "source": [
    "#生活条件\n",
    "\n",
    "#生活公寓和非生活公寓的比例\n",
    "application_bureau_prev['LIVINGAPARTMENTS_AVG_&_NONLIVINGAPARTMENTS_AVG_ratio']=application_bureau_prev['LIVINGAPARTMENTS_AVG']/application_bureau_prev['NONLIVINGAPARTMENTS_AVG']\n",
    "#公寓面积与迄今为止最大违约金额的比率\n",
    "application_bureau_prev['APARTMENTS_&_CREDIT_MAX_OVERDUE']=application_bureau_prev['APARTMENTS_AVG']/(application_bureau_prev['BUREAU_AMT_CREDIT_MAX_OVERDUE']+0.0001)\n",
    "#客户居住面积和土地面积的比例\n",
    "application_bureau_prev['LIVINGAREA_AVG_&_LANDAREA_AVG_ratio']=application_bureau_prev['LIVINGAREA_AVG']/application_bureau_prev['LANDAREA_AVG']\n",
    "#客户所住建筑平均每楼层占据电梯数量，将客户居住的最高楼层和最低楼层进行平均来构造客户所住建筑的平均楼层，再将电梯数量除以平均楼层\n",
    "application_bureau_prev['FLOORS_ELEVATOR_AVE']=application_bureau_prev['ELEVATORS_AVG']/(application_bureau_prev['FLOORSMAX_AVG']+application_bureau_prev['FLOORSMIN_AVG'])/2\n",
    "#是否在三个外部机构都没有评分或评分低于平均值\n",
    "average_1=application_bureau_prev['EXT_SOURCE_1'].mean()\n",
    "average_2=application_bureau_prev['EXT_SOURCE_2'].mean()\n",
    "average_3=application_bureau_prev['EXT_SOURCE_3'].mean()\n",
    "application_bureau_prev['EXT_SCORE']=((application_bureau_prev['EXT_SOURCE_1']==np.nan) | application_bureau_prev['EXT_SOURCE_1']<average_1)|((application_bureau_prev['EXT_SOURCE_2']==np.nan )| application_bureau_prev['EXT_SOURCE_2']<average_2)|((application_bureau_prev['EXT_SOURCE_3']==np.nan )| application_bureau_prev['EXT_SOURCE_3']<average_3)\n",
    "test['LIVINGAPARTMENTS_AVG_&_NONLIVINGAPARTMENTS_AVG_ratio']=test['LIVINGAPARTMENTS_AVG']/test['NONLIVINGAPARTMENTS_AVG']\n",
    "test['APARTMENTS_&_CREDIT_MAX_OVERDUE']=test['APARTMENTS_AVG']/(test['BUREAU_AMT_CREDIT_MAX_OVERDUE']+0.0001)\n",
    "test['LIVINGAREA_AVG_&_LANDAREA_AVG_ratio']=test['LIVINGAREA_AVG']/test['LANDAREA_AVG']\n",
    "test['FLOORS_ELEVATOR_AVE']=test['ELEVATORS_AVG']/(test['FLOORSMAX_AVG']+test['FLOORSMIN_AVG'])/2\n",
    "test['EXT_SCORE']=((test['EXT_SOURCE_1']==np.nan) | test['EXT_SOURCE_1']<average_1)|((test['EXT_SOURCE_2']==np.nan )| test['EXT_SOURCE_2']<average_2)|((test['EXT_SOURCE_3']==np.nan )| test['EXT_SOURCE_3']<average_3)\n"
   ]
  },
  {
   "cell_type": "code",
   "execution_count": 33,
   "metadata": {},
   "outputs": [],
   "source": [
    "#整体情况\n",
    "\n",
    "#客户车的年龄\n",
    "#客户车的年龄与同收入类型的人的车的年龄的均值的差值\n",
    "income_type_car=application_bureau_prev.groupby(by='NAME_INCOME_TYPE')['OWN_CAR_AGE'].mean()\n",
    "application_bureau_prev['OWN_CAR_AGE_diff_SMAE_WORK_TYPE']=application_bureau_prev['OWN_CAR_AGE']-income_type_car[application_bureau_prev['NAME_INCOME_TYPE']].values\n",
    "test['OWN_CAR_AGE_diff_SMAE_WORK_TYPE']=test['OWN_CAR_AGE']-income_type_car[test['NAME_INCOME_TYPE']].values\n",
    "#客户车的年龄与同学历类型的人的车的年龄的均值的差值\n",
    "education_type_car=application_bureau_prev.groupby(by='NAME_EDUCATION_TYPE')['OWN_CAR_AGE'].mean()\n",
    "application_bureau_prev['OWN_CAR_AGE_diff_SMAE_EDUCATION_TYPE']=application_bureau_prev['OWN_CAR_AGE']-education_type_car[application_bureau_prev['NAME_EDUCATION_TYPE']].values\n",
    "test['OWN_CAR_AGE_diff_SMAE_EDUCATION_TYPE']=test['OWN_CAR_AGE']-education_type_car[test['NAME_EDUCATION_TYPE']].values\n",
    "#客户车的年龄与相同居住情况的人的车的年龄的均值的差值\n",
    "housing_type_car=application_bureau_prev.groupby(by='NAME_HOUSING_TYPE')['OWN_CAR_AGE'].mean()\n",
    "application_bureau_prev['OWN_CAR_AGE_diff_SMAE_HOUSING_TYPE']=application_bureau_prev['OWN_CAR_AGE']-housing_type_car[application_bureau_prev['NAME_HOUSING_TYPE']].values\n",
    "test['OWN_CAR_AGE_diff_SMAE_HOUSING_TYPE']=test['OWN_CAR_AGE']-housing_type_car[test['NAME_HOUSING_TYPE']].values\n",
    "#客户贷款总额\n",
    "#客户贷款总额与同学历类型的人的平均贷款总额的差值，将与客户有相同学历类型的人的贷款总额进行分组，再将客户贷款总额减去所得到的平均的贷款总额得到相应差值\n",
    "education_type_credit=application_bureau_prev.groupby(by='NAME_EDUCATION_TYPE')['AMT_CREDIT'].mean()\n",
    "application_bureau_prev['AMT_CREDIT_diff_SMAE_EDUCATION_TYPE']=application_bureau_prev['AMT_CREDIT']-education_type_credit[application_bureau_prev['NAME_EDUCATION_TYPE']].values\n",
    "test['AMT_CREDIT_diff_SMAE_EDUCATION_TYPE']=test['AMT_CREDIT']-education_type_credit[test['NAME_EDUCATION_TYPE']].values\n",
    "#客户贷款总额与同工作类型的人的平均贷款总额的差值\n",
    "income_type_credit=application_bureau_prev.groupby(by='NAME_INCOME_TYPE')['AMT_CREDIT'].mean()\n",
    "application_bureau_prev['AMT_CREDIT_diff_SMAE_INCOME_TYPE']=application_bureau_prev['AMT_CREDIT']-income_type_credit[application_bureau_prev['NAME_INCOME_TYPE']].values\n",
    "test['AMT_CREDIT_diff_SMAE_INCOME_TYPE']=test['AMT_CREDIT']-income_type_credit[test['NAME_INCOME_TYPE']].values\n",
    "#客户贷款总额与相同居住情况的人的平均贷款总额的差值\n",
    "housing_type_credit=application_bureau_prev.groupby(by='NAME_HOUSING_TYPE')['AMT_CREDIT'].mean()\n",
    "application_bureau_prev['AMT_CREDIT_diff_SMAE_HOUSING_TYPE']=application_bureau_prev['AMT_CREDIT']-housing_type_credit[application_bureau_prev['NAME_HOUSING_TYPE']].values\n",
    "test['AMT_CREDIT_diff_SMAE_HOUSING_TYPE']=test['AMT_CREDIT']-housing_type_credit[test['NAME_HOUSING_TYPE']].values\n",
    "#客户贷款总额与同性别的人贷款总额的差值\n",
    "gender_type_credit=application_bureau_prev.groupby(by='CODE_GENDER')['AMT_CREDIT'].mean()\n",
    "application_bureau_prev['AMT_CREDIT_diff_CODE_GENDER']=application_bureau_prev['AMT_CREDIT']-gender_type_credit[application_bureau_prev['CODE_GENDER']].values\n",
    "test['AMT_CREDIT_diff_CODE_GENDER']=test['AMT_CREDIT']-gender_type_credit[test['CODE_GENDER']].values\n",
    "#贷款总额与相同家庭状况的人贷款总额的差值\n",
    "family_type_credit=application_bureau_prev.groupby(by='NAME_FAMILY_STATUS')['AMT_CREDIT'].mean()\n",
    "application_bureau_prev['AMT_CREDIT_diff_NAME_FAMILY_STATUS']=application_bureau_prev['AMT_CREDIT']-family_type_credit[application_bureau_prev['NAME_FAMILY_STATUS']].values\n",
    "test['AMT_CREDIT_diff_NAME_FAMILY_STATUS']=test['AMT_CREDIT']-family_type_credit[test['NAME_FAMILY_STATUS']].values\n",
    "#贷款总额与相同企业类型的人贷款总额的差值\n",
    "organ_type_credit=application_bureau_prev.groupby(by='ORGANIZATION_TYPE')['AMT_CREDIT'].mean()\n",
    "application_bureau_prev['AMT_CREDIT_diff_ORGANIZATION_TYPE']=application_bureau_prev['AMT_CREDIT']-organ_type_credit[application_bureau_prev['ORGANIZATION_TYPE']].values\n",
    "test['AMT_CREDIT_diff_ORGANIZATION_TYPE']=test['AMT_CREDIT']-organ_type_credit[test['ORGANIZATION_TYPE']].values\n",
    "#贷款总额与有车情况一致的人贷款总额的差值\n",
    "car_type_credit=application_bureau_prev.groupby(by='FLAG_OWN_CAR')['AMT_CREDIT'].mean()\n",
    "application_bureau_prev['CREDIT_diff_CARS']=application_bureau_prev['AMT_CREDIT']-car_type_credit[application_bureau_prev['FLAG_OWN_CAR']].values\n",
    "test['CREDIT_diff_CARS']=test['AMT_CREDIT']-car_type_credit[test['FLAG_OWN_CAR']].values\n",
    "#贷款总额与相同还款方式的人贷款总额的差值\n",
    "contract_type_credit=application_bureau_prev.groupby(by='NAME_CONTRACT_TYPE')['AMT_CREDIT'].mean()\n",
    "application_bureau_prev['AMT_CREDIT_diff_NAME_CONTRACT_TYPE']=application_bureau_prev['AMT_CREDIT']-contract_type_credit[application_bureau_prev['NAME_CONTRACT_TYPE']].values\n",
    "test['AMT_CREDIT_diff_NAME_CONTRACT_TYPE']=test['AMT_CREDIT']-contract_type_credit[test['NAME_CONTRACT_TYPE']].values\n",
    "#贷款总额与申请贷款时间相同的人所贷总额的差值\n",
    "hour_type_credit=application_bureau_prev.groupby(by='HOUR_APPR_PROCESS_START')['AMT_CREDIT'].mean()\n",
    "application_bureau_prev['AMT_CREDIT_diff_HOUR_APPR_PROCESS_START']=application_bureau_prev['AMT_CREDIT']-hour_type_credit[application_bureau_prev['HOUR_APPR_PROCESS_START']].values\n",
    "test['AMT_CREDIT_diff_HOUR_APPR_PROCESS_START']=test['AMT_CREDIT']-hour_type_credit[test['HOUR_APPR_PROCESS_START']].values\n",
    "#贷款金额与客户所在地区评级相同的人所贷金额的差值\n",
    "rating_type_credit=application_bureau_prev.groupby(by='REGION_RATING_CLIENT')['AMT_CREDIT'].mean()\n",
    "application_bureau_prev['AMT_CREDIT_diff_REGION_RATING_CLIENT']=application_bureau_prev['AMT_CREDIT']-rating_type_credit[application_bureau_prev['REGION_RATING_CLIENT']].values\n",
    "test['AMT_CREDIT_diff_REGION_RATING_CLIENT']=test['AMT_CREDIT']-rating_type_credit[test['REGION_RATING_CLIENT']].values\n",
    "#信用额度\n",
    "#信贷局汇报的信用额度与同收入类型的人均值的差值\n",
    "income_type_credit_limit=application_bureau_prev.groupby(by='NAME_INCOME_TYPE')['BUREAU_AMT_CREDIT_SUM_LIMIT'].mean()\n",
    "application_bureau_prev['CREDIT_LIMIT_diff_SMAE_WORK_TYPE']=application_bureau_prev['BUREAU_AMT_CREDIT_SUM_LIMIT']-income_type_credit_limit[application_bureau_prev['NAME_INCOME_TYPE']].values\n",
    "test['CREDIT_LIMIT_diff_SMAE_WORK_TYPE']=test['BUREAU_AMT_CREDIT_SUM_LIMIT']-income_type_credit_limit[test['NAME_INCOME_TYPE']].values\n",
    "#信贷局汇报的信用额度与同类型的人均值的差值\n",
    "education_type_credit_limit=application_bureau_prev.groupby(by='NAME_EDUCATION_TYPE')['BUREAU_AMT_CREDIT_SUM_LIMIT'].mean()\n",
    "application_bureau_prev['CREDIT_LIMIT_diff_SMAE_EDUCATION_TYPE']=application_bureau_prev['BUREAU_AMT_CREDIT_SUM_LIMIT']-education_type_credit_limit[application_bureau_prev['NAME_EDUCATION_TYPE']].values\n",
    "test['CREDIT_LIMIT_diff_SMAE_EDUCATION_TYPE']=test['BUREAU_AMT_CREDIT_SUM_LIMIT']-education_type_credit_limit[test['NAME_EDUCATION_TYPE']].values\n",
    "#信贷局汇报的信用额度与相同居住情况的人的均值的差值\n",
    "housing_type_credit_limit=application_bureau.groupby(by='NAME_HOUSING_TYPE')['BUREAU_AMT_CREDIT_SUM_LIMIT'].mean()\n",
    "application_bureau_prev['AMT_CREDIT_diff_SMAE_HOUSING_TYPE']=application_bureau_prev['AMT_CREDIT']-housing_type_credit_limit[application_bureau_prev['NAME_HOUSING_TYPE']].values\n",
    "test['AMT_CREDIT_diff_SMAE_HOUSING_TYPE']=test['AMT_CREDIT']-housing_type_credit_limit[test['NAME_HOUSING_TYPE']].values\n",
    "#客户收入\n",
    "#客户收入与同性别的人收入的差值\n",
    "gender_type_income=application_bureau_prev.groupby(by='CODE_GENDER')['AMT_INCOME_TOTAL'].mean()\n",
    "application_bureau_prev['AMT_INCOME_TOTAL_diff_CODE_GENDER']=application_bureau_prev['AMT_INCOME_TOTAL']-gender_type_income[application_bureau_prev['CODE_GENDER']].values\n",
    "test['AMT_INCOME_TOTAL_diff_CODE_GENDER']=test['AMT_INCOME_TOTAL']-gender_type_income[test['CODE_GENDER']].values\n",
    "#客户收入与相同家庭状况的人收入的差值\n",
    "family_type_income=application_bureau_prev.groupby(by='NAME_FAMILY_STATUS')['AMT_INCOME_TOTAL'].mean()\n",
    "application_bureau_prev['AMT_INCOME_TOTAL_diff_NAME_FAMILY_STATUS']=application_bureau_prev['AMT_INCOME_TOTAL']-family_type_income[application_bureau_prev['NAME_FAMILY_STATUS']].values\n",
    "test['AMT_INCOME_TOTAL_diff_NAME_FAMILY_STATUS']=test['AMT_INCOME_TOTAL']-family_type_income[test['NAME_FAMILY_STATUS']].values\n",
    "#客户收入与申请贷款时间相同的人收入的差值\n",
    "hour_type_income=application_bureau_prev.groupby(by='HOUR_APPR_PROCESS_START')['AMT_INCOME_TOTAL'].mean()\n",
    "application_bureau_prev['AMT_INCOME_TOTAL_diff_HOUR_APPR_PROCESS_START']=application_bureau_prev['AMT_INCOME_TOTAL']-hour_type_income[application_bureau_prev['HOUR_APPR_PROCESS_START']].values\n",
    "test['AMT_INCOME_TOTAL_diff_HOUR_APPR_PROCESS_START']=test['AMT_INCOME_TOTAL']-hour_type_income[test['HOUR_APPR_PROCESS_START']].values\n",
    "#客户收入与相同企业类型的人收入的差值\n",
    "organ_type_income=application_bureau_prev.groupby(by='ORGANIZATION_TYPE')['AMT_INCOME_TOTAL'].mean()\n",
    "application_bureau_prev['AMT_INCOME_TOTAL_diff_ORGANIZATION_TYPE']=application_bureau_prev['AMT_INCOME_TOTAL']-organ_type_income[application_bureau_prev['ORGANIZATION_TYPE']].values\n",
    "test['AMT_INCOME_TOTAL_diff_ORGANIZATION_TYPE']=test['AMT_INCOME_TOTAL']-organ_type_income[test['ORGANIZATION_TYPE']].values\n",
    "#贷款年金\n",
    "#贷款年金与同性别的人贷款年金的差值\n",
    "gender_type_annuity=application_bureau_prev.groupby(by='CODE_GENDER')['AMT_ANNUITY'].mean()\n",
    "application_bureau_prev['AMT_ANNUITY_diff_CODE_GENDER']=application_bureau_prev['AMT_ANNUITY']-gender_type_annuity[application_bureau_prev['CODE_GENDER']].values\n",
    "test['AMT_ANNUITY_diff_CODE_GENDER']=test['AMT_ANNUITY']-gender_type_annuity[test['CODE_GENDER']].values\n",
    "#贷款年金与相同家庭状况的人贷款年金的差值\n",
    "family_type_annuity=application_bureau_prev.groupby(by='NAME_FAMILY_STATUS')['AMT_ANNUITY'].mean()\n",
    "application_bureau_prev['AMT_ANNUITY_diff_NAME_FAMILY_STATUS']=application_bureau_prev['AMT_ANNUITY']-family_type_annuity[application_bureau_prev['NAME_FAMILY_STATUS']].values\n",
    "test['AMT_ANNUITY_diff_NAME_FAMILY_STATUS']=test['AMT_ANNUITY']-family_type_annuity[test['NAME_FAMILY_STATUS']].values\n",
    "#贷款年金与相同企业类型的人贷款年金的差值\n",
    "organ_type_annuity=application_bureau_prev.groupby(by='ORGANIZATION_TYPE')['AMT_ANNUITY'].mean()\n",
    "application_bureau_prev['AMT_ANNUITY_diff_ORGANIZATION_TYPE']=application_bureau_prev['AMT_ANNUITY']-organ_type_annuity[application_bureau_prev['ORGANIZATION_TYPE']].values\n",
    "test['AMT_ANNUITY_diff_ORGANIZATION_TYPE']=test['AMT_ANNUITY']-organ_type_annuity[test['ORGANIZATION_TYPE']].values\n",
    "#贷款年金与有车情况一致的人年金的差值\n",
    "car_type_annuity=application_bureau_prev.groupby(by='FLAG_OWN_CAR')['AMT_ANNUITY'].mean()\n",
    "application_bureau_prev['ANNUITY_diff_CARS']=application_bureau_prev['AMT_ANNUITY']-car_type_annuity[application_bureau_prev['FLAG_OWN_CAR']].values\n",
    "test['ANNUITY_diff_CARS']=test['AMT_ANNUITY']-car_type_annuity[test['FLAG_OWN_CAR']].values\n",
    "#贷款年金和相同还款方式的人贷款年金的差值\n",
    "contract_type_annuity=application_bureau_prev.groupby(by='NAME_CONTRACT_TYPE')['AMT_ANNUITY'].mean()\n",
    "application_bureau_prev['AMT_ANNUITY_diff_NAME_CONTRACT_TYPE']=application_bureau_prev['AMT_ANNUITY']-contract_type_annuity[application_bureau_prev['NAME_CONTRACT_TYPE']].values\n",
    "test['AMT_ANNUITY_diff_NAME_CONTRACT_TYPE']=test['AMT_ANNUITY']-contract_type_annuity[test['NAME_CONTRACT_TYPE']].values\n",
    "#贷款年金与申请贷款时间相同的人所贷总额的差值            \n",
    "hour_type_annuity=application_bureau_prev.groupby(by='HOUR_APPR_PROCESS_START')['AMT_ANNUITY'].mean()\n",
    "application_bureau_prev['AMT_ANNUITY_diff_HOUR_APPR_PROCESS_START']=application_bureau_prev['AMT_ANNUITY']-hour_type_annuity[application_bureau_prev['HOUR_APPR_PROCESS_START']].values\n",
    "test['AMT_ANNUITY_diff_HOUR_APPR_PROCESS_START']=test['AMT_ANNUITY']-hour_type_annuity[test['HOUR_APPR_PROCESS_START']].values\n",
    "#建筑年龄\n",
    "#申请者与是否有车情况一致的人居所建筑年龄的差值\n",
    "car_type_age=application_bureau_prev.groupby(by='FLAG_OWN_CAR')['YEARS_BUILD_AVG'].mean()\n",
    "application_bureau_prev['BULID_diff_CARS']=application_bureau_prev['YEARS_BUILD_AVG']-car_type_age[application_bureau_prev['FLAG_OWN_CAR']].values\n",
    "test['BULID_diff_CARS']=test['YEARS_BUILD_AVG']-car_type_age[test['FLAG_OWN_CAR']].values\n",
    "#建筑年龄和相同还款方式的人建筑年龄的差值\n",
    "contract_type_age=application_bureau_prev.groupby(by='NAME_CONTRACT_TYPE')['YEARS_BUILD_AVG'].mean()\n",
    "application_bureau_prev['YEARS_BUILD_AVG_diff_CONTRACT']=application_bureau_prev['YEARS_BUILD_AVG']-contract_type_age[application_bureau_prev['NAME_CONTRACT_TYPE']].values\n",
    "test['YEARS_BUILD_AVG_diff_CONTRACT']=test['YEARS_BUILD_AVG']-contract_type_age[test['NAME_CONTRACT_TYPE']].values\n",
    "#建筑年龄与同性别的人建筑年龄的差值     \n",
    "gender_type_age=application_bureau_prev.groupby(by='CODE_GENDER')['YEARS_BUILD_AVG'].mean()\n",
    "application_bureau_prev['YEARS_BUILD_AVG_diff_CODE_GENDER']=application_bureau_prev['YEARS_BUILD_AVG']-gender_type_age[application_bureau_prev['CODE_GENDER']].values\n",
    "test['YEARS_BUILD_AVG_diff_CODE_GENDER']=test['YEARS_BUILD_AVG']-gender_type_age[test['CODE_GENDER']].values\n",
    "#建筑年龄与相同教育水平的人建筑年龄的差值 \n",
    "edu_type_age=application_bureau_prev.groupby(by='NAME_EDUCATION_TYPE')['YEARS_BUILD_AVG'].mean()\n",
    "application_bureau_prev['YEARS_BUILD_AVG_diff_EDUCATION']=application_bureau_prev['YEARS_BUILD_AVG']-edu_type_age[application_bureau_prev['NAME_EDUCATION_TYPE']].values\n",
    "test['YEARS_BUILD_AVG_diff_EDUCATION']=test['YEARS_BUILD_AVG']-edu_type_age[test['NAME_EDUCATION_TYPE']].values\n",
    "#贷款商品价格\n",
    "#贷款商品价格与同居住环境所申价格最小值的差值\n",
    "housing_type_price=application_bureau_prev.groupby(by='NAME_HOUSING_TYPE')['AMT_GOODS_PRICE'].mean()\n",
    "application_bureau_prev['AMT_GOODS_PRICE_diff_HOUR_APPR_PROCESS_START']=application_bureau_prev['AMT_GOODS_PRICE']-min(housing_type_price[application_bureau_prev['NAME_HOUSING_TYPE']].values)\n",
    "test['AMT_GOODS_PRICE_diff_HOUR_APPR_PROCESS_START']=test['AMT_GOODS_PRICE']-min(housing_type_price[test['NAME_HOUSING_TYPE']].values)\n",
    "#贷款商品价格与申请贷款时间的人所贷价格的差值\n",
    "hour_type_price=application_bureau_prev.groupby(by='HOUR_APPR_PROCESS_START')['AMT_GOODS_PRICE'].mean()\n",
    "application_bureau_prev['AMT_GOODS_PRICE_diff_HOUR_APPR_PROCESS_START']=application_bureau_prev['AMT_GOODS_PRICE']-hour_type_price[application_bureau_prev['HOUR_APPR_PROCESS_START']].values\n",
    "test['AMT_GOODS_PRICE_diff_HOUR_APPR_PROCESS_START']=test['AMT_GOODS_PRICE']-hour_type_price[test['HOUR_APPR_PROCESS_START']].values\n",
    "#贷款时长\n",
    "#贷款时长与同居住环境的时长的差值\n",
    "housing_type_hour=application_bureau_prev.groupby(by='NAME_HOUSING_TYPE')['HOUR_APPR_PROCESS_START'].mean()\n",
    "application_bureau_prev['HOUR_APPR_PROCESS_START_diff_NAME_HOUSING_TYPE']=application_bureau_prev['HOUR_APPR_PROCESS_START']-housing_type_hour[application_bureau_prev['NAME_HOUSING_TYPE']].values\n",
    "test['HOUR_APPR_PROCESS_START_diff_NAME_HOUSING_TYPE']=test['HOUR_APPR_PROCESS_START']-housing_type_hour[test['NAME_HOUSING_TYPE']].values"
   ]
  },
  {
   "cell_type": "markdown",
   "metadata": {},
   "source": [
    "## （6）独热编码\n",
    "\n",
    "__独热编码即One-hot编码，用作处理类别特征将分类变量转化为数值向量的方式，使得每一个类别在数值向量中都有自己的列，在一定程度上起到了扩充特征的作用，使得能更好地处理属性数据。__"
   ]
  },
  {
   "cell_type": "code",
   "execution_count": 34,
   "metadata": {},
   "outputs": [],
   "source": [
    "application_bureau_prev=application_bureau_prev.drop(['SK_ID_CURR'],axis=1)\n",
    "test=test.drop(['SK_ID_CURR'],axis=1)\n",
    "#将特征分成数值和类别特征\n",
    "types=np.array([dt for dt in application_bureau_prev.dtypes])\n",
    "all_columns=application_bureau_prev.columns.values\n",
    "is_num=types!='object'\n",
    "num_cols=all_columns[is_num]\n",
    "cat_cols=all_columns[~is_num]\n",
    "data_num=application_bureau_prev[num_cols]\n",
    "data_cat=application_bureau_prev[cat_cols]\n",
    "test_num=test[num_cols]\n",
    "test_cat=test[cat_cols]\n",
    "ohe=OneHotEncoder(sparse=False,handle_unknown='ignore')\n",
    "data_cat2=ohe.fit_transform(data_cat)\n",
    "test_cat2=ohe.transform(test_cat)\n",
    "cat_cols_ohe=list(ohe.get_feature_names(input_features=cat_cols))\n",
    "data_cat_final=pd.DataFrame(data_cat2,columns=cat_cols_ohe)\n",
    "test_cat_final=pd.DataFrame(test_cat2,columns=cat_cols_ohe)\n",
    "#最终数据\n",
    "data_final=pd.concat([data_num,data_cat_final],axis=1)\n",
    "test_final=pd.concat([test_num,test_cat_final],axis=1)"
   ]
  },
  {
   "cell_type": "markdown",
   "metadata": {},
   "source": [
    "## （7）划分训练集和测试集"
   ]
  },
  {
   "cell_type": "code",
   "execution_count": 35,
   "metadata": {},
   "outputs": [],
   "source": [
    "X_train_final,X_val_final,y_train,y_val=train_test_split(data_final,y,stratify=y,test_size=0.3,random_state=42)"
   ]
  },
  {
   "cell_type": "code",
   "execution_count": 36,
   "metadata": {},
   "outputs": [],
   "source": [
    "X_train_final=X_train_final.rename(columns=lambda x:re.sub('[^A-Za-z0-9_]+','',x))"
   ]
  },
  {
   "cell_type": "markdown",
   "metadata": {},
   "source": [
    "## （8）特征筛选 "
   ]
  },
  {
   "cell_type": "code",
   "execution_count": 37,
   "metadata": {},
   "outputs": [
    {
     "name": "stdout",
     "output_type": "stream",
     "text": [
      "Training until validation scores don't improve for 100 rounds\n",
      "[200]\tvalid_0's auc: 0.754148\tvalid_0's binary_logloss: 0.592458\n",
      "[400]\tvalid_0's auc: 0.768787\tvalid_0's binary_logloss: 0.566218\n",
      "[600]\tvalid_0's auc: 0.774978\tvalid_0's binary_logloss: 0.551753\n",
      "[800]\tvalid_0's auc: 0.777284\tvalid_0's binary_logloss: 0.542004\n",
      "[1000]\tvalid_0's auc: 0.778395\tvalid_0's binary_logloss: 0.534086\n",
      "[1200]\tvalid_0's auc: 0.77857\tvalid_0's binary_logloss: 0.52758\n",
      "[1400]\tvalid_0's auc: 0.778757\tvalid_0's binary_logloss: 0.521705\n",
      "Early stopping, best iteration is:\n",
      "[1342]\tvalid_0's auc: 0.778816\tvalid_0's binary_logloss: 0.5233\n"
     ]
    },
    {
     "data": {
      "text/plain": [
       "LGBMClassifier(class_weight='balanced', colsample_bytree=0.8,\n",
       "               learning_rate=0.01, max_depth=7, n_estimators=2000,\n",
       "               subsample=0.9)"
      ]
     },
     "execution_count": 37,
     "metadata": {},
     "output_type": "execute_result"
    }
   ],
   "source": [
    "model_sk=lgb.LGBMClassifier(boosting_type='gbdt',max_depth=7,learning_rate=0.01,n_estimators=2000,class_weight='balanced',subsample=0.9,colsample_bytree=0.8,\n",
    "                            importance_type='split',min_child_samples=20,min_child_weight=0.001,n_jobs=-1)\n",
    "train_features,valid_features,train_y,valid_y=train_test_split(X_train_final,y_train,test_size=0.15,random_state=42)\n",
    "model_sk.fit(train_features,train_y,early_stopping_rounds=100,eval_set=[(valid_features,valid_y)],eval_metric='auc',verbose=200)"
   ]
  },
  {
   "cell_type": "code",
   "execution_count": 44,
   "metadata": {},
   "outputs": [],
   "source": [
    "feature_imp=pd.DataFrame(sorted(zip(model_sk.feature_importances_,X_train_final.columns)),columns=['value','Feature'])\n",
    "feature_df=feature_imp.sort_values(by='value',ascending=False)\n",
    "selected_feaures=list(feature_df[feature_df['value']>=50]['Feature'])"
   ]
  },
  {
   "cell_type": "code",
   "execution_count": 45,
   "metadata": {},
   "outputs": [
    {
     "data": {
      "application/vnd.plotly.v1+json": {
       "config": {
        "linkText": "Export to plot.ly",
        "plotlyServerURL": "https://plot.ly",
        "showLink": false
       },
       "data": [
        {
         "marker": {
          "color": "rgba(43,13,150,0.8)",
          "line": {
           "color": "rgba(10,13,10,1.0)",
           "width": 1.5
          }
         },
         "orientation": "h",
         "type": "bar",
         "x": [
          385,
          393,
          396,
          437,
          453,
          459,
          460,
          492,
          496,
          501,
          635,
          687,
          1098,
          1235,
          1325
         ],
         "y": [
          "DAYS_ID_PUBLISH",
          "CREDIT_CNT_DRAWINGS_ATM_CURRENT",
          "INSTA_AMT_PAYMENT",
          "DAYS_REGISTRATION",
          "BUREAU_AMT_CREDIT_SUM_DEBT",
          "INSTA_NUM_INSTALMENT_VERSION",
          "AMT_CREDITAMT_GOODS_PRICE_ratio",
          "DAYS_BIRTH",
          "OVERDUE_DAY",
          "POS_CNT_INSTALMENT_FUTURE",
          "PREV_CNT_PAYMENT",
          "DAYS_EMPLOYED",
          "EXT_SOURCE_3",
          "EXT_SOURCE_2",
          "EXT_SOURCE_1"
         ]
        }
       ],
       "layout": {
        "autosize": false,
        "bargap": 0.3,
        "height": 700,
        "template": {
         "data": {
          "bar": [
           {
            "error_x": {
             "color": "rgb(51,51,51)"
            },
            "error_y": {
             "color": "rgb(51,51,51)"
            },
            "marker": {
             "line": {
              "color": "rgb(237,237,237)",
              "width": 0.5
             }
            },
            "type": "bar"
           }
          ],
          "barpolar": [
           {
            "marker": {
             "line": {
              "color": "rgb(237,237,237)",
              "width": 0.5
             }
            },
            "type": "barpolar"
           }
          ],
          "carpet": [
           {
            "aaxis": {
             "endlinecolor": "rgb(51,51,51)",
             "gridcolor": "white",
             "linecolor": "white",
             "minorgridcolor": "white",
             "startlinecolor": "rgb(51,51,51)"
            },
            "baxis": {
             "endlinecolor": "rgb(51,51,51)",
             "gridcolor": "white",
             "linecolor": "white",
             "minorgridcolor": "white",
             "startlinecolor": "rgb(51,51,51)"
            },
            "type": "carpet"
           }
          ],
          "choropleth": [
           {
            "colorbar": {
             "outlinewidth": 0,
             "tickcolor": "rgb(237,237,237)",
             "ticklen": 6,
             "ticks": "inside"
            },
            "type": "choropleth"
           }
          ],
          "contour": [
           {
            "colorbar": {
             "outlinewidth": 0,
             "tickcolor": "rgb(237,237,237)",
             "ticklen": 6,
             "ticks": "inside"
            },
            "colorscale": [
             [
              0,
              "rgb(20,44,66)"
             ],
             [
              1,
              "rgb(90,179,244)"
             ]
            ],
            "type": "contour"
           }
          ],
          "contourcarpet": [
           {
            "colorbar": {
             "outlinewidth": 0,
             "tickcolor": "rgb(237,237,237)",
             "ticklen": 6,
             "ticks": "inside"
            },
            "type": "contourcarpet"
           }
          ],
          "heatmap": [
           {
            "colorbar": {
             "outlinewidth": 0,
             "tickcolor": "rgb(237,237,237)",
             "ticklen": 6,
             "ticks": "inside"
            },
            "colorscale": [
             [
              0,
              "rgb(20,44,66)"
             ],
             [
              1,
              "rgb(90,179,244)"
             ]
            ],
            "type": "heatmap"
           }
          ],
          "heatmapgl": [
           {
            "colorbar": {
             "outlinewidth": 0,
             "tickcolor": "rgb(237,237,237)",
             "ticklen": 6,
             "ticks": "inside"
            },
            "colorscale": [
             [
              0,
              "rgb(20,44,66)"
             ],
             [
              1,
              "rgb(90,179,244)"
             ]
            ],
            "type": "heatmapgl"
           }
          ],
          "histogram": [
           {
            "marker": {
             "colorbar": {
              "outlinewidth": 0,
              "tickcolor": "rgb(237,237,237)",
              "ticklen": 6,
              "ticks": "inside"
             }
            },
            "type": "histogram"
           }
          ],
          "histogram2d": [
           {
            "colorbar": {
             "outlinewidth": 0,
             "tickcolor": "rgb(237,237,237)",
             "ticklen": 6,
             "ticks": "inside"
            },
            "colorscale": [
             [
              0,
              "rgb(20,44,66)"
             ],
             [
              1,
              "rgb(90,179,244)"
             ]
            ],
            "type": "histogram2d"
           }
          ],
          "histogram2dcontour": [
           {
            "colorbar": {
             "outlinewidth": 0,
             "tickcolor": "rgb(237,237,237)",
             "ticklen": 6,
             "ticks": "inside"
            },
            "colorscale": [
             [
              0,
              "rgb(20,44,66)"
             ],
             [
              1,
              "rgb(90,179,244)"
             ]
            ],
            "type": "histogram2dcontour"
           }
          ],
          "mesh3d": [
           {
            "colorbar": {
             "outlinewidth": 0,
             "tickcolor": "rgb(237,237,237)",
             "ticklen": 6,
             "ticks": "inside"
            },
            "type": "mesh3d"
           }
          ],
          "parcoords": [
           {
            "line": {
             "colorbar": {
              "outlinewidth": 0,
              "tickcolor": "rgb(237,237,237)",
              "ticklen": 6,
              "ticks": "inside"
             }
            },
            "type": "parcoords"
           }
          ],
          "pie": [
           {
            "automargin": true,
            "type": "pie"
           }
          ],
          "scatter": [
           {
            "marker": {
             "colorbar": {
              "outlinewidth": 0,
              "tickcolor": "rgb(237,237,237)",
              "ticklen": 6,
              "ticks": "inside"
             }
            },
            "type": "scatter"
           }
          ],
          "scatter3d": [
           {
            "line": {
             "colorbar": {
              "outlinewidth": 0,
              "tickcolor": "rgb(237,237,237)",
              "ticklen": 6,
              "ticks": "inside"
             }
            },
            "marker": {
             "colorbar": {
              "outlinewidth": 0,
              "tickcolor": "rgb(237,237,237)",
              "ticklen": 6,
              "ticks": "inside"
             }
            },
            "type": "scatter3d"
           }
          ],
          "scattercarpet": [
           {
            "marker": {
             "colorbar": {
              "outlinewidth": 0,
              "tickcolor": "rgb(237,237,237)",
              "ticklen": 6,
              "ticks": "inside"
             }
            },
            "type": "scattercarpet"
           }
          ],
          "scattergeo": [
           {
            "marker": {
             "colorbar": {
              "outlinewidth": 0,
              "tickcolor": "rgb(237,237,237)",
              "ticklen": 6,
              "ticks": "inside"
             }
            },
            "type": "scattergeo"
           }
          ],
          "scattergl": [
           {
            "marker": {
             "colorbar": {
              "outlinewidth": 0,
              "tickcolor": "rgb(237,237,237)",
              "ticklen": 6,
              "ticks": "inside"
             }
            },
            "type": "scattergl"
           }
          ],
          "scattermapbox": [
           {
            "marker": {
             "colorbar": {
              "outlinewidth": 0,
              "tickcolor": "rgb(237,237,237)",
              "ticklen": 6,
              "ticks": "inside"
             }
            },
            "type": "scattermapbox"
           }
          ],
          "scatterpolar": [
           {
            "marker": {
             "colorbar": {
              "outlinewidth": 0,
              "tickcolor": "rgb(237,237,237)",
              "ticklen": 6,
              "ticks": "inside"
             }
            },
            "type": "scatterpolar"
           }
          ],
          "scatterpolargl": [
           {
            "marker": {
             "colorbar": {
              "outlinewidth": 0,
              "tickcolor": "rgb(237,237,237)",
              "ticklen": 6,
              "ticks": "inside"
             }
            },
            "type": "scatterpolargl"
           }
          ],
          "scatterternary": [
           {
            "marker": {
             "colorbar": {
              "outlinewidth": 0,
              "tickcolor": "rgb(237,237,237)",
              "ticklen": 6,
              "ticks": "inside"
             }
            },
            "type": "scatterternary"
           }
          ],
          "surface": [
           {
            "colorbar": {
             "outlinewidth": 0,
             "tickcolor": "rgb(237,237,237)",
             "ticklen": 6,
             "ticks": "inside"
            },
            "colorscale": [
             [
              0,
              "rgb(20,44,66)"
             ],
             [
              1,
              "rgb(90,179,244)"
             ]
            ],
            "type": "surface"
           }
          ],
          "table": [
           {
            "cells": {
             "fill": {
              "color": "rgb(237,237,237)"
             },
             "line": {
              "color": "white"
             }
            },
            "header": {
             "fill": {
              "color": "rgb(217,217,217)"
             },
             "line": {
              "color": "white"
             }
            },
            "type": "table"
           }
          ]
         },
         "layout": {
          "annotationdefaults": {
           "arrowhead": 0,
           "arrowwidth": 1
          },
          "autotypenumbers": "strict",
          "coloraxis": {
           "colorbar": {
            "outlinewidth": 0,
            "tickcolor": "rgb(237,237,237)",
            "ticklen": 6,
            "ticks": "inside"
           }
          },
          "colorscale": {
           "sequential": [
            [
             0,
             "rgb(20,44,66)"
            ],
            [
             1,
             "rgb(90,179,244)"
            ]
           ],
           "sequentialminus": [
            [
             0,
             "rgb(20,44,66)"
            ],
            [
             1,
             "rgb(90,179,244)"
            ]
           ]
          },
          "colorway": [
           "#F8766D",
           "#A3A500",
           "#00BF7D",
           "#00B0F6",
           "#E76BF3"
          ],
          "font": {
           "color": "rgb(51,51,51)"
          },
          "geo": {
           "bgcolor": "white",
           "lakecolor": "white",
           "landcolor": "rgb(237,237,237)",
           "showlakes": true,
           "showland": true,
           "subunitcolor": "white"
          },
          "hoverlabel": {
           "align": "left"
          },
          "hovermode": "closest",
          "paper_bgcolor": "white",
          "plot_bgcolor": "rgb(237,237,237)",
          "polar": {
           "angularaxis": {
            "gridcolor": "white",
            "linecolor": "white",
            "showgrid": true,
            "tickcolor": "rgb(51,51,51)",
            "ticks": "outside"
           },
           "bgcolor": "rgb(237,237,237)",
           "radialaxis": {
            "gridcolor": "white",
            "linecolor": "white",
            "showgrid": true,
            "tickcolor": "rgb(51,51,51)",
            "ticks": "outside"
           }
          },
          "scene": {
           "xaxis": {
            "backgroundcolor": "rgb(237,237,237)",
            "gridcolor": "white",
            "gridwidth": 2,
            "linecolor": "white",
            "showbackground": true,
            "showgrid": true,
            "tickcolor": "rgb(51,51,51)",
            "ticks": "outside",
            "zerolinecolor": "white"
           },
           "yaxis": {
            "backgroundcolor": "rgb(237,237,237)",
            "gridcolor": "white",
            "gridwidth": 2,
            "linecolor": "white",
            "showbackground": true,
            "showgrid": true,
            "tickcolor": "rgb(51,51,51)",
            "ticks": "outside",
            "zerolinecolor": "white"
           },
           "zaxis": {
            "backgroundcolor": "rgb(237,237,237)",
            "gridcolor": "white",
            "gridwidth": 2,
            "linecolor": "white",
            "showbackground": true,
            "showgrid": true,
            "tickcolor": "rgb(51,51,51)",
            "ticks": "outside",
            "zerolinecolor": "white"
           }
          },
          "shapedefaults": {
           "fillcolor": "black",
           "line": {
            "width": 0
           },
           "opacity": 0.3
          },
          "ternary": {
           "aaxis": {
            "gridcolor": "white",
            "linecolor": "white",
            "showgrid": true,
            "tickcolor": "rgb(51,51,51)",
            "ticks": "outside"
           },
           "baxis": {
            "gridcolor": "white",
            "linecolor": "white",
            "showgrid": true,
            "tickcolor": "rgb(51,51,51)",
            "ticks": "outside"
           },
           "bgcolor": "rgb(237,237,237)",
           "caxis": {
            "gridcolor": "white",
            "linecolor": "white",
            "showgrid": true,
            "tickcolor": "rgb(51,51,51)",
            "ticks": "outside"
           }
          },
          "xaxis": {
           "automargin": true,
           "gridcolor": "white",
           "linecolor": "white",
           "showgrid": true,
           "tickcolor": "rgb(51,51,51)",
           "ticks": "outside",
           "title": {
            "standoff": 15
           },
           "zerolinecolor": "white"
          },
          "yaxis": {
           "automargin": true,
           "gridcolor": "white",
           "linecolor": "white",
           "showgrid": true,
           "tickcolor": "rgb(51,51,51)",
           "ticks": "outside",
           "title": {
            "standoff": 15
           },
           "zerolinecolor": "white"
          }
         }
        },
        "title": {
         "text": "Top 15 important features"
        },
        "width": 1000,
        "xaxis": {
         "title": {
          "text": "Importance value"
         }
        },
        "yaxis": {
         "automargin": true
        }
       }
      },
      "text/html": [
       "<div>                            <div id=\"6d41b731-799d-4b85-bfea-2242cf9f038c\" class=\"plotly-graph-div\" style=\"height:700px; width:1000px;\"></div>            <script type=\"text/javascript\">                require([\"plotly\"], function(Plotly) {                    window.PLOTLYENV=window.PLOTLYENV || {};                                    if (document.getElementById(\"6d41b731-799d-4b85-bfea-2242cf9f038c\")) {                    Plotly.newPlot(                        \"6d41b731-799d-4b85-bfea-2242cf9f038c\",                        [{\"marker\": {\"color\": \"rgba(43,13,150,0.8)\", \"line\": {\"color\": \"rgba(10,13,10,1.0)\", \"width\": 1.5}}, \"orientation\": \"h\", \"type\": \"bar\", \"x\": [385, 393, 396, 437, 453, 459, 460, 492, 496, 501, 635, 687, 1098, 1235, 1325], \"y\": [\"DAYS_ID_PUBLISH\", \"CREDIT_CNT_DRAWINGS_ATM_CURRENT\", \"INSTA_AMT_PAYMENT\", \"DAYS_REGISTRATION\", \"BUREAU_AMT_CREDIT_SUM_DEBT\", \"INSTA_NUM_INSTALMENT_VERSION\", \"AMT_CREDITAMT_GOODS_PRICE_ratio\", \"DAYS_BIRTH\", \"OVERDUE_DAY\", \"POS_CNT_INSTALMENT_FUTURE\", \"PREV_CNT_PAYMENT\", \"DAYS_EMPLOYED\", \"EXT_SOURCE_3\", \"EXT_SOURCE_2\", \"EXT_SOURCE_1\"]}],                        {\"autosize\": false, \"bargap\": 0.3, \"height\": 700, \"template\": {\"data\": {\"bar\": [{\"error_x\": {\"color\": \"rgb(51,51,51)\"}, \"error_y\": {\"color\": \"rgb(51,51,51)\"}, \"marker\": {\"line\": {\"color\": \"rgb(237,237,237)\", \"width\": 0.5}}, \"type\": \"bar\"}], \"barpolar\": [{\"marker\": {\"line\": {\"color\": \"rgb(237,237,237)\", \"width\": 0.5}}, \"type\": \"barpolar\"}], \"carpet\": [{\"aaxis\": {\"endlinecolor\": \"rgb(51,51,51)\", \"gridcolor\": \"white\", \"linecolor\": \"white\", \"minorgridcolor\": \"white\", \"startlinecolor\": \"rgb(51,51,51)\"}, \"baxis\": {\"endlinecolor\": \"rgb(51,51,51)\", \"gridcolor\": \"white\", \"linecolor\": \"white\", \"minorgridcolor\": \"white\", \"startlinecolor\": \"rgb(51,51,51)\"}, \"type\": \"carpet\"}], \"choropleth\": [{\"colorbar\": {\"outlinewidth\": 0, \"tickcolor\": \"rgb(237,237,237)\", \"ticklen\": 6, \"ticks\": \"inside\"}, \"type\": \"choropleth\"}], \"contour\": [{\"colorbar\": {\"outlinewidth\": 0, \"tickcolor\": \"rgb(237,237,237)\", \"ticklen\": 6, \"ticks\": \"inside\"}, \"colorscale\": [[0, \"rgb(20,44,66)\"], [1, \"rgb(90,179,244)\"]], \"type\": \"contour\"}], \"contourcarpet\": [{\"colorbar\": {\"outlinewidth\": 0, \"tickcolor\": \"rgb(237,237,237)\", \"ticklen\": 6, \"ticks\": \"inside\"}, \"type\": \"contourcarpet\"}], \"heatmap\": [{\"colorbar\": {\"outlinewidth\": 0, \"tickcolor\": \"rgb(237,237,237)\", \"ticklen\": 6, \"ticks\": \"inside\"}, \"colorscale\": [[0, \"rgb(20,44,66)\"], [1, \"rgb(90,179,244)\"]], \"type\": \"heatmap\"}], \"heatmapgl\": [{\"colorbar\": {\"outlinewidth\": 0, \"tickcolor\": \"rgb(237,237,237)\", \"ticklen\": 6, \"ticks\": \"inside\"}, \"colorscale\": [[0, \"rgb(20,44,66)\"], [1, \"rgb(90,179,244)\"]], \"type\": \"heatmapgl\"}], \"histogram\": [{\"marker\": {\"colorbar\": {\"outlinewidth\": 0, \"tickcolor\": \"rgb(237,237,237)\", \"ticklen\": 6, \"ticks\": \"inside\"}}, \"type\": \"histogram\"}], \"histogram2d\": [{\"colorbar\": {\"outlinewidth\": 0, \"tickcolor\": \"rgb(237,237,237)\", \"ticklen\": 6, \"ticks\": \"inside\"}, \"colorscale\": [[0, \"rgb(20,44,66)\"], [1, \"rgb(90,179,244)\"]], \"type\": \"histogram2d\"}], \"histogram2dcontour\": [{\"colorbar\": {\"outlinewidth\": 0, \"tickcolor\": \"rgb(237,237,237)\", \"ticklen\": 6, \"ticks\": \"inside\"}, \"colorscale\": [[0, \"rgb(20,44,66)\"], [1, \"rgb(90,179,244)\"]], \"type\": \"histogram2dcontour\"}], \"mesh3d\": [{\"colorbar\": {\"outlinewidth\": 0, \"tickcolor\": \"rgb(237,237,237)\", \"ticklen\": 6, \"ticks\": \"inside\"}, \"type\": \"mesh3d\"}], \"parcoords\": [{\"line\": {\"colorbar\": {\"outlinewidth\": 0, \"tickcolor\": \"rgb(237,237,237)\", \"ticklen\": 6, \"ticks\": \"inside\"}}, \"type\": \"parcoords\"}], \"pie\": [{\"automargin\": true, \"type\": \"pie\"}], \"scatter\": [{\"marker\": {\"colorbar\": {\"outlinewidth\": 0, \"tickcolor\": \"rgb(237,237,237)\", \"ticklen\": 6, \"ticks\": \"inside\"}}, \"type\": \"scatter\"}], \"scatter3d\": [{\"line\": {\"colorbar\": {\"outlinewidth\": 0, \"tickcolor\": \"rgb(237,237,237)\", \"ticklen\": 6, \"ticks\": \"inside\"}}, \"marker\": {\"colorbar\": {\"outlinewidth\": 0, \"tickcolor\": \"rgb(237,237,237)\", \"ticklen\": 6, \"ticks\": \"inside\"}}, \"type\": \"scatter3d\"}], \"scattercarpet\": [{\"marker\": {\"colorbar\": {\"outlinewidth\": 0, \"tickcolor\": \"rgb(237,237,237)\", \"ticklen\": 6, \"ticks\": \"inside\"}}, \"type\": \"scattercarpet\"}], \"scattergeo\": [{\"marker\": {\"colorbar\": {\"outlinewidth\": 0, \"tickcolor\": \"rgb(237,237,237)\", \"ticklen\": 6, \"ticks\": \"inside\"}}, \"type\": \"scattergeo\"}], \"scattergl\": [{\"marker\": {\"colorbar\": {\"outlinewidth\": 0, \"tickcolor\": \"rgb(237,237,237)\", \"ticklen\": 6, \"ticks\": \"inside\"}}, \"type\": \"scattergl\"}], \"scattermapbox\": [{\"marker\": {\"colorbar\": {\"outlinewidth\": 0, \"tickcolor\": \"rgb(237,237,237)\", \"ticklen\": 6, \"ticks\": \"inside\"}}, \"type\": \"scattermapbox\"}], \"scatterpolar\": [{\"marker\": {\"colorbar\": {\"outlinewidth\": 0, \"tickcolor\": \"rgb(237,237,237)\", \"ticklen\": 6, \"ticks\": \"inside\"}}, \"type\": \"scatterpolar\"}], \"scatterpolargl\": [{\"marker\": {\"colorbar\": {\"outlinewidth\": 0, \"tickcolor\": \"rgb(237,237,237)\", \"ticklen\": 6, \"ticks\": \"inside\"}}, \"type\": \"scatterpolargl\"}], \"scatterternary\": [{\"marker\": {\"colorbar\": {\"outlinewidth\": 0, \"tickcolor\": \"rgb(237,237,237)\", \"ticklen\": 6, \"ticks\": \"inside\"}}, \"type\": \"scatterternary\"}], \"surface\": [{\"colorbar\": {\"outlinewidth\": 0, \"tickcolor\": \"rgb(237,237,237)\", \"ticklen\": 6, \"ticks\": \"inside\"}, \"colorscale\": [[0, \"rgb(20,44,66)\"], [1, \"rgb(90,179,244)\"]], \"type\": \"surface\"}], \"table\": [{\"cells\": {\"fill\": {\"color\": \"rgb(237,237,237)\"}, \"line\": {\"color\": \"white\"}}, \"header\": {\"fill\": {\"color\": \"rgb(217,217,217)\"}, \"line\": {\"color\": \"white\"}}, \"type\": \"table\"}]}, \"layout\": {\"annotationdefaults\": {\"arrowhead\": 0, \"arrowwidth\": 1}, \"autotypenumbers\": \"strict\", \"coloraxis\": {\"colorbar\": {\"outlinewidth\": 0, \"tickcolor\": \"rgb(237,237,237)\", \"ticklen\": 6, \"ticks\": \"inside\"}}, \"colorscale\": {\"sequential\": [[0, \"rgb(20,44,66)\"], [1, \"rgb(90,179,244)\"]], \"sequentialminus\": [[0, \"rgb(20,44,66)\"], [1, \"rgb(90,179,244)\"]]}, \"colorway\": [\"#F8766D\", \"#A3A500\", \"#00BF7D\", \"#00B0F6\", \"#E76BF3\"], \"font\": {\"color\": \"rgb(51,51,51)\"}, \"geo\": {\"bgcolor\": \"white\", \"lakecolor\": \"white\", \"landcolor\": \"rgb(237,237,237)\", \"showlakes\": true, \"showland\": true, \"subunitcolor\": \"white\"}, \"hoverlabel\": {\"align\": \"left\"}, \"hovermode\": \"closest\", \"paper_bgcolor\": \"white\", \"plot_bgcolor\": \"rgb(237,237,237)\", \"polar\": {\"angularaxis\": {\"gridcolor\": \"white\", \"linecolor\": \"white\", \"showgrid\": true, \"tickcolor\": \"rgb(51,51,51)\", \"ticks\": \"outside\"}, \"bgcolor\": \"rgb(237,237,237)\", \"radialaxis\": {\"gridcolor\": \"white\", \"linecolor\": \"white\", \"showgrid\": true, \"tickcolor\": \"rgb(51,51,51)\", \"ticks\": \"outside\"}}, \"scene\": {\"xaxis\": {\"backgroundcolor\": \"rgb(237,237,237)\", \"gridcolor\": \"white\", \"gridwidth\": 2, \"linecolor\": \"white\", \"showbackground\": true, \"showgrid\": true, \"tickcolor\": \"rgb(51,51,51)\", \"ticks\": \"outside\", \"zerolinecolor\": \"white\"}, \"yaxis\": {\"backgroundcolor\": \"rgb(237,237,237)\", \"gridcolor\": \"white\", \"gridwidth\": 2, \"linecolor\": \"white\", \"showbackground\": true, \"showgrid\": true, \"tickcolor\": \"rgb(51,51,51)\", \"ticks\": \"outside\", \"zerolinecolor\": \"white\"}, \"zaxis\": {\"backgroundcolor\": \"rgb(237,237,237)\", \"gridcolor\": \"white\", \"gridwidth\": 2, \"linecolor\": \"white\", \"showbackground\": true, \"showgrid\": true, \"tickcolor\": \"rgb(51,51,51)\", \"ticks\": \"outside\", \"zerolinecolor\": \"white\"}}, \"shapedefaults\": {\"fillcolor\": \"black\", \"line\": {\"width\": 0}, \"opacity\": 0.3}, \"ternary\": {\"aaxis\": {\"gridcolor\": \"white\", \"linecolor\": \"white\", \"showgrid\": true, \"tickcolor\": \"rgb(51,51,51)\", \"ticks\": \"outside\"}, \"baxis\": {\"gridcolor\": \"white\", \"linecolor\": \"white\", \"showgrid\": true, \"tickcolor\": \"rgb(51,51,51)\", \"ticks\": \"outside\"}, \"bgcolor\": \"rgb(237,237,237)\", \"caxis\": {\"gridcolor\": \"white\", \"linecolor\": \"white\", \"showgrid\": true, \"tickcolor\": \"rgb(51,51,51)\", \"ticks\": \"outside\"}}, \"xaxis\": {\"automargin\": true, \"gridcolor\": \"white\", \"linecolor\": \"white\", \"showgrid\": true, \"tickcolor\": \"rgb(51,51,51)\", \"ticks\": \"outside\", \"title\": {\"standoff\": 15}, \"zerolinecolor\": \"white\"}, \"yaxis\": {\"automargin\": true, \"gridcolor\": \"white\", \"linecolor\": \"white\", \"showgrid\": true, \"tickcolor\": \"rgb(51,51,51)\", \"ticks\": \"outside\", \"title\": {\"standoff\": 15}, \"zerolinecolor\": \"white\"}}}, \"title\": {\"text\": \"Top 15 important features\"}, \"width\": 1000, \"xaxis\": {\"title\": {\"text\": \"Importance value\"}}, \"yaxis\": {\"automargin\": true}},                        {\"responsive\": true}                    ).then(function(){\n",
       "                            \n",
       "var gd = document.getElementById('6d41b731-799d-4b85-bfea-2242cf9f038c');\n",
       "var x = new MutationObserver(function (mutations, observer) {{\n",
       "        var display = window.getComputedStyle(gd).display;\n",
       "        if (!display || display === 'none') {{\n",
       "            console.log([gd, 'removed!']);\n",
       "            Plotly.purge(gd);\n",
       "            observer.disconnect();\n",
       "        }}\n",
       "}});\n",
       "\n",
       "// Listen for the removal of the full notebook cells\n",
       "var notebookContainer = gd.closest('#notebook-container');\n",
       "if (notebookContainer) {{\n",
       "    x.observe(notebookContainer, {childList: true});\n",
       "}}\n",
       "\n",
       "// Listen for the clearing of the current output cell\n",
       "var outputEl = gd.closest('.output');\n",
       "if (outputEl) {{\n",
       "    x.observe(outputEl, {childList: true});\n",
       "}}\n",
       "\n",
       "                        })                };                });            </script>        </div>"
      ]
     },
     "metadata": {},
     "output_type": "display_data"
    }
   ],
   "source": [
    "data1=feature_df.head(15)\n",
    "data=[go.Bar(x=data1.sort_values(by='value')['value'],y=data1.sort_values(by='value')['Feature'],orientation='h',\n",
    "            marker=dict(color='rgba(43,13,150,0.8)',\n",
    "                        line=dict(color='rgba(10,13,10,1.0)',width=1.5)\n",
    "                       ))]\n",
    "layout=go.Layout(yaxis=dict(automargin=True),\n",
    "                 title=\"Top 15 important features\",\n",
    "                xaxis=dict(title='Importance value'),\n",
    "                autosize=False,\n",
    "                width=1000,\n",
    "                height=700,\n",
    "                bargap=0.3)\n",
    "fig=go.Figure(data=data,layout=layout)\n",
    "fig.layout.template=\"ggplot2\"\n",
    "py.iplot(fig)"
   ]
  },
  {
   "cell_type": "markdown",
   "metadata": {},
   "source": [
    "# 八、 模型训练与调参"
   ]
  },
  {
   "cell_type": "markdown",
   "metadata": {},
   "source": [
    "## 确定逻辑回归参数"
   ]
  },
  {
   "cell_type": "code",
   "execution_count": 52,
   "metadata": {},
   "outputs": [],
   "source": [
    "X_val_final=X_val_final.rename(columns=lambda x:re.sub('[^A-Za-z0-9_]+','',x))"
   ]
  },
  {
   "cell_type": "code",
   "execution_count": 53,
   "metadata": {},
   "outputs": [
    {
     "name": "stdout",
     "output_type": "stream",
     "text": [
      "For alpha 0.001,cross validation AUC score 0.4868041149734228\n",
      "For alpha 0.01,cross validation AUC score 0.49154186633786257\n",
      "For alpha 0.1,cross validation AUC score 0.5573840714181477\n",
      "For alpha 1.0,cross validation AUC score 0.5433010570812368\n",
      "For alpha 10.0,cross validation AUC score 0.5314461860611518\n"
     ]
    },
    {
     "data": {
      "image/png": "[encoded data removed]",
      "text/plain": [
       "<Figure size 432x288 with 1 Axes>"
      ]
     },
     "metadata": {
      "needs_background": "light"
     },
     "output_type": "display_data"
    },
    {
     "name": "stdout",
     "output_type": "stream",
     "text": [
      "The Optimal C value is: 0.1\n"
     ]
    }
   ],
   "source": [
    "def cv_plot(alpha,auc):\n",
    "    fig,ax=plt.subplots()\n",
    "    ax.plot(np.log10(alpha),auc,c='b')\n",
    "    plt.grid()\n",
    "    plt.xticks(np.log10(alpha))\n",
    "    plt.title(\"Cross Validation Error for each alpha\")\n",
    "    plt.xlabel(\"Alpha i's\")\n",
    "    plt.ylabel(\"Error measure\")\n",
    "    plt.show()\n",
    "alpha=np.logspace(-3,1,5)\n",
    "cv_auc_score=[]\n",
    "for i in alpha:\n",
    "    model_log=SGDClassifier(alpha=i,penalty='l1',class_weight='balanced',loss='log',random_state=28)\n",
    "    model_log.fit(X_train_final[selected_feaures],y_train)\n",
    "    y_pred_prob=model_log.predict_proba(X_val_final[selected_feaures])[:,1]\n",
    "    cv_auc_score.append(AUC(y_pred_prob,y_val))\n",
    "    print('For alpha {0},cross validation AUC score {1}'.format(i,AUC(y_pred_prob,y_val)))\n",
    "cv_plot(alpha,cv_auc_score)\n",
    "print('The Optimal C value is:',alpha[np.argmax(cv_auc_score)])"
   ]
  },
  {
   "cell_type": "markdown",
   "metadata": {},
   "source": [
    "## 对LightGBM进行网格调参"
   ]
  },
  {
   "cell_type": "code",
   "execution_count": 55,
   "metadata": {},
   "outputs": [],
   "source": [
    "X_val_final=X_val_final.rename(columns=lambda x:re.sub('[^A-Za-z0-9_]+','',x))"
   ]
  },
  {
   "cell_type": "markdown",
   "metadata": {},
   "source": [
    "### 确定max_depth 和 num_leaves"
   ]
  },
  {
   "cell_type": "code",
   "execution_count": 59,
   "metadata": {
    "scrolled": true
   },
   "outputs": [
    {
     "name": "stdout",
     "output_type": "stream",
     "text": [
      "LigthGBM GridSearchCV AUC Score: 0.7667272277945394\n",
      "最优参数：\n",
      "{'max_depth': 7, 'num_leaves': 110}\n"
     ]
    }
   ],
   "source": [
    "model_lgb=lgb.LGBMClassifier(boosting_type='gbdt',\n",
    "                        objective='binary',\n",
    "                        metrics='auc',\n",
    "                        n_estimators=200,\n",
    "                        learning_rate=0.1,\n",
    "                        bagging_fraction=0.8,\n",
    "                        feature_fraction=0.8)\n",
    "parameters={'max_depth':range(4,8,1),'num_leaves':range(10,150,10)}\n",
    "clf=GridSearchCV(model_lgb,parameters,cv=3,verbose=2)\n",
    "clf.fit(X_train_final[selected_feaures],y_train)\n",
    "score_test=roc_auc_score(y_val,clf.predict_proba(X_val_final[selected_feaures])[:,1])\n",
    "print('LigthGBM GridSearchCV AUC Score:',score_test)\n",
    "print('最优参数：')\n",
    "print(clf.best_params_)"
   ]
  },
  {
   "cell_type": "markdown",
   "metadata": {},
   "source": [
    "### 确定min_data_in_leaf 和 max_bin "
   ]
  },
  {
   "cell_type": "code",
   "execution_count": 60,
   "metadata": {
    "scrolled": true
   },
   "outputs": [
    {
     "name": "stdout",
     "output_type": "stream",
     "text": [
      "Fitting 3 folds for each of 20 candidates, totalling 60 fits\n",
      "[LightGBM] [Warning] feature_fraction is set=0.8, colsample_bytree=1.0 will be ignored. Current value: feature_fraction=0.8\n",
      "[LightGBM] [Warning] min_data_in_leaf is set=30, min_child_samples=20 will be ignored. Current value: min_data_in_leaf=30\n",
      "[LightGBM] [Warning] bagging_fraction is set=0.8, subsample=1.0 will be ignored. Current value: bagging_fraction=0.8\n",
      "[CV] END ....................max_bin=10, min_data_in_leaf=30; total time=  11.0s\n",
      "[LightGBM] [Warning] feature_fraction is set=0.8, colsample_bytree=1.0 will be ignored. Current value: feature_fraction=0.8\n",
      "[LightGBM] [Warning] min_data_in_leaf is set=30, min_child_samples=20 will be ignored. Current value: min_data_in_leaf=30\n",
      "[LightGBM] [Warning] bagging_fraction is set=0.8, subsample=1.0 will be ignored. Current value: bagging_fraction=0.8\n",
      "[CV] END ....................max_bin=10, min_data_in_leaf=30; total time=  11.2s\n",
      "[LightGBM] [Warning] feature_fraction is set=0.8, colsample_bytree=1.0 will be ignored. Current value: feature_fraction=0.8\n",
      "[LightGBM] [Warning] min_data_in_leaf is set=30, min_child_samples=20 will be ignored. Current value: min_data_in_leaf=30\n",
      "[LightGBM] [Warning] bagging_fraction is set=0.8, subsample=1.0 will be ignored. Current value: bagging_fraction=0.8\n",
      "[CV] END ....................max_bin=10, min_data_in_leaf=30; total time=  11.3s\n",
      "[LightGBM] [Warning] feature_fraction is set=0.8, colsample_bytree=1.0 will be ignored. Current value: feature_fraction=0.8\n",
      "[LightGBM] [Warning] min_data_in_leaf is set=40, min_child_samples=20 will be ignored. Current value: min_data_in_leaf=40\n",
      "[LightGBM] [Warning] bagging_fraction is set=0.8, subsample=1.0 will be ignored. Current value: bagging_fraction=0.8\n",
      "[CV] END ....................max_bin=10, min_data_in_leaf=40; total time=  12.0s\n",
      "[LightGBM] [Warning] feature_fraction is set=0.8, colsample_bytree=1.0 will be ignored. Current value: feature_fraction=0.8\n",
      "[LightGBM] [Warning] min_data_in_leaf is set=40, min_child_samples=20 will be ignored. Current value: min_data_in_leaf=40\n",
      "[LightGBM] [Warning] bagging_fraction is set=0.8, subsample=1.0 will be ignored. Current value: bagging_fraction=0.8\n",
      "[CV] END ....................max_bin=10, min_data_in_leaf=40; total time=  11.6s\n",
      "[LightGBM] [Warning] feature_fraction is set=0.8, colsample_bytree=1.0 will be ignored. Current value: feature_fraction=0.8\n",
      "[LightGBM] [Warning] min_data_in_leaf is set=40, min_child_samples=20 will be ignored. Current value: min_data_in_leaf=40\n",
      "[LightGBM] [Warning] bagging_fraction is set=0.8, subsample=1.0 will be ignored. Current value: bagging_fraction=0.8\n",
      "[CV] END ....................max_bin=10, min_data_in_leaf=40; total time=  11.8s\n",
      "[LightGBM] [Warning] feature_fraction is set=0.8, colsample_bytree=1.0 will be ignored. Current value: feature_fraction=0.8\n",
      "[LightGBM] [Warning] min_data_in_leaf is set=50, min_child_samples=20 will be ignored. Current value: min_data_in_leaf=50\n",
      "[LightGBM] [Warning] bagging_fraction is set=0.8, subsample=1.0 will be ignored. Current value: bagging_fraction=0.8\n",
      "[CV] END ....................max_bin=10, min_data_in_leaf=50; total time=  12.3s\n",
      "[LightGBM] [Warning] feature_fraction is set=0.8, colsample_bytree=1.0 will be ignored. Current value: feature_fraction=0.8\n",
      "[LightGBM] [Warning] min_data_in_leaf is set=50, min_child_samples=20 will be ignored. Current value: min_data_in_leaf=50\n",
      "[LightGBM] [Warning] bagging_fraction is set=0.8, subsample=1.0 will be ignored. Current value: bagging_fraction=0.8\n",
      "[CV] END ....................max_bin=10, min_data_in_leaf=50; total time=  12.3s\n",
      "[LightGBM] [Warning] feature_fraction is set=0.8, colsample_bytree=1.0 will be ignored. Current value: feature_fraction=0.8\n",
      "[LightGBM] [Warning] min_data_in_leaf is set=50, min_child_samples=20 will be ignored. Current value: min_data_in_leaf=50\n",
      "[LightGBM] [Warning] bagging_fraction is set=0.8, subsample=1.0 will be ignored. Current value: bagging_fraction=0.8\n",
      "[CV] END ....................max_bin=10, min_data_in_leaf=50; total time=  13.2s\n",
      "[LightGBM] [Warning] feature_fraction is set=0.8, colsample_bytree=1.0 will be ignored. Current value: feature_fraction=0.8\n",
      "[LightGBM] [Warning] min_data_in_leaf is set=60, min_child_samples=20 will be ignored. Current value: min_data_in_leaf=60\n",
      "[LightGBM] [Warning] bagging_fraction is set=0.8, subsample=1.0 will be ignored. Current value: bagging_fraction=0.8\n",
      "[CV] END ....................max_bin=10, min_data_in_leaf=60; total time=  13.1s\n",
      "[LightGBM] [Warning] feature_fraction is set=0.8, colsample_bytree=1.0 will be ignored. Current value: feature_fraction=0.8\n",
      "[LightGBM] [Warning] min_data_in_leaf is set=60, min_child_samples=20 will be ignored. Current value: min_data_in_leaf=60\n",
      "[LightGBM] [Warning] bagging_fraction is set=0.8, subsample=1.0 will be ignored. Current value: bagging_fraction=0.8\n",
      "[CV] END ....................max_bin=10, min_data_in_leaf=60; total time=  12.9s\n",
      "[LightGBM] [Warning] feature_fraction is set=0.8, colsample_bytree=1.0 will be ignored. Current value: feature_fraction=0.8\n",
      "[LightGBM] [Warning] min_data_in_leaf is set=60, min_child_samples=20 will be ignored. Current value: min_data_in_leaf=60\n",
      "[LightGBM] [Warning] bagging_fraction is set=0.8, subsample=1.0 will be ignored. Current value: bagging_fraction=0.8\n",
      "[CV] END ....................max_bin=10, min_data_in_leaf=60; total time=  12.8s\n",
      "[LightGBM] [Warning] feature_fraction is set=0.8, colsample_bytree=1.0 will be ignored. Current value: feature_fraction=0.8\n",
      "[LightGBM] [Warning] min_data_in_leaf is set=70, min_child_samples=20 will be ignored. Current value: min_data_in_leaf=70\n",
      "[LightGBM] [Warning] bagging_fraction is set=0.8, subsample=1.0 will be ignored. Current value: bagging_fraction=0.8\n",
      "[CV] END ....................max_bin=10, min_data_in_leaf=70; total time=  16.2s\n",
      "[LightGBM] [Warning] feature_fraction is set=0.8, colsample_bytree=1.0 will be ignored. Current value: feature_fraction=0.8\n",
      "[LightGBM] [Warning] min_data_in_leaf is set=70, min_child_samples=20 will be ignored. Current value: min_data_in_leaf=70\n",
      "[LightGBM] [Warning] bagging_fraction is set=0.8, subsample=1.0 will be ignored. Current value: bagging_fraction=0.8\n",
      "[CV] END ....................max_bin=10, min_data_in_leaf=70; total time=  12.2s\n",
      "[LightGBM] [Warning] feature_fraction is set=0.8, colsample_bytree=1.0 will be ignored. Current value: feature_fraction=0.8\n",
      "[LightGBM] [Warning] min_data_in_leaf is set=70, min_child_samples=20 will be ignored. Current value: min_data_in_leaf=70\n",
      "[LightGBM] [Warning] bagging_fraction is set=0.8, subsample=1.0 will be ignored. Current value: bagging_fraction=0.8\n",
      "[CV] END ....................max_bin=10, min_data_in_leaf=70; total time=  11.8s\n",
      "[LightGBM] [Warning] feature_fraction is set=0.8, colsample_bytree=1.0 will be ignored. Current value: feature_fraction=0.8\n",
      "[LightGBM] [Warning] min_data_in_leaf is set=30, min_child_samples=20 will be ignored. Current value: min_data_in_leaf=30\n",
      "[LightGBM] [Warning] bagging_fraction is set=0.8, subsample=1.0 will be ignored. Current value: bagging_fraction=0.8\n",
      "[CV] END ....................max_bin=20, min_data_in_leaf=30; total time=  11.8s\n",
      "[LightGBM] [Warning] feature_fraction is set=0.8, colsample_bytree=1.0 will be ignored. Current value: feature_fraction=0.8\n",
      "[LightGBM] [Warning] min_data_in_leaf is set=30, min_child_samples=20 will be ignored. Current value: min_data_in_leaf=30\n",
      "[LightGBM] [Warning] bagging_fraction is set=0.8, subsample=1.0 will be ignored. Current value: bagging_fraction=0.8\n",
      "[CV] END ....................max_bin=20, min_data_in_leaf=30; total time=  11.3s\n",
      "[LightGBM] [Warning] feature_fraction is set=0.8, colsample_bytree=1.0 will be ignored. Current value: feature_fraction=0.8\n",
      "[LightGBM] [Warning] min_data_in_leaf is set=30, min_child_samples=20 will be ignored. Current value: min_data_in_leaf=30\n",
      "[LightGBM] [Warning] bagging_fraction is set=0.8, subsample=1.0 will be ignored. Current value: bagging_fraction=0.8\n",
      "[CV] END ....................max_bin=20, min_data_in_leaf=30; total time=  11.5s\n",
      "[LightGBM] [Warning] feature_fraction is set=0.8, colsample_bytree=1.0 will be ignored. Current value: feature_fraction=0.8\n",
      "[LightGBM] [Warning] min_data_in_leaf is set=40, min_child_samples=20 will be ignored. Current value: min_data_in_leaf=40\n",
      "[LightGBM] [Warning] bagging_fraction is set=0.8, subsample=1.0 will be ignored. Current value: bagging_fraction=0.8\n"
     ]
    },
    {
     "name": "stdout",
     "output_type": "stream",
     "text": [
      "[CV] END ....................max_bin=20, min_data_in_leaf=40; total time=  11.4s\n",
      "[LightGBM] [Warning] feature_fraction is set=0.8, colsample_bytree=1.0 will be ignored. Current value: feature_fraction=0.8\n",
      "[LightGBM] [Warning] min_data_in_leaf is set=40, min_child_samples=20 will be ignored. Current value: min_data_in_leaf=40\n",
      "[LightGBM] [Warning] bagging_fraction is set=0.8, subsample=1.0 will be ignored. Current value: bagging_fraction=0.8\n",
      "[CV] END ....................max_bin=20, min_data_in_leaf=40; total time=  11.2s\n",
      "[LightGBM] [Warning] feature_fraction is set=0.8, colsample_bytree=1.0 will be ignored. Current value: feature_fraction=0.8\n",
      "[LightGBM] [Warning] min_data_in_leaf is set=40, min_child_samples=20 will be ignored. Current value: min_data_in_leaf=40\n",
      "[LightGBM] [Warning] bagging_fraction is set=0.8, subsample=1.0 will be ignored. Current value: bagging_fraction=0.8\n",
      "[CV] END ....................max_bin=20, min_data_in_leaf=40; total time=  11.8s\n",
      "[LightGBM] [Warning] feature_fraction is set=0.8, colsample_bytree=1.0 will be ignored. Current value: feature_fraction=0.8\n",
      "[LightGBM] [Warning] min_data_in_leaf is set=50, min_child_samples=20 will be ignored. Current value: min_data_in_leaf=50\n",
      "[LightGBM] [Warning] bagging_fraction is set=0.8, subsample=1.0 will be ignored. Current value: bagging_fraction=0.8\n",
      "[CV] END ....................max_bin=20, min_data_in_leaf=50; total time=  12.6s\n",
      "[LightGBM] [Warning] feature_fraction is set=0.8, colsample_bytree=1.0 will be ignored. Current value: feature_fraction=0.8\n",
      "[LightGBM] [Warning] min_data_in_leaf is set=50, min_child_samples=20 will be ignored. Current value: min_data_in_leaf=50\n",
      "[LightGBM] [Warning] bagging_fraction is set=0.8, subsample=1.0 will be ignored. Current value: bagging_fraction=0.8\n",
      "[CV] END ....................max_bin=20, min_data_in_leaf=50; total time=  13.1s\n",
      "[LightGBM] [Warning] feature_fraction is set=0.8, colsample_bytree=1.0 will be ignored. Current value: feature_fraction=0.8\n",
      "[LightGBM] [Warning] min_data_in_leaf is set=50, min_child_samples=20 will be ignored. Current value: min_data_in_leaf=50\n",
      "[LightGBM] [Warning] bagging_fraction is set=0.8, subsample=1.0 will be ignored. Current value: bagging_fraction=0.8\n",
      "[CV] END ....................max_bin=20, min_data_in_leaf=50; total time=  11.9s\n",
      "[LightGBM] [Warning] feature_fraction is set=0.8, colsample_bytree=1.0 will be ignored. Current value: feature_fraction=0.8\n",
      "[LightGBM] [Warning] min_data_in_leaf is set=60, min_child_samples=20 will be ignored. Current value: min_data_in_leaf=60\n",
      "[LightGBM] [Warning] bagging_fraction is set=0.8, subsample=1.0 will be ignored. Current value: bagging_fraction=0.8\n",
      "[CV] END ....................max_bin=20, min_data_in_leaf=60; total time=  13.2s\n",
      "[LightGBM] [Warning] feature_fraction is set=0.8, colsample_bytree=1.0 will be ignored. Current value: feature_fraction=0.8\n",
      "[LightGBM] [Warning] min_data_in_leaf is set=60, min_child_samples=20 will be ignored. Current value: min_data_in_leaf=60\n",
      "[LightGBM] [Warning] bagging_fraction is set=0.8, subsample=1.0 will be ignored. Current value: bagging_fraction=0.8\n",
      "[CV] END ....................max_bin=20, min_data_in_leaf=60; total time=  11.5s\n",
      "[LightGBM] [Warning] feature_fraction is set=0.8, colsample_bytree=1.0 will be ignored. Current value: feature_fraction=0.8\n",
      "[LightGBM] [Warning] min_data_in_leaf is set=60, min_child_samples=20 will be ignored. Current value: min_data_in_leaf=60\n",
      "[LightGBM] [Warning] bagging_fraction is set=0.8, subsample=1.0 will be ignored. Current value: bagging_fraction=0.8\n",
      "[CV] END ....................max_bin=20, min_data_in_leaf=60; total time=  12.1s\n",
      "[LightGBM] [Warning] feature_fraction is set=0.8, colsample_bytree=1.0 will be ignored. Current value: feature_fraction=0.8\n",
      "[LightGBM] [Warning] min_data_in_leaf is set=70, min_child_samples=20 will be ignored. Current value: min_data_in_leaf=70\n",
      "[LightGBM] [Warning] bagging_fraction is set=0.8, subsample=1.0 will be ignored. Current value: bagging_fraction=0.8\n",
      "[CV] END ....................max_bin=20, min_data_in_leaf=70; total time=  12.0s\n",
      "[LightGBM] [Warning] feature_fraction is set=0.8, colsample_bytree=1.0 will be ignored. Current value: feature_fraction=0.8\n",
      "[LightGBM] [Warning] min_data_in_leaf is set=70, min_child_samples=20 will be ignored. Current value: min_data_in_leaf=70\n",
      "[LightGBM] [Warning] bagging_fraction is set=0.8, subsample=1.0 will be ignored. Current value: bagging_fraction=0.8\n",
      "[CV] END ....................max_bin=20, min_data_in_leaf=70; total time=  12.2s\n",
      "[LightGBM] [Warning] feature_fraction is set=0.8, colsample_bytree=1.0 will be ignored. Current value: feature_fraction=0.8\n",
      "[LightGBM] [Warning] min_data_in_leaf is set=70, min_child_samples=20 will be ignored. Current value: min_data_in_leaf=70\n",
      "[LightGBM] [Warning] bagging_fraction is set=0.8, subsample=1.0 will be ignored. Current value: bagging_fraction=0.8\n",
      "[CV] END ....................max_bin=20, min_data_in_leaf=70; total time=  13.1s\n",
      "[LightGBM] [Warning] feature_fraction is set=0.8, colsample_bytree=1.0 will be ignored. Current value: feature_fraction=0.8\n",
      "[LightGBM] [Warning] min_data_in_leaf is set=30, min_child_samples=20 will be ignored. Current value: min_data_in_leaf=30\n",
      "[LightGBM] [Warning] bagging_fraction is set=0.8, subsample=1.0 will be ignored. Current value: bagging_fraction=0.8\n",
      "[CV] END ....................max_bin=30, min_data_in_leaf=30; total time=  12.0s\n",
      "[LightGBM] [Warning] feature_fraction is set=0.8, colsample_bytree=1.0 will be ignored. Current value: feature_fraction=0.8\n",
      "[LightGBM] [Warning] min_data_in_leaf is set=30, min_child_samples=20 will be ignored. Current value: min_data_in_leaf=30\n",
      "[LightGBM] [Warning] bagging_fraction is set=0.8, subsample=1.0 will be ignored. Current value: bagging_fraction=0.8\n",
      "[CV] END ....................max_bin=30, min_data_in_leaf=30; total time=  12.2s\n",
      "[LightGBM] [Warning] feature_fraction is set=0.8, colsample_bytree=1.0 will be ignored. Current value: feature_fraction=0.8\n",
      "[LightGBM] [Warning] min_data_in_leaf is set=30, min_child_samples=20 will be ignored. Current value: min_data_in_leaf=30\n",
      "[LightGBM] [Warning] bagging_fraction is set=0.8, subsample=1.0 will be ignored. Current value: bagging_fraction=0.8\n",
      "[CV] END ....................max_bin=30, min_data_in_leaf=30; total time=  11.9s\n",
      "[LightGBM] [Warning] feature_fraction is set=0.8, colsample_bytree=1.0 will be ignored. Current value: feature_fraction=0.8\n",
      "[LightGBM] [Warning] min_data_in_leaf is set=40, min_child_samples=20 will be ignored. Current value: min_data_in_leaf=40\n",
      "[LightGBM] [Warning] bagging_fraction is set=0.8, subsample=1.0 will be ignored. Current value: bagging_fraction=0.8\n",
      "[CV] END ....................max_bin=30, min_data_in_leaf=40; total time=  12.4s\n",
      "[LightGBM] [Warning] feature_fraction is set=0.8, colsample_bytree=1.0 will be ignored. Current value: feature_fraction=0.8\n",
      "[LightGBM] [Warning] min_data_in_leaf is set=40, min_child_samples=20 will be ignored. Current value: min_data_in_leaf=40\n",
      "[LightGBM] [Warning] bagging_fraction is set=0.8, subsample=1.0 will be ignored. Current value: bagging_fraction=0.8\n",
      "[CV] END ....................max_bin=30, min_data_in_leaf=40; total time=  11.9s\n",
      "[LightGBM] [Warning] feature_fraction is set=0.8, colsample_bytree=1.0 will be ignored. Current value: feature_fraction=0.8\n",
      "[LightGBM] [Warning] min_data_in_leaf is set=40, min_child_samples=20 will be ignored. Current value: min_data_in_leaf=40\n",
      "[LightGBM] [Warning] bagging_fraction is set=0.8, subsample=1.0 will be ignored. Current value: bagging_fraction=0.8\n",
      "[CV] END ....................max_bin=30, min_data_in_leaf=40; total time=  11.9s\n",
      "[LightGBM] [Warning] feature_fraction is set=0.8, colsample_bytree=1.0 will be ignored. Current value: feature_fraction=0.8\n",
      "[LightGBM] [Warning] min_data_in_leaf is set=50, min_child_samples=20 will be ignored. Current value: min_data_in_leaf=50\n",
      "[LightGBM] [Warning] bagging_fraction is set=0.8, subsample=1.0 will be ignored. Current value: bagging_fraction=0.8\n",
      "[CV] END ....................max_bin=30, min_data_in_leaf=50; total time=  11.8s\n",
      "[LightGBM] [Warning] feature_fraction is set=0.8, colsample_bytree=1.0 will be ignored. Current value: feature_fraction=0.8\n",
      "[LightGBM] [Warning] min_data_in_leaf is set=50, min_child_samples=20 will be ignored. Current value: min_data_in_leaf=50\n",
      "[LightGBM] [Warning] bagging_fraction is set=0.8, subsample=1.0 will be ignored. Current value: bagging_fraction=0.8\n"
     ]
    },
    {
     "name": "stdout",
     "output_type": "stream",
     "text": [
      "[CV] END ....................max_bin=30, min_data_in_leaf=50; total time=  11.8s\n",
      "[LightGBM] [Warning] feature_fraction is set=0.8, colsample_bytree=1.0 will be ignored. Current value: feature_fraction=0.8\n",
      "[LightGBM] [Warning] min_data_in_leaf is set=50, min_child_samples=20 will be ignored. Current value: min_data_in_leaf=50\n",
      "[LightGBM] [Warning] bagging_fraction is set=0.8, subsample=1.0 will be ignored. Current value: bagging_fraction=0.8\n",
      "[CV] END ....................max_bin=30, min_data_in_leaf=50; total time=  12.2s\n",
      "[LightGBM] [Warning] feature_fraction is set=0.8, colsample_bytree=1.0 will be ignored. Current value: feature_fraction=0.8\n",
      "[LightGBM] [Warning] min_data_in_leaf is set=60, min_child_samples=20 will be ignored. Current value: min_data_in_leaf=60\n",
      "[LightGBM] [Warning] bagging_fraction is set=0.8, subsample=1.0 will be ignored. Current value: bagging_fraction=0.8\n",
      "[CV] END ....................max_bin=30, min_data_in_leaf=60; total time=  12.2s\n",
      "[LightGBM] [Warning] feature_fraction is set=0.8, colsample_bytree=1.0 will be ignored. Current value: feature_fraction=0.8\n",
      "[LightGBM] [Warning] min_data_in_leaf is set=60, min_child_samples=20 will be ignored. Current value: min_data_in_leaf=60\n",
      "[LightGBM] [Warning] bagging_fraction is set=0.8, subsample=1.0 will be ignored. Current value: bagging_fraction=0.8\n",
      "[CV] END ....................max_bin=30, min_data_in_leaf=60; total time=  11.7s\n",
      "[LightGBM] [Warning] feature_fraction is set=0.8, colsample_bytree=1.0 will be ignored. Current value: feature_fraction=0.8\n",
      "[LightGBM] [Warning] min_data_in_leaf is set=60, min_child_samples=20 will be ignored. Current value: min_data_in_leaf=60\n",
      "[LightGBM] [Warning] bagging_fraction is set=0.8, subsample=1.0 will be ignored. Current value: bagging_fraction=0.8\n",
      "[CV] END ....................max_bin=30, min_data_in_leaf=60; total time=  11.7s\n",
      "[LightGBM] [Warning] feature_fraction is set=0.8, colsample_bytree=1.0 will be ignored. Current value: feature_fraction=0.8\n",
      "[LightGBM] [Warning] min_data_in_leaf is set=70, min_child_samples=20 will be ignored. Current value: min_data_in_leaf=70\n",
      "[LightGBM] [Warning] bagging_fraction is set=0.8, subsample=1.0 will be ignored. Current value: bagging_fraction=0.8\n",
      "[CV] END ....................max_bin=30, min_data_in_leaf=70; total time=  12.7s\n",
      "[LightGBM] [Warning] feature_fraction is set=0.8, colsample_bytree=1.0 will be ignored. Current value: feature_fraction=0.8\n",
      "[LightGBM] [Warning] min_data_in_leaf is set=70, min_child_samples=20 will be ignored. Current value: min_data_in_leaf=70\n",
      "[LightGBM] [Warning] bagging_fraction is set=0.8, subsample=1.0 will be ignored. Current value: bagging_fraction=0.8\n",
      "[CV] END ....................max_bin=30, min_data_in_leaf=70; total time=  12.5s\n",
      "[LightGBM] [Warning] feature_fraction is set=0.8, colsample_bytree=1.0 will be ignored. Current value: feature_fraction=0.8\n",
      "[LightGBM] [Warning] min_data_in_leaf is set=70, min_child_samples=20 will be ignored. Current value: min_data_in_leaf=70\n",
      "[LightGBM] [Warning] bagging_fraction is set=0.8, subsample=1.0 will be ignored. Current value: bagging_fraction=0.8\n",
      "[CV] END ....................max_bin=30, min_data_in_leaf=70; total time=  11.9s\n",
      "[LightGBM] [Warning] feature_fraction is set=0.8, colsample_bytree=1.0 will be ignored. Current value: feature_fraction=0.8\n",
      "[LightGBM] [Warning] min_data_in_leaf is set=30, min_child_samples=20 will be ignored. Current value: min_data_in_leaf=30\n",
      "[LightGBM] [Warning] bagging_fraction is set=0.8, subsample=1.0 will be ignored. Current value: bagging_fraction=0.8\n",
      "[CV] END ....................max_bin=40, min_data_in_leaf=30; total time=  11.7s\n",
      "[LightGBM] [Warning] feature_fraction is set=0.8, colsample_bytree=1.0 will be ignored. Current value: feature_fraction=0.8\n",
      "[LightGBM] [Warning] min_data_in_leaf is set=30, min_child_samples=20 will be ignored. Current value: min_data_in_leaf=30\n",
      "[LightGBM] [Warning] bagging_fraction is set=0.8, subsample=1.0 will be ignored. Current value: bagging_fraction=0.8\n",
      "[CV] END ....................max_bin=40, min_data_in_leaf=30; total time=  11.9s\n",
      "[LightGBM] [Warning] feature_fraction is set=0.8, colsample_bytree=1.0 will be ignored. Current value: feature_fraction=0.8\n",
      "[LightGBM] [Warning] min_data_in_leaf is set=30, min_child_samples=20 will be ignored. Current value: min_data_in_leaf=30\n",
      "[LightGBM] [Warning] bagging_fraction is set=0.8, subsample=1.0 will be ignored. Current value: bagging_fraction=0.8\n",
      "[CV] END ....................max_bin=40, min_data_in_leaf=30; total time=  11.9s\n",
      "[LightGBM] [Warning] feature_fraction is set=0.8, colsample_bytree=1.0 will be ignored. Current value: feature_fraction=0.8\n",
      "[LightGBM] [Warning] min_data_in_leaf is set=40, min_child_samples=20 will be ignored. Current value: min_data_in_leaf=40\n",
      "[LightGBM] [Warning] bagging_fraction is set=0.8, subsample=1.0 will be ignored. Current value: bagging_fraction=0.8\n",
      "[CV] END ....................max_bin=40, min_data_in_leaf=40; total time=  12.1s\n",
      "[LightGBM] [Warning] feature_fraction is set=0.8, colsample_bytree=1.0 will be ignored. Current value: feature_fraction=0.8\n",
      "[LightGBM] [Warning] min_data_in_leaf is set=40, min_child_samples=20 will be ignored. Current value: min_data_in_leaf=40\n",
      "[LightGBM] [Warning] bagging_fraction is set=0.8, subsample=1.0 will be ignored. Current value: bagging_fraction=0.8\n",
      "[CV] END ....................max_bin=40, min_data_in_leaf=40; total time=  11.7s\n",
      "[LightGBM] [Warning] feature_fraction is set=0.8, colsample_bytree=1.0 will be ignored. Current value: feature_fraction=0.8\n",
      "[LightGBM] [Warning] min_data_in_leaf is set=40, min_child_samples=20 will be ignored. Current value: min_data_in_leaf=40\n",
      "[LightGBM] [Warning] bagging_fraction is set=0.8, subsample=1.0 will be ignored. Current value: bagging_fraction=0.8\n",
      "[CV] END ....................max_bin=40, min_data_in_leaf=40; total time=  12.2s\n",
      "[LightGBM] [Warning] feature_fraction is set=0.8, colsample_bytree=1.0 will be ignored. Current value: feature_fraction=0.8\n",
      "[LightGBM] [Warning] min_data_in_leaf is set=50, min_child_samples=20 will be ignored. Current value: min_data_in_leaf=50\n",
      "[LightGBM] [Warning] bagging_fraction is set=0.8, subsample=1.0 will be ignored. Current value: bagging_fraction=0.8\n",
      "[CV] END ....................max_bin=40, min_data_in_leaf=50; total time=  11.9s\n",
      "[LightGBM] [Warning] feature_fraction is set=0.8, colsample_bytree=1.0 will be ignored. Current value: feature_fraction=0.8\n",
      "[LightGBM] [Warning] min_data_in_leaf is set=50, min_child_samples=20 will be ignored. Current value: min_data_in_leaf=50\n",
      "[LightGBM] [Warning] bagging_fraction is set=0.8, subsample=1.0 will be ignored. Current value: bagging_fraction=0.8\n",
      "[CV] END ....................max_bin=40, min_data_in_leaf=50; total time=  11.8s\n",
      "[LightGBM] [Warning] feature_fraction is set=0.8, colsample_bytree=1.0 will be ignored. Current value: feature_fraction=0.8\n",
      "[LightGBM] [Warning] min_data_in_leaf is set=50, min_child_samples=20 will be ignored. Current value: min_data_in_leaf=50\n",
      "[LightGBM] [Warning] bagging_fraction is set=0.8, subsample=1.0 will be ignored. Current value: bagging_fraction=0.8\n",
      "[CV] END ....................max_bin=40, min_data_in_leaf=50; total time=  12.0s\n",
      "[LightGBM] [Warning] feature_fraction is set=0.8, colsample_bytree=1.0 will be ignored. Current value: feature_fraction=0.8\n",
      "[LightGBM] [Warning] min_data_in_leaf is set=60, min_child_samples=20 will be ignored. Current value: min_data_in_leaf=60\n",
      "[LightGBM] [Warning] bagging_fraction is set=0.8, subsample=1.0 will be ignored. Current value: bagging_fraction=0.8\n",
      "[CV] END ....................max_bin=40, min_data_in_leaf=60; total time=  12.0s\n",
      "[LightGBM] [Warning] feature_fraction is set=0.8, colsample_bytree=1.0 will be ignored. Current value: feature_fraction=0.8\n",
      "[LightGBM] [Warning] min_data_in_leaf is set=60, min_child_samples=20 will be ignored. Current value: min_data_in_leaf=60\n",
      "[LightGBM] [Warning] bagging_fraction is set=0.8, subsample=1.0 will be ignored. Current value: bagging_fraction=0.8\n",
      "[CV] END ....................max_bin=40, min_data_in_leaf=60; total time=  12.0s\n",
      "[LightGBM] [Warning] feature_fraction is set=0.8, colsample_bytree=1.0 will be ignored. Current value: feature_fraction=0.8\n",
      "[LightGBM] [Warning] min_data_in_leaf is set=60, min_child_samples=20 will be ignored. Current value: min_data_in_leaf=60\n",
      "[LightGBM] [Warning] bagging_fraction is set=0.8, subsample=1.0 will be ignored. Current value: bagging_fraction=0.8\n"
     ]
    },
    {
     "name": "stdout",
     "output_type": "stream",
     "text": [
      "[CV] END ....................max_bin=40, min_data_in_leaf=60; total time=  12.0s\n",
      "[LightGBM] [Warning] feature_fraction is set=0.8, colsample_bytree=1.0 will be ignored. Current value: feature_fraction=0.8\n",
      "[LightGBM] [Warning] min_data_in_leaf is set=70, min_child_samples=20 will be ignored. Current value: min_data_in_leaf=70\n",
      "[LightGBM] [Warning] bagging_fraction is set=0.8, subsample=1.0 will be ignored. Current value: bagging_fraction=0.8\n",
      "[CV] END ....................max_bin=40, min_data_in_leaf=70; total time=  11.9s\n",
      "[LightGBM] [Warning] feature_fraction is set=0.8, colsample_bytree=1.0 will be ignored. Current value: feature_fraction=0.8\n",
      "[LightGBM] [Warning] min_data_in_leaf is set=70, min_child_samples=20 will be ignored. Current value: min_data_in_leaf=70\n",
      "[LightGBM] [Warning] bagging_fraction is set=0.8, subsample=1.0 will be ignored. Current value: bagging_fraction=0.8\n",
      "[CV] END ....................max_bin=40, min_data_in_leaf=70; total time=  12.4s\n",
      "[LightGBM] [Warning] feature_fraction is set=0.8, colsample_bytree=1.0 will be ignored. Current value: feature_fraction=0.8\n",
      "[LightGBM] [Warning] min_data_in_leaf is set=70, min_child_samples=20 will be ignored. Current value: min_data_in_leaf=70\n",
      "[LightGBM] [Warning] bagging_fraction is set=0.8, subsample=1.0 will be ignored. Current value: bagging_fraction=0.8\n",
      "[CV] END ....................max_bin=40, min_data_in_leaf=70; total time=  12.1s\n",
      "[LightGBM] [Warning] feature_fraction is set=0.8, colsample_bytree=1.0 will be ignored. Current value: feature_fraction=0.8\n",
      "[LightGBM] [Warning] min_data_in_leaf is set=30, min_child_samples=20 will be ignored. Current value: min_data_in_leaf=30\n",
      "[LightGBM] [Warning] bagging_fraction is set=0.8, subsample=1.0 will be ignored. Current value: bagging_fraction=0.8\n",
      "LigthGBM GridSearchCV AUC Score: 0.7655955221411006\n",
      "最优参数：\n",
      "{'max_bin': 30, 'min_data_in_leaf': 30}\n"
     ]
    }
   ],
   "source": [
    "model_lgb=lgb.LGBMClassifier(boosting_type='gbdt',\n",
    "                        objective='binary',\n",
    "                        metrics='auc',\n",
    "                        n_estimators=200,\n",
    "                        is_unbalance=True,\n",
    "                        learning_rate=0.1,\n",
    "                        max_depth=7,\n",
    "                        num_leaves=110,\n",
    "                        bagging_fraction=0.8,\n",
    "                        feature_fraction=0.8)\n",
    "# parameters={'max_bin':range(100,500,50),'min_data_in_leaf':range(100,150,10)}\n",
    "# parameters={'max_bin':range(40,120,20),'min_data_in_leaf':range(70,120,10)}\n",
    "parameters={'max_bin':range(10,50,10),'min_data_in_leaf':range(30,80,10)}\n",
    "clf=GridSearchCV(model_lgb,parameters,cv=3,verbose=2)\n",
    "clf.fit(X_train_final[selected_feaures],y_train)\n",
    "score_test=roc_auc_score(y_val,clf.predict_proba(X_val_final[selected_feaures])[:,1])\n",
    "print('LigthGBM GridSearchCV AUC Score:',score_test)\n",
    "print('最优参数：')\n",
    "print(clf.best_params_)"
   ]
  },
  {
   "cell_type": "markdown",
   "metadata": {},
   "source": [
    "### 确定feature_fraction, bagging_fraction 和 bagging_freq "
   ]
  },
  {
   "cell_type": "code",
   "execution_count": 61,
   "metadata": {
    "scrolled": true
   },
   "outputs": [
    {
     "name": "stdout",
     "output_type": "stream",
     "text": [
      "Fitting 3 folds for each of 125 candidates, totalling 375 fits\n",
      "[LightGBM] [Warning] feature_fraction is set=0.6, colsample_bytree=1.0 will be ignored. Current value: feature_fraction=0.6\n",
      "[LightGBM] [Warning] min_data_in_leaf is set=30, min_child_samples=20 will be ignored. Current value: min_data_in_leaf=30\n",
      "[LightGBM] [Warning] bagging_fraction is set=0.6, subsample=1.0 will be ignored. Current value: bagging_fraction=0.6\n",
      "[LightGBM] [Warning] bagging_freq is set=0, subsample_freq=0 will be ignored. Current value: bagging_freq=0\n",
      "[CV] END bagging_fraction=0.6, bagging_freq=0, feature_fraction=0.6; total time=  10.7s\n",
      "[LightGBM] [Warning] feature_fraction is set=0.6, colsample_bytree=1.0 will be ignored. Current value: feature_fraction=0.6\n",
      "[LightGBM] [Warning] min_data_in_leaf is set=30, min_child_samples=20 will be ignored. Current value: min_data_in_leaf=30\n",
      "[LightGBM] [Warning] bagging_fraction is set=0.6, subsample=1.0 will be ignored. Current value: bagging_fraction=0.6\n",
      "[LightGBM] [Warning] bagging_freq is set=0, subsample_freq=0 will be ignored. Current value: bagging_freq=0\n",
      "[CV] END bagging_fraction=0.6, bagging_freq=0, feature_fraction=0.6; total time=  11.4s\n",
      "[LightGBM] [Warning] feature_fraction is set=0.6, colsample_bytree=1.0 will be ignored. Current value: feature_fraction=0.6\n",
      "[LightGBM] [Warning] min_data_in_leaf is set=30, min_child_samples=20 will be ignored. Current value: min_data_in_leaf=30\n",
      "[LightGBM] [Warning] bagging_fraction is set=0.6, subsample=1.0 will be ignored. Current value: bagging_fraction=0.6\n",
      "[LightGBM] [Warning] bagging_freq is set=0, subsample_freq=0 will be ignored. Current value: bagging_freq=0\n",
      "[CV] END bagging_fraction=0.6, bagging_freq=0, feature_fraction=0.6; total time=  10.8s\n",
      "[LightGBM] [Warning] feature_fraction is set=0.7, colsample_bytree=1.0 will be ignored. Current value: feature_fraction=0.7\n",
      "[LightGBM] [Warning] min_data_in_leaf is set=30, min_child_samples=20 will be ignored. Current value: min_data_in_leaf=30\n",
      "[LightGBM] [Warning] bagging_fraction is set=0.6, subsample=1.0 will be ignored. Current value: bagging_fraction=0.6\n",
      "[LightGBM] [Warning] bagging_freq is set=0, subsample_freq=0 will be ignored. Current value: bagging_freq=0\n",
      "[CV] END bagging_fraction=0.6, bagging_freq=0, feature_fraction=0.7; total time=  11.1s\n",
      "[LightGBM] [Warning] feature_fraction is set=0.7, colsample_bytree=1.0 will be ignored. Current value: feature_fraction=0.7\n",
      "[LightGBM] [Warning] min_data_in_leaf is set=30, min_child_samples=20 will be ignored. Current value: min_data_in_leaf=30\n",
      "[LightGBM] [Warning] bagging_fraction is set=0.6, subsample=1.0 will be ignored. Current value: bagging_fraction=0.6\n",
      "[LightGBM] [Warning] bagging_freq is set=0, subsample_freq=0 will be ignored. Current value: bagging_freq=0\n",
      "[CV] END bagging_fraction=0.6, bagging_freq=0, feature_fraction=0.7; total time=  10.4s\n",
      "[LightGBM] [Warning] feature_fraction is set=0.7, colsample_bytree=1.0 will be ignored. Current value: feature_fraction=0.7\n",
      "[LightGBM] [Warning] min_data_in_leaf is set=30, min_child_samples=20 will be ignored. Current value: min_data_in_leaf=30\n",
      "[LightGBM] [Warning] bagging_fraction is set=0.6, subsample=1.0 will be ignored. Current value: bagging_fraction=0.6\n",
      "[LightGBM] [Warning] bagging_freq is set=0, subsample_freq=0 will be ignored. Current value: bagging_freq=0\n",
      "[CV] END bagging_fraction=0.6, bagging_freq=0, feature_fraction=0.7; total time=  10.9s\n",
      "[LightGBM] [Warning] feature_fraction is set=0.8, colsample_bytree=1.0 will be ignored. Current value: feature_fraction=0.8\n",
      "[LightGBM] [Warning] min_data_in_leaf is set=30, min_child_samples=20 will be ignored. Current value: min_data_in_leaf=30\n",
      "[LightGBM] [Warning] bagging_fraction is set=0.6, subsample=1.0 will be ignored. Current value: bagging_fraction=0.6\n",
      "[LightGBM] [Warning] bagging_freq is set=0, subsample_freq=0 will be ignored. Current value: bagging_freq=0\n",
      "[CV] END bagging_fraction=0.6, bagging_freq=0, feature_fraction=0.8; total time=  11.8s\n",
      "[LightGBM] [Warning] feature_fraction is set=0.8, colsample_bytree=1.0 will be ignored. Current value: feature_fraction=0.8\n",
      "[LightGBM] [Warning] min_data_in_leaf is set=30, min_child_samples=20 will be ignored. Current value: min_data_in_leaf=30\n",
      "[LightGBM] [Warning] bagging_fraction is set=0.6, subsample=1.0 will be ignored. Current value: bagging_fraction=0.6\n",
      "[LightGBM] [Warning] bagging_freq is set=0, subsample_freq=0 will be ignored. Current value: bagging_freq=0\n",
      "[CV] END bagging_fraction=0.6, bagging_freq=0, feature_fraction=0.8; total time=  11.5s\n",
      "[LightGBM] [Warning] feature_fraction is set=0.8, colsample_bytree=1.0 will be ignored. Current value: feature_fraction=0.8\n",
      "[LightGBM] [Warning] min_data_in_leaf is set=30, min_child_samples=20 will be ignored. Current value: min_data_in_leaf=30\n",
      "[LightGBM] [Warning] bagging_fraction is set=0.6, subsample=1.0 will be ignored. Current value: bagging_fraction=0.6\n",
      "[LightGBM] [Warning] bagging_freq is set=0, subsample_freq=0 will be ignored. Current value: bagging_freq=0\n",
      "[CV] END bagging_fraction=0.6, bagging_freq=0, feature_fraction=0.8; total time=  11.6s\n",
      "[LightGBM] [Warning] feature_fraction is set=0.9, colsample_bytree=1.0 will be ignored. Current value: feature_fraction=0.9\n",
      "[LightGBM] [Warning] min_data_in_leaf is set=30, min_child_samples=20 will be ignored. Current value: min_data_in_leaf=30\n",
      "[LightGBM] [Warning] bagging_fraction is set=0.6, subsample=1.0 will be ignored. Current value: bagging_fraction=0.6\n",
      "[LightGBM] [Warning] bagging_freq is set=0, subsample_freq=0 will be ignored. Current value: bagging_freq=0\n",
      "[CV] END bagging_fraction=0.6, bagging_freq=0, feature_fraction=0.9; total time=  12.7s\n",
      "[LightGBM] [Warning] feature_fraction is set=0.9, colsample_bytree=1.0 will be ignored. Current value: feature_fraction=0.9\n",
      "[LightGBM] [Warning] min_data_in_leaf is set=30, min_child_samples=20 will be ignored. Current value: min_data_in_leaf=30\n",
      "[LightGBM] [Warning] bagging_fraction is set=0.6, subsample=1.0 will be ignored. Current value: bagging_fraction=0.6\n",
      "[LightGBM] [Warning] bagging_freq is set=0, subsample_freq=0 will be ignored. Current value: bagging_freq=0\n",
      "[CV] END bagging_fraction=0.6, bagging_freq=0, feature_fraction=0.9; total time=  12.6s\n",
      "[LightGBM] [Warning] feature_fraction is set=0.9, colsample_bytree=1.0 will be ignored. Current value: feature_fraction=0.9\n",
      "[LightGBM] [Warning] min_data_in_leaf is set=30, min_child_samples=20 will be ignored. Current value: min_data_in_leaf=30\n",
      "[LightGBM] [Warning] bagging_fraction is set=0.6, subsample=1.0 will be ignored. Current value: bagging_fraction=0.6\n",
      "[LightGBM] [Warning] bagging_freq is set=0, subsample_freq=0 will be ignored. Current value: bagging_freq=0\n",
      "[CV] END bagging_fraction=0.6, bagging_freq=0, feature_fraction=0.9; total time=  12.3s\n",
      "[LightGBM] [Warning] feature_fraction is set=1.0, colsample_bytree=1.0 will be ignored. Current value: feature_fraction=1.0\n",
      "[LightGBM] [Warning] min_data_in_leaf is set=30, min_child_samples=20 will be ignored. Current value: min_data_in_leaf=30\n",
      "[LightGBM] [Warning] bagging_fraction is set=0.6, subsample=1.0 will be ignored. Current value: bagging_fraction=0.6\n",
      "[LightGBM] [Warning] bagging_freq is set=0, subsample_freq=0 will be ignored. Current value: bagging_freq=0\n",
      "[CV] END bagging_fraction=0.6, bagging_freq=0, feature_fraction=1.0; total time=  14.7s\n",
      "[LightGBM] [Warning] feature_fraction is set=1.0, colsample_bytree=1.0 will be ignored. Current value: feature_fraction=1.0\n",
      "[LightGBM] [Warning] min_data_in_leaf is set=30, min_child_samples=20 will be ignored. Current value: min_data_in_leaf=30\n",
      "[LightGBM] [Warning] bagging_fraction is set=0.6, subsample=1.0 will be ignored. Current value: bagging_fraction=0.6\n",
      "[LightGBM] [Warning] bagging_freq is set=0, subsample_freq=0 will be ignored. Current value: bagging_freq=0\n",
      "[CV] END bagging_fraction=0.6, bagging_freq=0, feature_fraction=1.0; total time=  13.2s\n",
      "[LightGBM] [Warning] feature_fraction is set=1.0, colsample_bytree=1.0 will be ignored. Current value: feature_fraction=1.0\n",
      "[LightGBM] [Warning] min_data_in_leaf is set=30, min_child_samples=20 will be ignored. Current value: min_data_in_leaf=30\n",
      "[LightGBM] [Warning] bagging_fraction is set=0.6, subsample=1.0 will be ignored. Current value: bagging_fraction=0.6\n",
      "[LightGBM] [Warning] bagging_freq is set=0, subsample_freq=0 will be ignored. Current value: bagging_freq=0\n"
     ]
    },
    {
     "name": "stdout",
     "output_type": "stream",
     "text": [
      "[CV] END bagging_fraction=0.6, bagging_freq=0, feature_fraction=1.0; total time=  13.6s\n",
      "[LightGBM] [Warning] feature_fraction is set=0.6, colsample_bytree=1.0 will be ignored. Current value: feature_fraction=0.6\n",
      "[LightGBM] [Warning] min_data_in_leaf is set=30, min_child_samples=20 will be ignored. Current value: min_data_in_leaf=30\n",
      "[LightGBM] [Warning] bagging_fraction is set=0.6, subsample=1.0 will be ignored. Current value: bagging_fraction=0.6\n",
      "[LightGBM] [Warning] bagging_freq is set=2, subsample_freq=0 will be ignored. Current value: bagging_freq=2\n",
      "[CV] END bagging_fraction=0.6, bagging_freq=2, feature_fraction=0.6; total time=   9.8s\n",
      "[LightGBM] [Warning] feature_fraction is set=0.6, colsample_bytree=1.0 will be ignored. Current value: feature_fraction=0.6\n",
      "[LightGBM] [Warning] min_data_in_leaf is set=30, min_child_samples=20 will be ignored. Current value: min_data_in_leaf=30\n",
      "[LightGBM] [Warning] bagging_fraction is set=0.6, subsample=1.0 will be ignored. Current value: bagging_fraction=0.6\n",
      "[LightGBM] [Warning] bagging_freq is set=2, subsample_freq=0 will be ignored. Current value: bagging_freq=2\n",
      "[CV] END bagging_fraction=0.6, bagging_freq=2, feature_fraction=0.6; total time=   9.6s\n",
      "[LightGBM] [Warning] feature_fraction is set=0.6, colsample_bytree=1.0 will be ignored. Current value: feature_fraction=0.6\n",
      "[LightGBM] [Warning] min_data_in_leaf is set=30, min_child_samples=20 will be ignored. Current value: min_data_in_leaf=30\n",
      "[LightGBM] [Warning] bagging_fraction is set=0.6, subsample=1.0 will be ignored. Current value: bagging_fraction=0.6\n",
      "[LightGBM] [Warning] bagging_freq is set=2, subsample_freq=0 will be ignored. Current value: bagging_freq=2\n",
      "[CV] END bagging_fraction=0.6, bagging_freq=2, feature_fraction=0.6; total time=   9.5s\n",
      "[LightGBM] [Warning] feature_fraction is set=0.7, colsample_bytree=1.0 will be ignored. Current value: feature_fraction=0.7\n",
      "[LightGBM] [Warning] min_data_in_leaf is set=30, min_child_samples=20 will be ignored. Current value: min_data_in_leaf=30\n",
      "[LightGBM] [Warning] bagging_fraction is set=0.6, subsample=1.0 will be ignored. Current value: bagging_fraction=0.6\n",
      "[LightGBM] [Warning] bagging_freq is set=2, subsample_freq=0 will be ignored. Current value: bagging_freq=2\n",
      "[CV] END bagging_fraction=0.6, bagging_freq=2, feature_fraction=0.7; total time=   9.8s\n",
      "[LightGBM] [Warning] feature_fraction is set=0.7, colsample_bytree=1.0 will be ignored. Current value: feature_fraction=0.7\n",
      "[LightGBM] [Warning] min_data_in_leaf is set=30, min_child_samples=20 will be ignored. Current value: min_data_in_leaf=30\n",
      "[LightGBM] [Warning] bagging_fraction is set=0.6, subsample=1.0 will be ignored. Current value: bagging_fraction=0.6\n",
      "[LightGBM] [Warning] bagging_freq is set=2, subsample_freq=0 will be ignored. Current value: bagging_freq=2\n",
      "[CV] END bagging_fraction=0.6, bagging_freq=2, feature_fraction=0.7; total time=  10.0s\n",
      "[LightGBM] [Warning] feature_fraction is set=0.7, colsample_bytree=1.0 will be ignored. Current value: feature_fraction=0.7\n",
      "[LightGBM] [Warning] min_data_in_leaf is set=30, min_child_samples=20 will be ignored. Current value: min_data_in_leaf=30\n",
      "[LightGBM] [Warning] bagging_fraction is set=0.6, subsample=1.0 will be ignored. Current value: bagging_fraction=0.6\n",
      "[LightGBM] [Warning] bagging_freq is set=2, subsample_freq=0 will be ignored. Current value: bagging_freq=2\n",
      "[CV] END bagging_fraction=0.6, bagging_freq=2, feature_fraction=0.7; total time=   9.9s\n",
      "[LightGBM] [Warning] feature_fraction is set=0.8, colsample_bytree=1.0 will be ignored. Current value: feature_fraction=0.8\n",
      "[LightGBM] [Warning] min_data_in_leaf is set=30, min_child_samples=20 will be ignored. Current value: min_data_in_leaf=30\n",
      "[LightGBM] [Warning] bagging_fraction is set=0.6, subsample=1.0 will be ignored. Current value: bagging_fraction=0.6\n",
      "[LightGBM] [Warning] bagging_freq is set=2, subsample_freq=0 will be ignored. Current value: bagging_freq=2\n",
      "[CV] END bagging_fraction=0.6, bagging_freq=2, feature_fraction=0.8; total time=  10.8s\n",
      "[LightGBM] [Warning] feature_fraction is set=0.8, colsample_bytree=1.0 will be ignored. Current value: feature_fraction=0.8\n",
      "[LightGBM] [Warning] min_data_in_leaf is set=30, min_child_samples=20 will be ignored. Current value: min_data_in_leaf=30\n",
      "[LightGBM] [Warning] bagging_fraction is set=0.6, subsample=1.0 will be ignored. Current value: bagging_fraction=0.6\n",
      "[LightGBM] [Warning] bagging_freq is set=2, subsample_freq=0 will be ignored. Current value: bagging_freq=2\n",
      "[CV] END bagging_fraction=0.6, bagging_freq=2, feature_fraction=0.8; total time=  10.9s\n",
      "[LightGBM] [Warning] feature_fraction is set=0.8, colsample_bytree=1.0 will be ignored. Current value: feature_fraction=0.8\n",
      "[LightGBM] [Warning] min_data_in_leaf is set=30, min_child_samples=20 will be ignored. Current value: min_data_in_leaf=30\n",
      "[LightGBM] [Warning] bagging_fraction is set=0.6, subsample=1.0 will be ignored. Current value: bagging_fraction=0.6\n",
      "[LightGBM] [Warning] bagging_freq is set=2, subsample_freq=0 will be ignored. Current value: bagging_freq=2\n",
      "[CV] END bagging_fraction=0.6, bagging_freq=2, feature_fraction=0.8; total time=  10.9s\n",
      "[LightGBM] [Warning] feature_fraction is set=0.9, colsample_bytree=1.0 will be ignored. Current value: feature_fraction=0.9\n",
      "[LightGBM] [Warning] min_data_in_leaf is set=30, min_child_samples=20 will be ignored. Current value: min_data_in_leaf=30\n",
      "[LightGBM] [Warning] bagging_fraction is set=0.6, subsample=1.0 will be ignored. Current value: bagging_fraction=0.6\n",
      "[LightGBM] [Warning] bagging_freq is set=2, subsample_freq=0 will be ignored. Current value: bagging_freq=2\n",
      "[CV] END bagging_fraction=0.6, bagging_freq=2, feature_fraction=0.9; total time=  11.5s\n",
      "[LightGBM] [Warning] feature_fraction is set=0.9, colsample_bytree=1.0 will be ignored. Current value: feature_fraction=0.9\n",
      "[LightGBM] [Warning] min_data_in_leaf is set=30, min_child_samples=20 will be ignored. Current value: min_data_in_leaf=30\n",
      "[LightGBM] [Warning] bagging_fraction is set=0.6, subsample=1.0 will be ignored. Current value: bagging_fraction=0.6\n",
      "[LightGBM] [Warning] bagging_freq is set=2, subsample_freq=0 will be ignored. Current value: bagging_freq=2\n",
      "[CV] END bagging_fraction=0.6, bagging_freq=2, feature_fraction=0.9; total time=  11.1s\n",
      "[LightGBM] [Warning] feature_fraction is set=0.9, colsample_bytree=1.0 will be ignored. Current value: feature_fraction=0.9\n",
      "[LightGBM] [Warning] min_data_in_leaf is set=30, min_child_samples=20 will be ignored. Current value: min_data_in_leaf=30\n",
      "[LightGBM] [Warning] bagging_fraction is set=0.6, subsample=1.0 will be ignored. Current value: bagging_fraction=0.6\n",
      "[LightGBM] [Warning] bagging_freq is set=2, subsample_freq=0 will be ignored. Current value: bagging_freq=2\n",
      "[CV] END bagging_fraction=0.6, bagging_freq=2, feature_fraction=0.9; total time=  11.0s\n",
      "[LightGBM] [Warning] feature_fraction is set=1.0, colsample_bytree=1.0 will be ignored. Current value: feature_fraction=1.0\n",
      "[LightGBM] [Warning] min_data_in_leaf is set=30, min_child_samples=20 will be ignored. Current value: min_data_in_leaf=30\n",
      "[LightGBM] [Warning] bagging_fraction is set=0.6, subsample=1.0 will be ignored. Current value: bagging_fraction=0.6\n",
      "[LightGBM] [Warning] bagging_freq is set=2, subsample_freq=0 will be ignored. Current value: bagging_freq=2\n",
      "[CV] END bagging_fraction=0.6, bagging_freq=2, feature_fraction=1.0; total time=  11.6s\n",
      "[LightGBM] [Warning] feature_fraction is set=1.0, colsample_bytree=1.0 will be ignored. Current value: feature_fraction=1.0\n",
      "[LightGBM] [Warning] min_data_in_leaf is set=30, min_child_samples=20 will be ignored. Current value: min_data_in_leaf=30\n",
      "[LightGBM] [Warning] bagging_fraction is set=0.6, subsample=1.0 will be ignored. Current value: bagging_fraction=0.6\n",
      "[LightGBM] [Warning] bagging_freq is set=2, subsample_freq=0 will be ignored. Current value: bagging_freq=2\n",
      "[CV] END bagging_fraction=0.6, bagging_freq=2, feature_fraction=1.0; total time=  11.8s\n",
      "[LightGBM] [Warning] feature_fraction is set=1.0, colsample_bytree=1.0 will be ignored. Current value: feature_fraction=1.0\n",
      "[LightGBM] [Warning] min_data_in_leaf is set=30, min_child_samples=20 will be ignored. Current value: min_data_in_leaf=30\n",
      "[LightGBM] [Warning] bagging_fraction is set=0.6, subsample=1.0 will be ignored. Current value: bagging_fraction=0.6\n",
      "[LightGBM] [Warning] bagging_freq is set=2, subsample_freq=0 will be ignored. Current value: bagging_freq=2\n"
     ]
    },
    {
     "name": "stdout",
     "output_type": "stream",
     "text": [
      "[CV] END bagging_fraction=0.6, bagging_freq=2, feature_fraction=1.0; total time=  11.9s\n",
      "[LightGBM] [Warning] feature_fraction is set=0.6, colsample_bytree=1.0 will be ignored. Current value: feature_fraction=0.6\n",
      "[LightGBM] [Warning] min_data_in_leaf is set=30, min_child_samples=20 will be ignored. Current value: min_data_in_leaf=30\n",
      "[LightGBM] [Warning] bagging_fraction is set=0.6, subsample=1.0 will be ignored. Current value: bagging_fraction=0.6\n",
      "[LightGBM] [Warning] bagging_freq is set=4, subsample_freq=0 will be ignored. Current value: bagging_freq=4\n",
      "[CV] END bagging_fraction=0.6, bagging_freq=4, feature_fraction=0.6; total time=   9.6s\n",
      "[LightGBM] [Warning] feature_fraction is set=0.6, colsample_bytree=1.0 will be ignored. Current value: feature_fraction=0.6\n",
      "[LightGBM] [Warning] min_data_in_leaf is set=30, min_child_samples=20 will be ignored. Current value: min_data_in_leaf=30\n",
      "[LightGBM] [Warning] bagging_fraction is set=0.6, subsample=1.0 will be ignored. Current value: bagging_fraction=0.6\n",
      "[LightGBM] [Warning] bagging_freq is set=4, subsample_freq=0 will be ignored. Current value: bagging_freq=4\n",
      "[CV] END bagging_fraction=0.6, bagging_freq=4, feature_fraction=0.6; total time=   9.5s\n",
      "[LightGBM] [Warning] feature_fraction is set=0.6, colsample_bytree=1.0 will be ignored. Current value: feature_fraction=0.6\n",
      "[LightGBM] [Warning] min_data_in_leaf is set=30, min_child_samples=20 will be ignored. Current value: min_data_in_leaf=30\n",
      "[LightGBM] [Warning] bagging_fraction is set=0.6, subsample=1.0 will be ignored. Current value: bagging_fraction=0.6\n",
      "[LightGBM] [Warning] bagging_freq is set=4, subsample_freq=0 will be ignored. Current value: bagging_freq=4\n",
      "[CV] END bagging_fraction=0.6, bagging_freq=4, feature_fraction=0.6; total time=   9.4s\n",
      "[LightGBM] [Warning] feature_fraction is set=0.7, colsample_bytree=1.0 will be ignored. Current value: feature_fraction=0.7\n",
      "[LightGBM] [Warning] min_data_in_leaf is set=30, min_child_samples=20 will be ignored. Current value: min_data_in_leaf=30\n",
      "[LightGBM] [Warning] bagging_fraction is set=0.6, subsample=1.0 will be ignored. Current value: bagging_fraction=0.6\n",
      "[LightGBM] [Warning] bagging_freq is set=4, subsample_freq=0 will be ignored. Current value: bagging_freq=4\n",
      "[CV] END bagging_fraction=0.6, bagging_freq=4, feature_fraction=0.7; total time=   9.7s\n",
      "[LightGBM] [Warning] feature_fraction is set=0.7, colsample_bytree=1.0 will be ignored. Current value: feature_fraction=0.7\n",
      "[LightGBM] [Warning] min_data_in_leaf is set=30, min_child_samples=20 will be ignored. Current value: min_data_in_leaf=30\n",
      "[LightGBM] [Warning] bagging_fraction is set=0.6, subsample=1.0 will be ignored. Current value: bagging_fraction=0.6\n",
      "[LightGBM] [Warning] bagging_freq is set=4, subsample_freq=0 will be ignored. Current value: bagging_freq=4\n",
      "[CV] END bagging_fraction=0.6, bagging_freq=4, feature_fraction=0.7; total time=   9.8s\n",
      "[LightGBM] [Warning] feature_fraction is set=0.7, colsample_bytree=1.0 will be ignored. Current value: feature_fraction=0.7\n",
      "[LightGBM] [Warning] min_data_in_leaf is set=30, min_child_samples=20 will be ignored. Current value: min_data_in_leaf=30\n",
      "[LightGBM] [Warning] bagging_fraction is set=0.6, subsample=1.0 will be ignored. Current value: bagging_fraction=0.6\n",
      "[LightGBM] [Warning] bagging_freq is set=4, subsample_freq=0 will be ignored. Current value: bagging_freq=4\n",
      "[CV] END bagging_fraction=0.6, bagging_freq=4, feature_fraction=0.7; total time=   9.9s\n",
      "[LightGBM] [Warning] feature_fraction is set=0.8, colsample_bytree=1.0 will be ignored. Current value: feature_fraction=0.8\n",
      "[LightGBM] [Warning] min_data_in_leaf is set=30, min_child_samples=20 will be ignored. Current value: min_data_in_leaf=30\n",
      "[LightGBM] [Warning] bagging_fraction is set=0.6, subsample=1.0 will be ignored. Current value: bagging_fraction=0.6\n",
      "[LightGBM] [Warning] bagging_freq is set=4, subsample_freq=0 will be ignored. Current value: bagging_freq=4\n",
      "[CV] END bagging_fraction=0.6, bagging_freq=4, feature_fraction=0.8; total time=  11.1s\n",
      "[LightGBM] [Warning] feature_fraction is set=0.8, colsample_bytree=1.0 will be ignored. Current value: feature_fraction=0.8\n",
      "[LightGBM] [Warning] min_data_in_leaf is set=30, min_child_samples=20 will be ignored. Current value: min_data_in_leaf=30\n",
      "[LightGBM] [Warning] bagging_fraction is set=0.6, subsample=1.0 will be ignored. Current value: bagging_fraction=0.6\n",
      "[LightGBM] [Warning] bagging_freq is set=4, subsample_freq=0 will be ignored. Current value: bagging_freq=4\n",
      "[CV] END bagging_fraction=0.6, bagging_freq=4, feature_fraction=0.8; total time=  10.4s\n",
      "[LightGBM] [Warning] feature_fraction is set=0.8, colsample_bytree=1.0 will be ignored. Current value: feature_fraction=0.8\n",
      "[LightGBM] [Warning] min_data_in_leaf is set=30, min_child_samples=20 will be ignored. Current value: min_data_in_leaf=30\n",
      "[LightGBM] [Warning] bagging_fraction is set=0.6, subsample=1.0 will be ignored. Current value: bagging_fraction=0.6\n",
      "[LightGBM] [Warning] bagging_freq is set=4, subsample_freq=0 will be ignored. Current value: bagging_freq=4\n",
      "[CV] END bagging_fraction=0.6, bagging_freq=4, feature_fraction=0.8; total time=  10.3s\n",
      "[LightGBM] [Warning] feature_fraction is set=0.9, colsample_bytree=1.0 will be ignored. Current value: feature_fraction=0.9\n",
      "[LightGBM] [Warning] min_data_in_leaf is set=30, min_child_samples=20 will be ignored. Current value: min_data_in_leaf=30\n",
      "[LightGBM] [Warning] bagging_fraction is set=0.6, subsample=1.0 will be ignored. Current value: bagging_fraction=0.6\n",
      "[LightGBM] [Warning] bagging_freq is set=4, subsample_freq=0 will be ignored. Current value: bagging_freq=4\n",
      "[CV] END bagging_fraction=0.6, bagging_freq=4, feature_fraction=0.9; total time=  11.1s\n",
      "[LightGBM] [Warning] feature_fraction is set=0.9, colsample_bytree=1.0 will be ignored. Current value: feature_fraction=0.9\n",
      "[LightGBM] [Warning] min_data_in_leaf is set=30, min_child_samples=20 will be ignored. Current value: min_data_in_leaf=30\n",
      "[LightGBM] [Warning] bagging_fraction is set=0.6, subsample=1.0 will be ignored. Current value: bagging_fraction=0.6\n",
      "[LightGBM] [Warning] bagging_freq is set=4, subsample_freq=0 will be ignored. Current value: bagging_freq=4\n",
      "[CV] END bagging_fraction=0.6, bagging_freq=4, feature_fraction=0.9; total time=  11.3s\n",
      "[LightGBM] [Warning] feature_fraction is set=0.9, colsample_bytree=1.0 will be ignored. Current value: feature_fraction=0.9\n",
      "[LightGBM] [Warning] min_data_in_leaf is set=30, min_child_samples=20 will be ignored. Current value: min_data_in_leaf=30\n",
      "[LightGBM] [Warning] bagging_fraction is set=0.6, subsample=1.0 will be ignored. Current value: bagging_fraction=0.6\n",
      "[LightGBM] [Warning] bagging_freq is set=4, subsample_freq=0 will be ignored. Current value: bagging_freq=4\n",
      "[CV] END bagging_fraction=0.6, bagging_freq=4, feature_fraction=0.9; total time=  10.7s\n",
      "[LightGBM] [Warning] feature_fraction is set=1.0, colsample_bytree=1.0 will be ignored. Current value: feature_fraction=1.0\n",
      "[LightGBM] [Warning] min_data_in_leaf is set=30, min_child_samples=20 will be ignored. Current value: min_data_in_leaf=30\n",
      "[LightGBM] [Warning] bagging_fraction is set=0.6, subsample=1.0 will be ignored. Current value: bagging_fraction=0.6\n",
      "[LightGBM] [Warning] bagging_freq is set=4, subsample_freq=0 will be ignored. Current value: bagging_freq=4\n",
      "[CV] END bagging_fraction=0.6, bagging_freq=4, feature_fraction=1.0; total time=  11.7s\n",
      "[LightGBM] [Warning] feature_fraction is set=1.0, colsample_bytree=1.0 will be ignored. Current value: feature_fraction=1.0\n",
      "[LightGBM] [Warning] min_data_in_leaf is set=30, min_child_samples=20 will be ignored. Current value: min_data_in_leaf=30\n",
      "[LightGBM] [Warning] bagging_fraction is set=0.6, subsample=1.0 will be ignored. Current value: bagging_fraction=0.6\n",
      "[LightGBM] [Warning] bagging_freq is set=4, subsample_freq=0 will be ignored. Current value: bagging_freq=4\n",
      "[CV] END bagging_fraction=0.6, bagging_freq=4, feature_fraction=1.0; total time=  11.7s\n",
      "[LightGBM] [Warning] feature_fraction is set=1.0, colsample_bytree=1.0 will be ignored. Current value: feature_fraction=1.0\n",
      "[LightGBM] [Warning] min_data_in_leaf is set=30, min_child_samples=20 will be ignored. Current value: min_data_in_leaf=30\n",
      "[LightGBM] [Warning] bagging_fraction is set=0.6, subsample=1.0 will be ignored. Current value: bagging_fraction=0.6\n",
      "[LightGBM] [Warning] bagging_freq is set=4, subsample_freq=0 will be ignored. Current value: bagging_freq=4\n"
     ]
    },
    {
     "name": "stdout",
     "output_type": "stream",
     "text": [
      "[CV] END bagging_fraction=0.6, bagging_freq=4, feature_fraction=1.0; total time=  11.5s\n",
      "[LightGBM] [Warning] feature_fraction is set=0.6, colsample_bytree=1.0 will be ignored. Current value: feature_fraction=0.6\n",
      "[LightGBM] [Warning] min_data_in_leaf is set=30, min_child_samples=20 will be ignored. Current value: min_data_in_leaf=30\n",
      "[LightGBM] [Warning] bagging_fraction is set=0.6, subsample=1.0 will be ignored. Current value: bagging_fraction=0.6\n",
      "[LightGBM] [Warning] bagging_freq is set=6, subsample_freq=0 will be ignored. Current value: bagging_freq=6\n",
      "[CV] END bagging_fraction=0.6, bagging_freq=6, feature_fraction=0.6; total time=   9.4s\n",
      "[LightGBM] [Warning] feature_fraction is set=0.6, colsample_bytree=1.0 will be ignored. Current value: feature_fraction=0.6\n",
      "[LightGBM] [Warning] min_data_in_leaf is set=30, min_child_samples=20 will be ignored. Current value: min_data_in_leaf=30\n",
      "[LightGBM] [Warning] bagging_fraction is set=0.6, subsample=1.0 will be ignored. Current value: bagging_fraction=0.6\n",
      "[LightGBM] [Warning] bagging_freq is set=6, subsample_freq=0 will be ignored. Current value: bagging_freq=6\n",
      "[CV] END bagging_fraction=0.6, bagging_freq=6, feature_fraction=0.6; total time=   9.3s\n",
      "[LightGBM] [Warning] feature_fraction is set=0.6, colsample_bytree=1.0 will be ignored. Current value: feature_fraction=0.6\n",
      "[LightGBM] [Warning] min_data_in_leaf is set=30, min_child_samples=20 will be ignored. Current value: min_data_in_leaf=30\n",
      "[LightGBM] [Warning] bagging_fraction is set=0.6, subsample=1.0 will be ignored. Current value: bagging_fraction=0.6\n",
      "[LightGBM] [Warning] bagging_freq is set=6, subsample_freq=0 will be ignored. Current value: bagging_freq=6\n",
      "[CV] END bagging_fraction=0.6, bagging_freq=6, feature_fraction=0.6; total time=   9.3s\n",
      "[LightGBM] [Warning] feature_fraction is set=0.7, colsample_bytree=1.0 will be ignored. Current value: feature_fraction=0.7\n",
      "[LightGBM] [Warning] min_data_in_leaf is set=30, min_child_samples=20 will be ignored. Current value: min_data_in_leaf=30\n",
      "[LightGBM] [Warning] bagging_fraction is set=0.6, subsample=1.0 will be ignored. Current value: bagging_fraction=0.6\n",
      "[LightGBM] [Warning] bagging_freq is set=6, subsample_freq=0 will be ignored. Current value: bagging_freq=6\n",
      "[CV] END bagging_fraction=0.6, bagging_freq=6, feature_fraction=0.7; total time=   9.6s\n",
      "[LightGBM] [Warning] feature_fraction is set=0.7, colsample_bytree=1.0 will be ignored. Current value: feature_fraction=0.7\n",
      "[LightGBM] [Warning] min_data_in_leaf is set=30, min_child_samples=20 will be ignored. Current value: min_data_in_leaf=30\n",
      "[LightGBM] [Warning] bagging_fraction is set=0.6, subsample=1.0 will be ignored. Current value: bagging_fraction=0.6\n",
      "[LightGBM] [Warning] bagging_freq is set=6, subsample_freq=0 will be ignored. Current value: bagging_freq=6\n",
      "[CV] END bagging_fraction=0.6, bagging_freq=6, feature_fraction=0.7; total time=   9.8s\n",
      "[LightGBM] [Warning] feature_fraction is set=0.7, colsample_bytree=1.0 will be ignored. Current value: feature_fraction=0.7\n",
      "[LightGBM] [Warning] min_data_in_leaf is set=30, min_child_samples=20 will be ignored. Current value: min_data_in_leaf=30\n",
      "[LightGBM] [Warning] bagging_fraction is set=0.6, subsample=1.0 will be ignored. Current value: bagging_fraction=0.6\n",
      "[LightGBM] [Warning] bagging_freq is set=6, subsample_freq=0 will be ignored. Current value: bagging_freq=6\n",
      "[CV] END bagging_fraction=0.6, bagging_freq=6, feature_fraction=0.7; total time=   9.6s\n",
      "[LightGBM] [Warning] feature_fraction is set=0.8, colsample_bytree=1.0 will be ignored. Current value: feature_fraction=0.8\n",
      "[LightGBM] [Warning] min_data_in_leaf is set=30, min_child_samples=20 will be ignored. Current value: min_data_in_leaf=30\n",
      "[LightGBM] [Warning] bagging_fraction is set=0.6, subsample=1.0 will be ignored. Current value: bagging_fraction=0.6\n",
      "[LightGBM] [Warning] bagging_freq is set=6, subsample_freq=0 will be ignored. Current value: bagging_freq=6\n",
      "[CV] END bagging_fraction=0.6, bagging_freq=6, feature_fraction=0.8; total time=  10.5s\n",
      "[LightGBM] [Warning] feature_fraction is set=0.8, colsample_bytree=1.0 will be ignored. Current value: feature_fraction=0.8\n",
      "[LightGBM] [Warning] min_data_in_leaf is set=30, min_child_samples=20 will be ignored. Current value: min_data_in_leaf=30\n",
      "[LightGBM] [Warning] bagging_fraction is set=0.6, subsample=1.0 will be ignored. Current value: bagging_fraction=0.6\n",
      "[LightGBM] [Warning] bagging_freq is set=6, subsample_freq=0 will be ignored. Current value: bagging_freq=6\n",
      "[CV] END bagging_fraction=0.6, bagging_freq=6, feature_fraction=0.8; total time=  11.1s\n",
      "[LightGBM] [Warning] feature_fraction is set=0.8, colsample_bytree=1.0 will be ignored. Current value: feature_fraction=0.8\n",
      "[LightGBM] [Warning] min_data_in_leaf is set=30, min_child_samples=20 will be ignored. Current value: min_data_in_leaf=30\n",
      "[LightGBM] [Warning] bagging_fraction is set=0.6, subsample=1.0 will be ignored. Current value: bagging_fraction=0.6\n",
      "[LightGBM] [Warning] bagging_freq is set=6, subsample_freq=0 will be ignored. Current value: bagging_freq=6\n",
      "[CV] END bagging_fraction=0.6, bagging_freq=6, feature_fraction=0.8; total time=  10.3s\n",
      "[LightGBM] [Warning] feature_fraction is set=0.9, colsample_bytree=1.0 will be ignored. Current value: feature_fraction=0.9\n",
      "[LightGBM] [Warning] min_data_in_leaf is set=30, min_child_samples=20 will be ignored. Current value: min_data_in_leaf=30\n",
      "[LightGBM] [Warning] bagging_fraction is set=0.6, subsample=1.0 will be ignored. Current value: bagging_fraction=0.6\n",
      "[LightGBM] [Warning] bagging_freq is set=6, subsample_freq=0 will be ignored. Current value: bagging_freq=6\n",
      "[CV] END bagging_fraction=0.6, bagging_freq=6, feature_fraction=0.9; total time=  11.7s\n",
      "[LightGBM] [Warning] feature_fraction is set=0.9, colsample_bytree=1.0 will be ignored. Current value: feature_fraction=0.9\n",
      "[LightGBM] [Warning] min_data_in_leaf is set=30, min_child_samples=20 will be ignored. Current value: min_data_in_leaf=30\n",
      "[LightGBM] [Warning] bagging_fraction is set=0.6, subsample=1.0 will be ignored. Current value: bagging_fraction=0.6\n",
      "[LightGBM] [Warning] bagging_freq is set=6, subsample_freq=0 will be ignored. Current value: bagging_freq=6\n",
      "[CV] END bagging_fraction=0.6, bagging_freq=6, feature_fraction=0.9; total time=  12.2s\n",
      "[LightGBM] [Warning] feature_fraction is set=0.9, colsample_bytree=1.0 will be ignored. Current value: feature_fraction=0.9\n",
      "[LightGBM] [Warning] min_data_in_leaf is set=30, min_child_samples=20 will be ignored. Current value: min_data_in_leaf=30\n",
      "[LightGBM] [Warning] bagging_fraction is set=0.6, subsample=1.0 will be ignored. Current value: bagging_fraction=0.6\n",
      "[LightGBM] [Warning] bagging_freq is set=6, subsample_freq=0 will be ignored. Current value: bagging_freq=6\n",
      "[CV] END bagging_fraction=0.6, bagging_freq=6, feature_fraction=0.9; total time=  11.1s\n",
      "[LightGBM] [Warning] feature_fraction is set=1.0, colsample_bytree=1.0 will be ignored. Current value: feature_fraction=1.0\n",
      "[LightGBM] [Warning] min_data_in_leaf is set=30, min_child_samples=20 will be ignored. Current value: min_data_in_leaf=30\n",
      "[LightGBM] [Warning] bagging_fraction is set=0.6, subsample=1.0 will be ignored. Current value: bagging_fraction=0.6\n",
      "[LightGBM] [Warning] bagging_freq is set=6, subsample_freq=0 will be ignored. Current value: bagging_freq=6\n",
      "[CV] END bagging_fraction=0.6, bagging_freq=6, feature_fraction=1.0; total time=  12.2s\n",
      "[LightGBM] [Warning] feature_fraction is set=1.0, colsample_bytree=1.0 will be ignored. Current value: feature_fraction=1.0\n",
      "[LightGBM] [Warning] min_data_in_leaf is set=30, min_child_samples=20 will be ignored. Current value: min_data_in_leaf=30\n",
      "[LightGBM] [Warning] bagging_fraction is set=0.6, subsample=1.0 will be ignored. Current value: bagging_fraction=0.6\n",
      "[LightGBM] [Warning] bagging_freq is set=6, subsample_freq=0 will be ignored. Current value: bagging_freq=6\n",
      "[CV] END bagging_fraction=0.6, bagging_freq=6, feature_fraction=1.0; total time=  11.6s\n",
      "[LightGBM] [Warning] feature_fraction is set=1.0, colsample_bytree=1.0 will be ignored. Current value: feature_fraction=1.0\n",
      "[LightGBM] [Warning] min_data_in_leaf is set=30, min_child_samples=20 will be ignored. Current value: min_data_in_leaf=30\n",
      "[LightGBM] [Warning] bagging_fraction is set=0.6, subsample=1.0 will be ignored. Current value: bagging_fraction=0.6\n",
      "[LightGBM] [Warning] bagging_freq is set=6, subsample_freq=0 will be ignored. Current value: bagging_freq=6\n"
     ]
    },
    {
     "name": "stdout",
     "output_type": "stream",
     "text": [
      "[CV] END bagging_fraction=0.6, bagging_freq=6, feature_fraction=1.0; total time=  11.6s\n",
      "[LightGBM] [Warning] feature_fraction is set=0.6, colsample_bytree=1.0 will be ignored. Current value: feature_fraction=0.6\n",
      "[LightGBM] [Warning] min_data_in_leaf is set=30, min_child_samples=20 will be ignored. Current value: min_data_in_leaf=30\n",
      "[LightGBM] [Warning] bagging_fraction is set=0.6, subsample=1.0 will be ignored. Current value: bagging_fraction=0.6\n",
      "[LightGBM] [Warning] bagging_freq is set=8, subsample_freq=0 will be ignored. Current value: bagging_freq=8\n",
      "[CV] END bagging_fraction=0.6, bagging_freq=8, feature_fraction=0.6; total time=   9.5s\n",
      "[LightGBM] [Warning] feature_fraction is set=0.6, colsample_bytree=1.0 will be ignored. Current value: feature_fraction=0.6\n",
      "[LightGBM] [Warning] min_data_in_leaf is set=30, min_child_samples=20 will be ignored. Current value: min_data_in_leaf=30\n",
      "[LightGBM] [Warning] bagging_fraction is set=0.6, subsample=1.0 will be ignored. Current value: bagging_fraction=0.6\n",
      "[LightGBM] [Warning] bagging_freq is set=8, subsample_freq=0 will be ignored. Current value: bagging_freq=8\n",
      "[CV] END bagging_fraction=0.6, bagging_freq=8, feature_fraction=0.6; total time=   9.3s\n",
      "[LightGBM] [Warning] feature_fraction is set=0.6, colsample_bytree=1.0 will be ignored. Current value: feature_fraction=0.6\n",
      "[LightGBM] [Warning] min_data_in_leaf is set=30, min_child_samples=20 will be ignored. Current value: min_data_in_leaf=30\n",
      "[LightGBM] [Warning] bagging_fraction is set=0.6, subsample=1.0 will be ignored. Current value: bagging_fraction=0.6\n",
      "[LightGBM] [Warning] bagging_freq is set=8, subsample_freq=0 will be ignored. Current value: bagging_freq=8\n",
      "[CV] END bagging_fraction=0.6, bagging_freq=8, feature_fraction=0.6; total time=   9.2s\n",
      "[LightGBM] [Warning] feature_fraction is set=0.7, colsample_bytree=1.0 will be ignored. Current value: feature_fraction=0.7\n",
      "[LightGBM] [Warning] min_data_in_leaf is set=30, min_child_samples=20 will be ignored. Current value: min_data_in_leaf=30\n",
      "[LightGBM] [Warning] bagging_fraction is set=0.6, subsample=1.0 will be ignored. Current value: bagging_fraction=0.6\n",
      "[LightGBM] [Warning] bagging_freq is set=8, subsample_freq=0 will be ignored. Current value: bagging_freq=8\n",
      "[CV] END bagging_fraction=0.6, bagging_freq=8, feature_fraction=0.7; total time=   9.7s\n",
      "[LightGBM] [Warning] feature_fraction is set=0.7, colsample_bytree=1.0 will be ignored. Current value: feature_fraction=0.7\n",
      "[LightGBM] [Warning] min_data_in_leaf is set=30, min_child_samples=20 will be ignored. Current value: min_data_in_leaf=30\n",
      "[LightGBM] [Warning] bagging_fraction is set=0.6, subsample=1.0 will be ignored. Current value: bagging_fraction=0.6\n",
      "[LightGBM] [Warning] bagging_freq is set=8, subsample_freq=0 will be ignored. Current value: bagging_freq=8\n",
      "[CV] END bagging_fraction=0.6, bagging_freq=8, feature_fraction=0.7; total time=   9.3s\n",
      "[LightGBM] [Warning] feature_fraction is set=0.7, colsample_bytree=1.0 will be ignored. Current value: feature_fraction=0.7\n",
      "[LightGBM] [Warning] min_data_in_leaf is set=30, min_child_samples=20 will be ignored. Current value: min_data_in_leaf=30\n",
      "[LightGBM] [Warning] bagging_fraction is set=0.6, subsample=1.0 will be ignored. Current value: bagging_fraction=0.6\n",
      "[LightGBM] [Warning] bagging_freq is set=8, subsample_freq=0 will be ignored. Current value: bagging_freq=8\n",
      "[CV] END bagging_fraction=0.6, bagging_freq=8, feature_fraction=0.7; total time=   9.8s\n",
      "[LightGBM] [Warning] feature_fraction is set=0.8, colsample_bytree=1.0 will be ignored. Current value: feature_fraction=0.8\n",
      "[LightGBM] [Warning] min_data_in_leaf is set=30, min_child_samples=20 will be ignored. Current value: min_data_in_leaf=30\n",
      "[LightGBM] [Warning] bagging_fraction is set=0.6, subsample=1.0 will be ignored. Current value: bagging_fraction=0.6\n",
      "[LightGBM] [Warning] bagging_freq is set=8, subsample_freq=0 will be ignored. Current value: bagging_freq=8\n",
      "[CV] END bagging_fraction=0.6, bagging_freq=8, feature_fraction=0.8; total time=  10.1s\n",
      "[LightGBM] [Warning] feature_fraction is set=0.8, colsample_bytree=1.0 will be ignored. Current value: feature_fraction=0.8\n",
      "[LightGBM] [Warning] min_data_in_leaf is set=30, min_child_samples=20 will be ignored. Current value: min_data_in_leaf=30\n",
      "[LightGBM] [Warning] bagging_fraction is set=0.6, subsample=1.0 will be ignored. Current value: bagging_fraction=0.6\n",
      "[LightGBM] [Warning] bagging_freq is set=8, subsample_freq=0 will be ignored. Current value: bagging_freq=8\n",
      "[CV] END bagging_fraction=0.6, bagging_freq=8, feature_fraction=0.8; total time=   9.8s\n",
      "[LightGBM] [Warning] feature_fraction is set=0.8, colsample_bytree=1.0 will be ignored. Current value: feature_fraction=0.8\n",
      "[LightGBM] [Warning] min_data_in_leaf is set=30, min_child_samples=20 will be ignored. Current value: min_data_in_leaf=30\n",
      "[LightGBM] [Warning] bagging_fraction is set=0.6, subsample=1.0 will be ignored. Current value: bagging_fraction=0.6\n",
      "[LightGBM] [Warning] bagging_freq is set=8, subsample_freq=0 will be ignored. Current value: bagging_freq=8\n",
      "[CV] END bagging_fraction=0.6, bagging_freq=8, feature_fraction=0.8; total time=   9.6s\n",
      "[LightGBM] [Warning] feature_fraction is set=0.9, colsample_bytree=1.0 will be ignored. Current value: feature_fraction=0.9\n",
      "[LightGBM] [Warning] min_data_in_leaf is set=30, min_child_samples=20 will be ignored. Current value: min_data_in_leaf=30\n",
      "[LightGBM] [Warning] bagging_fraction is set=0.6, subsample=1.0 will be ignored. Current value: bagging_fraction=0.6\n",
      "[LightGBM] [Warning] bagging_freq is set=8, subsample_freq=0 will be ignored. Current value: bagging_freq=8\n",
      "[CV] END bagging_fraction=0.6, bagging_freq=8, feature_fraction=0.9; total time=  10.7s\n",
      "[LightGBM] [Warning] feature_fraction is set=0.9, colsample_bytree=1.0 will be ignored. Current value: feature_fraction=0.9\n",
      "[LightGBM] [Warning] min_data_in_leaf is set=30, min_child_samples=20 will be ignored. Current value: min_data_in_leaf=30\n",
      "[LightGBM] [Warning] bagging_fraction is set=0.6, subsample=1.0 will be ignored. Current value: bagging_fraction=0.6\n",
      "[LightGBM] [Warning] bagging_freq is set=8, subsample_freq=0 will be ignored. Current value: bagging_freq=8\n",
      "[CV] END bagging_fraction=0.6, bagging_freq=8, feature_fraction=0.9; total time=  10.9s\n",
      "[LightGBM] [Warning] feature_fraction is set=0.9, colsample_bytree=1.0 will be ignored. Current value: feature_fraction=0.9\n",
      "[LightGBM] [Warning] min_data_in_leaf is set=30, min_child_samples=20 will be ignored. Current value: min_data_in_leaf=30\n",
      "[LightGBM] [Warning] bagging_fraction is set=0.6, subsample=1.0 will be ignored. Current value: bagging_fraction=0.6\n",
      "[LightGBM] [Warning] bagging_freq is set=8, subsample_freq=0 will be ignored. Current value: bagging_freq=8\n",
      "[CV] END bagging_fraction=0.6, bagging_freq=8, feature_fraction=0.9; total time=  10.5s\n",
      "[LightGBM] [Warning] feature_fraction is set=1.0, colsample_bytree=1.0 will be ignored. Current value: feature_fraction=1.0\n",
      "[LightGBM] [Warning] min_data_in_leaf is set=30, min_child_samples=20 will be ignored. Current value: min_data_in_leaf=30\n",
      "[LightGBM] [Warning] bagging_fraction is set=0.6, subsample=1.0 will be ignored. Current value: bagging_fraction=0.6\n",
      "[LightGBM] [Warning] bagging_freq is set=8, subsample_freq=0 will be ignored. Current value: bagging_freq=8\n",
      "[CV] END bagging_fraction=0.6, bagging_freq=8, feature_fraction=1.0; total time=  12.3s\n",
      "[LightGBM] [Warning] feature_fraction is set=1.0, colsample_bytree=1.0 will be ignored. Current value: feature_fraction=1.0\n",
      "[LightGBM] [Warning] min_data_in_leaf is set=30, min_child_samples=20 will be ignored. Current value: min_data_in_leaf=30\n",
      "[LightGBM] [Warning] bagging_fraction is set=0.6, subsample=1.0 will be ignored. Current value: bagging_fraction=0.6\n",
      "[LightGBM] [Warning] bagging_freq is set=8, subsample_freq=0 will be ignored. Current value: bagging_freq=8\n",
      "[CV] END bagging_fraction=0.6, bagging_freq=8, feature_fraction=1.0; total time=  11.8s\n",
      "[LightGBM] [Warning] feature_fraction is set=1.0, colsample_bytree=1.0 will be ignored. Current value: feature_fraction=1.0\n",
      "[LightGBM] [Warning] min_data_in_leaf is set=30, min_child_samples=20 will be ignored. Current value: min_data_in_leaf=30\n",
      "[LightGBM] [Warning] bagging_fraction is set=0.6, subsample=1.0 will be ignored. Current value: bagging_fraction=0.6\n",
      "[LightGBM] [Warning] bagging_freq is set=8, subsample_freq=0 will be ignored. Current value: bagging_freq=8\n"
     ]
    },
    {
     "name": "stdout",
     "output_type": "stream",
     "text": [
      "[CV] END bagging_fraction=0.6, bagging_freq=8, feature_fraction=1.0; total time=  11.4s\n",
      "[LightGBM] [Warning] feature_fraction is set=0.6, colsample_bytree=1.0 will be ignored. Current value: feature_fraction=0.6\n",
      "[LightGBM] [Warning] min_data_in_leaf is set=30, min_child_samples=20 will be ignored. Current value: min_data_in_leaf=30\n",
      "[LightGBM] [Warning] bagging_fraction is set=0.7, subsample=1.0 will be ignored. Current value: bagging_fraction=0.7\n",
      "[LightGBM] [Warning] bagging_freq is set=0, subsample_freq=0 will be ignored. Current value: bagging_freq=0\n",
      "[CV] END bagging_fraction=0.7, bagging_freq=0, feature_fraction=0.6; total time=  10.4s\n",
      "[LightGBM] [Warning] feature_fraction is set=0.6, colsample_bytree=1.0 will be ignored. Current value: feature_fraction=0.6\n",
      "[LightGBM] [Warning] min_data_in_leaf is set=30, min_child_samples=20 will be ignored. Current value: min_data_in_leaf=30\n",
      "[LightGBM] [Warning] bagging_fraction is set=0.7, subsample=1.0 will be ignored. Current value: bagging_fraction=0.7\n",
      "[LightGBM] [Warning] bagging_freq is set=0, subsample_freq=0 will be ignored. Current value: bagging_freq=0\n",
      "[CV] END bagging_fraction=0.7, bagging_freq=0, feature_fraction=0.6; total time=  11.1s\n",
      "[LightGBM] [Warning] feature_fraction is set=0.6, colsample_bytree=1.0 will be ignored. Current value: feature_fraction=0.6\n",
      "[LightGBM] [Warning] min_data_in_leaf is set=30, min_child_samples=20 will be ignored. Current value: min_data_in_leaf=30\n",
      "[LightGBM] [Warning] bagging_fraction is set=0.7, subsample=1.0 will be ignored. Current value: bagging_fraction=0.7\n",
      "[LightGBM] [Warning] bagging_freq is set=0, subsample_freq=0 will be ignored. Current value: bagging_freq=0\n",
      "[CV] END bagging_fraction=0.7, bagging_freq=0, feature_fraction=0.6; total time=  10.1s\n",
      "[LightGBM] [Warning] feature_fraction is set=0.7, colsample_bytree=1.0 will be ignored. Current value: feature_fraction=0.7\n",
      "[LightGBM] [Warning] min_data_in_leaf is set=30, min_child_samples=20 will be ignored. Current value: min_data_in_leaf=30\n",
      "[LightGBM] [Warning] bagging_fraction is set=0.7, subsample=1.0 will be ignored. Current value: bagging_fraction=0.7\n",
      "[LightGBM] [Warning] bagging_freq is set=0, subsample_freq=0 will be ignored. Current value: bagging_freq=0\n",
      "[CV] END bagging_fraction=0.7, bagging_freq=0, feature_fraction=0.7; total time=  10.8s\n",
      "[LightGBM] [Warning] feature_fraction is set=0.7, colsample_bytree=1.0 will be ignored. Current value: feature_fraction=0.7\n",
      "[LightGBM] [Warning] min_data_in_leaf is set=30, min_child_samples=20 will be ignored. Current value: min_data_in_leaf=30\n",
      "[LightGBM] [Warning] bagging_fraction is set=0.7, subsample=1.0 will be ignored. Current value: bagging_fraction=0.7\n",
      "[LightGBM] [Warning] bagging_freq is set=0, subsample_freq=0 will be ignored. Current value: bagging_freq=0\n",
      "[CV] END bagging_fraction=0.7, bagging_freq=0, feature_fraction=0.7; total time=  10.8s\n",
      "[LightGBM] [Warning] feature_fraction is set=0.7, colsample_bytree=1.0 will be ignored. Current value: feature_fraction=0.7\n",
      "[LightGBM] [Warning] min_data_in_leaf is set=30, min_child_samples=20 will be ignored. Current value: min_data_in_leaf=30\n",
      "[LightGBM] [Warning] bagging_fraction is set=0.7, subsample=1.0 will be ignored. Current value: bagging_fraction=0.7\n",
      "[LightGBM] [Warning] bagging_freq is set=0, subsample_freq=0 will be ignored. Current value: bagging_freq=0\n",
      "[CV] END bagging_fraction=0.7, bagging_freq=0, feature_fraction=0.7; total time=  10.3s\n",
      "[LightGBM] [Warning] feature_fraction is set=0.8, colsample_bytree=1.0 will be ignored. Current value: feature_fraction=0.8\n",
      "[LightGBM] [Warning] min_data_in_leaf is set=30, min_child_samples=20 will be ignored. Current value: min_data_in_leaf=30\n",
      "[LightGBM] [Warning] bagging_fraction is set=0.7, subsample=1.0 will be ignored. Current value: bagging_fraction=0.7\n",
      "[LightGBM] [Warning] bagging_freq is set=0, subsample_freq=0 will be ignored. Current value: bagging_freq=0\n",
      "[CV] END bagging_fraction=0.7, bagging_freq=0, feature_fraction=0.8; total time=  11.7s\n",
      "[LightGBM] [Warning] feature_fraction is set=0.8, colsample_bytree=1.0 will be ignored. Current value: feature_fraction=0.8\n",
      "[LightGBM] [Warning] min_data_in_leaf is set=30, min_child_samples=20 will be ignored. Current value: min_data_in_leaf=30\n",
      "[LightGBM] [Warning] bagging_fraction is set=0.7, subsample=1.0 will be ignored. Current value: bagging_fraction=0.7\n",
      "[LightGBM] [Warning] bagging_freq is set=0, subsample_freq=0 will be ignored. Current value: bagging_freq=0\n",
      "[CV] END bagging_fraction=0.7, bagging_freq=0, feature_fraction=0.8; total time=  11.2s\n",
      "[LightGBM] [Warning] feature_fraction is set=0.8, colsample_bytree=1.0 will be ignored. Current value: feature_fraction=0.8\n",
      "[LightGBM] [Warning] min_data_in_leaf is set=30, min_child_samples=20 will be ignored. Current value: min_data_in_leaf=30\n",
      "[LightGBM] [Warning] bagging_fraction is set=0.7, subsample=1.0 will be ignored. Current value: bagging_fraction=0.7\n",
      "[LightGBM] [Warning] bagging_freq is set=0, subsample_freq=0 will be ignored. Current value: bagging_freq=0\n",
      "[CV] END bagging_fraction=0.7, bagging_freq=0, feature_fraction=0.8; total time=  11.4s\n",
      "[LightGBM] [Warning] feature_fraction is set=0.9, colsample_bytree=1.0 will be ignored. Current value: feature_fraction=0.9\n",
      "[LightGBM] [Warning] min_data_in_leaf is set=30, min_child_samples=20 will be ignored. Current value: min_data_in_leaf=30\n",
      "[LightGBM] [Warning] bagging_fraction is set=0.7, subsample=1.0 will be ignored. Current value: bagging_fraction=0.7\n",
      "[LightGBM] [Warning] bagging_freq is set=0, subsample_freq=0 will be ignored. Current value: bagging_freq=0\n",
      "[CV] END bagging_fraction=0.7, bagging_freq=0, feature_fraction=0.9; total time=  12.3s\n",
      "[LightGBM] [Warning] feature_fraction is set=0.9, colsample_bytree=1.0 will be ignored. Current value: feature_fraction=0.9\n",
      "[LightGBM] [Warning] min_data_in_leaf is set=30, min_child_samples=20 will be ignored. Current value: min_data_in_leaf=30\n",
      "[LightGBM] [Warning] bagging_fraction is set=0.7, subsample=1.0 will be ignored. Current value: bagging_fraction=0.7\n",
      "[LightGBM] [Warning] bagging_freq is set=0, subsample_freq=0 will be ignored. Current value: bagging_freq=0\n",
      "[CV] END bagging_fraction=0.7, bagging_freq=0, feature_fraction=0.9; total time=  12.2s\n",
      "[LightGBM] [Warning] feature_fraction is set=0.9, colsample_bytree=1.0 will be ignored. Current value: feature_fraction=0.9\n",
      "[LightGBM] [Warning] min_data_in_leaf is set=30, min_child_samples=20 will be ignored. Current value: min_data_in_leaf=30\n",
      "[LightGBM] [Warning] bagging_fraction is set=0.7, subsample=1.0 will be ignored. Current value: bagging_fraction=0.7\n",
      "[LightGBM] [Warning] bagging_freq is set=0, subsample_freq=0 will be ignored. Current value: bagging_freq=0\n",
      "[CV] END bagging_fraction=0.7, bagging_freq=0, feature_fraction=0.9; total time=  12.2s\n",
      "[LightGBM] [Warning] feature_fraction is set=1.0, colsample_bytree=1.0 will be ignored. Current value: feature_fraction=1.0\n",
      "[LightGBM] [Warning] min_data_in_leaf is set=30, min_child_samples=20 will be ignored. Current value: min_data_in_leaf=30\n",
      "[LightGBM] [Warning] bagging_fraction is set=0.7, subsample=1.0 will be ignored. Current value: bagging_fraction=0.7\n",
      "[LightGBM] [Warning] bagging_freq is set=0, subsample_freq=0 will be ignored. Current value: bagging_freq=0\n",
      "[CV] END bagging_fraction=0.7, bagging_freq=0, feature_fraction=1.0; total time=  13.9s\n",
      "[LightGBM] [Warning] feature_fraction is set=1.0, colsample_bytree=1.0 will be ignored. Current value: feature_fraction=1.0\n",
      "[LightGBM] [Warning] min_data_in_leaf is set=30, min_child_samples=20 will be ignored. Current value: min_data_in_leaf=30\n",
      "[LightGBM] [Warning] bagging_fraction is set=0.7, subsample=1.0 will be ignored. Current value: bagging_fraction=0.7\n",
      "[LightGBM] [Warning] bagging_freq is set=0, subsample_freq=0 will be ignored. Current value: bagging_freq=0\n",
      "[CV] END bagging_fraction=0.7, bagging_freq=0, feature_fraction=1.0; total time=  13.3s\n",
      "[LightGBM] [Warning] feature_fraction is set=1.0, colsample_bytree=1.0 will be ignored. Current value: feature_fraction=1.0\n",
      "[LightGBM] [Warning] min_data_in_leaf is set=30, min_child_samples=20 will be ignored. Current value: min_data_in_leaf=30\n",
      "[LightGBM] [Warning] bagging_fraction is set=0.7, subsample=1.0 will be ignored. Current value: bagging_fraction=0.7\n",
      "[LightGBM] [Warning] bagging_freq is set=0, subsample_freq=0 will be ignored. Current value: bagging_freq=0\n"
     ]
    },
    {
     "name": "stdout",
     "output_type": "stream",
     "text": [
      "[CV] END bagging_fraction=0.7, bagging_freq=0, feature_fraction=1.0; total time=  12.5s\n",
      "[LightGBM] [Warning] feature_fraction is set=0.6, colsample_bytree=1.0 will be ignored. Current value: feature_fraction=0.6\n",
      "[LightGBM] [Warning] min_data_in_leaf is set=30, min_child_samples=20 will be ignored. Current value: min_data_in_leaf=30\n",
      "[LightGBM] [Warning] bagging_fraction is set=0.7, subsample=1.0 will be ignored. Current value: bagging_fraction=0.7\n",
      "[LightGBM] [Warning] bagging_freq is set=2, subsample_freq=0 will be ignored. Current value: bagging_freq=2\n",
      "[CV] END bagging_fraction=0.7, bagging_freq=2, feature_fraction=0.6; total time=  10.0s\n",
      "[LightGBM] [Warning] feature_fraction is set=0.6, colsample_bytree=1.0 will be ignored. Current value: feature_fraction=0.6\n",
      "[LightGBM] [Warning] min_data_in_leaf is set=30, min_child_samples=20 will be ignored. Current value: min_data_in_leaf=30\n",
      "[LightGBM] [Warning] bagging_fraction is set=0.7, subsample=1.0 will be ignored. Current value: bagging_fraction=0.7\n",
      "[LightGBM] [Warning] bagging_freq is set=2, subsample_freq=0 will be ignored. Current value: bagging_freq=2\n",
      "[CV] END bagging_fraction=0.7, bagging_freq=2, feature_fraction=0.6; total time=   9.6s\n",
      "[LightGBM] [Warning] feature_fraction is set=0.6, colsample_bytree=1.0 will be ignored. Current value: feature_fraction=0.6\n",
      "[LightGBM] [Warning] min_data_in_leaf is set=30, min_child_samples=20 will be ignored. Current value: min_data_in_leaf=30\n",
      "[LightGBM] [Warning] bagging_fraction is set=0.7, subsample=1.0 will be ignored. Current value: bagging_fraction=0.7\n",
      "[LightGBM] [Warning] bagging_freq is set=2, subsample_freq=0 will be ignored. Current value: bagging_freq=2\n",
      "[CV] END bagging_fraction=0.7, bagging_freq=2, feature_fraction=0.6; total time=   9.4s\n",
      "[LightGBM] [Warning] feature_fraction is set=0.7, colsample_bytree=1.0 will be ignored. Current value: feature_fraction=0.7\n",
      "[LightGBM] [Warning] min_data_in_leaf is set=30, min_child_samples=20 will be ignored. Current value: min_data_in_leaf=30\n",
      "[LightGBM] [Warning] bagging_fraction is set=0.7, subsample=1.0 will be ignored. Current value: bagging_fraction=0.7\n",
      "[LightGBM] [Warning] bagging_freq is set=2, subsample_freq=0 will be ignored. Current value: bagging_freq=2\n",
      "[CV] END bagging_fraction=0.7, bagging_freq=2, feature_fraction=0.7; total time=  10.0s\n",
      "[LightGBM] [Warning] feature_fraction is set=0.7, colsample_bytree=1.0 will be ignored. Current value: feature_fraction=0.7\n",
      "[LightGBM] [Warning] min_data_in_leaf is set=30, min_child_samples=20 will be ignored. Current value: min_data_in_leaf=30\n",
      "[LightGBM] [Warning] bagging_fraction is set=0.7, subsample=1.0 will be ignored. Current value: bagging_fraction=0.7\n",
      "[LightGBM] [Warning] bagging_freq is set=2, subsample_freq=0 will be ignored. Current value: bagging_freq=2\n",
      "[CV] END bagging_fraction=0.7, bagging_freq=2, feature_fraction=0.7; total time=  10.4s\n",
      "[LightGBM] [Warning] feature_fraction is set=0.7, colsample_bytree=1.0 will be ignored. Current value: feature_fraction=0.7\n",
      "[LightGBM] [Warning] min_data_in_leaf is set=30, min_child_samples=20 will be ignored. Current value: min_data_in_leaf=30\n",
      "[LightGBM] [Warning] bagging_fraction is set=0.7, subsample=1.0 will be ignored. Current value: bagging_fraction=0.7\n",
      "[LightGBM] [Warning] bagging_freq is set=2, subsample_freq=0 will be ignored. Current value: bagging_freq=2\n",
      "[CV] END bagging_fraction=0.7, bagging_freq=2, feature_fraction=0.7; total time=  10.2s\n",
      "[LightGBM] [Warning] feature_fraction is set=0.8, colsample_bytree=1.0 will be ignored. Current value: feature_fraction=0.8\n",
      "[LightGBM] [Warning] min_data_in_leaf is set=30, min_child_samples=20 will be ignored. Current value: min_data_in_leaf=30\n",
      "[LightGBM] [Warning] bagging_fraction is set=0.7, subsample=1.0 will be ignored. Current value: bagging_fraction=0.7\n",
      "[LightGBM] [Warning] bagging_freq is set=2, subsample_freq=0 will be ignored. Current value: bagging_freq=2\n",
      "[CV] END bagging_fraction=0.7, bagging_freq=2, feature_fraction=0.8; total time=  11.0s\n",
      "[LightGBM] [Warning] feature_fraction is set=0.8, colsample_bytree=1.0 will be ignored. Current value: feature_fraction=0.8\n",
      "[LightGBM] [Warning] min_data_in_leaf is set=30, min_child_samples=20 will be ignored. Current value: min_data_in_leaf=30\n",
      "[LightGBM] [Warning] bagging_fraction is set=0.7, subsample=1.0 will be ignored. Current value: bagging_fraction=0.7\n",
      "[LightGBM] [Warning] bagging_freq is set=2, subsample_freq=0 will be ignored. Current value: bagging_freq=2\n",
      "[CV] END bagging_fraction=0.7, bagging_freq=2, feature_fraction=0.8; total time=  10.7s\n",
      "[LightGBM] [Warning] feature_fraction is set=0.8, colsample_bytree=1.0 will be ignored. Current value: feature_fraction=0.8\n",
      "[LightGBM] [Warning] min_data_in_leaf is set=30, min_child_samples=20 will be ignored. Current value: min_data_in_leaf=30\n",
      "[LightGBM] [Warning] bagging_fraction is set=0.7, subsample=1.0 will be ignored. Current value: bagging_fraction=0.7\n",
      "[LightGBM] [Warning] bagging_freq is set=2, subsample_freq=0 will be ignored. Current value: bagging_freq=2\n",
      "[CV] END bagging_fraction=0.7, bagging_freq=2, feature_fraction=0.8; total time=  10.6s\n",
      "[LightGBM] [Warning] feature_fraction is set=0.9, colsample_bytree=1.0 will be ignored. Current value: feature_fraction=0.9\n",
      "[LightGBM] [Warning] min_data_in_leaf is set=30, min_child_samples=20 will be ignored. Current value: min_data_in_leaf=30\n",
      "[LightGBM] [Warning] bagging_fraction is set=0.7, subsample=1.0 will be ignored. Current value: bagging_fraction=0.7\n",
      "[LightGBM] [Warning] bagging_freq is set=2, subsample_freq=0 will be ignored. Current value: bagging_freq=2\n",
      "[CV] END bagging_fraction=0.7, bagging_freq=2, feature_fraction=0.9; total time=  11.4s\n",
      "[LightGBM] [Warning] feature_fraction is set=0.9, colsample_bytree=1.0 will be ignored. Current value: feature_fraction=0.9\n",
      "[LightGBM] [Warning] min_data_in_leaf is set=30, min_child_samples=20 will be ignored. Current value: min_data_in_leaf=30\n",
      "[LightGBM] [Warning] bagging_fraction is set=0.7, subsample=1.0 will be ignored. Current value: bagging_fraction=0.7\n",
      "[LightGBM] [Warning] bagging_freq is set=2, subsample_freq=0 will be ignored. Current value: bagging_freq=2\n",
      "[CV] END bagging_fraction=0.7, bagging_freq=2, feature_fraction=0.9; total time=  11.3s\n",
      "[LightGBM] [Warning] feature_fraction is set=0.9, colsample_bytree=1.0 will be ignored. Current value: feature_fraction=0.9\n",
      "[LightGBM] [Warning] min_data_in_leaf is set=30, min_child_samples=20 will be ignored. Current value: min_data_in_leaf=30\n",
      "[LightGBM] [Warning] bagging_fraction is set=0.7, subsample=1.0 will be ignored. Current value: bagging_fraction=0.7\n",
      "[LightGBM] [Warning] bagging_freq is set=2, subsample_freq=0 will be ignored. Current value: bagging_freq=2\n",
      "[CV] END bagging_fraction=0.7, bagging_freq=2, feature_fraction=0.9; total time=  11.1s\n",
      "[LightGBM] [Warning] feature_fraction is set=1.0, colsample_bytree=1.0 will be ignored. Current value: feature_fraction=1.0\n",
      "[LightGBM] [Warning] min_data_in_leaf is set=30, min_child_samples=20 will be ignored. Current value: min_data_in_leaf=30\n",
      "[LightGBM] [Warning] bagging_fraction is set=0.7, subsample=1.0 will be ignored. Current value: bagging_fraction=0.7\n",
      "[LightGBM] [Warning] bagging_freq is set=2, subsample_freq=0 will be ignored. Current value: bagging_freq=2\n",
      "[CV] END bagging_fraction=0.7, bagging_freq=2, feature_fraction=1.0; total time=  12.3s\n",
      "[LightGBM] [Warning] feature_fraction is set=1.0, colsample_bytree=1.0 will be ignored. Current value: feature_fraction=1.0\n",
      "[LightGBM] [Warning] min_data_in_leaf is set=30, min_child_samples=20 will be ignored. Current value: min_data_in_leaf=30\n",
      "[LightGBM] [Warning] bagging_fraction is set=0.7, subsample=1.0 will be ignored. Current value: bagging_fraction=0.7\n",
      "[LightGBM] [Warning] bagging_freq is set=2, subsample_freq=0 will be ignored. Current value: bagging_freq=2\n",
      "[CV] END bagging_fraction=0.7, bagging_freq=2, feature_fraction=1.0; total time=  12.1s\n",
      "[LightGBM] [Warning] feature_fraction is set=1.0, colsample_bytree=1.0 will be ignored. Current value: feature_fraction=1.0\n",
      "[LightGBM] [Warning] min_data_in_leaf is set=30, min_child_samples=20 will be ignored. Current value: min_data_in_leaf=30\n",
      "[LightGBM] [Warning] bagging_fraction is set=0.7, subsample=1.0 will be ignored. Current value: bagging_fraction=0.7\n",
      "[LightGBM] [Warning] bagging_freq is set=2, subsample_freq=0 will be ignored. Current value: bagging_freq=2\n"
     ]
    },
    {
     "name": "stdout",
     "output_type": "stream",
     "text": [
      "[CV] END bagging_fraction=0.7, bagging_freq=2, feature_fraction=1.0; total time=  11.8s\n",
      "[LightGBM] [Warning] feature_fraction is set=0.6, colsample_bytree=1.0 will be ignored. Current value: feature_fraction=0.6\n",
      "[LightGBM] [Warning] min_data_in_leaf is set=30, min_child_samples=20 will be ignored. Current value: min_data_in_leaf=30\n",
      "[LightGBM] [Warning] bagging_fraction is set=0.7, subsample=1.0 will be ignored. Current value: bagging_fraction=0.7\n",
      "[LightGBM] [Warning] bagging_freq is set=4, subsample_freq=0 will be ignored. Current value: bagging_freq=4\n",
      "[CV] END bagging_fraction=0.7, bagging_freq=4, feature_fraction=0.6; total time=   9.4s\n",
      "[LightGBM] [Warning] feature_fraction is set=0.6, colsample_bytree=1.0 will be ignored. Current value: feature_fraction=0.6\n",
      "[LightGBM] [Warning] min_data_in_leaf is set=30, min_child_samples=20 will be ignored. Current value: min_data_in_leaf=30\n",
      "[LightGBM] [Warning] bagging_fraction is set=0.7, subsample=1.0 will be ignored. Current value: bagging_fraction=0.7\n",
      "[LightGBM] [Warning] bagging_freq is set=4, subsample_freq=0 will be ignored. Current value: bagging_freq=4\n",
      "[CV] END bagging_fraction=0.7, bagging_freq=4, feature_fraction=0.6; total time=   9.6s\n",
      "[LightGBM] [Warning] feature_fraction is set=0.6, colsample_bytree=1.0 will be ignored. Current value: feature_fraction=0.6\n",
      "[LightGBM] [Warning] min_data_in_leaf is set=30, min_child_samples=20 will be ignored. Current value: min_data_in_leaf=30\n",
      "[LightGBM] [Warning] bagging_fraction is set=0.7, subsample=1.0 will be ignored. Current value: bagging_fraction=0.7\n",
      "[LightGBM] [Warning] bagging_freq is set=4, subsample_freq=0 will be ignored. Current value: bagging_freq=4\n",
      "[CV] END bagging_fraction=0.7, bagging_freq=4, feature_fraction=0.6; total time=   9.6s\n",
      "[LightGBM] [Warning] feature_fraction is set=0.7, colsample_bytree=1.0 will be ignored. Current value: feature_fraction=0.7\n",
      "[LightGBM] [Warning] min_data_in_leaf is set=30, min_child_samples=20 will be ignored. Current value: min_data_in_leaf=30\n",
      "[LightGBM] [Warning] bagging_fraction is set=0.7, subsample=1.0 will be ignored. Current value: bagging_fraction=0.7\n",
      "[LightGBM] [Warning] bagging_freq is set=4, subsample_freq=0 will be ignored. Current value: bagging_freq=4\n",
      "[CV] END bagging_fraction=0.7, bagging_freq=4, feature_fraction=0.7; total time=  10.0s\n",
      "[LightGBM] [Warning] feature_fraction is set=0.7, colsample_bytree=1.0 will be ignored. Current value: feature_fraction=0.7\n",
      "[LightGBM] [Warning] min_data_in_leaf is set=30, min_child_samples=20 will be ignored. Current value: min_data_in_leaf=30\n",
      "[LightGBM] [Warning] bagging_fraction is set=0.7, subsample=1.0 will be ignored. Current value: bagging_fraction=0.7\n",
      "[LightGBM] [Warning] bagging_freq is set=4, subsample_freq=0 will be ignored. Current value: bagging_freq=4\n",
      "[CV] END bagging_fraction=0.7, bagging_freq=4, feature_fraction=0.7; total time=  10.0s\n",
      "[LightGBM] [Warning] feature_fraction is set=0.7, colsample_bytree=1.0 will be ignored. Current value: feature_fraction=0.7\n",
      "[LightGBM] [Warning] min_data_in_leaf is set=30, min_child_samples=20 will be ignored. Current value: min_data_in_leaf=30\n",
      "[LightGBM] [Warning] bagging_fraction is set=0.7, subsample=1.0 will be ignored. Current value: bagging_fraction=0.7\n",
      "[LightGBM] [Warning] bagging_freq is set=4, subsample_freq=0 will be ignored. Current value: bagging_freq=4\n",
      "[CV] END bagging_fraction=0.7, bagging_freq=4, feature_fraction=0.7; total time=  10.0s\n",
      "[LightGBM] [Warning] feature_fraction is set=0.8, colsample_bytree=1.0 will be ignored. Current value: feature_fraction=0.8\n",
      "[LightGBM] [Warning] min_data_in_leaf is set=30, min_child_samples=20 will be ignored. Current value: min_data_in_leaf=30\n",
      "[LightGBM] [Warning] bagging_fraction is set=0.7, subsample=1.0 will be ignored. Current value: bagging_fraction=0.7\n",
      "[LightGBM] [Warning] bagging_freq is set=4, subsample_freq=0 will be ignored. Current value: bagging_freq=4\n",
      "[CV] END bagging_fraction=0.7, bagging_freq=4, feature_fraction=0.8; total time=  10.6s\n",
      "[LightGBM] [Warning] feature_fraction is set=0.8, colsample_bytree=1.0 will be ignored. Current value: feature_fraction=0.8\n",
      "[LightGBM] [Warning] min_data_in_leaf is set=30, min_child_samples=20 will be ignored. Current value: min_data_in_leaf=30\n",
      "[LightGBM] [Warning] bagging_fraction is set=0.7, subsample=1.0 will be ignored. Current value: bagging_fraction=0.7\n",
      "[LightGBM] [Warning] bagging_freq is set=4, subsample_freq=0 will be ignored. Current value: bagging_freq=4\n",
      "[CV] END bagging_fraction=0.7, bagging_freq=4, feature_fraction=0.8; total time=  10.6s\n",
      "[LightGBM] [Warning] feature_fraction is set=0.8, colsample_bytree=1.0 will be ignored. Current value: feature_fraction=0.8\n",
      "[LightGBM] [Warning] min_data_in_leaf is set=30, min_child_samples=20 will be ignored. Current value: min_data_in_leaf=30\n",
      "[LightGBM] [Warning] bagging_fraction is set=0.7, subsample=1.0 will be ignored. Current value: bagging_fraction=0.7\n",
      "[LightGBM] [Warning] bagging_freq is set=4, subsample_freq=0 will be ignored. Current value: bagging_freq=4\n",
      "[CV] END bagging_fraction=0.7, bagging_freq=4, feature_fraction=0.8; total time=  10.6s\n",
      "[LightGBM] [Warning] feature_fraction is set=0.9, colsample_bytree=1.0 will be ignored. Current value: feature_fraction=0.9\n",
      "[LightGBM] [Warning] min_data_in_leaf is set=30, min_child_samples=20 will be ignored. Current value: min_data_in_leaf=30\n",
      "[LightGBM] [Warning] bagging_fraction is set=0.7, subsample=1.0 will be ignored. Current value: bagging_fraction=0.7\n",
      "[LightGBM] [Warning] bagging_freq is set=4, subsample_freq=0 will be ignored. Current value: bagging_freq=4\n",
      "[CV] END bagging_fraction=0.7, bagging_freq=4, feature_fraction=0.9; total time=  11.1s\n",
      "[LightGBM] [Warning] feature_fraction is set=0.9, colsample_bytree=1.0 will be ignored. Current value: feature_fraction=0.9\n",
      "[LightGBM] [Warning] min_data_in_leaf is set=30, min_child_samples=20 will be ignored. Current value: min_data_in_leaf=30\n",
      "[LightGBM] [Warning] bagging_fraction is set=0.7, subsample=1.0 will be ignored. Current value: bagging_fraction=0.7\n",
      "[LightGBM] [Warning] bagging_freq is set=4, subsample_freq=0 will be ignored. Current value: bagging_freq=4\n",
      "[CV] END bagging_fraction=0.7, bagging_freq=4, feature_fraction=0.9; total time=  12.0s\n",
      "[LightGBM] [Warning] feature_fraction is set=0.9, colsample_bytree=1.0 will be ignored. Current value: feature_fraction=0.9\n",
      "[LightGBM] [Warning] min_data_in_leaf is set=30, min_child_samples=20 will be ignored. Current value: min_data_in_leaf=30\n",
      "[LightGBM] [Warning] bagging_fraction is set=0.7, subsample=1.0 will be ignored. Current value: bagging_fraction=0.7\n",
      "[LightGBM] [Warning] bagging_freq is set=4, subsample_freq=0 will be ignored. Current value: bagging_freq=4\n",
      "[CV] END bagging_fraction=0.7, bagging_freq=4, feature_fraction=0.9; total time=  11.0s\n",
      "[LightGBM] [Warning] feature_fraction is set=1.0, colsample_bytree=1.0 will be ignored. Current value: feature_fraction=1.0\n",
      "[LightGBM] [Warning] min_data_in_leaf is set=30, min_child_samples=20 will be ignored. Current value: min_data_in_leaf=30\n",
      "[LightGBM] [Warning] bagging_fraction is set=0.7, subsample=1.0 will be ignored. Current value: bagging_fraction=0.7\n",
      "[LightGBM] [Warning] bagging_freq is set=4, subsample_freq=0 will be ignored. Current value: bagging_freq=4\n",
      "[CV] END bagging_fraction=0.7, bagging_freq=4, feature_fraction=1.0; total time=  12.1s\n",
      "[LightGBM] [Warning] feature_fraction is set=1.0, colsample_bytree=1.0 will be ignored. Current value: feature_fraction=1.0\n",
      "[LightGBM] [Warning] min_data_in_leaf is set=30, min_child_samples=20 will be ignored. Current value: min_data_in_leaf=30\n",
      "[LightGBM] [Warning] bagging_fraction is set=0.7, subsample=1.0 will be ignored. Current value: bagging_fraction=0.7\n",
      "[LightGBM] [Warning] bagging_freq is set=4, subsample_freq=0 will be ignored. Current value: bagging_freq=4\n",
      "[CV] END bagging_fraction=0.7, bagging_freq=4, feature_fraction=1.0; total time=  12.1s\n",
      "[LightGBM] [Warning] feature_fraction is set=1.0, colsample_bytree=1.0 will be ignored. Current value: feature_fraction=1.0\n",
      "[LightGBM] [Warning] min_data_in_leaf is set=30, min_child_samples=20 will be ignored. Current value: min_data_in_leaf=30\n",
      "[LightGBM] [Warning] bagging_fraction is set=0.7, subsample=1.0 will be ignored. Current value: bagging_fraction=0.7\n",
      "[LightGBM] [Warning] bagging_freq is set=4, subsample_freq=0 will be ignored. Current value: bagging_freq=4\n"
     ]
    },
    {
     "name": "stdout",
     "output_type": "stream",
     "text": [
      "[CV] END bagging_fraction=0.7, bagging_freq=4, feature_fraction=1.0; total time=  12.0s\n",
      "[LightGBM] [Warning] feature_fraction is set=0.6, colsample_bytree=1.0 will be ignored. Current value: feature_fraction=0.6\n",
      "[LightGBM] [Warning] min_data_in_leaf is set=30, min_child_samples=20 will be ignored. Current value: min_data_in_leaf=30\n",
      "[LightGBM] [Warning] bagging_fraction is set=0.7, subsample=1.0 will be ignored. Current value: bagging_fraction=0.7\n",
      "[LightGBM] [Warning] bagging_freq is set=6, subsample_freq=0 will be ignored. Current value: bagging_freq=6\n",
      "[CV] END bagging_fraction=0.7, bagging_freq=6, feature_fraction=0.6; total time=   9.2s\n",
      "[LightGBM] [Warning] feature_fraction is set=0.6, colsample_bytree=1.0 will be ignored. Current value: feature_fraction=0.6\n",
      "[LightGBM] [Warning] min_data_in_leaf is set=30, min_child_samples=20 will be ignored. Current value: min_data_in_leaf=30\n",
      "[LightGBM] [Warning] bagging_fraction is set=0.7, subsample=1.0 will be ignored. Current value: bagging_fraction=0.7\n",
      "[LightGBM] [Warning] bagging_freq is set=6, subsample_freq=0 will be ignored. Current value: bagging_freq=6\n",
      "[CV] END bagging_fraction=0.7, bagging_freq=6, feature_fraction=0.6; total time=   9.5s\n",
      "[LightGBM] [Warning] feature_fraction is set=0.6, colsample_bytree=1.0 will be ignored. Current value: feature_fraction=0.6\n",
      "[LightGBM] [Warning] min_data_in_leaf is set=30, min_child_samples=20 will be ignored. Current value: min_data_in_leaf=30\n",
      "[LightGBM] [Warning] bagging_fraction is set=0.7, subsample=1.0 will be ignored. Current value: bagging_fraction=0.7\n",
      "[LightGBM] [Warning] bagging_freq is set=6, subsample_freq=0 will be ignored. Current value: bagging_freq=6\n",
      "[CV] END bagging_fraction=0.7, bagging_freq=6, feature_fraction=0.6; total time=   9.4s\n",
      "[LightGBM] [Warning] feature_fraction is set=0.7, colsample_bytree=1.0 will be ignored. Current value: feature_fraction=0.7\n",
      "[LightGBM] [Warning] min_data_in_leaf is set=30, min_child_samples=20 will be ignored. Current value: min_data_in_leaf=30\n",
      "[LightGBM] [Warning] bagging_fraction is set=0.7, subsample=1.0 will be ignored. Current value: bagging_fraction=0.7\n",
      "[LightGBM] [Warning] bagging_freq is set=6, subsample_freq=0 will be ignored. Current value: bagging_freq=6\n",
      "[CV] END bagging_fraction=0.7, bagging_freq=6, feature_fraction=0.7; total time=   9.6s\n",
      "[LightGBM] [Warning] feature_fraction is set=0.7, colsample_bytree=1.0 will be ignored. Current value: feature_fraction=0.7\n",
      "[LightGBM] [Warning] min_data_in_leaf is set=30, min_child_samples=20 will be ignored. Current value: min_data_in_leaf=30\n",
      "[LightGBM] [Warning] bagging_fraction is set=0.7, subsample=1.0 will be ignored. Current value: bagging_fraction=0.7\n",
      "[LightGBM] [Warning] bagging_freq is set=6, subsample_freq=0 will be ignored. Current value: bagging_freq=6\n",
      "[CV] END bagging_fraction=0.7, bagging_freq=6, feature_fraction=0.7; total time=   9.5s\n",
      "[LightGBM] [Warning] feature_fraction is set=0.7, colsample_bytree=1.0 will be ignored. Current value: feature_fraction=0.7\n",
      "[LightGBM] [Warning] min_data_in_leaf is set=30, min_child_samples=20 will be ignored. Current value: min_data_in_leaf=30\n",
      "[LightGBM] [Warning] bagging_fraction is set=0.7, subsample=1.0 will be ignored. Current value: bagging_fraction=0.7\n",
      "[LightGBM] [Warning] bagging_freq is set=6, subsample_freq=0 will be ignored. Current value: bagging_freq=6\n",
      "[CV] END bagging_fraction=0.7, bagging_freq=6, feature_fraction=0.7; total time=   9.6s\n",
      "[LightGBM] [Warning] feature_fraction is set=0.8, colsample_bytree=1.0 will be ignored. Current value: feature_fraction=0.8\n",
      "[LightGBM] [Warning] min_data_in_leaf is set=30, min_child_samples=20 will be ignored. Current value: min_data_in_leaf=30\n",
      "[LightGBM] [Warning] bagging_fraction is set=0.7, subsample=1.0 will be ignored. Current value: bagging_fraction=0.7\n",
      "[LightGBM] [Warning] bagging_freq is set=6, subsample_freq=0 will be ignored. Current value: bagging_freq=6\n",
      "[CV] END bagging_fraction=0.7, bagging_freq=6, feature_fraction=0.8; total time=  10.4s\n",
      "[LightGBM] [Warning] feature_fraction is set=0.8, colsample_bytree=1.0 will be ignored. Current value: feature_fraction=0.8\n",
      "[LightGBM] [Warning] min_data_in_leaf is set=30, min_child_samples=20 will be ignored. Current value: min_data_in_leaf=30\n",
      "[LightGBM] [Warning] bagging_fraction is set=0.7, subsample=1.0 will be ignored. Current value: bagging_fraction=0.7\n",
      "[LightGBM] [Warning] bagging_freq is set=6, subsample_freq=0 will be ignored. Current value: bagging_freq=6\n",
      "[CV] END bagging_fraction=0.7, bagging_freq=6, feature_fraction=0.8; total time=  10.3s\n",
      "[LightGBM] [Warning] feature_fraction is set=0.8, colsample_bytree=1.0 will be ignored. Current value: feature_fraction=0.8\n",
      "[LightGBM] [Warning] min_data_in_leaf is set=30, min_child_samples=20 will be ignored. Current value: min_data_in_leaf=30\n",
      "[LightGBM] [Warning] bagging_fraction is set=0.7, subsample=1.0 will be ignored. Current value: bagging_fraction=0.7\n",
      "[LightGBM] [Warning] bagging_freq is set=6, subsample_freq=0 will be ignored. Current value: bagging_freq=6\n",
      "[CV] END bagging_fraction=0.7, bagging_freq=6, feature_fraction=0.8; total time=  10.7s\n",
      "[LightGBM] [Warning] feature_fraction is set=0.9, colsample_bytree=1.0 will be ignored. Current value: feature_fraction=0.9\n",
      "[LightGBM] [Warning] min_data_in_leaf is set=30, min_child_samples=20 will be ignored. Current value: min_data_in_leaf=30\n",
      "[LightGBM] [Warning] bagging_fraction is set=0.7, subsample=1.0 will be ignored. Current value: bagging_fraction=0.7\n",
      "[LightGBM] [Warning] bagging_freq is set=6, subsample_freq=0 will be ignored. Current value: bagging_freq=6\n",
      "[CV] END bagging_fraction=0.7, bagging_freq=6, feature_fraction=0.9; total time=  11.0s\n",
      "[LightGBM] [Warning] feature_fraction is set=0.9, colsample_bytree=1.0 will be ignored. Current value: feature_fraction=0.9\n",
      "[LightGBM] [Warning] min_data_in_leaf is set=30, min_child_samples=20 will be ignored. Current value: min_data_in_leaf=30\n",
      "[LightGBM] [Warning] bagging_fraction is set=0.7, subsample=1.0 will be ignored. Current value: bagging_fraction=0.7\n",
      "[LightGBM] [Warning] bagging_freq is set=6, subsample_freq=0 will be ignored. Current value: bagging_freq=6\n",
      "[CV] END bagging_fraction=0.7, bagging_freq=6, feature_fraction=0.9; total time=  11.3s\n",
      "[LightGBM] [Warning] feature_fraction is set=0.9, colsample_bytree=1.0 will be ignored. Current value: feature_fraction=0.9\n",
      "[LightGBM] [Warning] min_data_in_leaf is set=30, min_child_samples=20 will be ignored. Current value: min_data_in_leaf=30\n",
      "[LightGBM] [Warning] bagging_fraction is set=0.7, subsample=1.0 will be ignored. Current value: bagging_fraction=0.7\n",
      "[LightGBM] [Warning] bagging_freq is set=6, subsample_freq=0 will be ignored. Current value: bagging_freq=6\n",
      "[CV] END bagging_fraction=0.7, bagging_freq=6, feature_fraction=0.9; total time=  11.3s\n",
      "[LightGBM] [Warning] feature_fraction is set=1.0, colsample_bytree=1.0 will be ignored. Current value: feature_fraction=1.0\n",
      "[LightGBM] [Warning] min_data_in_leaf is set=30, min_child_samples=20 will be ignored. Current value: min_data_in_leaf=30\n",
      "[LightGBM] [Warning] bagging_fraction is set=0.7, subsample=1.0 will be ignored. Current value: bagging_fraction=0.7\n",
      "[LightGBM] [Warning] bagging_freq is set=6, subsample_freq=0 will be ignored. Current value: bagging_freq=6\n",
      "[CV] END bagging_fraction=0.7, bagging_freq=6, feature_fraction=1.0; total time=  11.7s\n",
      "[LightGBM] [Warning] feature_fraction is set=1.0, colsample_bytree=1.0 will be ignored. Current value: feature_fraction=1.0\n",
      "[LightGBM] [Warning] min_data_in_leaf is set=30, min_child_samples=20 will be ignored. Current value: min_data_in_leaf=30\n",
      "[LightGBM] [Warning] bagging_fraction is set=0.7, subsample=1.0 will be ignored. Current value: bagging_fraction=0.7\n",
      "[LightGBM] [Warning] bagging_freq is set=6, subsample_freq=0 will be ignored. Current value: bagging_freq=6\n",
      "[CV] END bagging_fraction=0.7, bagging_freq=6, feature_fraction=1.0; total time=  11.7s\n",
      "[LightGBM] [Warning] feature_fraction is set=1.0, colsample_bytree=1.0 will be ignored. Current value: feature_fraction=1.0\n",
      "[LightGBM] [Warning] min_data_in_leaf is set=30, min_child_samples=20 will be ignored. Current value: min_data_in_leaf=30\n",
      "[LightGBM] [Warning] bagging_fraction is set=0.7, subsample=1.0 will be ignored. Current value: bagging_fraction=0.7\n",
      "[LightGBM] [Warning] bagging_freq is set=6, subsample_freq=0 will be ignored. Current value: bagging_freq=6\n"
     ]
    },
    {
     "name": "stdout",
     "output_type": "stream",
     "text": [
      "[CV] END bagging_fraction=0.7, bagging_freq=6, feature_fraction=1.0; total time=  11.7s\n",
      "[LightGBM] [Warning] feature_fraction is set=0.6, colsample_bytree=1.0 will be ignored. Current value: feature_fraction=0.6\n",
      "[LightGBM] [Warning] min_data_in_leaf is set=30, min_child_samples=20 will be ignored. Current value: min_data_in_leaf=30\n",
      "[LightGBM] [Warning] bagging_fraction is set=0.7, subsample=1.0 will be ignored. Current value: bagging_fraction=0.7\n",
      "[LightGBM] [Warning] bagging_freq is set=8, subsample_freq=0 will be ignored. Current value: bagging_freq=8\n",
      "[CV] END bagging_fraction=0.7, bagging_freq=8, feature_fraction=0.6; total time=   9.2s\n",
      "[LightGBM] [Warning] feature_fraction is set=0.6, colsample_bytree=1.0 will be ignored. Current value: feature_fraction=0.6\n",
      "[LightGBM] [Warning] min_data_in_leaf is set=30, min_child_samples=20 will be ignored. Current value: min_data_in_leaf=30\n",
      "[LightGBM] [Warning] bagging_fraction is set=0.7, subsample=1.0 will be ignored. Current value: bagging_fraction=0.7\n",
      "[LightGBM] [Warning] bagging_freq is set=8, subsample_freq=0 will be ignored. Current value: bagging_freq=8\n",
      "[CV] END bagging_fraction=0.7, bagging_freq=8, feature_fraction=0.6; total time=  10.4s\n",
      "[LightGBM] [Warning] feature_fraction is set=0.6, colsample_bytree=1.0 will be ignored. Current value: feature_fraction=0.6\n",
      "[LightGBM] [Warning] min_data_in_leaf is set=30, min_child_samples=20 will be ignored. Current value: min_data_in_leaf=30\n",
      "[LightGBM] [Warning] bagging_fraction is set=0.7, subsample=1.0 will be ignored. Current value: bagging_fraction=0.7\n",
      "[LightGBM] [Warning] bagging_freq is set=8, subsample_freq=0 will be ignored. Current value: bagging_freq=8\n",
      "[CV] END bagging_fraction=0.7, bagging_freq=8, feature_fraction=0.6; total time=   9.9s\n",
      "[LightGBM] [Warning] feature_fraction is set=0.7, colsample_bytree=1.0 will be ignored. Current value: feature_fraction=0.7\n",
      "[LightGBM] [Warning] min_data_in_leaf is set=30, min_child_samples=20 will be ignored. Current value: min_data_in_leaf=30\n",
      "[LightGBM] [Warning] bagging_fraction is set=0.7, subsample=1.0 will be ignored. Current value: bagging_fraction=0.7\n",
      "[LightGBM] [Warning] bagging_freq is set=8, subsample_freq=0 will be ignored. Current value: bagging_freq=8\n",
      "[CV] END bagging_fraction=0.7, bagging_freq=8, feature_fraction=0.7; total time=   9.7s\n",
      "[LightGBM] [Warning] feature_fraction is set=0.7, colsample_bytree=1.0 will be ignored. Current value: feature_fraction=0.7\n",
      "[LightGBM] [Warning] min_data_in_leaf is set=30, min_child_samples=20 will be ignored. Current value: min_data_in_leaf=30\n",
      "[LightGBM] [Warning] bagging_fraction is set=0.7, subsample=1.0 will be ignored. Current value: bagging_fraction=0.7\n",
      "[LightGBM] [Warning] bagging_freq is set=8, subsample_freq=0 will be ignored. Current value: bagging_freq=8\n",
      "[CV] END bagging_fraction=0.7, bagging_freq=8, feature_fraction=0.7; total time=   9.6s\n",
      "[LightGBM] [Warning] feature_fraction is set=0.7, colsample_bytree=1.0 will be ignored. Current value: feature_fraction=0.7\n",
      "[LightGBM] [Warning] min_data_in_leaf is set=30, min_child_samples=20 will be ignored. Current value: min_data_in_leaf=30\n",
      "[LightGBM] [Warning] bagging_fraction is set=0.7, subsample=1.0 will be ignored. Current value: bagging_fraction=0.7\n",
      "[LightGBM] [Warning] bagging_freq is set=8, subsample_freq=0 will be ignored. Current value: bagging_freq=8\n",
      "[CV] END bagging_fraction=0.7, bagging_freq=8, feature_fraction=0.7; total time=   9.8s\n",
      "[LightGBM] [Warning] feature_fraction is set=0.8, colsample_bytree=1.0 will be ignored. Current value: feature_fraction=0.8\n",
      "[LightGBM] [Warning] min_data_in_leaf is set=30, min_child_samples=20 will be ignored. Current value: min_data_in_leaf=30\n",
      "[LightGBM] [Warning] bagging_fraction is set=0.7, subsample=1.0 will be ignored. Current value: bagging_fraction=0.7\n",
      "[LightGBM] [Warning] bagging_freq is set=8, subsample_freq=0 will be ignored. Current value: bagging_freq=8\n",
      "[CV] END bagging_fraction=0.7, bagging_freq=8, feature_fraction=0.8; total time=  11.5s\n",
      "[LightGBM] [Warning] feature_fraction is set=0.8, colsample_bytree=1.0 will be ignored. Current value: feature_fraction=0.8\n",
      "[LightGBM] [Warning] min_data_in_leaf is set=30, min_child_samples=20 will be ignored. Current value: min_data_in_leaf=30\n",
      "[LightGBM] [Warning] bagging_fraction is set=0.7, subsample=1.0 will be ignored. Current value: bagging_fraction=0.7\n",
      "[LightGBM] [Warning] bagging_freq is set=8, subsample_freq=0 will be ignored. Current value: bagging_freq=8\n",
      "[CV] END bagging_fraction=0.7, bagging_freq=8, feature_fraction=0.8; total time=  10.5s\n",
      "[LightGBM] [Warning] feature_fraction is set=0.8, colsample_bytree=1.0 will be ignored. Current value: feature_fraction=0.8\n",
      "[LightGBM] [Warning] min_data_in_leaf is set=30, min_child_samples=20 will be ignored. Current value: min_data_in_leaf=30\n",
      "[LightGBM] [Warning] bagging_fraction is set=0.7, subsample=1.0 will be ignored. Current value: bagging_fraction=0.7\n",
      "[LightGBM] [Warning] bagging_freq is set=8, subsample_freq=0 will be ignored. Current value: bagging_freq=8\n",
      "[CV] END bagging_fraction=0.7, bagging_freq=8, feature_fraction=0.8; total time=  10.4s\n",
      "[LightGBM] [Warning] feature_fraction is set=0.9, colsample_bytree=1.0 will be ignored. Current value: feature_fraction=0.9\n",
      "[LightGBM] [Warning] min_data_in_leaf is set=30, min_child_samples=20 will be ignored. Current value: min_data_in_leaf=30\n",
      "[LightGBM] [Warning] bagging_fraction is set=0.7, subsample=1.0 will be ignored. Current value: bagging_fraction=0.7\n",
      "[LightGBM] [Warning] bagging_freq is set=8, subsample_freq=0 will be ignored. Current value: bagging_freq=8\n",
      "[CV] END bagging_fraction=0.7, bagging_freq=8, feature_fraction=0.9; total time=  11.4s\n",
      "[LightGBM] [Warning] feature_fraction is set=0.9, colsample_bytree=1.0 will be ignored. Current value: feature_fraction=0.9\n",
      "[LightGBM] [Warning] min_data_in_leaf is set=30, min_child_samples=20 will be ignored. Current value: min_data_in_leaf=30\n",
      "[LightGBM] [Warning] bagging_fraction is set=0.7, subsample=1.0 will be ignored. Current value: bagging_fraction=0.7\n",
      "[LightGBM] [Warning] bagging_freq is set=8, subsample_freq=0 will be ignored. Current value: bagging_freq=8\n",
      "[CV] END bagging_fraction=0.7, bagging_freq=8, feature_fraction=0.9; total time=  10.9s\n",
      "[LightGBM] [Warning] feature_fraction is set=0.9, colsample_bytree=1.0 will be ignored. Current value: feature_fraction=0.9\n",
      "[LightGBM] [Warning] min_data_in_leaf is set=30, min_child_samples=20 will be ignored. Current value: min_data_in_leaf=30\n",
      "[LightGBM] [Warning] bagging_fraction is set=0.7, subsample=1.0 will be ignored. Current value: bagging_fraction=0.7\n",
      "[LightGBM] [Warning] bagging_freq is set=8, subsample_freq=0 will be ignored. Current value: bagging_freq=8\n",
      "[CV] END bagging_fraction=0.7, bagging_freq=8, feature_fraction=0.9; total time=  11.2s\n",
      "[LightGBM] [Warning] feature_fraction is set=1.0, colsample_bytree=1.0 will be ignored. Current value: feature_fraction=1.0\n",
      "[LightGBM] [Warning] min_data_in_leaf is set=30, min_child_samples=20 will be ignored. Current value: min_data_in_leaf=30\n",
      "[LightGBM] [Warning] bagging_fraction is set=0.7, subsample=1.0 will be ignored. Current value: bagging_fraction=0.7\n",
      "[LightGBM] [Warning] bagging_freq is set=8, subsample_freq=0 will be ignored. Current value: bagging_freq=8\n",
      "[CV] END bagging_fraction=0.7, bagging_freq=8, feature_fraction=1.0; total time=  11.9s\n",
      "[LightGBM] [Warning] feature_fraction is set=1.0, colsample_bytree=1.0 will be ignored. Current value: feature_fraction=1.0\n",
      "[LightGBM] [Warning] min_data_in_leaf is set=30, min_child_samples=20 will be ignored. Current value: min_data_in_leaf=30\n",
      "[LightGBM] [Warning] bagging_fraction is set=0.7, subsample=1.0 will be ignored. Current value: bagging_fraction=0.7\n",
      "[LightGBM] [Warning] bagging_freq is set=8, subsample_freq=0 will be ignored. Current value: bagging_freq=8\n",
      "[CV] END bagging_fraction=0.7, bagging_freq=8, feature_fraction=1.0; total time=  12.1s\n",
      "[LightGBM] [Warning] feature_fraction is set=1.0, colsample_bytree=1.0 will be ignored. Current value: feature_fraction=1.0\n",
      "[LightGBM] [Warning] min_data_in_leaf is set=30, min_child_samples=20 will be ignored. Current value: min_data_in_leaf=30\n",
      "[LightGBM] [Warning] bagging_fraction is set=0.7, subsample=1.0 will be ignored. Current value: bagging_fraction=0.7\n",
      "[LightGBM] [Warning] bagging_freq is set=8, subsample_freq=0 will be ignored. Current value: bagging_freq=8\n"
     ]
    },
    {
     "name": "stdout",
     "output_type": "stream",
     "text": [
      "[CV] END bagging_fraction=0.7, bagging_freq=8, feature_fraction=1.0; total time=  11.5s\n",
      "[LightGBM] [Warning] feature_fraction is set=0.6, colsample_bytree=1.0 will be ignored. Current value: feature_fraction=0.6\n",
      "[LightGBM] [Warning] min_data_in_leaf is set=30, min_child_samples=20 will be ignored. Current value: min_data_in_leaf=30\n",
      "[LightGBM] [Warning] bagging_fraction is set=0.8, subsample=1.0 will be ignored. Current value: bagging_fraction=0.8\n",
      "[LightGBM] [Warning] bagging_freq is set=0, subsample_freq=0 will be ignored. Current value: bagging_freq=0\n",
      "[CV] END bagging_fraction=0.8, bagging_freq=0, feature_fraction=0.6; total time=   9.8s\n",
      "[LightGBM] [Warning] feature_fraction is set=0.6, colsample_bytree=1.0 will be ignored. Current value: feature_fraction=0.6\n",
      "[LightGBM] [Warning] min_data_in_leaf is set=30, min_child_samples=20 will be ignored. Current value: min_data_in_leaf=30\n",
      "[LightGBM] [Warning] bagging_fraction is set=0.8, subsample=1.0 will be ignored. Current value: bagging_fraction=0.8\n",
      "[LightGBM] [Warning] bagging_freq is set=0, subsample_freq=0 will be ignored. Current value: bagging_freq=0\n",
      "[CV] END bagging_fraction=0.8, bagging_freq=0, feature_fraction=0.6; total time=  10.2s\n",
      "[LightGBM] [Warning] feature_fraction is set=0.6, colsample_bytree=1.0 will be ignored. Current value: feature_fraction=0.6\n",
      "[LightGBM] [Warning] min_data_in_leaf is set=30, min_child_samples=20 will be ignored. Current value: min_data_in_leaf=30\n",
      "[LightGBM] [Warning] bagging_fraction is set=0.8, subsample=1.0 will be ignored. Current value: bagging_fraction=0.8\n",
      "[LightGBM] [Warning] bagging_freq is set=0, subsample_freq=0 will be ignored. Current value: bagging_freq=0\n",
      "[CV] END bagging_fraction=0.8, bagging_freq=0, feature_fraction=0.6; total time=  10.0s\n",
      "[LightGBM] [Warning] feature_fraction is set=0.7, colsample_bytree=1.0 will be ignored. Current value: feature_fraction=0.7\n",
      "[LightGBM] [Warning] min_data_in_leaf is set=30, min_child_samples=20 will be ignored. Current value: min_data_in_leaf=30\n",
      "[LightGBM] [Warning] bagging_fraction is set=0.8, subsample=1.0 will be ignored. Current value: bagging_fraction=0.8\n",
      "[LightGBM] [Warning] bagging_freq is set=0, subsample_freq=0 will be ignored. Current value: bagging_freq=0\n",
      "[CV] END bagging_fraction=0.8, bagging_freq=0, feature_fraction=0.7; total time=  10.8s\n",
      "[LightGBM] [Warning] feature_fraction is set=0.7, colsample_bytree=1.0 will be ignored. Current value: feature_fraction=0.7\n",
      "[LightGBM] [Warning] min_data_in_leaf is set=30, min_child_samples=20 will be ignored. Current value: min_data_in_leaf=30\n",
      "[LightGBM] [Warning] bagging_fraction is set=0.8, subsample=1.0 will be ignored. Current value: bagging_fraction=0.8\n",
      "[LightGBM] [Warning] bagging_freq is set=0, subsample_freq=0 will be ignored. Current value: bagging_freq=0\n",
      "[CV] END bagging_fraction=0.8, bagging_freq=0, feature_fraction=0.7; total time=  10.7s\n",
      "[LightGBM] [Warning] feature_fraction is set=0.7, colsample_bytree=1.0 will be ignored. Current value: feature_fraction=0.7\n",
      "[LightGBM] [Warning] min_data_in_leaf is set=30, min_child_samples=20 will be ignored. Current value: min_data_in_leaf=30\n",
      "[LightGBM] [Warning] bagging_fraction is set=0.8, subsample=1.0 will be ignored. Current value: bagging_fraction=0.8\n",
      "[LightGBM] [Warning] bagging_freq is set=0, subsample_freq=0 will be ignored. Current value: bagging_freq=0\n",
      "[CV] END bagging_fraction=0.8, bagging_freq=0, feature_fraction=0.7; total time=  10.7s\n",
      "[LightGBM] [Warning] feature_fraction is set=0.8, colsample_bytree=1.0 will be ignored. Current value: feature_fraction=0.8\n",
      "[LightGBM] [Warning] min_data_in_leaf is set=30, min_child_samples=20 will be ignored. Current value: min_data_in_leaf=30\n",
      "[LightGBM] [Warning] bagging_fraction is set=0.8, subsample=1.0 will be ignored. Current value: bagging_fraction=0.8\n",
      "[LightGBM] [Warning] bagging_freq is set=0, subsample_freq=0 will be ignored. Current value: bagging_freq=0\n",
      "[CV] END bagging_fraction=0.8, bagging_freq=0, feature_fraction=0.8; total time=  12.4s\n",
      "[LightGBM] [Warning] feature_fraction is set=0.8, colsample_bytree=1.0 will be ignored. Current value: feature_fraction=0.8\n",
      "[LightGBM] [Warning] min_data_in_leaf is set=30, min_child_samples=20 will be ignored. Current value: min_data_in_leaf=30\n",
      "[LightGBM] [Warning] bagging_fraction is set=0.8, subsample=1.0 will be ignored. Current value: bagging_fraction=0.8\n",
      "[LightGBM] [Warning] bagging_freq is set=0, subsample_freq=0 will be ignored. Current value: bagging_freq=0\n",
      "[CV] END bagging_fraction=0.8, bagging_freq=0, feature_fraction=0.8; total time=  11.6s\n",
      "[LightGBM] [Warning] feature_fraction is set=0.8, colsample_bytree=1.0 will be ignored. Current value: feature_fraction=0.8\n",
      "[LightGBM] [Warning] min_data_in_leaf is set=30, min_child_samples=20 will be ignored. Current value: min_data_in_leaf=30\n",
      "[LightGBM] [Warning] bagging_fraction is set=0.8, subsample=1.0 will be ignored. Current value: bagging_fraction=0.8\n",
      "[LightGBM] [Warning] bagging_freq is set=0, subsample_freq=0 will be ignored. Current value: bagging_freq=0\n",
      "[CV] END bagging_fraction=0.8, bagging_freq=0, feature_fraction=0.8; total time=  11.4s\n",
      "[LightGBM] [Warning] feature_fraction is set=0.9, colsample_bytree=1.0 will be ignored. Current value: feature_fraction=0.9\n",
      "[LightGBM] [Warning] min_data_in_leaf is set=30, min_child_samples=20 will be ignored. Current value: min_data_in_leaf=30\n",
      "[LightGBM] [Warning] bagging_fraction is set=0.8, subsample=1.0 will be ignored. Current value: bagging_fraction=0.8\n",
      "[LightGBM] [Warning] bagging_freq is set=0, subsample_freq=0 will be ignored. Current value: bagging_freq=0\n",
      "[CV] END bagging_fraction=0.8, bagging_freq=0, feature_fraction=0.9; total time=  12.0s\n",
      "[LightGBM] [Warning] feature_fraction is set=0.9, colsample_bytree=1.0 will be ignored. Current value: feature_fraction=0.9\n",
      "[LightGBM] [Warning] min_data_in_leaf is set=30, min_child_samples=20 will be ignored. Current value: min_data_in_leaf=30\n",
      "[LightGBM] [Warning] bagging_fraction is set=0.8, subsample=1.0 will be ignored. Current value: bagging_fraction=0.8\n",
      "[LightGBM] [Warning] bagging_freq is set=0, subsample_freq=0 will be ignored. Current value: bagging_freq=0\n",
      "[CV] END bagging_fraction=0.8, bagging_freq=0, feature_fraction=0.9; total time=  11.6s\n",
      "[LightGBM] [Warning] feature_fraction is set=0.9, colsample_bytree=1.0 will be ignored. Current value: feature_fraction=0.9\n",
      "[LightGBM] [Warning] min_data_in_leaf is set=30, min_child_samples=20 will be ignored. Current value: min_data_in_leaf=30\n",
      "[LightGBM] [Warning] bagging_fraction is set=0.8, subsample=1.0 will be ignored. Current value: bagging_fraction=0.8\n",
      "[LightGBM] [Warning] bagging_freq is set=0, subsample_freq=0 will be ignored. Current value: bagging_freq=0\n",
      "[CV] END bagging_fraction=0.8, bagging_freq=0, feature_fraction=0.9; total time=  11.6s\n",
      "[LightGBM] [Warning] feature_fraction is set=1.0, colsample_bytree=1.0 will be ignored. Current value: feature_fraction=1.0\n",
      "[LightGBM] [Warning] min_data_in_leaf is set=30, min_child_samples=20 will be ignored. Current value: min_data_in_leaf=30\n",
      "[LightGBM] [Warning] bagging_fraction is set=0.8, subsample=1.0 will be ignored. Current value: bagging_fraction=0.8\n",
      "[LightGBM] [Warning] bagging_freq is set=0, subsample_freq=0 will be ignored. Current value: bagging_freq=0\n",
      "[CV] END bagging_fraction=0.8, bagging_freq=0, feature_fraction=1.0; total time=  13.2s\n",
      "[LightGBM] [Warning] feature_fraction is set=1.0, colsample_bytree=1.0 will be ignored. Current value: feature_fraction=1.0\n",
      "[LightGBM] [Warning] min_data_in_leaf is set=30, min_child_samples=20 will be ignored. Current value: min_data_in_leaf=30\n",
      "[LightGBM] [Warning] bagging_fraction is set=0.8, subsample=1.0 will be ignored. Current value: bagging_fraction=0.8\n",
      "[LightGBM] [Warning] bagging_freq is set=0, subsample_freq=0 will be ignored. Current value: bagging_freq=0\n",
      "[CV] END bagging_fraction=0.8, bagging_freq=0, feature_fraction=1.0; total time=  13.5s\n",
      "[LightGBM] [Warning] feature_fraction is set=1.0, colsample_bytree=1.0 will be ignored. Current value: feature_fraction=1.0\n",
      "[LightGBM] [Warning] min_data_in_leaf is set=30, min_child_samples=20 will be ignored. Current value: min_data_in_leaf=30\n",
      "[LightGBM] [Warning] bagging_fraction is set=0.8, subsample=1.0 will be ignored. Current value: bagging_fraction=0.8\n",
      "[LightGBM] [Warning] bagging_freq is set=0, subsample_freq=0 will be ignored. Current value: bagging_freq=0\n"
     ]
    },
    {
     "name": "stdout",
     "output_type": "stream",
     "text": [
      "[CV] END bagging_fraction=0.8, bagging_freq=0, feature_fraction=1.0; total time=  13.2s\n",
      "[LightGBM] [Warning] feature_fraction is set=0.6, colsample_bytree=1.0 will be ignored. Current value: feature_fraction=0.6\n",
      "[LightGBM] [Warning] min_data_in_leaf is set=30, min_child_samples=20 will be ignored. Current value: min_data_in_leaf=30\n",
      "[LightGBM] [Warning] bagging_fraction is set=0.8, subsample=1.0 will be ignored. Current value: bagging_fraction=0.8\n",
      "[LightGBM] [Warning] bagging_freq is set=2, subsample_freq=0 will be ignored. Current value: bagging_freq=2\n",
      "[CV] END bagging_fraction=0.8, bagging_freq=2, feature_fraction=0.6; total time=   9.7s\n",
      "[LightGBM] [Warning] feature_fraction is set=0.6, colsample_bytree=1.0 will be ignored. Current value: feature_fraction=0.6\n",
      "[LightGBM] [Warning] min_data_in_leaf is set=30, min_child_samples=20 will be ignored. Current value: min_data_in_leaf=30\n",
      "[LightGBM] [Warning] bagging_fraction is set=0.8, subsample=1.0 will be ignored. Current value: bagging_fraction=0.8\n",
      "[LightGBM] [Warning] bagging_freq is set=2, subsample_freq=0 will be ignored. Current value: bagging_freq=2\n",
      "[CV] END bagging_fraction=0.8, bagging_freq=2, feature_fraction=0.6; total time=   9.8s\n",
      "[LightGBM] [Warning] feature_fraction is set=0.6, colsample_bytree=1.0 will be ignored. Current value: feature_fraction=0.6\n",
      "[LightGBM] [Warning] min_data_in_leaf is set=30, min_child_samples=20 will be ignored. Current value: min_data_in_leaf=30\n",
      "[LightGBM] [Warning] bagging_fraction is set=0.8, subsample=1.0 will be ignored. Current value: bagging_fraction=0.8\n",
      "[LightGBM] [Warning] bagging_freq is set=2, subsample_freq=0 will be ignored. Current value: bagging_freq=2\n",
      "[CV] END bagging_fraction=0.8, bagging_freq=2, feature_fraction=0.6; total time=   9.9s\n",
      "[LightGBM] [Warning] feature_fraction is set=0.7, colsample_bytree=1.0 will be ignored. Current value: feature_fraction=0.7\n",
      "[LightGBM] [Warning] min_data_in_leaf is set=30, min_child_samples=20 will be ignored. Current value: min_data_in_leaf=30\n",
      "[LightGBM] [Warning] bagging_fraction is set=0.8, subsample=1.0 will be ignored. Current value: bagging_fraction=0.8\n",
      "[LightGBM] [Warning] bagging_freq is set=2, subsample_freq=0 will be ignored. Current value: bagging_freq=2\n",
      "[CV] END bagging_fraction=0.8, bagging_freq=2, feature_fraction=0.7; total time=  10.2s\n",
      "[LightGBM] [Warning] feature_fraction is set=0.7, colsample_bytree=1.0 will be ignored. Current value: feature_fraction=0.7\n",
      "[LightGBM] [Warning] min_data_in_leaf is set=30, min_child_samples=20 will be ignored. Current value: min_data_in_leaf=30\n",
      "[LightGBM] [Warning] bagging_fraction is set=0.8, subsample=1.0 will be ignored. Current value: bagging_fraction=0.8\n",
      "[LightGBM] [Warning] bagging_freq is set=2, subsample_freq=0 will be ignored. Current value: bagging_freq=2\n",
      "[CV] END bagging_fraction=0.8, bagging_freq=2, feature_fraction=0.7; total time=  10.1s\n",
      "[LightGBM] [Warning] feature_fraction is set=0.7, colsample_bytree=1.0 will be ignored. Current value: feature_fraction=0.7\n",
      "[LightGBM] [Warning] min_data_in_leaf is set=30, min_child_samples=20 will be ignored. Current value: min_data_in_leaf=30\n",
      "[LightGBM] [Warning] bagging_fraction is set=0.8, subsample=1.0 will be ignored. Current value: bagging_fraction=0.8\n",
      "[LightGBM] [Warning] bagging_freq is set=2, subsample_freq=0 will be ignored. Current value: bagging_freq=2\n",
      "[CV] END bagging_fraction=0.8, bagging_freq=2, feature_fraction=0.7; total time=  10.1s\n",
      "[LightGBM] [Warning] feature_fraction is set=0.8, colsample_bytree=1.0 will be ignored. Current value: feature_fraction=0.8\n",
      "[LightGBM] [Warning] min_data_in_leaf is set=30, min_child_samples=20 will be ignored. Current value: min_data_in_leaf=30\n",
      "[LightGBM] [Warning] bagging_fraction is set=0.8, subsample=1.0 will be ignored. Current value: bagging_fraction=0.8\n",
      "[LightGBM] [Warning] bagging_freq is set=2, subsample_freq=0 will be ignored. Current value: bagging_freq=2\n",
      "[CV] END bagging_fraction=0.8, bagging_freq=2, feature_fraction=0.8; total time=  10.9s\n",
      "[LightGBM] [Warning] feature_fraction is set=0.8, colsample_bytree=1.0 will be ignored. Current value: feature_fraction=0.8\n",
      "[LightGBM] [Warning] min_data_in_leaf is set=30, min_child_samples=20 will be ignored. Current value: min_data_in_leaf=30\n",
      "[LightGBM] [Warning] bagging_fraction is set=0.8, subsample=1.0 will be ignored. Current value: bagging_fraction=0.8\n",
      "[LightGBM] [Warning] bagging_freq is set=2, subsample_freq=0 will be ignored. Current value: bagging_freq=2\n",
      "[CV] END bagging_fraction=0.8, bagging_freq=2, feature_fraction=0.8; total time=  11.1s\n",
      "[LightGBM] [Warning] feature_fraction is set=0.8, colsample_bytree=1.0 will be ignored. Current value: feature_fraction=0.8\n",
      "[LightGBM] [Warning] min_data_in_leaf is set=30, min_child_samples=20 will be ignored. Current value: min_data_in_leaf=30\n",
      "[LightGBM] [Warning] bagging_fraction is set=0.8, subsample=1.0 will be ignored. Current value: bagging_fraction=0.8\n",
      "[LightGBM] [Warning] bagging_freq is set=2, subsample_freq=0 will be ignored. Current value: bagging_freq=2\n",
      "[CV] END bagging_fraction=0.8, bagging_freq=2, feature_fraction=0.8; total time=  11.0s\n",
      "[LightGBM] [Warning] feature_fraction is set=0.9, colsample_bytree=1.0 will be ignored. Current value: feature_fraction=0.9\n",
      "[LightGBM] [Warning] min_data_in_leaf is set=30, min_child_samples=20 will be ignored. Current value: min_data_in_leaf=30\n",
      "[LightGBM] [Warning] bagging_fraction is set=0.8, subsample=1.0 will be ignored. Current value: bagging_fraction=0.8\n",
      "[LightGBM] [Warning] bagging_freq is set=2, subsample_freq=0 will be ignored. Current value: bagging_freq=2\n",
      "[CV] END bagging_fraction=0.8, bagging_freq=2, feature_fraction=0.9; total time=  12.1s\n",
      "[LightGBM] [Warning] feature_fraction is set=0.9, colsample_bytree=1.0 will be ignored. Current value: feature_fraction=0.9\n",
      "[LightGBM] [Warning] min_data_in_leaf is set=30, min_child_samples=20 will be ignored. Current value: min_data_in_leaf=30\n",
      "[LightGBM] [Warning] bagging_fraction is set=0.8, subsample=1.0 will be ignored. Current value: bagging_fraction=0.8\n",
      "[LightGBM] [Warning] bagging_freq is set=2, subsample_freq=0 will be ignored. Current value: bagging_freq=2\n",
      "[CV] END bagging_fraction=0.8, bagging_freq=2, feature_fraction=0.9; total time=  11.6s\n",
      "[LightGBM] [Warning] feature_fraction is set=0.9, colsample_bytree=1.0 will be ignored. Current value: feature_fraction=0.9\n",
      "[LightGBM] [Warning] min_data_in_leaf is set=30, min_child_samples=20 will be ignored. Current value: min_data_in_leaf=30\n",
      "[LightGBM] [Warning] bagging_fraction is set=0.8, subsample=1.0 will be ignored. Current value: bagging_fraction=0.8\n",
      "[LightGBM] [Warning] bagging_freq is set=2, subsample_freq=0 will be ignored. Current value: bagging_freq=2\n",
      "[CV] END bagging_fraction=0.8, bagging_freq=2, feature_fraction=0.9; total time=  11.5s\n",
      "[LightGBM] [Warning] feature_fraction is set=1.0, colsample_bytree=1.0 will be ignored. Current value: feature_fraction=1.0\n",
      "[LightGBM] [Warning] min_data_in_leaf is set=30, min_child_samples=20 will be ignored. Current value: min_data_in_leaf=30\n",
      "[LightGBM] [Warning] bagging_fraction is set=0.8, subsample=1.0 will be ignored. Current value: bagging_fraction=0.8\n",
      "[LightGBM] [Warning] bagging_freq is set=2, subsample_freq=0 will be ignored. Current value: bagging_freq=2\n",
      "[CV] END bagging_fraction=0.8, bagging_freq=2, feature_fraction=1.0; total time=  12.8s\n",
      "[LightGBM] [Warning] feature_fraction is set=1.0, colsample_bytree=1.0 will be ignored. Current value: feature_fraction=1.0\n",
      "[LightGBM] [Warning] min_data_in_leaf is set=30, min_child_samples=20 will be ignored. Current value: min_data_in_leaf=30\n",
      "[LightGBM] [Warning] bagging_fraction is set=0.8, subsample=1.0 will be ignored. Current value: bagging_fraction=0.8\n",
      "[LightGBM] [Warning] bagging_freq is set=2, subsample_freq=0 will be ignored. Current value: bagging_freq=2\n",
      "[CV] END bagging_fraction=0.8, bagging_freq=2, feature_fraction=1.0; total time=  12.7s\n",
      "[LightGBM] [Warning] feature_fraction is set=1.0, colsample_bytree=1.0 will be ignored. Current value: feature_fraction=1.0\n",
      "[LightGBM] [Warning] min_data_in_leaf is set=30, min_child_samples=20 will be ignored. Current value: min_data_in_leaf=30\n",
      "[LightGBM] [Warning] bagging_fraction is set=0.8, subsample=1.0 will be ignored. Current value: bagging_fraction=0.8\n",
      "[LightGBM] [Warning] bagging_freq is set=2, subsample_freq=0 will be ignored. Current value: bagging_freq=2\n"
     ]
    },
    {
     "name": "stdout",
     "output_type": "stream",
     "text": [
      "[CV] END bagging_fraction=0.8, bagging_freq=2, feature_fraction=1.0; total time=  13.7s\n",
      "[LightGBM] [Warning] feature_fraction is set=0.6, colsample_bytree=1.0 will be ignored. Current value: feature_fraction=0.6\n",
      "[LightGBM] [Warning] min_data_in_leaf is set=30, min_child_samples=20 will be ignored. Current value: min_data_in_leaf=30\n",
      "[LightGBM] [Warning] bagging_fraction is set=0.8, subsample=1.0 will be ignored. Current value: bagging_fraction=0.8\n",
      "[LightGBM] [Warning] bagging_freq is set=4, subsample_freq=0 will be ignored. Current value: bagging_freq=4\n",
      "[CV] END bagging_fraction=0.8, bagging_freq=4, feature_fraction=0.6; total time=  10.4s\n",
      "[LightGBM] [Warning] feature_fraction is set=0.6, colsample_bytree=1.0 will be ignored. Current value: feature_fraction=0.6\n",
      "[LightGBM] [Warning] min_data_in_leaf is set=30, min_child_samples=20 will be ignored. Current value: min_data_in_leaf=30\n",
      "[LightGBM] [Warning] bagging_fraction is set=0.8, subsample=1.0 will be ignored. Current value: bagging_fraction=0.8\n",
      "[LightGBM] [Warning] bagging_freq is set=4, subsample_freq=0 will be ignored. Current value: bagging_freq=4\n",
      "[CV] END bagging_fraction=0.8, bagging_freq=4, feature_fraction=0.6; total time=   9.8s\n",
      "[LightGBM] [Warning] feature_fraction is set=0.6, colsample_bytree=1.0 will be ignored. Current value: feature_fraction=0.6\n",
      "[LightGBM] [Warning] min_data_in_leaf is set=30, min_child_samples=20 will be ignored. Current value: min_data_in_leaf=30\n",
      "[LightGBM] [Warning] bagging_fraction is set=0.8, subsample=1.0 will be ignored. Current value: bagging_fraction=0.8\n",
      "[LightGBM] [Warning] bagging_freq is set=4, subsample_freq=0 will be ignored. Current value: bagging_freq=4\n",
      "[CV] END bagging_fraction=0.8, bagging_freq=4, feature_fraction=0.6; total time=   9.6s\n",
      "[LightGBM] [Warning] feature_fraction is set=0.7, colsample_bytree=1.0 will be ignored. Current value: feature_fraction=0.7\n",
      "[LightGBM] [Warning] min_data_in_leaf is set=30, min_child_samples=20 will be ignored. Current value: min_data_in_leaf=30\n",
      "[LightGBM] [Warning] bagging_fraction is set=0.8, subsample=1.0 will be ignored. Current value: bagging_fraction=0.8\n",
      "[LightGBM] [Warning] bagging_freq is set=4, subsample_freq=0 will be ignored. Current value: bagging_freq=4\n",
      "[CV] END bagging_fraction=0.8, bagging_freq=4, feature_fraction=0.7; total time=  10.1s\n",
      "[LightGBM] [Warning] feature_fraction is set=0.7, colsample_bytree=1.0 will be ignored. Current value: feature_fraction=0.7\n",
      "[LightGBM] [Warning] min_data_in_leaf is set=30, min_child_samples=20 will be ignored. Current value: min_data_in_leaf=30\n",
      "[LightGBM] [Warning] bagging_fraction is set=0.8, subsample=1.0 will be ignored. Current value: bagging_fraction=0.8\n",
      "[LightGBM] [Warning] bagging_freq is set=4, subsample_freq=0 will be ignored. Current value: bagging_freq=4\n",
      "[CV] END bagging_fraction=0.8, bagging_freq=4, feature_fraction=0.7; total time=  10.3s\n",
      "[LightGBM] [Warning] feature_fraction is set=0.7, colsample_bytree=1.0 will be ignored. Current value: feature_fraction=0.7\n",
      "[LightGBM] [Warning] min_data_in_leaf is set=30, min_child_samples=20 will be ignored. Current value: min_data_in_leaf=30\n",
      "[LightGBM] [Warning] bagging_fraction is set=0.8, subsample=1.0 will be ignored. Current value: bagging_fraction=0.8\n",
      "[LightGBM] [Warning] bagging_freq is set=4, subsample_freq=0 will be ignored. Current value: bagging_freq=4\n",
      "[CV] END bagging_fraction=0.8, bagging_freq=4, feature_fraction=0.7; total time=  10.2s\n",
      "[LightGBM] [Warning] feature_fraction is set=0.8, colsample_bytree=1.0 will be ignored. Current value: feature_fraction=0.8\n",
      "[LightGBM] [Warning] min_data_in_leaf is set=30, min_child_samples=20 will be ignored. Current value: min_data_in_leaf=30\n",
      "[LightGBM] [Warning] bagging_fraction is set=0.8, subsample=1.0 will be ignored. Current value: bagging_fraction=0.8\n",
      "[LightGBM] [Warning] bagging_freq is set=4, subsample_freq=0 will be ignored. Current value: bagging_freq=4\n",
      "[CV] END bagging_fraction=0.8, bagging_freq=4, feature_fraction=0.8; total time=  10.7s\n",
      "[LightGBM] [Warning] feature_fraction is set=0.8, colsample_bytree=1.0 will be ignored. Current value: feature_fraction=0.8\n",
      "[LightGBM] [Warning] min_data_in_leaf is set=30, min_child_samples=20 will be ignored. Current value: min_data_in_leaf=30\n",
      "[LightGBM] [Warning] bagging_fraction is set=0.8, subsample=1.0 will be ignored. Current value: bagging_fraction=0.8\n",
      "[LightGBM] [Warning] bagging_freq is set=4, subsample_freq=0 will be ignored. Current value: bagging_freq=4\n",
      "[CV] END bagging_fraction=0.8, bagging_freq=4, feature_fraction=0.8; total time=  11.1s\n",
      "[LightGBM] [Warning] feature_fraction is set=0.8, colsample_bytree=1.0 will be ignored. Current value: feature_fraction=0.8\n",
      "[LightGBM] [Warning] min_data_in_leaf is set=30, min_child_samples=20 will be ignored. Current value: min_data_in_leaf=30\n",
      "[LightGBM] [Warning] bagging_fraction is set=0.8, subsample=1.0 will be ignored. Current value: bagging_fraction=0.8\n",
      "[LightGBM] [Warning] bagging_freq is set=4, subsample_freq=0 will be ignored. Current value: bagging_freq=4\n",
      "[CV] END bagging_fraction=0.8, bagging_freq=4, feature_fraction=0.8; total time=  10.8s\n",
      "[LightGBM] [Warning] feature_fraction is set=0.9, colsample_bytree=1.0 will be ignored. Current value: feature_fraction=0.9\n",
      "[LightGBM] [Warning] min_data_in_leaf is set=30, min_child_samples=20 will be ignored. Current value: min_data_in_leaf=30\n",
      "[LightGBM] [Warning] bagging_fraction is set=0.8, subsample=1.0 will be ignored. Current value: bagging_fraction=0.8\n",
      "[LightGBM] [Warning] bagging_freq is set=4, subsample_freq=0 will be ignored. Current value: bagging_freq=4\n",
      "[CV] END bagging_fraction=0.8, bagging_freq=4, feature_fraction=0.9; total time=  11.8s\n",
      "[LightGBM] [Warning] feature_fraction is set=0.9, colsample_bytree=1.0 will be ignored. Current value: feature_fraction=0.9\n",
      "[LightGBM] [Warning] min_data_in_leaf is set=30, min_child_samples=20 will be ignored. Current value: min_data_in_leaf=30\n",
      "[LightGBM] [Warning] bagging_fraction is set=0.8, subsample=1.0 will be ignored. Current value: bagging_fraction=0.8\n",
      "[LightGBM] [Warning] bagging_freq is set=4, subsample_freq=0 will be ignored. Current value: bagging_freq=4\n",
      "[CV] END bagging_fraction=0.8, bagging_freq=4, feature_fraction=0.9; total time=  11.8s\n",
      "[LightGBM] [Warning] feature_fraction is set=0.9, colsample_bytree=1.0 will be ignored. Current value: feature_fraction=0.9\n",
      "[LightGBM] [Warning] min_data_in_leaf is set=30, min_child_samples=20 will be ignored. Current value: min_data_in_leaf=30\n",
      "[LightGBM] [Warning] bagging_fraction is set=0.8, subsample=1.0 will be ignored. Current value: bagging_fraction=0.8\n",
      "[LightGBM] [Warning] bagging_freq is set=4, subsample_freq=0 will be ignored. Current value: bagging_freq=4\n",
      "[CV] END bagging_fraction=0.8, bagging_freq=4, feature_fraction=0.9; total time=  11.6s\n",
      "[LightGBM] [Warning] feature_fraction is set=1.0, colsample_bytree=1.0 will be ignored. Current value: feature_fraction=1.0\n",
      "[LightGBM] [Warning] min_data_in_leaf is set=30, min_child_samples=20 will be ignored. Current value: min_data_in_leaf=30\n",
      "[LightGBM] [Warning] bagging_fraction is set=0.8, subsample=1.0 will be ignored. Current value: bagging_fraction=0.8\n",
      "[LightGBM] [Warning] bagging_freq is set=4, subsample_freq=0 will be ignored. Current value: bagging_freq=4\n",
      "[CV] END bagging_fraction=0.8, bagging_freq=4, feature_fraction=1.0; total time=  12.6s\n",
      "[LightGBM] [Warning] feature_fraction is set=1.0, colsample_bytree=1.0 will be ignored. Current value: feature_fraction=1.0\n",
      "[LightGBM] [Warning] min_data_in_leaf is set=30, min_child_samples=20 will be ignored. Current value: min_data_in_leaf=30\n",
      "[LightGBM] [Warning] bagging_fraction is set=0.8, subsample=1.0 will be ignored. Current value: bagging_fraction=0.8\n",
      "[LightGBM] [Warning] bagging_freq is set=4, subsample_freq=0 will be ignored. Current value: bagging_freq=4\n",
      "[CV] END bagging_fraction=0.8, bagging_freq=4, feature_fraction=1.0; total time=  12.0s\n",
      "[LightGBM] [Warning] feature_fraction is set=1.0, colsample_bytree=1.0 will be ignored. Current value: feature_fraction=1.0\n",
      "[LightGBM] [Warning] min_data_in_leaf is set=30, min_child_samples=20 will be ignored. Current value: min_data_in_leaf=30\n",
      "[LightGBM] [Warning] bagging_fraction is set=0.8, subsample=1.0 will be ignored. Current value: bagging_fraction=0.8\n",
      "[LightGBM] [Warning] bagging_freq is set=4, subsample_freq=0 will be ignored. Current value: bagging_freq=4\n"
     ]
    },
    {
     "name": "stdout",
     "output_type": "stream",
     "text": [
      "[CV] END bagging_fraction=0.8, bagging_freq=4, feature_fraction=1.0; total time=  12.5s\n",
      "[LightGBM] [Warning] feature_fraction is set=0.6, colsample_bytree=1.0 will be ignored. Current value: feature_fraction=0.6\n",
      "[LightGBM] [Warning] min_data_in_leaf is set=30, min_child_samples=20 will be ignored. Current value: min_data_in_leaf=30\n",
      "[LightGBM] [Warning] bagging_fraction is set=0.8, subsample=1.0 will be ignored. Current value: bagging_fraction=0.8\n",
      "[LightGBM] [Warning] bagging_freq is set=6, subsample_freq=0 will be ignored. Current value: bagging_freq=6\n",
      "[CV] END bagging_fraction=0.8, bagging_freq=6, feature_fraction=0.6; total time=   9.5s\n",
      "[LightGBM] [Warning] feature_fraction is set=0.6, colsample_bytree=1.0 will be ignored. Current value: feature_fraction=0.6\n",
      "[LightGBM] [Warning] min_data_in_leaf is set=30, min_child_samples=20 will be ignored. Current value: min_data_in_leaf=30\n",
      "[LightGBM] [Warning] bagging_fraction is set=0.8, subsample=1.0 will be ignored. Current value: bagging_fraction=0.8\n",
      "[LightGBM] [Warning] bagging_freq is set=6, subsample_freq=0 will be ignored. Current value: bagging_freq=6\n",
      "[CV] END bagging_fraction=0.8, bagging_freq=6, feature_fraction=0.6; total time=   9.3s\n",
      "[LightGBM] [Warning] feature_fraction is set=0.6, colsample_bytree=1.0 will be ignored. Current value: feature_fraction=0.6\n",
      "[LightGBM] [Warning] min_data_in_leaf is set=30, min_child_samples=20 will be ignored. Current value: min_data_in_leaf=30\n",
      "[LightGBM] [Warning] bagging_fraction is set=0.8, subsample=1.0 will be ignored. Current value: bagging_fraction=0.8\n",
      "[LightGBM] [Warning] bagging_freq is set=6, subsample_freq=0 will be ignored. Current value: bagging_freq=6\n",
      "[CV] END bagging_fraction=0.8, bagging_freq=6, feature_fraction=0.6; total time=   9.4s\n",
      "[LightGBM] [Warning] feature_fraction is set=0.7, colsample_bytree=1.0 will be ignored. Current value: feature_fraction=0.7\n",
      "[LightGBM] [Warning] min_data_in_leaf is set=30, min_child_samples=20 will be ignored. Current value: min_data_in_leaf=30\n",
      "[LightGBM] [Warning] bagging_fraction is set=0.8, subsample=1.0 will be ignored. Current value: bagging_fraction=0.8\n",
      "[LightGBM] [Warning] bagging_freq is set=6, subsample_freq=0 will be ignored. Current value: bagging_freq=6\n",
      "[CV] END bagging_fraction=0.8, bagging_freq=6, feature_fraction=0.7; total time=  10.2s\n",
      "[LightGBM] [Warning] feature_fraction is set=0.7, colsample_bytree=1.0 will be ignored. Current value: feature_fraction=0.7\n",
      "[LightGBM] [Warning] min_data_in_leaf is set=30, min_child_samples=20 will be ignored. Current value: min_data_in_leaf=30\n",
      "[LightGBM] [Warning] bagging_fraction is set=0.8, subsample=1.0 will be ignored. Current value: bagging_fraction=0.8\n",
      "[LightGBM] [Warning] bagging_freq is set=6, subsample_freq=0 will be ignored. Current value: bagging_freq=6\n",
      "[CV] END bagging_fraction=0.8, bagging_freq=6, feature_fraction=0.7; total time=  10.1s\n",
      "[LightGBM] [Warning] feature_fraction is set=0.7, colsample_bytree=1.0 will be ignored. Current value: feature_fraction=0.7\n",
      "[LightGBM] [Warning] min_data_in_leaf is set=30, min_child_samples=20 will be ignored. Current value: min_data_in_leaf=30\n",
      "[LightGBM] [Warning] bagging_fraction is set=0.8, subsample=1.0 will be ignored. Current value: bagging_fraction=0.8\n",
      "[LightGBM] [Warning] bagging_freq is set=6, subsample_freq=0 will be ignored. Current value: bagging_freq=6\n",
      "[CV] END bagging_fraction=0.8, bagging_freq=6, feature_fraction=0.7; total time=  10.0s\n",
      "[LightGBM] [Warning] feature_fraction is set=0.8, colsample_bytree=1.0 will be ignored. Current value: feature_fraction=0.8\n",
      "[LightGBM] [Warning] min_data_in_leaf is set=30, min_child_samples=20 will be ignored. Current value: min_data_in_leaf=30\n",
      "[LightGBM] [Warning] bagging_fraction is set=0.8, subsample=1.0 will be ignored. Current value: bagging_fraction=0.8\n",
      "[LightGBM] [Warning] bagging_freq is set=6, subsample_freq=0 will be ignored. Current value: bagging_freq=6\n",
      "[CV] END bagging_fraction=0.8, bagging_freq=6, feature_fraction=0.8; total time=  11.2s\n",
      "[LightGBM] [Warning] feature_fraction is set=0.8, colsample_bytree=1.0 will be ignored. Current value: feature_fraction=0.8\n",
      "[LightGBM] [Warning] min_data_in_leaf is set=30, min_child_samples=20 will be ignored. Current value: min_data_in_leaf=30\n",
      "[LightGBM] [Warning] bagging_fraction is set=0.8, subsample=1.0 will be ignored. Current value: bagging_fraction=0.8\n",
      "[LightGBM] [Warning] bagging_freq is set=6, subsample_freq=0 will be ignored. Current value: bagging_freq=6\n",
      "[CV] END bagging_fraction=0.8, bagging_freq=6, feature_fraction=0.8; total time=  11.1s\n",
      "[LightGBM] [Warning] feature_fraction is set=0.8, colsample_bytree=1.0 will be ignored. Current value: feature_fraction=0.8\n",
      "[LightGBM] [Warning] min_data_in_leaf is set=30, min_child_samples=20 will be ignored. Current value: min_data_in_leaf=30\n",
      "[LightGBM] [Warning] bagging_fraction is set=0.8, subsample=1.0 will be ignored. Current value: bagging_fraction=0.8\n",
      "[LightGBM] [Warning] bagging_freq is set=6, subsample_freq=0 will be ignored. Current value: bagging_freq=6\n",
      "[CV] END bagging_fraction=0.8, bagging_freq=6, feature_fraction=0.8; total time=  10.8s\n",
      "[LightGBM] [Warning] feature_fraction is set=0.9, colsample_bytree=1.0 will be ignored. Current value: feature_fraction=0.9\n",
      "[LightGBM] [Warning] min_data_in_leaf is set=30, min_child_samples=20 will be ignored. Current value: min_data_in_leaf=30\n",
      "[LightGBM] [Warning] bagging_fraction is set=0.8, subsample=1.0 will be ignored. Current value: bagging_fraction=0.8\n",
      "[LightGBM] [Warning] bagging_freq is set=6, subsample_freq=0 will be ignored. Current value: bagging_freq=6\n",
      "[CV] END bagging_fraction=0.8, bagging_freq=6, feature_fraction=0.9; total time=  11.4s\n",
      "[LightGBM] [Warning] feature_fraction is set=0.9, colsample_bytree=1.0 will be ignored. Current value: feature_fraction=0.9\n",
      "[LightGBM] [Warning] min_data_in_leaf is set=30, min_child_samples=20 will be ignored. Current value: min_data_in_leaf=30\n",
      "[LightGBM] [Warning] bagging_fraction is set=0.8, subsample=1.0 will be ignored. Current value: bagging_fraction=0.8\n",
      "[LightGBM] [Warning] bagging_freq is set=6, subsample_freq=0 will be ignored. Current value: bagging_freq=6\n",
      "[CV] END bagging_fraction=0.8, bagging_freq=6, feature_fraction=0.9; total time=  11.4s\n",
      "[LightGBM] [Warning] feature_fraction is set=0.9, colsample_bytree=1.0 will be ignored. Current value: feature_fraction=0.9\n",
      "[LightGBM] [Warning] min_data_in_leaf is set=30, min_child_samples=20 will be ignored. Current value: min_data_in_leaf=30\n",
      "[LightGBM] [Warning] bagging_fraction is set=0.8, subsample=1.0 will be ignored. Current value: bagging_fraction=0.8\n",
      "[LightGBM] [Warning] bagging_freq is set=6, subsample_freq=0 will be ignored. Current value: bagging_freq=6\n",
      "[CV] END bagging_fraction=0.8, bagging_freq=6, feature_fraction=0.9; total time=  11.7s\n",
      "[LightGBM] [Warning] feature_fraction is set=1.0, colsample_bytree=1.0 will be ignored. Current value: feature_fraction=1.0\n",
      "[LightGBM] [Warning] min_data_in_leaf is set=30, min_child_samples=20 will be ignored. Current value: min_data_in_leaf=30\n",
      "[LightGBM] [Warning] bagging_fraction is set=0.8, subsample=1.0 will be ignored. Current value: bagging_fraction=0.8\n",
      "[LightGBM] [Warning] bagging_freq is set=6, subsample_freq=0 will be ignored. Current value: bagging_freq=6\n",
      "[CV] END bagging_fraction=0.8, bagging_freq=6, feature_fraction=1.0; total time=  12.8s\n",
      "[LightGBM] [Warning] feature_fraction is set=1.0, colsample_bytree=1.0 will be ignored. Current value: feature_fraction=1.0\n",
      "[LightGBM] [Warning] min_data_in_leaf is set=30, min_child_samples=20 will be ignored. Current value: min_data_in_leaf=30\n",
      "[LightGBM] [Warning] bagging_fraction is set=0.8, subsample=1.0 will be ignored. Current value: bagging_fraction=0.8\n",
      "[LightGBM] [Warning] bagging_freq is set=6, subsample_freq=0 will be ignored. Current value: bagging_freq=6\n",
      "[CV] END bagging_fraction=0.8, bagging_freq=6, feature_fraction=1.0; total time=  12.3s\n",
      "[LightGBM] [Warning] feature_fraction is set=1.0, colsample_bytree=1.0 will be ignored. Current value: feature_fraction=1.0\n",
      "[LightGBM] [Warning] min_data_in_leaf is set=30, min_child_samples=20 will be ignored. Current value: min_data_in_leaf=30\n",
      "[LightGBM] [Warning] bagging_fraction is set=0.8, subsample=1.0 will be ignored. Current value: bagging_fraction=0.8\n",
      "[LightGBM] [Warning] bagging_freq is set=6, subsample_freq=0 will be ignored. Current value: bagging_freq=6\n"
     ]
    },
    {
     "name": "stdout",
     "output_type": "stream",
     "text": [
      "[CV] END bagging_fraction=0.8, bagging_freq=6, feature_fraction=1.0; total time=  12.3s\n",
      "[LightGBM] [Warning] feature_fraction is set=0.6, colsample_bytree=1.0 will be ignored. Current value: feature_fraction=0.6\n",
      "[LightGBM] [Warning] min_data_in_leaf is set=30, min_child_samples=20 will be ignored. Current value: min_data_in_leaf=30\n",
      "[LightGBM] [Warning] bagging_fraction is set=0.8, subsample=1.0 will be ignored. Current value: bagging_fraction=0.8\n",
      "[LightGBM] [Warning] bagging_freq is set=8, subsample_freq=0 will be ignored. Current value: bagging_freq=8\n",
      "[CV] END bagging_fraction=0.8, bagging_freq=8, feature_fraction=0.6; total time=   9.7s\n",
      "[LightGBM] [Warning] feature_fraction is set=0.6, colsample_bytree=1.0 will be ignored. Current value: feature_fraction=0.6\n",
      "[LightGBM] [Warning] min_data_in_leaf is set=30, min_child_samples=20 will be ignored. Current value: min_data_in_leaf=30\n",
      "[LightGBM] [Warning] bagging_fraction is set=0.8, subsample=1.0 will be ignored. Current value: bagging_fraction=0.8\n",
      "[LightGBM] [Warning] bagging_freq is set=8, subsample_freq=0 will be ignored. Current value: bagging_freq=8\n",
      "[CV] END bagging_fraction=0.8, bagging_freq=8, feature_fraction=0.6; total time=   9.7s\n",
      "[LightGBM] [Warning] feature_fraction is set=0.6, colsample_bytree=1.0 will be ignored. Current value: feature_fraction=0.6\n",
      "[LightGBM] [Warning] min_data_in_leaf is set=30, min_child_samples=20 will be ignored. Current value: min_data_in_leaf=30\n",
      "[LightGBM] [Warning] bagging_fraction is set=0.8, subsample=1.0 will be ignored. Current value: bagging_fraction=0.8\n",
      "[LightGBM] [Warning] bagging_freq is set=8, subsample_freq=0 will be ignored. Current value: bagging_freq=8\n",
      "[CV] END bagging_fraction=0.8, bagging_freq=8, feature_fraction=0.6; total time=   9.7s\n",
      "[LightGBM] [Warning] feature_fraction is set=0.7, colsample_bytree=1.0 will be ignored. Current value: feature_fraction=0.7\n",
      "[LightGBM] [Warning] min_data_in_leaf is set=30, min_child_samples=20 will be ignored. Current value: min_data_in_leaf=30\n",
      "[LightGBM] [Warning] bagging_fraction is set=0.8, subsample=1.0 will be ignored. Current value: bagging_fraction=0.8\n",
      "[LightGBM] [Warning] bagging_freq is set=8, subsample_freq=0 will be ignored. Current value: bagging_freq=8\n",
      "[CV] END bagging_fraction=0.8, bagging_freq=8, feature_fraction=0.7; total time=  10.5s\n",
      "[LightGBM] [Warning] feature_fraction is set=0.7, colsample_bytree=1.0 will be ignored. Current value: feature_fraction=0.7\n",
      "[LightGBM] [Warning] min_data_in_leaf is set=30, min_child_samples=20 will be ignored. Current value: min_data_in_leaf=30\n",
      "[LightGBM] [Warning] bagging_fraction is set=0.8, subsample=1.0 will be ignored. Current value: bagging_fraction=0.8\n",
      "[LightGBM] [Warning] bagging_freq is set=8, subsample_freq=0 will be ignored. Current value: bagging_freq=8\n",
      "[CV] END bagging_fraction=0.8, bagging_freq=8, feature_fraction=0.7; total time=  10.6s\n",
      "[LightGBM] [Warning] feature_fraction is set=0.7, colsample_bytree=1.0 will be ignored. Current value: feature_fraction=0.7\n",
      "[LightGBM] [Warning] min_data_in_leaf is set=30, min_child_samples=20 will be ignored. Current value: min_data_in_leaf=30\n",
      "[LightGBM] [Warning] bagging_fraction is set=0.8, subsample=1.0 will be ignored. Current value: bagging_fraction=0.8\n",
      "[LightGBM] [Warning] bagging_freq is set=8, subsample_freq=0 will be ignored. Current value: bagging_freq=8\n",
      "[CV] END bagging_fraction=0.8, bagging_freq=8, feature_fraction=0.7; total time=  11.1s\n",
      "[LightGBM] [Warning] feature_fraction is set=0.8, colsample_bytree=1.0 will be ignored. Current value: feature_fraction=0.8\n",
      "[LightGBM] [Warning] min_data_in_leaf is set=30, min_child_samples=20 will be ignored. Current value: min_data_in_leaf=30\n",
      "[LightGBM] [Warning] bagging_fraction is set=0.8, subsample=1.0 will be ignored. Current value: bagging_fraction=0.8\n",
      "[LightGBM] [Warning] bagging_freq is set=8, subsample_freq=0 will be ignored. Current value: bagging_freq=8\n",
      "[CV] END bagging_fraction=0.8, bagging_freq=8, feature_fraction=0.8; total time=  11.3s\n",
      "[LightGBM] [Warning] feature_fraction is set=0.8, colsample_bytree=1.0 will be ignored. Current value: feature_fraction=0.8\n",
      "[LightGBM] [Warning] min_data_in_leaf is set=30, min_child_samples=20 will be ignored. Current value: min_data_in_leaf=30\n",
      "[LightGBM] [Warning] bagging_fraction is set=0.8, subsample=1.0 will be ignored. Current value: bagging_fraction=0.8\n",
      "[LightGBM] [Warning] bagging_freq is set=8, subsample_freq=0 will be ignored. Current value: bagging_freq=8\n",
      "[CV] END bagging_fraction=0.8, bagging_freq=8, feature_fraction=0.8; total time=  11.2s\n",
      "[LightGBM] [Warning] feature_fraction is set=0.8, colsample_bytree=1.0 will be ignored. Current value: feature_fraction=0.8\n",
      "[LightGBM] [Warning] min_data_in_leaf is set=30, min_child_samples=20 will be ignored. Current value: min_data_in_leaf=30\n",
      "[LightGBM] [Warning] bagging_fraction is set=0.8, subsample=1.0 will be ignored. Current value: bagging_fraction=0.8\n",
      "[LightGBM] [Warning] bagging_freq is set=8, subsample_freq=0 will be ignored. Current value: bagging_freq=8\n",
      "[CV] END bagging_fraction=0.8, bagging_freq=8, feature_fraction=0.8; total time=  11.2s\n",
      "[LightGBM] [Warning] feature_fraction is set=0.9, colsample_bytree=1.0 will be ignored. Current value: feature_fraction=0.9\n",
      "[LightGBM] [Warning] min_data_in_leaf is set=30, min_child_samples=20 will be ignored. Current value: min_data_in_leaf=30\n",
      "[LightGBM] [Warning] bagging_fraction is set=0.8, subsample=1.0 will be ignored. Current value: bagging_fraction=0.8\n",
      "[LightGBM] [Warning] bagging_freq is set=8, subsample_freq=0 will be ignored. Current value: bagging_freq=8\n",
      "[CV] END bagging_fraction=0.8, bagging_freq=8, feature_fraction=0.9; total time=  11.8s\n",
      "[LightGBM] [Warning] feature_fraction is set=0.9, colsample_bytree=1.0 will be ignored. Current value: feature_fraction=0.9\n",
      "[LightGBM] [Warning] min_data_in_leaf is set=30, min_child_samples=20 will be ignored. Current value: min_data_in_leaf=30\n",
      "[LightGBM] [Warning] bagging_fraction is set=0.8, subsample=1.0 will be ignored. Current value: bagging_fraction=0.8\n",
      "[LightGBM] [Warning] bagging_freq is set=8, subsample_freq=0 will be ignored. Current value: bagging_freq=8\n",
      "[CV] END bagging_fraction=0.8, bagging_freq=8, feature_fraction=0.9; total time=  12.2s\n",
      "[LightGBM] [Warning] feature_fraction is set=0.9, colsample_bytree=1.0 will be ignored. Current value: feature_fraction=0.9\n",
      "[LightGBM] [Warning] min_data_in_leaf is set=30, min_child_samples=20 will be ignored. Current value: min_data_in_leaf=30\n",
      "[LightGBM] [Warning] bagging_fraction is set=0.8, subsample=1.0 will be ignored. Current value: bagging_fraction=0.8\n",
      "[LightGBM] [Warning] bagging_freq is set=8, subsample_freq=0 will be ignored. Current value: bagging_freq=8\n",
      "[CV] END bagging_fraction=0.8, bagging_freq=8, feature_fraction=0.9; total time=  12.0s\n",
      "[LightGBM] [Warning] feature_fraction is set=1.0, colsample_bytree=1.0 will be ignored. Current value: feature_fraction=1.0\n",
      "[LightGBM] [Warning] min_data_in_leaf is set=30, min_child_samples=20 will be ignored. Current value: min_data_in_leaf=30\n",
      "[LightGBM] [Warning] bagging_fraction is set=0.8, subsample=1.0 will be ignored. Current value: bagging_fraction=0.8\n",
      "[LightGBM] [Warning] bagging_freq is set=8, subsample_freq=0 will be ignored. Current value: bagging_freq=8\n",
      "[CV] END bagging_fraction=0.8, bagging_freq=8, feature_fraction=1.0; total time=  13.0s\n",
      "[LightGBM] [Warning] feature_fraction is set=1.0, colsample_bytree=1.0 will be ignored. Current value: feature_fraction=1.0\n",
      "[LightGBM] [Warning] min_data_in_leaf is set=30, min_child_samples=20 will be ignored. Current value: min_data_in_leaf=30\n",
      "[LightGBM] [Warning] bagging_fraction is set=0.8, subsample=1.0 will be ignored. Current value: bagging_fraction=0.8\n",
      "[LightGBM] [Warning] bagging_freq is set=8, subsample_freq=0 will be ignored. Current value: bagging_freq=8\n",
      "[CV] END bagging_fraction=0.8, bagging_freq=8, feature_fraction=1.0; total time=  16.3s\n",
      "[LightGBM] [Warning] feature_fraction is set=1.0, colsample_bytree=1.0 will be ignored. Current value: feature_fraction=1.0\n",
      "[LightGBM] [Warning] min_data_in_leaf is set=30, min_child_samples=20 will be ignored. Current value: min_data_in_leaf=30\n",
      "[LightGBM] [Warning] bagging_fraction is set=0.8, subsample=1.0 will be ignored. Current value: bagging_fraction=0.8\n",
      "[LightGBM] [Warning] bagging_freq is set=8, subsample_freq=0 will be ignored. Current value: bagging_freq=8\n"
     ]
    },
    {
     "name": "stdout",
     "output_type": "stream",
     "text": [
      "[CV] END bagging_fraction=0.8, bagging_freq=8, feature_fraction=1.0; total time=  15.9s\n",
      "[LightGBM] [Warning] feature_fraction is set=0.6, colsample_bytree=1.0 will be ignored. Current value: feature_fraction=0.6\n",
      "[LightGBM] [Warning] min_data_in_leaf is set=30, min_child_samples=20 will be ignored. Current value: min_data_in_leaf=30\n",
      "[LightGBM] [Warning] bagging_fraction is set=0.9, subsample=1.0 will be ignored. Current value: bagging_fraction=0.9\n",
      "[LightGBM] [Warning] bagging_freq is set=0, subsample_freq=0 will be ignored. Current value: bagging_freq=0\n",
      "[CV] END bagging_fraction=0.9, bagging_freq=0, feature_fraction=0.6; total time=   9.9s\n",
      "[LightGBM] [Warning] feature_fraction is set=0.6, colsample_bytree=1.0 will be ignored. Current value: feature_fraction=0.6\n",
      "[LightGBM] [Warning] min_data_in_leaf is set=30, min_child_samples=20 will be ignored. Current value: min_data_in_leaf=30\n",
      "[LightGBM] [Warning] bagging_fraction is set=0.9, subsample=1.0 will be ignored. Current value: bagging_fraction=0.9\n",
      "[LightGBM] [Warning] bagging_freq is set=0, subsample_freq=0 will be ignored. Current value: bagging_freq=0\n",
      "[CV] END bagging_fraction=0.9, bagging_freq=0, feature_fraction=0.6; total time=  10.5s\n",
      "[LightGBM] [Warning] feature_fraction is set=0.6, colsample_bytree=1.0 will be ignored. Current value: feature_fraction=0.6\n",
      "[LightGBM] [Warning] min_data_in_leaf is set=30, min_child_samples=20 will be ignored. Current value: min_data_in_leaf=30\n",
      "[LightGBM] [Warning] bagging_fraction is set=0.9, subsample=1.0 will be ignored. Current value: bagging_fraction=0.9\n",
      "[LightGBM] [Warning] bagging_freq is set=0, subsample_freq=0 will be ignored. Current value: bagging_freq=0\n",
      "[CV] END bagging_fraction=0.9, bagging_freq=0, feature_fraction=0.6; total time=   9.8s\n",
      "[LightGBM] [Warning] feature_fraction is set=0.7, colsample_bytree=1.0 will be ignored. Current value: feature_fraction=0.7\n",
      "[LightGBM] [Warning] min_data_in_leaf is set=30, min_child_samples=20 will be ignored. Current value: min_data_in_leaf=30\n",
      "[LightGBM] [Warning] bagging_fraction is set=0.9, subsample=1.0 will be ignored. Current value: bagging_fraction=0.9\n",
      "[LightGBM] [Warning] bagging_freq is set=0, subsample_freq=0 will be ignored. Current value: bagging_freq=0\n",
      "[CV] END bagging_fraction=0.9, bagging_freq=0, feature_fraction=0.7; total time=  11.1s\n",
      "[LightGBM] [Warning] feature_fraction is set=0.7, colsample_bytree=1.0 will be ignored. Current value: feature_fraction=0.7\n",
      "[LightGBM] [Warning] min_data_in_leaf is set=30, min_child_samples=20 will be ignored. Current value: min_data_in_leaf=30\n",
      "[LightGBM] [Warning] bagging_fraction is set=0.9, subsample=1.0 will be ignored. Current value: bagging_fraction=0.9\n",
      "[LightGBM] [Warning] bagging_freq is set=0, subsample_freq=0 will be ignored. Current value: bagging_freq=0\n",
      "[CV] END bagging_fraction=0.9, bagging_freq=0, feature_fraction=0.7; total time=  10.3s\n",
      "[LightGBM] [Warning] feature_fraction is set=0.7, colsample_bytree=1.0 will be ignored. Current value: feature_fraction=0.7\n",
      "[LightGBM] [Warning] min_data_in_leaf is set=30, min_child_samples=20 will be ignored. Current value: min_data_in_leaf=30\n",
      "[LightGBM] [Warning] bagging_fraction is set=0.9, subsample=1.0 will be ignored. Current value: bagging_fraction=0.9\n",
      "[LightGBM] [Warning] bagging_freq is set=0, subsample_freq=0 will be ignored. Current value: bagging_freq=0\n",
      "[CV] END bagging_fraction=0.9, bagging_freq=0, feature_fraction=0.7; total time=  10.3s\n",
      "[LightGBM] [Warning] feature_fraction is set=0.8, colsample_bytree=1.0 will be ignored. Current value: feature_fraction=0.8\n",
      "[LightGBM] [Warning] min_data_in_leaf is set=30, min_child_samples=20 will be ignored. Current value: min_data_in_leaf=30\n",
      "[LightGBM] [Warning] bagging_fraction is set=0.9, subsample=1.0 will be ignored. Current value: bagging_fraction=0.9\n",
      "[LightGBM] [Warning] bagging_freq is set=0, subsample_freq=0 will be ignored. Current value: bagging_freq=0\n",
      "[CV] END bagging_fraction=0.9, bagging_freq=0, feature_fraction=0.8; total time=  11.4s\n",
      "[LightGBM] [Warning] feature_fraction is set=0.8, colsample_bytree=1.0 will be ignored. Current value: feature_fraction=0.8\n",
      "[LightGBM] [Warning] min_data_in_leaf is set=30, min_child_samples=20 will be ignored. Current value: min_data_in_leaf=30\n",
      "[LightGBM] [Warning] bagging_fraction is set=0.9, subsample=1.0 will be ignored. Current value: bagging_fraction=0.9\n",
      "[LightGBM] [Warning] bagging_freq is set=0, subsample_freq=0 will be ignored. Current value: bagging_freq=0\n",
      "[CV] END bagging_fraction=0.9, bagging_freq=0, feature_fraction=0.8; total time=  11.5s\n",
      "[LightGBM] [Warning] feature_fraction is set=0.8, colsample_bytree=1.0 will be ignored. Current value: feature_fraction=0.8\n",
      "[LightGBM] [Warning] min_data_in_leaf is set=30, min_child_samples=20 will be ignored. Current value: min_data_in_leaf=30\n",
      "[LightGBM] [Warning] bagging_fraction is set=0.9, subsample=1.0 will be ignored. Current value: bagging_fraction=0.9\n",
      "[LightGBM] [Warning] bagging_freq is set=0, subsample_freq=0 will be ignored. Current value: bagging_freq=0\n",
      "[CV] END bagging_fraction=0.9, bagging_freq=0, feature_fraction=0.8; total time=  11.1s\n",
      "[LightGBM] [Warning] feature_fraction is set=0.9, colsample_bytree=1.0 will be ignored. Current value: feature_fraction=0.9\n",
      "[LightGBM] [Warning] min_data_in_leaf is set=30, min_child_samples=20 will be ignored. Current value: min_data_in_leaf=30\n",
      "[LightGBM] [Warning] bagging_fraction is set=0.9, subsample=1.0 will be ignored. Current value: bagging_fraction=0.9\n",
      "[LightGBM] [Warning] bagging_freq is set=0, subsample_freq=0 will be ignored. Current value: bagging_freq=0\n",
      "[CV] END bagging_fraction=0.9, bagging_freq=0, feature_fraction=0.9; total time=  12.5s\n",
      "[LightGBM] [Warning] feature_fraction is set=0.9, colsample_bytree=1.0 will be ignored. Current value: feature_fraction=0.9\n",
      "[LightGBM] [Warning] min_data_in_leaf is set=30, min_child_samples=20 will be ignored. Current value: min_data_in_leaf=30\n",
      "[LightGBM] [Warning] bagging_fraction is set=0.9, subsample=1.0 will be ignored. Current value: bagging_fraction=0.9\n",
      "[LightGBM] [Warning] bagging_freq is set=0, subsample_freq=0 will be ignored. Current value: bagging_freq=0\n",
      "[CV] END bagging_fraction=0.9, bagging_freq=0, feature_fraction=0.9; total time=  12.8s\n",
      "[LightGBM] [Warning] feature_fraction is set=0.9, colsample_bytree=1.0 will be ignored. Current value: feature_fraction=0.9\n",
      "[LightGBM] [Warning] min_data_in_leaf is set=30, min_child_samples=20 will be ignored. Current value: min_data_in_leaf=30\n",
      "[LightGBM] [Warning] bagging_fraction is set=0.9, subsample=1.0 will be ignored. Current value: bagging_fraction=0.9\n",
      "[LightGBM] [Warning] bagging_freq is set=0, subsample_freq=0 will be ignored. Current value: bagging_freq=0\n",
      "[CV] END bagging_fraction=0.9, bagging_freq=0, feature_fraction=0.9; total time=  12.1s\n",
      "[LightGBM] [Warning] feature_fraction is set=1.0, colsample_bytree=1.0 will be ignored. Current value: feature_fraction=1.0\n",
      "[LightGBM] [Warning] min_data_in_leaf is set=30, min_child_samples=20 will be ignored. Current value: min_data_in_leaf=30\n",
      "[LightGBM] [Warning] bagging_fraction is set=0.9, subsample=1.0 will be ignored. Current value: bagging_fraction=0.9\n",
      "[LightGBM] [Warning] bagging_freq is set=0, subsample_freq=0 will be ignored. Current value: bagging_freq=0\n",
      "[CV] END bagging_fraction=0.9, bagging_freq=0, feature_fraction=1.0; total time=  14.4s\n",
      "[LightGBM] [Warning] feature_fraction is set=1.0, colsample_bytree=1.0 will be ignored. Current value: feature_fraction=1.0\n",
      "[LightGBM] [Warning] min_data_in_leaf is set=30, min_child_samples=20 will be ignored. Current value: min_data_in_leaf=30\n",
      "[LightGBM] [Warning] bagging_fraction is set=0.9, subsample=1.0 will be ignored. Current value: bagging_fraction=0.9\n",
      "[LightGBM] [Warning] bagging_freq is set=0, subsample_freq=0 will be ignored. Current value: bagging_freq=0\n",
      "[CV] END bagging_fraction=0.9, bagging_freq=0, feature_fraction=1.0; total time=  16.9s\n",
      "[LightGBM] [Warning] feature_fraction is set=1.0, colsample_bytree=1.0 will be ignored. Current value: feature_fraction=1.0\n",
      "[LightGBM] [Warning] min_data_in_leaf is set=30, min_child_samples=20 will be ignored. Current value: min_data_in_leaf=30\n",
      "[LightGBM] [Warning] bagging_fraction is set=0.9, subsample=1.0 will be ignored. Current value: bagging_fraction=0.9\n",
      "[LightGBM] [Warning] bagging_freq is set=0, subsample_freq=0 will be ignored. Current value: bagging_freq=0\n"
     ]
    },
    {
     "name": "stdout",
     "output_type": "stream",
     "text": [
      "[CV] END bagging_fraction=0.9, bagging_freq=0, feature_fraction=1.0; total time=  17.1s\n",
      "[LightGBM] [Warning] feature_fraction is set=0.6, colsample_bytree=1.0 will be ignored. Current value: feature_fraction=0.6\n",
      "[LightGBM] [Warning] min_data_in_leaf is set=30, min_child_samples=20 will be ignored. Current value: min_data_in_leaf=30\n",
      "[LightGBM] [Warning] bagging_fraction is set=0.9, subsample=1.0 will be ignored. Current value: bagging_fraction=0.9\n",
      "[LightGBM] [Warning] bagging_freq is set=2, subsample_freq=0 will be ignored. Current value: bagging_freq=2\n",
      "[CV] END bagging_fraction=0.9, bagging_freq=2, feature_fraction=0.6; total time=  13.5s\n",
      "[LightGBM] [Warning] feature_fraction is set=0.6, colsample_bytree=1.0 will be ignored. Current value: feature_fraction=0.6\n",
      "[LightGBM] [Warning] min_data_in_leaf is set=30, min_child_samples=20 will be ignored. Current value: min_data_in_leaf=30\n",
      "[LightGBM] [Warning] bagging_fraction is set=0.9, subsample=1.0 will be ignored. Current value: bagging_fraction=0.9\n",
      "[LightGBM] [Warning] bagging_freq is set=2, subsample_freq=0 will be ignored. Current value: bagging_freq=2\n",
      "[CV] END bagging_fraction=0.9, bagging_freq=2, feature_fraction=0.6; total time=  13.8s\n",
      "[LightGBM] [Warning] feature_fraction is set=0.6, colsample_bytree=1.0 will be ignored. Current value: feature_fraction=0.6\n",
      "[LightGBM] [Warning] min_data_in_leaf is set=30, min_child_samples=20 will be ignored. Current value: min_data_in_leaf=30\n",
      "[LightGBM] [Warning] bagging_fraction is set=0.9, subsample=1.0 will be ignored. Current value: bagging_fraction=0.9\n",
      "[LightGBM] [Warning] bagging_freq is set=2, subsample_freq=0 will be ignored. Current value: bagging_freq=2\n",
      "[CV] END bagging_fraction=0.9, bagging_freq=2, feature_fraction=0.6; total time=  13.8s\n",
      "[LightGBM] [Warning] feature_fraction is set=0.7, colsample_bytree=1.0 will be ignored. Current value: feature_fraction=0.7\n",
      "[LightGBM] [Warning] min_data_in_leaf is set=30, min_child_samples=20 will be ignored. Current value: min_data_in_leaf=30\n",
      "[LightGBM] [Warning] bagging_fraction is set=0.9, subsample=1.0 will be ignored. Current value: bagging_fraction=0.9\n",
      "[LightGBM] [Warning] bagging_freq is set=2, subsample_freq=0 will be ignored. Current value: bagging_freq=2\n",
      "[CV] END bagging_fraction=0.9, bagging_freq=2, feature_fraction=0.7; total time=  14.7s\n",
      "[LightGBM] [Warning] feature_fraction is set=0.7, colsample_bytree=1.0 will be ignored. Current value: feature_fraction=0.7\n",
      "[LightGBM] [Warning] min_data_in_leaf is set=30, min_child_samples=20 will be ignored. Current value: min_data_in_leaf=30\n",
      "[LightGBM] [Warning] bagging_fraction is set=0.9, subsample=1.0 will be ignored. Current value: bagging_fraction=0.9\n",
      "[LightGBM] [Warning] bagging_freq is set=2, subsample_freq=0 will be ignored. Current value: bagging_freq=2\n",
      "[CV] END bagging_fraction=0.9, bagging_freq=2, feature_fraction=0.7; total time=  14.2s\n",
      "[LightGBM] [Warning] feature_fraction is set=0.7, colsample_bytree=1.0 will be ignored. Current value: feature_fraction=0.7\n",
      "[LightGBM] [Warning] min_data_in_leaf is set=30, min_child_samples=20 will be ignored. Current value: min_data_in_leaf=30\n",
      "[LightGBM] [Warning] bagging_fraction is set=0.9, subsample=1.0 will be ignored. Current value: bagging_fraction=0.9\n",
      "[LightGBM] [Warning] bagging_freq is set=2, subsample_freq=0 will be ignored. Current value: bagging_freq=2\n",
      "[CV] END bagging_fraction=0.9, bagging_freq=2, feature_fraction=0.7; total time=  14.3s\n",
      "[LightGBM] [Warning] feature_fraction is set=0.8, colsample_bytree=1.0 will be ignored. Current value: feature_fraction=0.8\n",
      "[LightGBM] [Warning] min_data_in_leaf is set=30, min_child_samples=20 will be ignored. Current value: min_data_in_leaf=30\n",
      "[LightGBM] [Warning] bagging_fraction is set=0.9, subsample=1.0 will be ignored. Current value: bagging_fraction=0.9\n",
      "[LightGBM] [Warning] bagging_freq is set=2, subsample_freq=0 will be ignored. Current value: bagging_freq=2\n",
      "[CV] END bagging_fraction=0.9, bagging_freq=2, feature_fraction=0.8; total time=  13.7s\n",
      "[LightGBM] [Warning] feature_fraction is set=0.8, colsample_bytree=1.0 will be ignored. Current value: feature_fraction=0.8\n",
      "[LightGBM] [Warning] min_data_in_leaf is set=30, min_child_samples=20 will be ignored. Current value: min_data_in_leaf=30\n",
      "[LightGBM] [Warning] bagging_fraction is set=0.9, subsample=1.0 will be ignored. Current value: bagging_fraction=0.9\n",
      "[LightGBM] [Warning] bagging_freq is set=2, subsample_freq=0 will be ignored. Current value: bagging_freq=2\n",
      "[CV] END bagging_fraction=0.9, bagging_freq=2, feature_fraction=0.8; total time=  12.5s\n",
      "[LightGBM] [Warning] feature_fraction is set=0.8, colsample_bytree=1.0 will be ignored. Current value: feature_fraction=0.8\n",
      "[LightGBM] [Warning] min_data_in_leaf is set=30, min_child_samples=20 will be ignored. Current value: min_data_in_leaf=30\n",
      "[LightGBM] [Warning] bagging_fraction is set=0.9, subsample=1.0 will be ignored. Current value: bagging_fraction=0.9\n",
      "[LightGBM] [Warning] bagging_freq is set=2, subsample_freq=0 will be ignored. Current value: bagging_freq=2\n",
      "[CV] END bagging_fraction=0.9, bagging_freq=2, feature_fraction=0.8; total time=  11.6s\n",
      "[LightGBM] [Warning] feature_fraction is set=0.9, colsample_bytree=1.0 will be ignored. Current value: feature_fraction=0.9\n",
      "[LightGBM] [Warning] min_data_in_leaf is set=30, min_child_samples=20 will be ignored. Current value: min_data_in_leaf=30\n",
      "[LightGBM] [Warning] bagging_fraction is set=0.9, subsample=1.0 will be ignored. Current value: bagging_fraction=0.9\n",
      "[LightGBM] [Warning] bagging_freq is set=2, subsample_freq=0 will be ignored. Current value: bagging_freq=2\n",
      "[CV] END bagging_fraction=0.9, bagging_freq=2, feature_fraction=0.9; total time=  12.4s\n",
      "[LightGBM] [Warning] feature_fraction is set=0.9, colsample_bytree=1.0 will be ignored. Current value: feature_fraction=0.9\n",
      "[LightGBM] [Warning] min_data_in_leaf is set=30, min_child_samples=20 will be ignored. Current value: min_data_in_leaf=30\n",
      "[LightGBM] [Warning] bagging_fraction is set=0.9, subsample=1.0 will be ignored. Current value: bagging_fraction=0.9\n",
      "[LightGBM] [Warning] bagging_freq is set=2, subsample_freq=0 will be ignored. Current value: bagging_freq=2\n",
      "[CV] END bagging_fraction=0.9, bagging_freq=2, feature_fraction=0.9; total time=  12.7s\n",
      "[LightGBM] [Warning] feature_fraction is set=0.9, colsample_bytree=1.0 will be ignored. Current value: feature_fraction=0.9\n",
      "[LightGBM] [Warning] min_data_in_leaf is set=30, min_child_samples=20 will be ignored. Current value: min_data_in_leaf=30\n",
      "[LightGBM] [Warning] bagging_fraction is set=0.9, subsample=1.0 will be ignored. Current value: bagging_fraction=0.9\n",
      "[LightGBM] [Warning] bagging_freq is set=2, subsample_freq=0 will be ignored. Current value: bagging_freq=2\n",
      "[CV] END bagging_fraction=0.9, bagging_freq=2, feature_fraction=0.9; total time=  12.5s\n",
      "[LightGBM] [Warning] feature_fraction is set=1.0, colsample_bytree=1.0 will be ignored. Current value: feature_fraction=1.0\n",
      "[LightGBM] [Warning] min_data_in_leaf is set=30, min_child_samples=20 will be ignored. Current value: min_data_in_leaf=30\n",
      "[LightGBM] [Warning] bagging_fraction is set=0.9, subsample=1.0 will be ignored. Current value: bagging_fraction=0.9\n",
      "[LightGBM] [Warning] bagging_freq is set=2, subsample_freq=0 will be ignored. Current value: bagging_freq=2\n",
      "[CV] END bagging_fraction=0.9, bagging_freq=2, feature_fraction=1.0; total time=  13.3s\n",
      "[LightGBM] [Warning] feature_fraction is set=1.0, colsample_bytree=1.0 will be ignored. Current value: feature_fraction=1.0\n",
      "[LightGBM] [Warning] min_data_in_leaf is set=30, min_child_samples=20 will be ignored. Current value: min_data_in_leaf=30\n",
      "[LightGBM] [Warning] bagging_fraction is set=0.9, subsample=1.0 will be ignored. Current value: bagging_fraction=0.9\n",
      "[LightGBM] [Warning] bagging_freq is set=2, subsample_freq=0 will be ignored. Current value: bagging_freq=2\n",
      "[CV] END bagging_fraction=0.9, bagging_freq=2, feature_fraction=1.0; total time=  13.0s\n",
      "[LightGBM] [Warning] feature_fraction is set=1.0, colsample_bytree=1.0 will be ignored. Current value: feature_fraction=1.0\n",
      "[LightGBM] [Warning] min_data_in_leaf is set=30, min_child_samples=20 will be ignored. Current value: min_data_in_leaf=30\n",
      "[LightGBM] [Warning] bagging_fraction is set=0.9, subsample=1.0 will be ignored. Current value: bagging_fraction=0.9\n",
      "[LightGBM] [Warning] bagging_freq is set=2, subsample_freq=0 will be ignored. Current value: bagging_freq=2\n"
     ]
    },
    {
     "name": "stdout",
     "output_type": "stream",
     "text": [
      "[CV] END bagging_fraction=0.9, bagging_freq=2, feature_fraction=1.0; total time=  13.3s\n",
      "[LightGBM] [Warning] feature_fraction is set=0.6, colsample_bytree=1.0 will be ignored. Current value: feature_fraction=0.6\n",
      "[LightGBM] [Warning] min_data_in_leaf is set=30, min_child_samples=20 will be ignored. Current value: min_data_in_leaf=30\n",
      "[LightGBM] [Warning] bagging_fraction is set=0.9, subsample=1.0 will be ignored. Current value: bagging_fraction=0.9\n",
      "[LightGBM] [Warning] bagging_freq is set=4, subsample_freq=0 will be ignored. Current value: bagging_freq=4\n",
      "[CV] END bagging_fraction=0.9, bagging_freq=4, feature_fraction=0.6; total time=  10.0s\n",
      "[LightGBM] [Warning] feature_fraction is set=0.6, colsample_bytree=1.0 will be ignored. Current value: feature_fraction=0.6\n",
      "[LightGBM] [Warning] min_data_in_leaf is set=30, min_child_samples=20 will be ignored. Current value: min_data_in_leaf=30\n",
      "[LightGBM] [Warning] bagging_fraction is set=0.9, subsample=1.0 will be ignored. Current value: bagging_fraction=0.9\n",
      "[LightGBM] [Warning] bagging_freq is set=4, subsample_freq=0 will be ignored. Current value: bagging_freq=4\n",
      "[CV] END bagging_fraction=0.9, bagging_freq=4, feature_fraction=0.6; total time=   9.9s\n",
      "[LightGBM] [Warning] feature_fraction is set=0.6, colsample_bytree=1.0 will be ignored. Current value: feature_fraction=0.6\n",
      "[LightGBM] [Warning] min_data_in_leaf is set=30, min_child_samples=20 will be ignored. Current value: min_data_in_leaf=30\n",
      "[LightGBM] [Warning] bagging_fraction is set=0.9, subsample=1.0 will be ignored. Current value: bagging_fraction=0.9\n",
      "[LightGBM] [Warning] bagging_freq is set=4, subsample_freq=0 will be ignored. Current value: bagging_freq=4\n",
      "[CV] END bagging_fraction=0.9, bagging_freq=4, feature_fraction=0.6; total time=   9.8s\n",
      "[LightGBM] [Warning] feature_fraction is set=0.7, colsample_bytree=1.0 will be ignored. Current value: feature_fraction=0.7\n",
      "[LightGBM] [Warning] min_data_in_leaf is set=30, min_child_samples=20 will be ignored. Current value: min_data_in_leaf=30\n",
      "[LightGBM] [Warning] bagging_fraction is set=0.9, subsample=1.0 will be ignored. Current value: bagging_fraction=0.9\n",
      "[LightGBM] [Warning] bagging_freq is set=4, subsample_freq=0 will be ignored. Current value: bagging_freq=4\n",
      "[CV] END bagging_fraction=0.9, bagging_freq=4, feature_fraction=0.7; total time=  10.6s\n",
      "[LightGBM] [Warning] feature_fraction is set=0.7, colsample_bytree=1.0 will be ignored. Current value: feature_fraction=0.7\n",
      "[LightGBM] [Warning] min_data_in_leaf is set=30, min_child_samples=20 will be ignored. Current value: min_data_in_leaf=30\n",
      "[LightGBM] [Warning] bagging_fraction is set=0.9, subsample=1.0 will be ignored. Current value: bagging_fraction=0.9\n",
      "[LightGBM] [Warning] bagging_freq is set=4, subsample_freq=0 will be ignored. Current value: bagging_freq=4\n",
      "[CV] END bagging_fraction=0.9, bagging_freq=4, feature_fraction=0.7; total time=  10.5s\n",
      "[LightGBM] [Warning] feature_fraction is set=0.7, colsample_bytree=1.0 will be ignored. Current value: feature_fraction=0.7\n",
      "[LightGBM] [Warning] min_data_in_leaf is set=30, min_child_samples=20 will be ignored. Current value: min_data_in_leaf=30\n",
      "[LightGBM] [Warning] bagging_fraction is set=0.9, subsample=1.0 will be ignored. Current value: bagging_fraction=0.9\n",
      "[LightGBM] [Warning] bagging_freq is set=4, subsample_freq=0 will be ignored. Current value: bagging_freq=4\n",
      "[CV] END bagging_fraction=0.9, bagging_freq=4, feature_fraction=0.7; total time=  10.6s\n",
      "[LightGBM] [Warning] feature_fraction is set=0.8, colsample_bytree=1.0 will be ignored. Current value: feature_fraction=0.8\n",
      "[LightGBM] [Warning] min_data_in_leaf is set=30, min_child_samples=20 will be ignored. Current value: min_data_in_leaf=30\n",
      "[LightGBM] [Warning] bagging_fraction is set=0.9, subsample=1.0 will be ignored. Current value: bagging_fraction=0.9\n",
      "[LightGBM] [Warning] bagging_freq is set=4, subsample_freq=0 will be ignored. Current value: bagging_freq=4\n",
      "[CV] END bagging_fraction=0.9, bagging_freq=4, feature_fraction=0.8; total time=  11.4s\n",
      "[LightGBM] [Warning] feature_fraction is set=0.8, colsample_bytree=1.0 will be ignored. Current value: feature_fraction=0.8\n",
      "[LightGBM] [Warning] min_data_in_leaf is set=30, min_child_samples=20 will be ignored. Current value: min_data_in_leaf=30\n",
      "[LightGBM] [Warning] bagging_fraction is set=0.9, subsample=1.0 will be ignored. Current value: bagging_fraction=0.9\n",
      "[LightGBM] [Warning] bagging_freq is set=4, subsample_freq=0 will be ignored. Current value: bagging_freq=4\n",
      "[CV] END bagging_fraction=0.9, bagging_freq=4, feature_fraction=0.8; total time=  11.1s\n",
      "[LightGBM] [Warning] feature_fraction is set=0.8, colsample_bytree=1.0 will be ignored. Current value: feature_fraction=0.8\n",
      "[LightGBM] [Warning] min_data_in_leaf is set=30, min_child_samples=20 will be ignored. Current value: min_data_in_leaf=30\n",
      "[LightGBM] [Warning] bagging_fraction is set=0.9, subsample=1.0 will be ignored. Current value: bagging_fraction=0.9\n",
      "[LightGBM] [Warning] bagging_freq is set=4, subsample_freq=0 will be ignored. Current value: bagging_freq=4\n",
      "[CV] END bagging_fraction=0.9, bagging_freq=4, feature_fraction=0.8; total time=  11.1s\n",
      "[LightGBM] [Warning] feature_fraction is set=0.9, colsample_bytree=1.0 will be ignored. Current value: feature_fraction=0.9\n",
      "[LightGBM] [Warning] min_data_in_leaf is set=30, min_child_samples=20 will be ignored. Current value: min_data_in_leaf=30\n",
      "[LightGBM] [Warning] bagging_fraction is set=0.9, subsample=1.0 will be ignored. Current value: bagging_fraction=0.9\n",
      "[LightGBM] [Warning] bagging_freq is set=4, subsample_freq=0 will be ignored. Current value: bagging_freq=4\n",
      "[CV] END bagging_fraction=0.9, bagging_freq=4, feature_fraction=0.9; total time=  12.0s\n",
      "[LightGBM] [Warning] feature_fraction is set=0.9, colsample_bytree=1.0 will be ignored. Current value: feature_fraction=0.9\n",
      "[LightGBM] [Warning] min_data_in_leaf is set=30, min_child_samples=20 will be ignored. Current value: min_data_in_leaf=30\n",
      "[LightGBM] [Warning] bagging_fraction is set=0.9, subsample=1.0 will be ignored. Current value: bagging_fraction=0.9\n",
      "[LightGBM] [Warning] bagging_freq is set=4, subsample_freq=0 will be ignored. Current value: bagging_freq=4\n",
      "[CV] END bagging_fraction=0.9, bagging_freq=4, feature_fraction=0.9; total time=  12.3s\n",
      "[LightGBM] [Warning] feature_fraction is set=0.9, colsample_bytree=1.0 will be ignored. Current value: feature_fraction=0.9\n",
      "[LightGBM] [Warning] min_data_in_leaf is set=30, min_child_samples=20 will be ignored. Current value: min_data_in_leaf=30\n",
      "[LightGBM] [Warning] bagging_fraction is set=0.9, subsample=1.0 will be ignored. Current value: bagging_fraction=0.9\n",
      "[LightGBM] [Warning] bagging_freq is set=4, subsample_freq=0 will be ignored. Current value: bagging_freq=4\n",
      "[CV] END bagging_fraction=0.9, bagging_freq=4, feature_fraction=0.9; total time=  11.7s\n",
      "[LightGBM] [Warning] feature_fraction is set=1.0, colsample_bytree=1.0 will be ignored. Current value: feature_fraction=1.0\n",
      "[LightGBM] [Warning] min_data_in_leaf is set=30, min_child_samples=20 will be ignored. Current value: min_data_in_leaf=30\n",
      "[LightGBM] [Warning] bagging_fraction is set=0.9, subsample=1.0 will be ignored. Current value: bagging_fraction=0.9\n",
      "[LightGBM] [Warning] bagging_freq is set=4, subsample_freq=0 will be ignored. Current value: bagging_freq=4\n",
      "[CV] END bagging_fraction=0.9, bagging_freq=4, feature_fraction=1.0; total time=  12.6s\n",
      "[LightGBM] [Warning] feature_fraction is set=1.0, colsample_bytree=1.0 will be ignored. Current value: feature_fraction=1.0\n",
      "[LightGBM] [Warning] min_data_in_leaf is set=30, min_child_samples=20 will be ignored. Current value: min_data_in_leaf=30\n",
      "[LightGBM] [Warning] bagging_fraction is set=0.9, subsample=1.0 will be ignored. Current value: bagging_fraction=0.9\n",
      "[LightGBM] [Warning] bagging_freq is set=4, subsample_freq=0 will be ignored. Current value: bagging_freq=4\n",
      "[CV] END bagging_fraction=0.9, bagging_freq=4, feature_fraction=1.0; total time=  13.5s\n",
      "[LightGBM] [Warning] feature_fraction is set=1.0, colsample_bytree=1.0 will be ignored. Current value: feature_fraction=1.0\n",
      "[LightGBM] [Warning] min_data_in_leaf is set=30, min_child_samples=20 will be ignored. Current value: min_data_in_leaf=30\n",
      "[LightGBM] [Warning] bagging_fraction is set=0.9, subsample=1.0 will be ignored. Current value: bagging_fraction=0.9\n",
      "[LightGBM] [Warning] bagging_freq is set=4, subsample_freq=0 will be ignored. Current value: bagging_freq=4\n"
     ]
    },
    {
     "name": "stdout",
     "output_type": "stream",
     "text": [
      "[CV] END bagging_fraction=0.9, bagging_freq=4, feature_fraction=1.0; total time=  13.5s\n",
      "[LightGBM] [Warning] feature_fraction is set=0.6, colsample_bytree=1.0 will be ignored. Current value: feature_fraction=0.6\n",
      "[LightGBM] [Warning] min_data_in_leaf is set=30, min_child_samples=20 will be ignored. Current value: min_data_in_leaf=30\n",
      "[LightGBM] [Warning] bagging_fraction is set=0.9, subsample=1.0 will be ignored. Current value: bagging_fraction=0.9\n",
      "[LightGBM] [Warning] bagging_freq is set=6, subsample_freq=0 will be ignored. Current value: bagging_freq=6\n",
      "[CV] END bagging_fraction=0.9, bagging_freq=6, feature_fraction=0.6; total time=  10.3s\n",
      "[LightGBM] [Warning] feature_fraction is set=0.6, colsample_bytree=1.0 will be ignored. Current value: feature_fraction=0.6\n",
      "[LightGBM] [Warning] min_data_in_leaf is set=30, min_child_samples=20 will be ignored. Current value: min_data_in_leaf=30\n",
      "[LightGBM] [Warning] bagging_fraction is set=0.9, subsample=1.0 will be ignored. Current value: bagging_fraction=0.9\n",
      "[LightGBM] [Warning] bagging_freq is set=6, subsample_freq=0 will be ignored. Current value: bagging_freq=6\n",
      "[CV] END bagging_fraction=0.9, bagging_freq=6, feature_fraction=0.6; total time=   9.9s\n",
      "[LightGBM] [Warning] feature_fraction is set=0.6, colsample_bytree=1.0 will be ignored. Current value: feature_fraction=0.6\n",
      "[LightGBM] [Warning] min_data_in_leaf is set=30, min_child_samples=20 will be ignored. Current value: min_data_in_leaf=30\n",
      "[LightGBM] [Warning] bagging_fraction is set=0.9, subsample=1.0 will be ignored. Current value: bagging_fraction=0.9\n",
      "[LightGBM] [Warning] bagging_freq is set=6, subsample_freq=0 will be ignored. Current value: bagging_freq=6\n",
      "[CV] END bagging_fraction=0.9, bagging_freq=6, feature_fraction=0.6; total time=  10.3s\n",
      "[LightGBM] [Warning] feature_fraction is set=0.7, colsample_bytree=1.0 will be ignored. Current value: feature_fraction=0.7\n",
      "[LightGBM] [Warning] min_data_in_leaf is set=30, min_child_samples=20 will be ignored. Current value: min_data_in_leaf=30\n",
      "[LightGBM] [Warning] bagging_fraction is set=0.9, subsample=1.0 will be ignored. Current value: bagging_fraction=0.9\n",
      "[LightGBM] [Warning] bagging_freq is set=6, subsample_freq=0 will be ignored. Current value: bagging_freq=6\n",
      "[CV] END bagging_fraction=0.9, bagging_freq=6, feature_fraction=0.7; total time=  10.3s\n",
      "[LightGBM] [Warning] feature_fraction is set=0.7, colsample_bytree=1.0 will be ignored. Current value: feature_fraction=0.7\n",
      "[LightGBM] [Warning] min_data_in_leaf is set=30, min_child_samples=20 will be ignored. Current value: min_data_in_leaf=30\n",
      "[LightGBM] [Warning] bagging_fraction is set=0.9, subsample=1.0 will be ignored. Current value: bagging_fraction=0.9\n",
      "[LightGBM] [Warning] bagging_freq is set=6, subsample_freq=0 will be ignored. Current value: bagging_freq=6\n",
      "[CV] END bagging_fraction=0.9, bagging_freq=6, feature_fraction=0.7; total time=  10.8s\n",
      "[LightGBM] [Warning] feature_fraction is set=0.7, colsample_bytree=1.0 will be ignored. Current value: feature_fraction=0.7\n",
      "[LightGBM] [Warning] min_data_in_leaf is set=30, min_child_samples=20 will be ignored. Current value: min_data_in_leaf=30\n",
      "[LightGBM] [Warning] bagging_fraction is set=0.9, subsample=1.0 will be ignored. Current value: bagging_fraction=0.9\n",
      "[LightGBM] [Warning] bagging_freq is set=6, subsample_freq=0 will be ignored. Current value: bagging_freq=6\n",
      "[CV] END bagging_fraction=0.9, bagging_freq=6, feature_fraction=0.7; total time=  11.0s\n",
      "[LightGBM] [Warning] feature_fraction is set=0.8, colsample_bytree=1.0 will be ignored. Current value: feature_fraction=0.8\n",
      "[LightGBM] [Warning] min_data_in_leaf is set=30, min_child_samples=20 will be ignored. Current value: min_data_in_leaf=30\n",
      "[LightGBM] [Warning] bagging_fraction is set=0.9, subsample=1.0 will be ignored. Current value: bagging_fraction=0.9\n",
      "[LightGBM] [Warning] bagging_freq is set=6, subsample_freq=0 will be ignored. Current value: bagging_freq=6\n",
      "[CV] END bagging_fraction=0.9, bagging_freq=6, feature_fraction=0.8; total time=  11.8s\n",
      "[LightGBM] [Warning] feature_fraction is set=0.8, colsample_bytree=1.0 will be ignored. Current value: feature_fraction=0.8\n",
      "[LightGBM] [Warning] min_data_in_leaf is set=30, min_child_samples=20 will be ignored. Current value: min_data_in_leaf=30\n",
      "[LightGBM] [Warning] bagging_fraction is set=0.9, subsample=1.0 will be ignored. Current value: bagging_fraction=0.9\n",
      "[LightGBM] [Warning] bagging_freq is set=6, subsample_freq=0 will be ignored. Current value: bagging_freq=6\n",
      "[CV] END bagging_fraction=0.9, bagging_freq=6, feature_fraction=0.8; total time=  11.8s\n",
      "[LightGBM] [Warning] feature_fraction is set=0.8, colsample_bytree=1.0 will be ignored. Current value: feature_fraction=0.8\n",
      "[LightGBM] [Warning] min_data_in_leaf is set=30, min_child_samples=20 will be ignored. Current value: min_data_in_leaf=30\n",
      "[LightGBM] [Warning] bagging_fraction is set=0.9, subsample=1.0 will be ignored. Current value: bagging_fraction=0.9\n",
      "[LightGBM] [Warning] bagging_freq is set=6, subsample_freq=0 will be ignored. Current value: bagging_freq=6\n",
      "[CV] END bagging_fraction=0.9, bagging_freq=6, feature_fraction=0.8; total time=  11.8s\n",
      "[LightGBM] [Warning] feature_fraction is set=0.9, colsample_bytree=1.0 will be ignored. Current value: feature_fraction=0.9\n",
      "[LightGBM] [Warning] min_data_in_leaf is set=30, min_child_samples=20 will be ignored. Current value: min_data_in_leaf=30\n",
      "[LightGBM] [Warning] bagging_fraction is set=0.9, subsample=1.0 will be ignored. Current value: bagging_fraction=0.9\n",
      "[LightGBM] [Warning] bagging_freq is set=6, subsample_freq=0 will be ignored. Current value: bagging_freq=6\n",
      "[CV] END bagging_fraction=0.9, bagging_freq=6, feature_fraction=0.9; total time=  12.7s\n",
      "[LightGBM] [Warning] feature_fraction is set=0.9, colsample_bytree=1.0 will be ignored. Current value: feature_fraction=0.9\n",
      "[LightGBM] [Warning] min_data_in_leaf is set=30, min_child_samples=20 will be ignored. Current value: min_data_in_leaf=30\n",
      "[LightGBM] [Warning] bagging_fraction is set=0.9, subsample=1.0 will be ignored. Current value: bagging_fraction=0.9\n",
      "[LightGBM] [Warning] bagging_freq is set=6, subsample_freq=0 will be ignored. Current value: bagging_freq=6\n",
      "[CV] END bagging_fraction=0.9, bagging_freq=6, feature_fraction=0.9; total time=  12.4s\n",
      "[LightGBM] [Warning] feature_fraction is set=0.9, colsample_bytree=1.0 will be ignored. Current value: feature_fraction=0.9\n",
      "[LightGBM] [Warning] min_data_in_leaf is set=30, min_child_samples=20 will be ignored. Current value: min_data_in_leaf=30\n",
      "[LightGBM] [Warning] bagging_fraction is set=0.9, subsample=1.0 will be ignored. Current value: bagging_fraction=0.9\n",
      "[LightGBM] [Warning] bagging_freq is set=6, subsample_freq=0 will be ignored. Current value: bagging_freq=6\n",
      "[CV] END bagging_fraction=0.9, bagging_freq=6, feature_fraction=0.9; total time=  12.7s\n",
      "[LightGBM] [Warning] feature_fraction is set=1.0, colsample_bytree=1.0 will be ignored. Current value: feature_fraction=1.0\n",
      "[LightGBM] [Warning] min_data_in_leaf is set=30, min_child_samples=20 will be ignored. Current value: min_data_in_leaf=30\n",
      "[LightGBM] [Warning] bagging_fraction is set=0.9, subsample=1.0 will be ignored. Current value: bagging_fraction=0.9\n",
      "[LightGBM] [Warning] bagging_freq is set=6, subsample_freq=0 will be ignored. Current value: bagging_freq=6\n",
      "[CV] END bagging_fraction=0.9, bagging_freq=6, feature_fraction=1.0; total time=  12.9s\n",
      "[LightGBM] [Warning] feature_fraction is set=1.0, colsample_bytree=1.0 will be ignored. Current value: feature_fraction=1.0\n",
      "[LightGBM] [Warning] min_data_in_leaf is set=30, min_child_samples=20 will be ignored. Current value: min_data_in_leaf=30\n",
      "[LightGBM] [Warning] bagging_fraction is set=0.9, subsample=1.0 will be ignored. Current value: bagging_fraction=0.9\n",
      "[LightGBM] [Warning] bagging_freq is set=6, subsample_freq=0 will be ignored. Current value: bagging_freq=6\n",
      "[CV] END bagging_fraction=0.9, bagging_freq=6, feature_fraction=1.0; total time=  13.6s\n",
      "[LightGBM] [Warning] feature_fraction is set=1.0, colsample_bytree=1.0 will be ignored. Current value: feature_fraction=1.0\n",
      "[LightGBM] [Warning] min_data_in_leaf is set=30, min_child_samples=20 will be ignored. Current value: min_data_in_leaf=30\n",
      "[LightGBM] [Warning] bagging_fraction is set=0.9, subsample=1.0 will be ignored. Current value: bagging_fraction=0.9\n",
      "[LightGBM] [Warning] bagging_freq is set=6, subsample_freq=0 will be ignored. Current value: bagging_freq=6\n"
     ]
    },
    {
     "name": "stdout",
     "output_type": "stream",
     "text": [
      "[CV] END bagging_fraction=0.9, bagging_freq=6, feature_fraction=1.0; total time=  13.8s\n",
      "[LightGBM] [Warning] feature_fraction is set=0.6, colsample_bytree=1.0 will be ignored. Current value: feature_fraction=0.6\n",
      "[LightGBM] [Warning] min_data_in_leaf is set=30, min_child_samples=20 will be ignored. Current value: min_data_in_leaf=30\n",
      "[LightGBM] [Warning] bagging_fraction is set=0.9, subsample=1.0 will be ignored. Current value: bagging_fraction=0.9\n",
      "[LightGBM] [Warning] bagging_freq is set=8, subsample_freq=0 will be ignored. Current value: bagging_freq=8\n",
      "[CV] END bagging_fraction=0.9, bagging_freq=8, feature_fraction=0.6; total time=   9.9s\n",
      "[LightGBM] [Warning] feature_fraction is set=0.6, colsample_bytree=1.0 will be ignored. Current value: feature_fraction=0.6\n",
      "[LightGBM] [Warning] min_data_in_leaf is set=30, min_child_samples=20 will be ignored. Current value: min_data_in_leaf=30\n",
      "[LightGBM] [Warning] bagging_fraction is set=0.9, subsample=1.0 will be ignored. Current value: bagging_fraction=0.9\n",
      "[LightGBM] [Warning] bagging_freq is set=8, subsample_freq=0 will be ignored. Current value: bagging_freq=8\n",
      "[CV] END bagging_fraction=0.9, bagging_freq=8, feature_fraction=0.6; total time=  11.4s\n",
      "[LightGBM] [Warning] feature_fraction is set=0.6, colsample_bytree=1.0 will be ignored. Current value: feature_fraction=0.6\n",
      "[LightGBM] [Warning] min_data_in_leaf is set=30, min_child_samples=20 will be ignored. Current value: min_data_in_leaf=30\n",
      "[LightGBM] [Warning] bagging_fraction is set=0.9, subsample=1.0 will be ignored. Current value: bagging_fraction=0.9\n",
      "[LightGBM] [Warning] bagging_freq is set=8, subsample_freq=0 will be ignored. Current value: bagging_freq=8\n",
      "[CV] END bagging_fraction=0.9, bagging_freq=8, feature_fraction=0.6; total time=  11.5s\n",
      "[LightGBM] [Warning] feature_fraction is set=0.7, colsample_bytree=1.0 will be ignored. Current value: feature_fraction=0.7\n",
      "[LightGBM] [Warning] min_data_in_leaf is set=30, min_child_samples=20 will be ignored. Current value: min_data_in_leaf=30\n",
      "[LightGBM] [Warning] bagging_fraction is set=0.9, subsample=1.0 will be ignored. Current value: bagging_fraction=0.9\n",
      "[LightGBM] [Warning] bagging_freq is set=8, subsample_freq=0 will be ignored. Current value: bagging_freq=8\n",
      "[CV] END bagging_fraction=0.9, bagging_freq=8, feature_fraction=0.7; total time=  12.2s\n",
      "[LightGBM] [Warning] feature_fraction is set=0.7, colsample_bytree=1.0 will be ignored. Current value: feature_fraction=0.7\n",
      "[LightGBM] [Warning] min_data_in_leaf is set=30, min_child_samples=20 will be ignored. Current value: min_data_in_leaf=30\n",
      "[LightGBM] [Warning] bagging_fraction is set=0.9, subsample=1.0 will be ignored. Current value: bagging_fraction=0.9\n",
      "[LightGBM] [Warning] bagging_freq is set=8, subsample_freq=0 will be ignored. Current value: bagging_freq=8\n",
      "[CV] END bagging_fraction=0.9, bagging_freq=8, feature_fraction=0.7; total time=  11.3s\n",
      "[LightGBM] [Warning] feature_fraction is set=0.7, colsample_bytree=1.0 will be ignored. Current value: feature_fraction=0.7\n",
      "[LightGBM] [Warning] min_data_in_leaf is set=30, min_child_samples=20 will be ignored. Current value: min_data_in_leaf=30\n",
      "[LightGBM] [Warning] bagging_fraction is set=0.9, subsample=1.0 will be ignored. Current value: bagging_fraction=0.9\n",
      "[LightGBM] [Warning] bagging_freq is set=8, subsample_freq=0 will be ignored. Current value: bagging_freq=8\n",
      "[CV] END bagging_fraction=0.9, bagging_freq=8, feature_fraction=0.7; total time=  17.6s\n",
      "[LightGBM] [Warning] feature_fraction is set=0.8, colsample_bytree=1.0 will be ignored. Current value: feature_fraction=0.8\n",
      "[LightGBM] [Warning] min_data_in_leaf is set=30, min_child_samples=20 will be ignored. Current value: min_data_in_leaf=30\n",
      "[LightGBM] [Warning] bagging_fraction is set=0.9, subsample=1.0 will be ignored. Current value: bagging_fraction=0.9\n",
      "[LightGBM] [Warning] bagging_freq is set=8, subsample_freq=0 will be ignored. Current value: bagging_freq=8\n",
      "[CV] END bagging_fraction=0.9, bagging_freq=8, feature_fraction=0.8; total time=  35.1s\n",
      "[LightGBM] [Warning] feature_fraction is set=0.8, colsample_bytree=1.0 will be ignored. Current value: feature_fraction=0.8\n",
      "[LightGBM] [Warning] min_data_in_leaf is set=30, min_child_samples=20 will be ignored. Current value: min_data_in_leaf=30\n",
      "[LightGBM] [Warning] bagging_fraction is set=0.9, subsample=1.0 will be ignored. Current value: bagging_fraction=0.9\n",
      "[LightGBM] [Warning] bagging_freq is set=8, subsample_freq=0 will be ignored. Current value: bagging_freq=8\n",
      "[CV] END bagging_fraction=0.9, bagging_freq=8, feature_fraction=0.8; total time=  14.5s\n",
      "[LightGBM] [Warning] feature_fraction is set=0.8, colsample_bytree=1.0 will be ignored. Current value: feature_fraction=0.8\n",
      "[LightGBM] [Warning] min_data_in_leaf is set=30, min_child_samples=20 will be ignored. Current value: min_data_in_leaf=30\n",
      "[LightGBM] [Warning] bagging_fraction is set=0.9, subsample=1.0 will be ignored. Current value: bagging_fraction=0.9\n",
      "[LightGBM] [Warning] bagging_freq is set=8, subsample_freq=0 will be ignored. Current value: bagging_freq=8\n",
      "[CV] END bagging_fraction=0.9, bagging_freq=8, feature_fraction=0.8; total time=  15.7s\n",
      "[LightGBM] [Warning] feature_fraction is set=0.9, colsample_bytree=1.0 will be ignored. Current value: feature_fraction=0.9\n",
      "[LightGBM] [Warning] min_data_in_leaf is set=30, min_child_samples=20 will be ignored. Current value: min_data_in_leaf=30\n",
      "[LightGBM] [Warning] bagging_fraction is set=0.9, subsample=1.0 will be ignored. Current value: bagging_fraction=0.9\n",
      "[LightGBM] [Warning] bagging_freq is set=8, subsample_freq=0 will be ignored. Current value: bagging_freq=8\n",
      "[CV] END bagging_fraction=0.9, bagging_freq=8, feature_fraction=0.9; total time=  22.2s\n",
      "[LightGBM] [Warning] feature_fraction is set=0.9, colsample_bytree=1.0 will be ignored. Current value: feature_fraction=0.9\n",
      "[LightGBM] [Warning] min_data_in_leaf is set=30, min_child_samples=20 will be ignored. Current value: min_data_in_leaf=30\n",
      "[LightGBM] [Warning] bagging_fraction is set=0.9, subsample=1.0 will be ignored. Current value: bagging_fraction=0.9\n",
      "[LightGBM] [Warning] bagging_freq is set=8, subsample_freq=0 will be ignored. Current value: bagging_freq=8\n",
      "[CV] END bagging_fraction=0.9, bagging_freq=8, feature_fraction=0.9; total time=  40.8s\n",
      "[LightGBM] [Warning] feature_fraction is set=0.9, colsample_bytree=1.0 will be ignored. Current value: feature_fraction=0.9\n",
      "[LightGBM] [Warning] min_data_in_leaf is set=30, min_child_samples=20 will be ignored. Current value: min_data_in_leaf=30\n",
      "[LightGBM] [Warning] bagging_fraction is set=0.9, subsample=1.0 will be ignored. Current value: bagging_fraction=0.9\n",
      "[LightGBM] [Warning] bagging_freq is set=8, subsample_freq=0 will be ignored. Current value: bagging_freq=8\n",
      "[CV] END bagging_fraction=0.9, bagging_freq=8, feature_fraction=0.9; total time=  18.3s\n",
      "[LightGBM] [Warning] feature_fraction is set=1.0, colsample_bytree=1.0 will be ignored. Current value: feature_fraction=1.0\n",
      "[LightGBM] [Warning] min_data_in_leaf is set=30, min_child_samples=20 will be ignored. Current value: min_data_in_leaf=30\n",
      "[LightGBM] [Warning] bagging_fraction is set=0.9, subsample=1.0 will be ignored. Current value: bagging_fraction=0.9\n",
      "[LightGBM] [Warning] bagging_freq is set=8, subsample_freq=0 will be ignored. Current value: bagging_freq=8\n",
      "[CV] END bagging_fraction=0.9, bagging_freq=8, feature_fraction=1.0; total time=  15.1s\n",
      "[LightGBM] [Warning] feature_fraction is set=1.0, colsample_bytree=1.0 will be ignored. Current value: feature_fraction=1.0\n",
      "[LightGBM] [Warning] min_data_in_leaf is set=30, min_child_samples=20 will be ignored. Current value: min_data_in_leaf=30\n",
      "[LightGBM] [Warning] bagging_fraction is set=0.9, subsample=1.0 will be ignored. Current value: bagging_fraction=0.9\n",
      "[LightGBM] [Warning] bagging_freq is set=8, subsample_freq=0 will be ignored. Current value: bagging_freq=8\n",
      "[CV] END bagging_fraction=0.9, bagging_freq=8, feature_fraction=1.0; total time=  18.3s\n",
      "[LightGBM] [Warning] feature_fraction is set=1.0, colsample_bytree=1.0 will be ignored. Current value: feature_fraction=1.0\n",
      "[LightGBM] [Warning] min_data_in_leaf is set=30, min_child_samples=20 will be ignored. Current value: min_data_in_leaf=30\n",
      "[LightGBM] [Warning] bagging_fraction is set=0.9, subsample=1.0 will be ignored. Current value: bagging_fraction=0.9\n",
      "[LightGBM] [Warning] bagging_freq is set=8, subsample_freq=0 will be ignored. Current value: bagging_freq=8\n"
     ]
    },
    {
     "name": "stdout",
     "output_type": "stream",
     "text": [
      "[CV] END bagging_fraction=0.9, bagging_freq=8, feature_fraction=1.0; total time=  14.3s\n",
      "[LightGBM] [Warning] feature_fraction is set=0.6, colsample_bytree=1.0 will be ignored. Current value: feature_fraction=0.6\n",
      "[LightGBM] [Warning] min_data_in_leaf is set=30, min_child_samples=20 will be ignored. Current value: min_data_in_leaf=30\n",
      "[LightGBM] [Warning] bagging_fraction is set=1.0, subsample=1.0 will be ignored. Current value: bagging_fraction=1.0\n",
      "[LightGBM] [Warning] bagging_freq is set=0, subsample_freq=0 will be ignored. Current value: bagging_freq=0\n",
      "[CV] END bagging_fraction=1.0, bagging_freq=0, feature_fraction=0.6; total time=  10.6s\n",
      "[LightGBM] [Warning] feature_fraction is set=0.6, colsample_bytree=1.0 will be ignored. Current value: feature_fraction=0.6\n",
      "[LightGBM] [Warning] min_data_in_leaf is set=30, min_child_samples=20 will be ignored. Current value: min_data_in_leaf=30\n",
      "[LightGBM] [Warning] bagging_fraction is set=1.0, subsample=1.0 will be ignored. Current value: bagging_fraction=1.0\n",
      "[LightGBM] [Warning] bagging_freq is set=0, subsample_freq=0 will be ignored. Current value: bagging_freq=0\n",
      "[CV] END bagging_fraction=1.0, bagging_freq=0, feature_fraction=0.6; total time=   9.9s\n",
      "[LightGBM] [Warning] feature_fraction is set=0.6, colsample_bytree=1.0 will be ignored. Current value: feature_fraction=0.6\n",
      "[LightGBM] [Warning] min_data_in_leaf is set=30, min_child_samples=20 will be ignored. Current value: min_data_in_leaf=30\n",
      "[LightGBM] [Warning] bagging_fraction is set=1.0, subsample=1.0 will be ignored. Current value: bagging_fraction=1.0\n",
      "[LightGBM] [Warning] bagging_freq is set=0, subsample_freq=0 will be ignored. Current value: bagging_freq=0\n",
      "[CV] END bagging_fraction=1.0, bagging_freq=0, feature_fraction=0.6; total time=   9.8s\n",
      "[LightGBM] [Warning] feature_fraction is set=0.7, colsample_bytree=1.0 will be ignored. Current value: feature_fraction=0.7\n",
      "[LightGBM] [Warning] min_data_in_leaf is set=30, min_child_samples=20 will be ignored. Current value: min_data_in_leaf=30\n",
      "[LightGBM] [Warning] bagging_fraction is set=1.0, subsample=1.0 will be ignored. Current value: bagging_fraction=1.0\n",
      "[LightGBM] [Warning] bagging_freq is set=0, subsample_freq=0 will be ignored. Current value: bagging_freq=0\n",
      "[CV] END bagging_fraction=1.0, bagging_freq=0, feature_fraction=0.7; total time=  10.4s\n",
      "[LightGBM] [Warning] feature_fraction is set=0.7, colsample_bytree=1.0 will be ignored. Current value: feature_fraction=0.7\n",
      "[LightGBM] [Warning] min_data_in_leaf is set=30, min_child_samples=20 will be ignored. Current value: min_data_in_leaf=30\n",
      "[LightGBM] [Warning] bagging_fraction is set=1.0, subsample=1.0 will be ignored. Current value: bagging_fraction=1.0\n",
      "[LightGBM] [Warning] bagging_freq is set=0, subsample_freq=0 will be ignored. Current value: bagging_freq=0\n",
      "[CV] END bagging_fraction=1.0, bagging_freq=0, feature_fraction=0.7; total time=  16.9s\n",
      "[LightGBM] [Warning] feature_fraction is set=0.7, colsample_bytree=1.0 will be ignored. Current value: feature_fraction=0.7\n",
      "[LightGBM] [Warning] min_data_in_leaf is set=30, min_child_samples=20 will be ignored. Current value: min_data_in_leaf=30\n",
      "[LightGBM] [Warning] bagging_fraction is set=1.0, subsample=1.0 will be ignored. Current value: bagging_fraction=1.0\n",
      "[LightGBM] [Warning] bagging_freq is set=0, subsample_freq=0 will be ignored. Current value: bagging_freq=0\n",
      "[CV] END bagging_fraction=1.0, bagging_freq=0, feature_fraction=0.7; total time=  25.6s\n",
      "[LightGBM] [Warning] feature_fraction is set=0.8, colsample_bytree=1.0 will be ignored. Current value: feature_fraction=0.8\n",
      "[LightGBM] [Warning] min_data_in_leaf is set=30, min_child_samples=20 will be ignored. Current value: min_data_in_leaf=30\n",
      "[LightGBM] [Warning] bagging_fraction is set=1.0, subsample=1.0 will be ignored. Current value: bagging_fraction=1.0\n",
      "[LightGBM] [Warning] bagging_freq is set=0, subsample_freq=0 will be ignored. Current value: bagging_freq=0\n",
      "[CV] END bagging_fraction=1.0, bagging_freq=0, feature_fraction=0.8; total time=  30.2s\n",
      "[LightGBM] [Warning] feature_fraction is set=0.8, colsample_bytree=1.0 will be ignored. Current value: feature_fraction=0.8\n",
      "[LightGBM] [Warning] min_data_in_leaf is set=30, min_child_samples=20 will be ignored. Current value: min_data_in_leaf=30\n",
      "[LightGBM] [Warning] bagging_fraction is set=1.0, subsample=1.0 will be ignored. Current value: bagging_fraction=1.0\n",
      "[LightGBM] [Warning] bagging_freq is set=0, subsample_freq=0 will be ignored. Current value: bagging_freq=0\n",
      "[CV] END bagging_fraction=1.0, bagging_freq=0, feature_fraction=0.8; total time=  29.0s\n",
      "[LightGBM] [Warning] feature_fraction is set=0.8, colsample_bytree=1.0 will be ignored. Current value: feature_fraction=0.8\n",
      "[LightGBM] [Warning] min_data_in_leaf is set=30, min_child_samples=20 will be ignored. Current value: min_data_in_leaf=30\n",
      "[LightGBM] [Warning] bagging_fraction is set=1.0, subsample=1.0 will be ignored. Current value: bagging_fraction=1.0\n",
      "[LightGBM] [Warning] bagging_freq is set=0, subsample_freq=0 will be ignored. Current value: bagging_freq=0\n",
      "[CV] END bagging_fraction=1.0, bagging_freq=0, feature_fraction=0.8; total time=  30.5s\n",
      "[LightGBM] [Warning] feature_fraction is set=0.9, colsample_bytree=1.0 will be ignored. Current value: feature_fraction=0.9\n",
      "[LightGBM] [Warning] min_data_in_leaf is set=30, min_child_samples=20 will be ignored. Current value: min_data_in_leaf=30\n",
      "[LightGBM] [Warning] bagging_fraction is set=1.0, subsample=1.0 will be ignored. Current value: bagging_fraction=1.0\n",
      "[LightGBM] [Warning] bagging_freq is set=0, subsample_freq=0 will be ignored. Current value: bagging_freq=0\n",
      "[CV] END bagging_fraction=1.0, bagging_freq=0, feature_fraction=0.9; total time=  35.6s\n",
      "[LightGBM] [Warning] feature_fraction is set=0.9, colsample_bytree=1.0 will be ignored. Current value: feature_fraction=0.9\n",
      "[LightGBM] [Warning] min_data_in_leaf is set=30, min_child_samples=20 will be ignored. Current value: min_data_in_leaf=30\n",
      "[LightGBM] [Warning] bagging_fraction is set=1.0, subsample=1.0 will be ignored. Current value: bagging_fraction=1.0\n",
      "[LightGBM] [Warning] bagging_freq is set=0, subsample_freq=0 will be ignored. Current value: bagging_freq=0\n",
      "[CV] END bagging_fraction=1.0, bagging_freq=0, feature_fraction=0.9; total time=  29.7s\n",
      "[LightGBM] [Warning] feature_fraction is set=0.9, colsample_bytree=1.0 will be ignored. Current value: feature_fraction=0.9\n",
      "[LightGBM] [Warning] min_data_in_leaf is set=30, min_child_samples=20 will be ignored. Current value: min_data_in_leaf=30\n",
      "[LightGBM] [Warning] bagging_fraction is set=1.0, subsample=1.0 will be ignored. Current value: bagging_fraction=1.0\n",
      "[LightGBM] [Warning] bagging_freq is set=0, subsample_freq=0 will be ignored. Current value: bagging_freq=0\n",
      "[CV] END bagging_fraction=1.0, bagging_freq=0, feature_fraction=0.9; total time=  12.1s\n",
      "[LightGBM] [Warning] feature_fraction is set=1.0, colsample_bytree=1.0 will be ignored. Current value: feature_fraction=1.0\n",
      "[LightGBM] [Warning] min_data_in_leaf is set=30, min_child_samples=20 will be ignored. Current value: min_data_in_leaf=30\n",
      "[LightGBM] [Warning] bagging_fraction is set=1.0, subsample=1.0 will be ignored. Current value: bagging_fraction=1.0\n",
      "[LightGBM] [Warning] bagging_freq is set=0, subsample_freq=0 will be ignored. Current value: bagging_freq=0\n",
      "[CV] END bagging_fraction=1.0, bagging_freq=0, feature_fraction=1.0; total time=  12.7s\n",
      "[LightGBM] [Warning] feature_fraction is set=1.0, colsample_bytree=1.0 will be ignored. Current value: feature_fraction=1.0\n",
      "[LightGBM] [Warning] min_data_in_leaf is set=30, min_child_samples=20 will be ignored. Current value: min_data_in_leaf=30\n",
      "[LightGBM] [Warning] bagging_fraction is set=1.0, subsample=1.0 will be ignored. Current value: bagging_fraction=1.0\n",
      "[LightGBM] [Warning] bagging_freq is set=0, subsample_freq=0 will be ignored. Current value: bagging_freq=0\n",
      "[CV] END bagging_fraction=1.0, bagging_freq=0, feature_fraction=1.0; total time=  12.7s\n",
      "[LightGBM] [Warning] feature_fraction is set=1.0, colsample_bytree=1.0 will be ignored. Current value: feature_fraction=1.0\n",
      "[LightGBM] [Warning] min_data_in_leaf is set=30, min_child_samples=20 will be ignored. Current value: min_data_in_leaf=30\n",
      "[LightGBM] [Warning] bagging_fraction is set=1.0, subsample=1.0 will be ignored. Current value: bagging_fraction=1.0\n",
      "[LightGBM] [Warning] bagging_freq is set=0, subsample_freq=0 will be ignored. Current value: bagging_freq=0\n"
     ]
    },
    {
     "name": "stdout",
     "output_type": "stream",
     "text": [
      "[CV] END bagging_fraction=1.0, bagging_freq=0, feature_fraction=1.0; total time=  12.7s\n",
      "[LightGBM] [Warning] feature_fraction is set=0.6, colsample_bytree=1.0 will be ignored. Current value: feature_fraction=0.6\n",
      "[LightGBM] [Warning] min_data_in_leaf is set=30, min_child_samples=20 will be ignored. Current value: min_data_in_leaf=30\n",
      "[LightGBM] [Warning] bagging_fraction is set=1.0, subsample=1.0 will be ignored. Current value: bagging_fraction=1.0\n",
      "[LightGBM] [Warning] bagging_freq is set=2, subsample_freq=0 will be ignored. Current value: bagging_freq=2\n",
      "[CV] END bagging_fraction=1.0, bagging_freq=2, feature_fraction=0.6; total time=  10.2s\n",
      "[LightGBM] [Warning] feature_fraction is set=0.6, colsample_bytree=1.0 will be ignored. Current value: feature_fraction=0.6\n",
      "[LightGBM] [Warning] min_data_in_leaf is set=30, min_child_samples=20 will be ignored. Current value: min_data_in_leaf=30\n",
      "[LightGBM] [Warning] bagging_fraction is set=1.0, subsample=1.0 will be ignored. Current value: bagging_fraction=1.0\n",
      "[LightGBM] [Warning] bagging_freq is set=2, subsample_freq=0 will be ignored. Current value: bagging_freq=2\n",
      "[CV] END bagging_fraction=1.0, bagging_freq=2, feature_fraction=0.6; total time=  10.6s\n",
      "[LightGBM] [Warning] feature_fraction is set=0.6, colsample_bytree=1.0 will be ignored. Current value: feature_fraction=0.6\n",
      "[LightGBM] [Warning] min_data_in_leaf is set=30, min_child_samples=20 will be ignored. Current value: min_data_in_leaf=30\n",
      "[LightGBM] [Warning] bagging_fraction is set=1.0, subsample=1.0 will be ignored. Current value: bagging_fraction=1.0\n",
      "[LightGBM] [Warning] bagging_freq is set=2, subsample_freq=0 will be ignored. Current value: bagging_freq=2\n",
      "[CV] END bagging_fraction=1.0, bagging_freq=2, feature_fraction=0.6; total time=  12.7s\n",
      "[LightGBM] [Warning] feature_fraction is set=0.7, colsample_bytree=1.0 will be ignored. Current value: feature_fraction=0.7\n",
      "[LightGBM] [Warning] min_data_in_leaf is set=30, min_child_samples=20 will be ignored. Current value: min_data_in_leaf=30\n",
      "[LightGBM] [Warning] bagging_fraction is set=1.0, subsample=1.0 will be ignored. Current value: bagging_fraction=1.0\n",
      "[LightGBM] [Warning] bagging_freq is set=2, subsample_freq=0 will be ignored. Current value: bagging_freq=2\n",
      "[CV] END bagging_fraction=1.0, bagging_freq=2, feature_fraction=0.7; total time=  12.2s\n",
      "[LightGBM] [Warning] feature_fraction is set=0.7, colsample_bytree=1.0 will be ignored. Current value: feature_fraction=0.7\n",
      "[LightGBM] [Warning] min_data_in_leaf is set=30, min_child_samples=20 will be ignored. Current value: min_data_in_leaf=30\n",
      "[LightGBM] [Warning] bagging_fraction is set=1.0, subsample=1.0 will be ignored. Current value: bagging_fraction=1.0\n",
      "[LightGBM] [Warning] bagging_freq is set=2, subsample_freq=0 will be ignored. Current value: bagging_freq=2\n",
      "[CV] END bagging_fraction=1.0, bagging_freq=2, feature_fraction=0.7; total time=  11.2s\n",
      "[LightGBM] [Warning] feature_fraction is set=0.7, colsample_bytree=1.0 will be ignored. Current value: feature_fraction=0.7\n",
      "[LightGBM] [Warning] min_data_in_leaf is set=30, min_child_samples=20 will be ignored. Current value: min_data_in_leaf=30\n",
      "[LightGBM] [Warning] bagging_fraction is set=1.0, subsample=1.0 will be ignored. Current value: bagging_fraction=1.0\n",
      "[LightGBM] [Warning] bagging_freq is set=2, subsample_freq=0 will be ignored. Current value: bagging_freq=2\n",
      "[CV] END bagging_fraction=1.0, bagging_freq=2, feature_fraction=0.7; total time=  10.3s\n",
      "[LightGBM] [Warning] feature_fraction is set=0.8, colsample_bytree=1.0 will be ignored. Current value: feature_fraction=0.8\n",
      "[LightGBM] [Warning] min_data_in_leaf is set=30, min_child_samples=20 will be ignored. Current value: min_data_in_leaf=30\n",
      "[LightGBM] [Warning] bagging_fraction is set=1.0, subsample=1.0 will be ignored. Current value: bagging_fraction=1.0\n",
      "[LightGBM] [Warning] bagging_freq is set=2, subsample_freq=0 will be ignored. Current value: bagging_freq=2\n",
      "[CV] END bagging_fraction=1.0, bagging_freq=2, feature_fraction=0.8; total time=  11.4s\n",
      "[LightGBM] [Warning] feature_fraction is set=0.8, colsample_bytree=1.0 will be ignored. Current value: feature_fraction=0.8\n",
      "[LightGBM] [Warning] min_data_in_leaf is set=30, min_child_samples=20 will be ignored. Current value: min_data_in_leaf=30\n",
      "[LightGBM] [Warning] bagging_fraction is set=1.0, subsample=1.0 will be ignored. Current value: bagging_fraction=1.0\n",
      "[LightGBM] [Warning] bagging_freq is set=2, subsample_freq=0 will be ignored. Current value: bagging_freq=2\n",
      "[CV] END bagging_fraction=1.0, bagging_freq=2, feature_fraction=0.8; total time=  11.0s\n",
      "[LightGBM] [Warning] feature_fraction is set=0.8, colsample_bytree=1.0 will be ignored. Current value: feature_fraction=0.8\n",
      "[LightGBM] [Warning] min_data_in_leaf is set=30, min_child_samples=20 will be ignored. Current value: min_data_in_leaf=30\n",
      "[LightGBM] [Warning] bagging_fraction is set=1.0, subsample=1.0 will be ignored. Current value: bagging_fraction=1.0\n",
      "[LightGBM] [Warning] bagging_freq is set=2, subsample_freq=0 will be ignored. Current value: bagging_freq=2\n",
      "[CV] END bagging_fraction=1.0, bagging_freq=2, feature_fraction=0.8; total time=  13.0s\n",
      "[LightGBM] [Warning] feature_fraction is set=0.9, colsample_bytree=1.0 will be ignored. Current value: feature_fraction=0.9\n",
      "[LightGBM] [Warning] min_data_in_leaf is set=30, min_child_samples=20 will be ignored. Current value: min_data_in_leaf=30\n",
      "[LightGBM] [Warning] bagging_fraction is set=1.0, subsample=1.0 will be ignored. Current value: bagging_fraction=1.0\n",
      "[LightGBM] [Warning] bagging_freq is set=2, subsample_freq=0 will be ignored. Current value: bagging_freq=2\n",
      "[CV] END bagging_fraction=1.0, bagging_freq=2, feature_fraction=0.9; total time=  12.0s\n",
      "[LightGBM] [Warning] feature_fraction is set=0.9, colsample_bytree=1.0 will be ignored. Current value: feature_fraction=0.9\n",
      "[LightGBM] [Warning] min_data_in_leaf is set=30, min_child_samples=20 will be ignored. Current value: min_data_in_leaf=30\n",
      "[LightGBM] [Warning] bagging_fraction is set=1.0, subsample=1.0 will be ignored. Current value: bagging_fraction=1.0\n",
      "[LightGBM] [Warning] bagging_freq is set=2, subsample_freq=0 will be ignored. Current value: bagging_freq=2\n",
      "[CV] END bagging_fraction=1.0, bagging_freq=2, feature_fraction=0.9; total time=  12.1s\n",
      "[LightGBM] [Warning] feature_fraction is set=0.9, colsample_bytree=1.0 will be ignored. Current value: feature_fraction=0.9\n",
      "[LightGBM] [Warning] min_data_in_leaf is set=30, min_child_samples=20 will be ignored. Current value: min_data_in_leaf=30\n",
      "[LightGBM] [Warning] bagging_fraction is set=1.0, subsample=1.0 will be ignored. Current value: bagging_fraction=1.0\n",
      "[LightGBM] [Warning] bagging_freq is set=2, subsample_freq=0 will be ignored. Current value: bagging_freq=2\n",
      "[CV] END bagging_fraction=1.0, bagging_freq=2, feature_fraction=0.9; total time=  12.1s\n",
      "[LightGBM] [Warning] feature_fraction is set=1.0, colsample_bytree=1.0 will be ignored. Current value: feature_fraction=1.0\n",
      "[LightGBM] [Warning] min_data_in_leaf is set=30, min_child_samples=20 will be ignored. Current value: min_data_in_leaf=30\n",
      "[LightGBM] [Warning] bagging_fraction is set=1.0, subsample=1.0 will be ignored. Current value: bagging_fraction=1.0\n",
      "[LightGBM] [Warning] bagging_freq is set=2, subsample_freq=0 will be ignored. Current value: bagging_freq=2\n",
      "[CV] END bagging_fraction=1.0, bagging_freq=2, feature_fraction=1.0; total time=  12.9s\n",
      "[LightGBM] [Warning] feature_fraction is set=1.0, colsample_bytree=1.0 will be ignored. Current value: feature_fraction=1.0\n",
      "[LightGBM] [Warning] min_data_in_leaf is set=30, min_child_samples=20 will be ignored. Current value: min_data_in_leaf=30\n",
      "[LightGBM] [Warning] bagging_fraction is set=1.0, subsample=1.0 will be ignored. Current value: bagging_fraction=1.0\n",
      "[LightGBM] [Warning] bagging_freq is set=2, subsample_freq=0 will be ignored. Current value: bagging_freq=2\n",
      "[CV] END bagging_fraction=1.0, bagging_freq=2, feature_fraction=1.0; total time=  13.4s\n",
      "[LightGBM] [Warning] feature_fraction is set=1.0, colsample_bytree=1.0 will be ignored. Current value: feature_fraction=1.0\n",
      "[LightGBM] [Warning] min_data_in_leaf is set=30, min_child_samples=20 will be ignored. Current value: min_data_in_leaf=30\n",
      "[LightGBM] [Warning] bagging_fraction is set=1.0, subsample=1.0 will be ignored. Current value: bagging_fraction=1.0\n",
      "[LightGBM] [Warning] bagging_freq is set=2, subsample_freq=0 will be ignored. Current value: bagging_freq=2\n"
     ]
    },
    {
     "name": "stdout",
     "output_type": "stream",
     "text": [
      "[CV] END bagging_fraction=1.0, bagging_freq=2, feature_fraction=1.0; total time=  13.4s\n",
      "[LightGBM] [Warning] feature_fraction is set=0.6, colsample_bytree=1.0 will be ignored. Current value: feature_fraction=0.6\n",
      "[LightGBM] [Warning] min_data_in_leaf is set=30, min_child_samples=20 will be ignored. Current value: min_data_in_leaf=30\n",
      "[LightGBM] [Warning] bagging_fraction is set=1.0, subsample=1.0 will be ignored. Current value: bagging_fraction=1.0\n",
      "[LightGBM] [Warning] bagging_freq is set=4, subsample_freq=0 will be ignored. Current value: bagging_freq=4\n",
      "[CV] END bagging_fraction=1.0, bagging_freq=4, feature_fraction=0.6; total time=  10.3s\n",
      "[LightGBM] [Warning] feature_fraction is set=0.6, colsample_bytree=1.0 will be ignored. Current value: feature_fraction=0.6\n",
      "[LightGBM] [Warning] min_data_in_leaf is set=30, min_child_samples=20 will be ignored. Current value: min_data_in_leaf=30\n",
      "[LightGBM] [Warning] bagging_fraction is set=1.0, subsample=1.0 will be ignored. Current value: bagging_fraction=1.0\n",
      "[LightGBM] [Warning] bagging_freq is set=4, subsample_freq=0 will be ignored. Current value: bagging_freq=4\n",
      "[CV] END bagging_fraction=1.0, bagging_freq=4, feature_fraction=0.6; total time=   9.9s\n",
      "[LightGBM] [Warning] feature_fraction is set=0.6, colsample_bytree=1.0 will be ignored. Current value: feature_fraction=0.6\n",
      "[LightGBM] [Warning] min_data_in_leaf is set=30, min_child_samples=20 will be ignored. Current value: min_data_in_leaf=30\n",
      "[LightGBM] [Warning] bagging_fraction is set=1.0, subsample=1.0 will be ignored. Current value: bagging_fraction=1.0\n",
      "[LightGBM] [Warning] bagging_freq is set=4, subsample_freq=0 will be ignored. Current value: bagging_freq=4\n",
      "[CV] END bagging_fraction=1.0, bagging_freq=4, feature_fraction=0.6; total time=  11.4s\n",
      "[LightGBM] [Warning] feature_fraction is set=0.7, colsample_bytree=1.0 will be ignored. Current value: feature_fraction=0.7\n",
      "[LightGBM] [Warning] min_data_in_leaf is set=30, min_child_samples=20 will be ignored. Current value: min_data_in_leaf=30\n",
      "[LightGBM] [Warning] bagging_fraction is set=1.0, subsample=1.0 will be ignored. Current value: bagging_fraction=1.0\n",
      "[LightGBM] [Warning] bagging_freq is set=4, subsample_freq=0 will be ignored. Current value: bagging_freq=4\n",
      "[CV] END bagging_fraction=1.0, bagging_freq=4, feature_fraction=0.7; total time=  11.7s\n",
      "[LightGBM] [Warning] feature_fraction is set=0.7, colsample_bytree=1.0 will be ignored. Current value: feature_fraction=0.7\n",
      "[LightGBM] [Warning] min_data_in_leaf is set=30, min_child_samples=20 will be ignored. Current value: min_data_in_leaf=30\n",
      "[LightGBM] [Warning] bagging_fraction is set=1.0, subsample=1.0 will be ignored. Current value: bagging_fraction=1.0\n",
      "[LightGBM] [Warning] bagging_freq is set=4, subsample_freq=0 will be ignored. Current value: bagging_freq=4\n",
      "[CV] END bagging_fraction=1.0, bagging_freq=4, feature_fraction=0.7; total time=  10.9s\n",
      "[LightGBM] [Warning] feature_fraction is set=0.7, colsample_bytree=1.0 will be ignored. Current value: feature_fraction=0.7\n",
      "[LightGBM] [Warning] min_data_in_leaf is set=30, min_child_samples=20 will be ignored. Current value: min_data_in_leaf=30\n",
      "[LightGBM] [Warning] bagging_fraction is set=1.0, subsample=1.0 will be ignored. Current value: bagging_fraction=1.0\n",
      "[LightGBM] [Warning] bagging_freq is set=4, subsample_freq=0 will be ignored. Current value: bagging_freq=4\n",
      "[CV] END bagging_fraction=1.0, bagging_freq=4, feature_fraction=0.7; total time=  11.9s\n",
      "[LightGBM] [Warning] feature_fraction is set=0.8, colsample_bytree=1.0 will be ignored. Current value: feature_fraction=0.8\n",
      "[LightGBM] [Warning] min_data_in_leaf is set=30, min_child_samples=20 will be ignored. Current value: min_data_in_leaf=30\n",
      "[LightGBM] [Warning] bagging_fraction is set=1.0, subsample=1.0 will be ignored. Current value: bagging_fraction=1.0\n",
      "[LightGBM] [Warning] bagging_freq is set=4, subsample_freq=0 will be ignored. Current value: bagging_freq=4\n",
      "[CV] END bagging_fraction=1.0, bagging_freq=4, feature_fraction=0.8; total time=  12.3s\n",
      "[LightGBM] [Warning] feature_fraction is set=0.8, colsample_bytree=1.0 will be ignored. Current value: feature_fraction=0.8\n",
      "[LightGBM] [Warning] min_data_in_leaf is set=30, min_child_samples=20 will be ignored. Current value: min_data_in_leaf=30\n",
      "[LightGBM] [Warning] bagging_fraction is set=1.0, subsample=1.0 will be ignored. Current value: bagging_fraction=1.0\n",
      "[LightGBM] [Warning] bagging_freq is set=4, subsample_freq=0 will be ignored. Current value: bagging_freq=4\n",
      "[CV] END bagging_fraction=1.0, bagging_freq=4, feature_fraction=0.8; total time=  11.4s\n",
      "[LightGBM] [Warning] feature_fraction is set=0.8, colsample_bytree=1.0 will be ignored. Current value: feature_fraction=0.8\n",
      "[LightGBM] [Warning] min_data_in_leaf is set=30, min_child_samples=20 will be ignored. Current value: min_data_in_leaf=30\n",
      "[LightGBM] [Warning] bagging_fraction is set=1.0, subsample=1.0 will be ignored. Current value: bagging_fraction=1.0\n",
      "[LightGBM] [Warning] bagging_freq is set=4, subsample_freq=0 will be ignored. Current value: bagging_freq=4\n",
      "[CV] END bagging_fraction=1.0, bagging_freq=4, feature_fraction=0.8; total time=  10.9s\n",
      "[LightGBM] [Warning] feature_fraction is set=0.9, colsample_bytree=1.0 will be ignored. Current value: feature_fraction=0.9\n",
      "[LightGBM] [Warning] min_data_in_leaf is set=30, min_child_samples=20 will be ignored. Current value: min_data_in_leaf=30\n",
      "[LightGBM] [Warning] bagging_fraction is set=1.0, subsample=1.0 will be ignored. Current value: bagging_fraction=1.0\n",
      "[LightGBM] [Warning] bagging_freq is set=4, subsample_freq=0 will be ignored. Current value: bagging_freq=4\n",
      "[CV] END bagging_fraction=1.0, bagging_freq=4, feature_fraction=0.9; total time=  12.4s\n",
      "[LightGBM] [Warning] feature_fraction is set=0.9, colsample_bytree=1.0 will be ignored. Current value: feature_fraction=0.9\n",
      "[LightGBM] [Warning] min_data_in_leaf is set=30, min_child_samples=20 will be ignored. Current value: min_data_in_leaf=30\n",
      "[LightGBM] [Warning] bagging_fraction is set=1.0, subsample=1.0 will be ignored. Current value: bagging_fraction=1.0\n",
      "[LightGBM] [Warning] bagging_freq is set=4, subsample_freq=0 will be ignored. Current value: bagging_freq=4\n",
      "[CV] END bagging_fraction=1.0, bagging_freq=4, feature_fraction=0.9; total time=  11.6s\n",
      "[LightGBM] [Warning] feature_fraction is set=0.9, colsample_bytree=1.0 will be ignored. Current value: feature_fraction=0.9\n",
      "[LightGBM] [Warning] min_data_in_leaf is set=30, min_child_samples=20 will be ignored. Current value: min_data_in_leaf=30\n",
      "[LightGBM] [Warning] bagging_fraction is set=1.0, subsample=1.0 will be ignored. Current value: bagging_fraction=1.0\n",
      "[LightGBM] [Warning] bagging_freq is set=4, subsample_freq=0 will be ignored. Current value: bagging_freq=4\n",
      "[CV] END bagging_fraction=1.0, bagging_freq=4, feature_fraction=0.9; total time=  11.6s\n",
      "[LightGBM] [Warning] feature_fraction is set=1.0, colsample_bytree=1.0 will be ignored. Current value: feature_fraction=1.0\n",
      "[LightGBM] [Warning] min_data_in_leaf is set=30, min_child_samples=20 will be ignored. Current value: min_data_in_leaf=30\n",
      "[LightGBM] [Warning] bagging_fraction is set=1.0, subsample=1.0 will be ignored. Current value: bagging_fraction=1.0\n",
      "[LightGBM] [Warning] bagging_freq is set=4, subsample_freq=0 will be ignored. Current value: bagging_freq=4\n",
      "[CV] END bagging_fraction=1.0, bagging_freq=4, feature_fraction=1.0; total time=  12.6s\n",
      "[LightGBM] [Warning] feature_fraction is set=1.0, colsample_bytree=1.0 will be ignored. Current value: feature_fraction=1.0\n",
      "[LightGBM] [Warning] min_data_in_leaf is set=30, min_child_samples=20 will be ignored. Current value: min_data_in_leaf=30\n",
      "[LightGBM] [Warning] bagging_fraction is set=1.0, subsample=1.0 will be ignored. Current value: bagging_fraction=1.0\n",
      "[LightGBM] [Warning] bagging_freq is set=4, subsample_freq=0 will be ignored. Current value: bagging_freq=4\n",
      "[CV] END bagging_fraction=1.0, bagging_freq=4, feature_fraction=1.0; total time=  12.4s\n",
      "[LightGBM] [Warning] feature_fraction is set=1.0, colsample_bytree=1.0 will be ignored. Current value: feature_fraction=1.0\n",
      "[LightGBM] [Warning] min_data_in_leaf is set=30, min_child_samples=20 will be ignored. Current value: min_data_in_leaf=30\n",
      "[LightGBM] [Warning] bagging_fraction is set=1.0, subsample=1.0 will be ignored. Current value: bagging_fraction=1.0\n",
      "[LightGBM] [Warning] bagging_freq is set=4, subsample_freq=0 will be ignored. Current value: bagging_freq=4\n"
     ]
    },
    {
     "name": "stdout",
     "output_type": "stream",
     "text": [
      "[CV] END bagging_fraction=1.0, bagging_freq=4, feature_fraction=1.0; total time=  12.5s\n",
      "[LightGBM] [Warning] feature_fraction is set=0.6, colsample_bytree=1.0 will be ignored. Current value: feature_fraction=0.6\n",
      "[LightGBM] [Warning] min_data_in_leaf is set=30, min_child_samples=20 will be ignored. Current value: min_data_in_leaf=30\n",
      "[LightGBM] [Warning] bagging_fraction is set=1.0, subsample=1.0 will be ignored. Current value: bagging_fraction=1.0\n",
      "[LightGBM] [Warning] bagging_freq is set=6, subsample_freq=0 will be ignored. Current value: bagging_freq=6\n",
      "[CV] END bagging_fraction=1.0, bagging_freq=6, feature_fraction=0.6; total time=   9.9s\n",
      "[LightGBM] [Warning] feature_fraction is set=0.6, colsample_bytree=1.0 will be ignored. Current value: feature_fraction=0.6\n",
      "[LightGBM] [Warning] min_data_in_leaf is set=30, min_child_samples=20 will be ignored. Current value: min_data_in_leaf=30\n",
      "[LightGBM] [Warning] bagging_fraction is set=1.0, subsample=1.0 will be ignored. Current value: bagging_fraction=1.0\n",
      "[LightGBM] [Warning] bagging_freq is set=6, subsample_freq=0 will be ignored. Current value: bagging_freq=6\n",
      "[CV] END bagging_fraction=1.0, bagging_freq=6, feature_fraction=0.6; total time=   9.6s\n",
      "[LightGBM] [Warning] feature_fraction is set=0.6, colsample_bytree=1.0 will be ignored. Current value: feature_fraction=0.6\n",
      "[LightGBM] [Warning] min_data_in_leaf is set=30, min_child_samples=20 will be ignored. Current value: min_data_in_leaf=30\n",
      "[LightGBM] [Warning] bagging_fraction is set=1.0, subsample=1.0 will be ignored. Current value: bagging_fraction=1.0\n",
      "[LightGBM] [Warning] bagging_freq is set=6, subsample_freq=0 will be ignored. Current value: bagging_freq=6\n",
      "[CV] END bagging_fraction=1.0, bagging_freq=6, feature_fraction=0.6; total time=   9.9s\n",
      "[LightGBM] [Warning] feature_fraction is set=0.7, colsample_bytree=1.0 will be ignored. Current value: feature_fraction=0.7\n",
      "[LightGBM] [Warning] min_data_in_leaf is set=30, min_child_samples=20 will be ignored. Current value: min_data_in_leaf=30\n",
      "[LightGBM] [Warning] bagging_fraction is set=1.0, subsample=1.0 will be ignored. Current value: bagging_fraction=1.0\n",
      "[LightGBM] [Warning] bagging_freq is set=6, subsample_freq=0 will be ignored. Current value: bagging_freq=6\n",
      "[CV] END bagging_fraction=1.0, bagging_freq=6, feature_fraction=0.7; total time=  10.6s\n",
      "[LightGBM] [Warning] feature_fraction is set=0.7, colsample_bytree=1.0 will be ignored. Current value: feature_fraction=0.7\n",
      "[LightGBM] [Warning] min_data_in_leaf is set=30, min_child_samples=20 will be ignored. Current value: min_data_in_leaf=30\n",
      "[LightGBM] [Warning] bagging_fraction is set=1.0, subsample=1.0 will be ignored. Current value: bagging_fraction=1.0\n",
      "[LightGBM] [Warning] bagging_freq is set=6, subsample_freq=0 will be ignored. Current value: bagging_freq=6\n",
      "[CV] END bagging_fraction=1.0, bagging_freq=6, feature_fraction=0.7; total time=  10.2s\n",
      "[LightGBM] [Warning] feature_fraction is set=0.7, colsample_bytree=1.0 will be ignored. Current value: feature_fraction=0.7\n",
      "[LightGBM] [Warning] min_data_in_leaf is set=30, min_child_samples=20 will be ignored. Current value: min_data_in_leaf=30\n",
      "[LightGBM] [Warning] bagging_fraction is set=1.0, subsample=1.0 will be ignored. Current value: bagging_fraction=1.0\n",
      "[LightGBM] [Warning] bagging_freq is set=6, subsample_freq=0 will be ignored. Current value: bagging_freq=6\n",
      "[CV] END bagging_fraction=1.0, bagging_freq=6, feature_fraction=0.7; total time=  10.1s\n",
      "[LightGBM] [Warning] feature_fraction is set=0.8, colsample_bytree=1.0 will be ignored. Current value: feature_fraction=0.8\n",
      "[LightGBM] [Warning] min_data_in_leaf is set=30, min_child_samples=20 will be ignored. Current value: min_data_in_leaf=30\n",
      "[LightGBM] [Warning] bagging_fraction is set=1.0, subsample=1.0 will be ignored. Current value: bagging_fraction=1.0\n",
      "[LightGBM] [Warning] bagging_freq is set=6, subsample_freq=0 will be ignored. Current value: bagging_freq=6\n",
      "[CV] END bagging_fraction=1.0, bagging_freq=6, feature_fraction=0.8; total time=  11.7s\n",
      "[LightGBM] [Warning] feature_fraction is set=0.8, colsample_bytree=1.0 will be ignored. Current value: feature_fraction=0.8\n",
      "[LightGBM] [Warning] min_data_in_leaf is set=30, min_child_samples=20 will be ignored. Current value: min_data_in_leaf=30\n",
      "[LightGBM] [Warning] bagging_fraction is set=1.0, subsample=1.0 will be ignored. Current value: bagging_fraction=1.0\n",
      "[LightGBM] [Warning] bagging_freq is set=6, subsample_freq=0 will be ignored. Current value: bagging_freq=6\n",
      "[CV] END bagging_fraction=1.0, bagging_freq=6, feature_fraction=0.8; total time=  11.5s\n",
      "[LightGBM] [Warning] feature_fraction is set=0.8, colsample_bytree=1.0 will be ignored. Current value: feature_fraction=0.8\n",
      "[LightGBM] [Warning] min_data_in_leaf is set=30, min_child_samples=20 will be ignored. Current value: min_data_in_leaf=30\n",
      "[LightGBM] [Warning] bagging_fraction is set=1.0, subsample=1.0 will be ignored. Current value: bagging_fraction=1.0\n",
      "[LightGBM] [Warning] bagging_freq is set=6, subsample_freq=0 will be ignored. Current value: bagging_freq=6\n",
      "[CV] END bagging_fraction=1.0, bagging_freq=6, feature_fraction=0.8; total time=  11.2s\n",
      "[LightGBM] [Warning] feature_fraction is set=0.9, colsample_bytree=1.0 will be ignored. Current value: feature_fraction=0.9\n",
      "[LightGBM] [Warning] min_data_in_leaf is set=30, min_child_samples=20 will be ignored. Current value: min_data_in_leaf=30\n",
      "[LightGBM] [Warning] bagging_fraction is set=1.0, subsample=1.0 will be ignored. Current value: bagging_fraction=1.0\n",
      "[LightGBM] [Warning] bagging_freq is set=6, subsample_freq=0 will be ignored. Current value: bagging_freq=6\n",
      "[CV] END bagging_fraction=1.0, bagging_freq=6, feature_fraction=0.9; total time=  12.0s\n",
      "[LightGBM] [Warning] feature_fraction is set=0.9, colsample_bytree=1.0 will be ignored. Current value: feature_fraction=0.9\n",
      "[LightGBM] [Warning] min_data_in_leaf is set=30, min_child_samples=20 will be ignored. Current value: min_data_in_leaf=30\n",
      "[LightGBM] [Warning] bagging_fraction is set=1.0, subsample=1.0 will be ignored. Current value: bagging_fraction=1.0\n",
      "[LightGBM] [Warning] bagging_freq is set=6, subsample_freq=0 will be ignored. Current value: bagging_freq=6\n",
      "[CV] END bagging_fraction=1.0, bagging_freq=6, feature_fraction=0.9; total time=  12.2s\n",
      "[LightGBM] [Warning] feature_fraction is set=0.9, colsample_bytree=1.0 will be ignored. Current value: feature_fraction=0.9\n",
      "[LightGBM] [Warning] min_data_in_leaf is set=30, min_child_samples=20 will be ignored. Current value: min_data_in_leaf=30\n",
      "[LightGBM] [Warning] bagging_fraction is set=1.0, subsample=1.0 will be ignored. Current value: bagging_fraction=1.0\n",
      "[LightGBM] [Warning] bagging_freq is set=6, subsample_freq=0 will be ignored. Current value: bagging_freq=6\n",
      "[CV] END bagging_fraction=1.0, bagging_freq=6, feature_fraction=0.9; total time=  11.9s\n",
      "[LightGBM] [Warning] feature_fraction is set=1.0, colsample_bytree=1.0 will be ignored. Current value: feature_fraction=1.0\n",
      "[LightGBM] [Warning] min_data_in_leaf is set=30, min_child_samples=20 will be ignored. Current value: min_data_in_leaf=30\n",
      "[LightGBM] [Warning] bagging_fraction is set=1.0, subsample=1.0 will be ignored. Current value: bagging_fraction=1.0\n",
      "[LightGBM] [Warning] bagging_freq is set=6, subsample_freq=0 will be ignored. Current value: bagging_freq=6\n",
      "[CV] END bagging_fraction=1.0, bagging_freq=6, feature_fraction=1.0; total time=  12.9s\n",
      "[LightGBM] [Warning] feature_fraction is set=1.0, colsample_bytree=1.0 will be ignored. Current value: feature_fraction=1.0\n",
      "[LightGBM] [Warning] min_data_in_leaf is set=30, min_child_samples=20 will be ignored. Current value: min_data_in_leaf=30\n",
      "[LightGBM] [Warning] bagging_fraction is set=1.0, subsample=1.0 will be ignored. Current value: bagging_fraction=1.0\n",
      "[LightGBM] [Warning] bagging_freq is set=6, subsample_freq=0 will be ignored. Current value: bagging_freq=6\n",
      "[CV] END bagging_fraction=1.0, bagging_freq=6, feature_fraction=1.0; total time=  12.7s\n",
      "[LightGBM] [Warning] feature_fraction is set=1.0, colsample_bytree=1.0 will be ignored. Current value: feature_fraction=1.0\n",
      "[LightGBM] [Warning] min_data_in_leaf is set=30, min_child_samples=20 will be ignored. Current value: min_data_in_leaf=30\n",
      "[LightGBM] [Warning] bagging_fraction is set=1.0, subsample=1.0 will be ignored. Current value: bagging_fraction=1.0\n",
      "[LightGBM] [Warning] bagging_freq is set=6, subsample_freq=0 will be ignored. Current value: bagging_freq=6\n"
     ]
    },
    {
     "name": "stdout",
     "output_type": "stream",
     "text": [
      "[CV] END bagging_fraction=1.0, bagging_freq=6, feature_fraction=1.0; total time=  13.0s\n",
      "[LightGBM] [Warning] feature_fraction is set=0.6, colsample_bytree=1.0 will be ignored. Current value: feature_fraction=0.6\n",
      "[LightGBM] [Warning] min_data_in_leaf is set=30, min_child_samples=20 will be ignored. Current value: min_data_in_leaf=30\n",
      "[LightGBM] [Warning] bagging_fraction is set=1.0, subsample=1.0 will be ignored. Current value: bagging_fraction=1.0\n",
      "[LightGBM] [Warning] bagging_freq is set=8, subsample_freq=0 will be ignored. Current value: bagging_freq=8\n",
      "[CV] END bagging_fraction=1.0, bagging_freq=8, feature_fraction=0.6; total time=  10.1s\n",
      "[LightGBM] [Warning] feature_fraction is set=0.6, colsample_bytree=1.0 will be ignored. Current value: feature_fraction=0.6\n",
      "[LightGBM] [Warning] min_data_in_leaf is set=30, min_child_samples=20 will be ignored. Current value: min_data_in_leaf=30\n",
      "[LightGBM] [Warning] bagging_fraction is set=1.0, subsample=1.0 will be ignored. Current value: bagging_fraction=1.0\n",
      "[LightGBM] [Warning] bagging_freq is set=8, subsample_freq=0 will be ignored. Current value: bagging_freq=8\n",
      "[CV] END bagging_fraction=1.0, bagging_freq=8, feature_fraction=0.6; total time=   9.9s\n",
      "[LightGBM] [Warning] feature_fraction is set=0.6, colsample_bytree=1.0 will be ignored. Current value: feature_fraction=0.6\n",
      "[LightGBM] [Warning] min_data_in_leaf is set=30, min_child_samples=20 will be ignored. Current value: min_data_in_leaf=30\n",
      "[LightGBM] [Warning] bagging_fraction is set=1.0, subsample=1.0 will be ignored. Current value: bagging_fraction=1.0\n",
      "[LightGBM] [Warning] bagging_freq is set=8, subsample_freq=0 will be ignored. Current value: bagging_freq=8\n",
      "[CV] END bagging_fraction=1.0, bagging_freq=8, feature_fraction=0.6; total time=  10.5s\n",
      "[LightGBM] [Warning] feature_fraction is set=0.7, colsample_bytree=1.0 will be ignored. Current value: feature_fraction=0.7\n",
      "[LightGBM] [Warning] min_data_in_leaf is set=30, min_child_samples=20 will be ignored. Current value: min_data_in_leaf=30\n",
      "[LightGBM] [Warning] bagging_fraction is set=1.0, subsample=1.0 will be ignored. Current value: bagging_fraction=1.0\n",
      "[LightGBM] [Warning] bagging_freq is set=8, subsample_freq=0 will be ignored. Current value: bagging_freq=8\n",
      "[CV] END bagging_fraction=1.0, bagging_freq=8, feature_fraction=0.7; total time=  10.3s\n",
      "[LightGBM] [Warning] feature_fraction is set=0.7, colsample_bytree=1.0 will be ignored. Current value: feature_fraction=0.7\n",
      "[LightGBM] [Warning] min_data_in_leaf is set=30, min_child_samples=20 will be ignored. Current value: min_data_in_leaf=30\n",
      "[LightGBM] [Warning] bagging_fraction is set=1.0, subsample=1.0 will be ignored. Current value: bagging_fraction=1.0\n",
      "[LightGBM] [Warning] bagging_freq is set=8, subsample_freq=0 will be ignored. Current value: bagging_freq=8\n",
      "[CV] END bagging_fraction=1.0, bagging_freq=8, feature_fraction=0.7; total time=  11.0s\n",
      "[LightGBM] [Warning] feature_fraction is set=0.7, colsample_bytree=1.0 will be ignored. Current value: feature_fraction=0.7\n",
      "[LightGBM] [Warning] min_data_in_leaf is set=30, min_child_samples=20 will be ignored. Current value: min_data_in_leaf=30\n",
      "[LightGBM] [Warning] bagging_fraction is set=1.0, subsample=1.0 will be ignored. Current value: bagging_fraction=1.0\n",
      "[LightGBM] [Warning] bagging_freq is set=8, subsample_freq=0 will be ignored. Current value: bagging_freq=8\n",
      "[CV] END bagging_fraction=1.0, bagging_freq=8, feature_fraction=0.7; total time=  10.9s\n",
      "[LightGBM] [Warning] feature_fraction is set=0.8, colsample_bytree=1.0 will be ignored. Current value: feature_fraction=0.8\n",
      "[LightGBM] [Warning] min_data_in_leaf is set=30, min_child_samples=20 will be ignored. Current value: min_data_in_leaf=30\n",
      "[LightGBM] [Warning] bagging_fraction is set=1.0, subsample=1.0 will be ignored. Current value: bagging_fraction=1.0\n",
      "[LightGBM] [Warning] bagging_freq is set=8, subsample_freq=0 will be ignored. Current value: bagging_freq=8\n",
      "[CV] END bagging_fraction=1.0, bagging_freq=8, feature_fraction=0.8; total time=  11.9s\n",
      "[LightGBM] [Warning] feature_fraction is set=0.8, colsample_bytree=1.0 will be ignored. Current value: feature_fraction=0.8\n",
      "[LightGBM] [Warning] min_data_in_leaf is set=30, min_child_samples=20 will be ignored. Current value: min_data_in_leaf=30\n",
      "[LightGBM] [Warning] bagging_fraction is set=1.0, subsample=1.0 will be ignored. Current value: bagging_fraction=1.0\n",
      "[LightGBM] [Warning] bagging_freq is set=8, subsample_freq=0 will be ignored. Current value: bagging_freq=8\n",
      "[CV] END bagging_fraction=1.0, bagging_freq=8, feature_fraction=0.8; total time=  11.7s\n",
      "[LightGBM] [Warning] feature_fraction is set=0.8, colsample_bytree=1.0 will be ignored. Current value: feature_fraction=0.8\n",
      "[LightGBM] [Warning] min_data_in_leaf is set=30, min_child_samples=20 will be ignored. Current value: min_data_in_leaf=30\n",
      "[LightGBM] [Warning] bagging_fraction is set=1.0, subsample=1.0 will be ignored. Current value: bagging_fraction=1.0\n",
      "[LightGBM] [Warning] bagging_freq is set=8, subsample_freq=0 will be ignored. Current value: bagging_freq=8\n",
      "[CV] END bagging_fraction=1.0, bagging_freq=8, feature_fraction=0.8; total time=  11.5s\n",
      "[LightGBM] [Warning] feature_fraction is set=0.9, colsample_bytree=1.0 will be ignored. Current value: feature_fraction=0.9\n",
      "[LightGBM] [Warning] min_data_in_leaf is set=30, min_child_samples=20 will be ignored. Current value: min_data_in_leaf=30\n",
      "[LightGBM] [Warning] bagging_fraction is set=1.0, subsample=1.0 will be ignored. Current value: bagging_fraction=1.0\n",
      "[LightGBM] [Warning] bagging_freq is set=8, subsample_freq=0 will be ignored. Current value: bagging_freq=8\n",
      "[CV] END bagging_fraction=1.0, bagging_freq=8, feature_fraction=0.9; total time=  14.0s\n",
      "[LightGBM] [Warning] feature_fraction is set=0.9, colsample_bytree=1.0 will be ignored. Current value: feature_fraction=0.9\n",
      "[LightGBM] [Warning] min_data_in_leaf is set=30, min_child_samples=20 will be ignored. Current value: min_data_in_leaf=30\n",
      "[LightGBM] [Warning] bagging_fraction is set=1.0, subsample=1.0 will be ignored. Current value: bagging_fraction=1.0\n",
      "[LightGBM] [Warning] bagging_freq is set=8, subsample_freq=0 will be ignored. Current value: bagging_freq=8\n",
      "[CV] END bagging_fraction=1.0, bagging_freq=8, feature_fraction=0.9; total time=  12.7s\n",
      "[LightGBM] [Warning] feature_fraction is set=0.9, colsample_bytree=1.0 will be ignored. Current value: feature_fraction=0.9\n",
      "[LightGBM] [Warning] min_data_in_leaf is set=30, min_child_samples=20 will be ignored. Current value: min_data_in_leaf=30\n",
      "[LightGBM] [Warning] bagging_fraction is set=1.0, subsample=1.0 will be ignored. Current value: bagging_fraction=1.0\n",
      "[LightGBM] [Warning] bagging_freq is set=8, subsample_freq=0 will be ignored. Current value: bagging_freq=8\n",
      "[CV] END bagging_fraction=1.0, bagging_freq=8, feature_fraction=0.9; total time=  12.4s\n",
      "[LightGBM] [Warning] feature_fraction is set=1.0, colsample_bytree=1.0 will be ignored. Current value: feature_fraction=1.0\n",
      "[LightGBM] [Warning] min_data_in_leaf is set=30, min_child_samples=20 will be ignored. Current value: min_data_in_leaf=30\n",
      "[LightGBM] [Warning] bagging_fraction is set=1.0, subsample=1.0 will be ignored. Current value: bagging_fraction=1.0\n",
      "[LightGBM] [Warning] bagging_freq is set=8, subsample_freq=0 will be ignored. Current value: bagging_freq=8\n",
      "[CV] END bagging_fraction=1.0, bagging_freq=8, feature_fraction=1.0; total time=  12.7s\n",
      "[LightGBM] [Warning] feature_fraction is set=1.0, colsample_bytree=1.0 will be ignored. Current value: feature_fraction=1.0\n",
      "[LightGBM] [Warning] min_data_in_leaf is set=30, min_child_samples=20 will be ignored. Current value: min_data_in_leaf=30\n",
      "[LightGBM] [Warning] bagging_fraction is set=1.0, subsample=1.0 will be ignored. Current value: bagging_fraction=1.0\n",
      "[LightGBM] [Warning] bagging_freq is set=8, subsample_freq=0 will be ignored. Current value: bagging_freq=8\n",
      "[CV] END bagging_fraction=1.0, bagging_freq=8, feature_fraction=1.0; total time=  12.4s\n",
      "[LightGBM] [Warning] feature_fraction is set=1.0, colsample_bytree=1.0 will be ignored. Current value: feature_fraction=1.0\n",
      "[LightGBM] [Warning] min_data_in_leaf is set=30, min_child_samples=20 will be ignored. Current value: min_data_in_leaf=30\n",
      "[LightGBM] [Warning] bagging_fraction is set=1.0, subsample=1.0 will be ignored. Current value: bagging_fraction=1.0\n",
      "[LightGBM] [Warning] bagging_freq is set=8, subsample_freq=0 will be ignored. Current value: bagging_freq=8\n"
     ]
    },
    {
     "name": "stdout",
     "output_type": "stream",
     "text": [
      "[CV] END bagging_fraction=1.0, bagging_freq=8, feature_fraction=1.0; total time=  12.5s\n",
      "[LightGBM] [Warning] feature_fraction is set=0.9, colsample_bytree=1.0 will be ignored. Current value: feature_fraction=0.9\n",
      "[LightGBM] [Warning] min_data_in_leaf is set=30, min_child_samples=20 will be ignored. Current value: min_data_in_leaf=30\n",
      "[LightGBM] [Warning] bagging_fraction is set=0.9, subsample=1.0 will be ignored. Current value: bagging_fraction=0.9\n",
      "[LightGBM] [Warning] bagging_freq is set=4, subsample_freq=0 will be ignored. Current value: bagging_freq=4\n",
      "LigthGBM GridSearchCV AUC Score: 0.7662921490517323\n",
      "最优参数：\n",
      "{'bagging_fraction': 0.9, 'bagging_freq': 4, 'feature_fraction': 0.9}\n"
     ]
    }
   ],
   "source": [
    "model_lgb=lgb.LGBMClassifier(boosting_type='gbdt',\n",
    "                        objective='binary',\n",
    "                        metrics='auc',\n",
    "                        n_estimators=200,\n",
    "                        learning_rate=0.1,\n",
    "                        max_depth=7,\n",
    "                        num_leaves=110,\n",
    "                        max_bin=30,\n",
    "                        min_data_in_leaf=30,\n",
    "                        bagging_fraction=0.8,\n",
    "                        feature_fraction=0.8)\n",
    "parameters={'feature_fraction':[0.6,0.7,0.8,0.9,1.0],\n",
    "           'bagging_fraction':[0.6,0.7,0.8,0.9,1.0],\n",
    "           'bagging_freq':range(0,10,2)}\n",
    "clf=GridSearchCV(model_lgb,parameters,cv=3,verbose=2)\n",
    "clf.fit(X_train_final[selected_feaures],y_train)\n",
    "score_test=roc_auc_score(y_val,clf.predict_proba(X_val_final[selected_feaures])[:,1])\n",
    "print('LigthGBM GridSearchCV AUC Score:',score_test)\n",
    "print('最优参数：')\n",
    "print(clf.best_params_)"
   ]
  },
  {
   "cell_type": "markdown",
   "metadata": {},
   "source": [
    "## 对随机森林进行随机搜索"
   ]
  },
  {
   "cell_type": "code",
   "execution_count": 62,
   "metadata": {},
   "outputs": [
    {
     "name": "stdout",
     "output_type": "stream",
     "text": [
      "Fitting 3 folds for each of 10 candidates, totalling 30 fits\n",
      "[CV] END max_depth=13, max_features=2, min_samples_leaf=10, min_samples_split=120, n_estimators=50; total time=   8.5s\n",
      "[CV] END max_depth=13, max_features=2, min_samples_leaf=10, min_samples_split=120, n_estimators=50; total time=   8.7s\n",
      "[CV] END max_depth=13, max_features=2, min_samples_leaf=10, min_samples_split=120, n_estimators=50; total time=   9.8s\n",
      "[CV] END max_depth=13, max_features=4, min_samples_leaf=50, min_samples_split=100, n_estimators=30; total time=   9.1s\n",
      "[CV] END max_depth=13, max_features=4, min_samples_leaf=50, min_samples_split=100, n_estimators=30; total time=   9.0s\n",
      "[CV] END max_depth=13, max_features=4, min_samples_leaf=50, min_samples_split=100, n_estimators=30; total time=  10.4s\n",
      "[CV] END max_depth=13, max_features=4, min_samples_leaf=50, min_samples_split=120, n_estimators=30; total time=   8.0s\n",
      "[CV] END max_depth=13, max_features=4, min_samples_leaf=50, min_samples_split=120, n_estimators=30; total time=   8.0s\n",
      "[CV] END max_depth=13, max_features=4, min_samples_leaf=50, min_samples_split=120, n_estimators=30; total time=   8.3s\n",
      "[CV] END max_depth=13, max_features=8, min_samples_leaf=10, min_samples_split=100, n_estimators=50; total time=  26.6s\n",
      "[CV] END max_depth=13, max_features=8, min_samples_leaf=10, min_samples_split=100, n_estimators=50; total time=  25.0s\n",
      "[CV] END max_depth=13, max_features=8, min_samples_leaf=10, min_samples_split=100, n_estimators=50; total time=  25.0s\n",
      "[CV] END max_depth=5, max_features=5, min_samples_leaf=40, min_samples_split=140, n_estimators=20; total time=   2.9s\n",
      "[CV] END max_depth=5, max_features=5, min_samples_leaf=40, min_samples_split=140, n_estimators=20; total time=   2.8s\n",
      "[CV] END max_depth=5, max_features=5, min_samples_leaf=40, min_samples_split=140, n_estimators=20; total time=   2.9s\n",
      "[CV] END max_depth=11, max_features=4, min_samples_leaf=40, min_samples_split=100, n_estimators=50; total time=  11.7s\n",
      "[CV] END max_depth=11, max_features=4, min_samples_leaf=40, min_samples_split=100, n_estimators=50; total time=  11.8s\n",
      "[CV] END max_depth=11, max_features=4, min_samples_leaf=40, min_samples_split=100, n_estimators=50; total time=  11.7s\n",
      "[CV] END max_depth=11, max_features=2, min_samples_leaf=10, min_samples_split=100, n_estimators=50; total time=   6.9s\n",
      "[CV] END max_depth=11, max_features=2, min_samples_leaf=10, min_samples_split=100, n_estimators=50; total time=   7.0s\n",
      "[CV] END max_depth=11, max_features=2, min_samples_leaf=10, min_samples_split=100, n_estimators=50; total time=   7.0s\n",
      "[CV] END max_depth=13, max_features=9, min_samples_leaf=20, min_samples_split=120, n_estimators=20; total time=  11.0s\n",
      "[CV] END max_depth=13, max_features=9, min_samples_leaf=20, min_samples_split=120, n_estimators=20; total time=  11.2s\n",
      "[CV] END max_depth=13, max_features=9, min_samples_leaf=20, min_samples_split=120, n_estimators=20; total time=  11.3s\n",
      "[CV] END max_depth=13, max_features=8, min_samples_leaf=30, min_samples_split=120, n_estimators=30; total time=  14.7s\n",
      "[CV] END max_depth=13, max_features=8, min_samples_leaf=30, min_samples_split=120, n_estimators=30; total time=  14.7s\n",
      "[CV] END max_depth=13, max_features=8, min_samples_leaf=30, min_samples_split=120, n_estimators=30; total time=  17.4s\n",
      "[CV] END max_depth=7, max_features=3, min_samples_leaf=20, min_samples_split=100, n_estimators=50; total time=   6.5s\n",
      "[CV] END max_depth=7, max_features=3, min_samples_leaf=20, min_samples_split=100, n_estimators=50; total time=   6.6s\n",
      "[CV] END max_depth=7, max_features=3, min_samples_leaf=20, min_samples_split=100, n_estimators=50; total time=   6.8s\n",
      "RandomForestClassifier RandomizedSearchCV AUC Score: 0.7308663811912868\n",
      "最优参数：\n",
      "{'n_estimators': 50, 'min_samples_split': 120, 'min_samples_leaf': 10, 'max_features': 2, 'max_depth': 13}\n"
     ]
    }
   ],
   "source": [
    "model_rand=RandomForestClassifier()\n",
    "parameters={'n_estimators':[10,20,30,50],'max_depth':[5,7,11,13],'max_features':range(1,11,1),'min_samples_split':range(80,150,20), 'min_samples_leaf':range(10,60,10)}\n",
    "clf=RandomizedSearchCV(model_rand,parameters,cv=3,verbose=2)\n",
    "clf.fit(X_train_final[selected_feaures],y_train)\n",
    "score_test=roc_auc_score(y_val,clf.predict_proba(X_val_final[selected_feaures])[:,1])\n",
    "print('RandomForestClassifier RandomizedSearchCV AUC Score:',score_test)\n",
    "print('最优参数：')\n",
    "print(clf.best_params_)"
   ]
  },
  {
   "cell_type": "markdown",
   "metadata": {},
   "source": [
    "# 模型结果"
   ]
  },
  {
   "cell_type": "code",
   "execution_count": 63,
   "metadata": {},
   "outputs": [
    {
     "name": "stdout",
     "output_type": "stream",
     "text": [
      "逻辑回归测试集\n",
      "AUC 0.5573840714181477\n"
     ]
    }
   ],
   "source": [
    "#逻辑回归\n",
    "model_log=SGDClassifier(alpha=0.1,penalty='l1',class_weight='balanced',loss='log',random_state=28)\n",
    "model_log.fit(X_train_final[selected_feaures],y_train)\n",
    "y_pred_log=model_log.predict_proba(X_val_final[selected_feaures])[:,1]\n",
    "fpr_val_log,tpr_val_log,_=roc_curve(y_val,y_pred_log)\n",
    "print('逻辑回归测试集')\n",
    "print('AUC',AUC(y_pred_log,y_val))"
   ]
  },
  {
   "cell_type": "code",
   "execution_count": 65,
   "metadata": {},
   "outputs": [
    {
     "name": "stdout",
     "output_type": "stream",
     "text": [
      "随机森林测试集\n",
      "AUC 0.728089963235228\n"
     ]
    }
   ],
   "source": [
    "#随机森林\n",
    "model_rand=RandomForestClassifier(n_estimators=50, \n",
    "                                  min_samples_split= 120, \n",
    "                                  min_samples_leaf=10, \n",
    "                                  max_features=2, \n",
    "                                  max_depth=13)\n",
    "model_rand.fit(X_train_final[selected_feaures],y_train)\n",
    "y_pred_rand=model_rand.predict_proba(X_val_final[selected_feaures])[:,1]\n",
    "fpr_val_rand,tpr_val_rand,_=roc_curve(y_val,y_pred_rand)\n",
    "print('随机森林测试集')\n",
    "print('AUC',AUC(y_pred_rand,y_val))\n"
   ]
  },
  {
   "cell_type": "code",
   "execution_count": 112,
   "metadata": {},
   "outputs": [
    {
     "name": "stdout",
     "output_type": "stream",
     "text": [
      "[LightGBM] [Warning] feature_fraction is set=0.9, colsample_bytree=1.0 will be ignored. Current value: feature_fraction=0.9\n",
      "[LightGBM] [Warning] min_data_in_leaf is set=30, min_child_samples=20 will be ignored. Current value: min_data_in_leaf=30\n",
      "[LightGBM] [Warning] bagging_fraction is set=0.9, subsample=1.0 will be ignored. Current value: bagging_fraction=0.9\n",
      "[LightGBM] [Warning] bagging_freq is set=4, subsample_freq=0 will be ignored. Current value: bagging_freq=4\n",
      "LightGBM测试集\n",
      "AUC 0.7752055329136497\n"
     ]
    }
   ],
   "source": [
    "#LightGBM\n",
    "\n",
    "model_lgb=lgb.LGBMClassifier(boosting_type='gbdt',\n",
    "                        objective='binary',\n",
    "                        metrics='auc',\n",
    "                        n_estimators=2000,\n",
    "                        learning_rate=0.01,\n",
    "                        max_depth=7,\n",
    "                        num_leaves=110,\n",
    "                        max_bin=20,\n",
    "                        min_data_in_leaf=30,\n",
    "                        bagging_fraction=0.9,\n",
    "                        feature_fraction=0.9,\n",
    "                        bagging_freq=4)\n",
    "model_lgb.fit(X_train_final[selected_feaures],y_train)\n",
    "y_pred_lgb=model_lgb.predict_proba(X_val_final[selected_feaures])[:,1]\n",
    "fpr_val_lgb,tpr_val_lgb,_=roc_curve(y_val,y_pred_lgb)\n",
    "print('LightGBM测试集')\n",
    "print('AUC',AUC(y_pred_lgb,y_val))"
   ]
  },
  {
   "cell_type": "code",
   "execution_count": 74,
   "metadata": {},
   "outputs": [
    {
     "data": {
      "image/png": "[encoded data removed]",
      "text/plain": [
       "<Figure size 720x576 with 2 Axes>"
      ]
     },
     "metadata": {
      "needs_background": "light"
     },
     "output_type": "display_data"
    },
    {
     "data": {
      "image/png": "[encoded data removed]",
      "text/plain": [
       "<Figure size 720x576 with 2 Axes>"
      ]
     },
     "metadata": {
      "needs_background": "light"
     },
     "output_type": "display_data"
    },
    {
     "data": {
      "image/png": "[encoded data removed]",
      "text/plain": [
       "<Figure size 720x576 with 2 Axes>"
      ]
     },
     "metadata": {
      "needs_background": "light"
     },
     "output_type": "display_data"
    }
   ],
   "source": [
    "fig=plt.figure(figsize=(10,8))\n",
    "y_pred_log=model_log.predict(X_val_final[selected_feaures])\n",
    "C=confusion_matrix(y_val,y_pred_log)\n",
    "cmap=sns.light_palette(\"blue\")\n",
    "sns.heatmap(C,annot=True,cmap=cmap)\n",
    "plt.title('logistic regression')\n",
    "plt.show()\n",
    "fig=plt.figure(figsize=(10,8))\n",
    "y_pred_rand=model_rand.predict(X_val_final[selected_feaures])\n",
    "C=confusion_matrix(y_val,y_pred_rand)\n",
    "cmap=sns.light_palette(\"blue\")\n",
    "sns.heatmap(C,annot=True,cmap=cmap)\n",
    "plt.title('random forest')\n",
    "plt.show()\n",
    "fig=plt.figure(figsize=(10,8))\n",
    "y_pred_lgb=model_lgb.predict(X_val_final[selected_feaures])\n",
    "C=confusion_matrix(y_val,y_pred_lgb)\n",
    "cmap=sns.light_palette(\"blue\")\n",
    "sns.heatmap(C,annot=True,cmap=cmap)\n",
    "plt.title('LightGBM')\n",
    "plt.show()\n"
   ]
  },
  {
   "cell_type": "code",
   "execution_count": 75,
   "metadata": {},
   "outputs": [
    {
     "data": {
      "image/png": "[encoded data removed]",
      "text/plain": [
       "<Figure size 720x576 with 1 Axes>"
      ]
     },
     "metadata": {
      "needs_background": "light"
     },
     "output_type": "display_data"
    }
   ],
   "source": [
    "fig=plt.figure(figsize=(10,8))\n",
    "plt.plot(fpr_val_log,tpr_val_log,label='logistic regression')\n",
    "plt.plot(fpr_val_rand,tpr_val_rand,label='random forest')\n",
    "plt.plot(fpr_val_lgb,tpr_val_lgb,label='LightGBM')\n",
    "plt.plot([0,1],[0,1],'k--')\n",
    "plt.xlabel('False positive rate')\n",
    "plt.ylabel('True positve rate')\n",
    "plt.legend(loc='best')\n",
    "plt.show()"
   ]
  },
  {
   "cell_type": "code",
   "execution_count": 86,
   "metadata": {},
   "outputs": [],
   "source": [
    "test_final=test_final.rename(columns=lambda x:re.sub('[^A-Za-z0-9_]+','',x))"
   ]
  },
  {
   "cell_type": "code",
   "execution_count": 113,
   "metadata": {},
   "outputs": [],
   "source": [
    "y_pred=model_lgb.predict_proba(test_final[selected_feaures])[:,1]"
   ]
  },
  {
   "cell_type": "code",
   "execution_count": 114,
   "metadata": {},
   "outputs": [],
   "source": [
    "y_pred=pd.DataFrame(y_pred,columns=['TARGET'])"
   ]
  },
  {
   "cell_type": "code",
   "execution_count": 115,
   "metadata": {},
   "outputs": [],
   "source": [
    "y_pred=pd.concat([id_test,y_pred],axis=1)"
   ]
  },
  {
   "cell_type": "code",
   "execution_count": 116,
   "metadata": {},
   "outputs": [],
   "source": [
    "y_pred.to_csv('result1.csv',index=0)"
   ]
  },
  {
   "cell_type": "markdown",
   "metadata": {},
   "source": [
    "![](000.png)"
   ]
  }
 ],
 "metadata": {
  "kernelspec": {
   "display_name": "Python 3",
   "language": "python",
   "name": "python3"
  },
  "language_info": {
   "codemirror_mode": {
    "name": "ipython",
    "version": 3
   },
   "file_extension": ".py",
   "mimetype": "text/x-python",
   "name": "python",
   "nbconvert_exporter": "python",
   "pygments_lexer": "ipython3",
   "version": "3.7.4"
  },
  "toc": {
   "base_numbering": 1,
   "nav_menu": {},
   "number_sections": true,
   "sideBar": true,
   "skip_h1_title": false,
   "title_cell": "Table of Contents",
   "title_sidebar": "Contents",
   "toc_cell": false,
   "toc_position": {},
   "toc_section_display": true,
   "toc_window_display": false
  }
 },
 "nbformat": 4,
 "nbformat_minor": 5
}
